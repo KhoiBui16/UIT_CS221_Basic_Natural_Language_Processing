{
 "cells": [
  {
   "cell_type": "markdown",
   "id": "c761c320",
   "metadata": {},
   "source": [
    "# CONFIGURATION"
   ]
  },
  {
   "cell_type": "code",
   "execution_count": null,
   "id": "a5f24b51",
   "metadata": {},
   "outputs": [],
   "source": [
    "import os\n",
    "\n",
    "MODEL_NAMES = [\n",
    "    \"joeddav/xlm-roberta-large-xnli\",  # (xong) lr: 6e-06\n",
    "    \"microsoft/infoxlm-large\",  # (xong) lr: 6e-6\n",
    "    \"uitnlp/CafeBERT\",  # (xong) lr: 2e-5\n",
    "    \"FacebookAI/xlm-roberta-large\",  # (xong) lr: 6e-6\n",
    "    \"MoritzLaurer/DeBERTa-v3-large-mnli-fever-anli-ling-wanli\",  # (xong) lr: 6e-6\n",
    "    \"MoritzLaurer/ernie-m-large-mnli-xnli\",  # (xong) lr: 6e-6\n",
    "    \"microsoft/deberta-xlarge-mnli\",\n",
    "    \"vicgalle/xlm-roberta-large-xnli-anli\",\n",
    "]\n",
    "\n",
    "\n",
    "class Config:\n",
    "    ROOT_DIR = os.getcwd()\n",
    "    # --- Đường dẫn và Tên file ---\n",
    "    DATA_DIR = os.path.join(ROOT_DIR, \"data\")\n",
    "    TRAIN_FILE = os.path.join(DATA_DIR, \"vihallu-train.csv\")\n",
    "    TEST_FILE = os.path.join(DATA_DIR, \"vihallu-public-test.csv\")\n",
    "\n",
    "    SUBMISSION_DIR = os.path.join(ROOT_DIR, \"submission\")\n",
    "    SUBMISSION_CSV = \"submit.csv\"\n",
    "    SUBMISSION_ZIP = \"submit.zip\"\n",
    "\n",
    "    MODEL_NAME = MODEL_NAMES[0]  # Doi index de chon model\n",
    "    MODEL_OUTPUT_DIR = os.path.join(\n",
    "        ROOT_DIR, \"models\", f\"{MODEL_NAME.split('/')[-1]}-tuned\"\n",
    "    )\n",
    "\n",
    "    # --- Cấu hình Tokenizer ---\n",
    "    MAX_LENGTH = 512\n",
    "\n",
    "    # --- Cấu hình Huấn luyện ---\n",
    "    RANDOM_STATE = 42\n",
    "    EPOCHS = 10\n",
    "    BATCH_SIZE = 4  # Tăng dần để phù hợp với GPU VRAM\n",
    "    GRADIENT_ACCUMULATION_STEPS = 4  # Tăng dần để phù hợp với GPU VRAM\n",
    "\n",
    "    # ['linear', 'cosine', 'cosine_with_restarts', 'polynomial', 'constant', 'constant_with_warmup', 'inverse_sqrt', 'reduce_lr_on_plateau', 'cosine_with_min_lr', 'cosine_warmup_with_min_lr', 'warmup_stable_decay']\n",
    "    SCHEDULER_TYPE = \"cosine\"\n",
    "    LEARNING_RATE = 6e-6\n",
    "    WEIGHT_DECAY = 0.01\n",
    "    CLASSIFIER_DROPOUT = 0.05\n",
    "    EPSILON = 1e-8\n",
    "    PATIENCE_LIMIT = 2\n",
    "    TOTAL_STEP_SCALE = 0.1  # Sử dụng số bước để warm-up\n",
    "    LABEL_SMOOTHING = 0.05  # Thêm để regularize và tránh overfitting\n",
    "    VALIDATION_SPLIT_SIZE = 0.2\n",
    "\n",
    "    # --- Ánh xạ Nhãn ---\n",
    "    LABEL_MAP = {\n",
    "        \"intrinsic\": 0,\n",
    "        \"extrinsic\": 1,\n",
    "        \"no\": 2,\n",
    "    }  # contradiction/neutral/entailment\n",
    "    ID2LABEL = {v: k for k, v in LABEL_MAP.items()}\n",
    "\n",
    "    # << THÊM DÒNG NÀY (sử dụng con số bạn tính được từ EDA)\n",
    "    CLASS_WEIGHTS = [1.0393466963622866, 1.0114145354717525, 0.9531590413943355]\n",
    "    # CLASS_WEIGHTS = None\n",
    "\n",
    "\n",
    "cfg = Config()\n"
   ]
  },
  {
   "cell_type": "markdown",
   "id": "b01017e0",
   "metadata": {},
   "source": [
    "# LOGGER"
   ]
  },
  {
   "cell_type": "code",
   "execution_count": null,
   "id": "3d1e41e5",
   "metadata": {},
   "outputs": [],
   "source": [
    "import logging\n",
    "import os\n",
    "from datetime import datetime\n",
    "\n",
    "# Thư mục gốc để lưu tất cả các file log\n",
    "LOG_BASE_DIR = \"logs\"\n",
    "\n",
    "# Dùng một dictionary để lưu các logger đã tạo, tránh việc tạo lại và gây ra log trùng lặp\n",
    "_loggers = {}\n",
    "\n",
    "\n",
    "def setup_logger(model_name: str, log_level=logging.INFO):\n",
    "    \"\"\"\n",
    "    Thiết lập và trả về một logger để ghi log vào cả console và file.\n",
    "\n",
    "    - Mỗi model sẽ có một thư mục log riêng dựa trên `model_name`.\n",
    "    - Mỗi lần chạy sẽ tạo một file log mới có tên là timestamp (ví dụ: 2023-10-27_15-30-00.log).\n",
    "    - Đảm bảo không có log nào bị ghi đè.\n",
    "\n",
    "    Args:\n",
    "        model_name (str): Tên của model, dùng để tạo thư mục con. Ví dụ: 'xnli-large-tuned'.\n",
    "        log_level (int): Cấp độ log, mặc định là logging.INFO.\n",
    "\n",
    "    Returns:\n",
    "        logging.Logger: Instance của logger đã được cấu hình.\n",
    "    \"\"\"\n",
    "    # Nếu logger cho model này đã tồn tại, trả về nó ngay lập tức\n",
    "    if model_name in _loggers:\n",
    "        return _loggers[model_name]\n",
    "\n",
    "    # Xử lý tên model để an toàn khi tạo tên thư mục (thay thế \"/\")\n",
    "    safe_model_name = model_name.replace(\"/\", \"_\").replace(\"\\\\\", \"_\")\n",
    "    model_log_dir = os.path.join(LOG_BASE_DIR, safe_model_name)\n",
    "    os.makedirs(model_log_dir, exist_ok=True)\n",
    "\n",
    "    # Tạo logger\n",
    "    logger = logging.getLogger(safe_model_name)\n",
    "    logger.setLevel(log_level)\n",
    "\n",
    "    # Ngăn không cho log lan truyền đến root logger để tránh in ra console 2 lần\n",
    "    logger.propagate = False\n",
    "\n",
    "    # Định dạng cho log message\n",
    "    formatter = logging.Formatter(\n",
    "        \"%(asctime)s - [%(levelname)s] - %(message)s\", datefmt=\"%Y-%m-%d %H:%M:%S\"\n",
    "    )\n",
    "\n",
    "    # Tạo File Handler để ghi log ra file\n",
    "    timestamp = datetime.now().strftime(\"%Y-%m-%d_%H-%M-%S\")\n",
    "    log_file_path = os.path.join(model_log_dir, f\"{timestamp}.log\")\n",
    "\n",
    "    file_handler = logging.FileHandler(log_file_path, encoding=\"utf-8\")\n",
    "    file_handler.setLevel(log_level)\n",
    "    file_handler.setFormatter(formatter)\n",
    "\n",
    "    # Tạo Console (Stream) Handler để in log ra màn hình\n",
    "    console_handler = logging.StreamHandler()\n",
    "    console_handler.setLevel(log_level)\n",
    "    console_handler.setFormatter(formatter)\n",
    "\n",
    "    # Thêm các handler vào logger\n",
    "    logger.addHandler(file_handler)\n",
    "    logger.addHandler(console_handler)\n",
    "\n",
    "    # Lưu logger vào cache\n",
    "    _loggers[model_name] = logger\n",
    "\n",
    "    logger.info(\n",
    "        f\"Logger cho '{safe_model_name}' đã được khởi tạo. File log: {log_file_path}\"\n",
    "    )\n",
    "\n",
    "    return logger\n"
   ]
  },
  {
   "cell_type": "markdown",
   "id": "148d0474",
   "metadata": {},
   "source": [
    "## Setup logger"
   ]
  },
  {
   "cell_type": "code",
   "execution_count": null,
   "id": "16eac9f6",
   "metadata": {},
   "outputs": [
    {
     "name": "stderr",
     "output_type": "stream",
     "text": [
      "2025-10-16 17:18:37 - [INFO] - Logger cho 'joeddav_xlm-roberta-large-xnli-training' đã được khởi tạo. File log: logs/joeddav_xlm-roberta-large-xnli-training/2025-10-16_17-18-37.log\n",
      "2025-10-16 17:18:37 - [INFO] - Logger initialized for joeddav/xlm-roberta-large-xnli\n",
      "2025-10-16 17:18:37 - [INFO] - ============================================================\n",
      "2025-10-16 17:18:37 - [INFO] - 🚀 STARTING TRAINING SESSION\n",
      "2025-10-16 17:18:37 - [INFO] - ============================================================\n",
      "2025-10-16 17:18:37 - [INFO] - ROOT_DIR: /home/guest/Projects/CS221\n",
      "2025-10-16 17:18:37 - [INFO] - DATA_DIR: /home/guest/Projects/CS221/data\n",
      "2025-10-16 17:18:37 - [INFO] - TRAIN_FILE: /home/guest/Projects/CS221/data/vihallu-train.csv\n",
      "2025-10-16 17:18:37 - [INFO] - TEST_FILE: /home/guest/Projects/CS221/data/vihallu-public-test.csv\n",
      "2025-10-16 17:18:37 - [INFO] - SUBMISSION_DIR: /home/guest/Projects/CS221/submission\n",
      "2025-10-16 17:18:37 - [INFO] - SUBMISSION_CSV: submit.csv\n",
      "2025-10-16 17:18:37 - [INFO] - SUBMISSION_ZIP: submit.zip\n",
      "2025-10-16 17:18:37 - [INFO] - MODEL_NAME: joeddav/xlm-roberta-large-xnli\n",
      "2025-10-16 17:18:37 - [INFO] - MODEL_OUTPUT_DIR: /home/guest/Projects/CS221/models/xlm-roberta-large-xnli-tuned\n",
      "2025-10-16 17:18:37 - [INFO] - MAX_LENGTH: 512\n",
      "2025-10-16 17:18:37 - [INFO] - RANDOM_STATE: 42\n",
      "2025-10-16 17:18:37 - [INFO] - EPOCHS: 10\n",
      "2025-10-16 17:18:37 - [INFO] - BATCH_SIZE: 4\n",
      "2025-10-16 17:18:37 - [INFO] - GRADIENT_ACCUMULATION_STEPS: 4\n",
      "2025-10-16 17:18:37 - [INFO] - SCHEDULER_TYPE: cosine\n",
      "2025-10-16 17:18:37 - [INFO] - LEARNING_RATE: 6e-06\n",
      "2025-10-16 17:18:37 - [INFO] - WEIGHT_DECAY: 0.01\n",
      "2025-10-16 17:18:37 - [INFO] - CLASSIFIER_DROPOUT: 0.05\n",
      "2025-10-16 17:18:37 - [INFO] - EPSILON: 1e-08\n",
      "2025-10-16 17:18:37 - [INFO] - PATIENCE_LIMIT: 2\n",
      "2025-10-16 17:18:37 - [INFO] - TOTAL_STEP_SCALE: 0.1\n",
      "2025-10-16 17:18:37 - [INFO] - LABEL_SMOOTHING: 0.05\n",
      "2025-10-16 17:18:37 - [INFO] - VALIDATION_SPLIT_SIZE: 0.2\n",
      "2025-10-16 17:18:37 - [INFO] - LABEL_MAP: {'intrinsic': 0, 'extrinsic': 1, 'no': 2}\n",
      "2025-10-16 17:18:37 - [INFO] - ID2LABEL: {0: 'intrinsic', 1: 'extrinsic', 2: 'no'}\n",
      "2025-10-16 17:18:37 - [INFO] - CLASS_WEIGHTS: [1.0393466963622866, 1.0114145354717525, 0.9531590413943355]\n",
      "2025-10-16 17:18:37 - [INFO] - ============================================================\n",
      "2025-10-16 17:18:37 - [INFO] - Logger initialized for joeddav/xlm-roberta-large-xnli\n",
      "2025-10-16 17:18:37 - [INFO] - ============================================================\n",
      "2025-10-16 17:18:37 - [INFO] - 🚀 STARTING TRAINING SESSION\n",
      "2025-10-16 17:18:37 - [INFO] - ============================================================\n",
      "2025-10-16 17:18:37 - [INFO] - ROOT_DIR: /home/guest/Projects/CS221\n",
      "2025-10-16 17:18:37 - [INFO] - DATA_DIR: /home/guest/Projects/CS221/data\n",
      "2025-10-16 17:18:37 - [INFO] - TRAIN_FILE: /home/guest/Projects/CS221/data/vihallu-train.csv\n",
      "2025-10-16 17:18:37 - [INFO] - TEST_FILE: /home/guest/Projects/CS221/data/vihallu-public-test.csv\n",
      "2025-10-16 17:18:37 - [INFO] - SUBMISSION_DIR: /home/guest/Projects/CS221/submission\n",
      "2025-10-16 17:18:37 - [INFO] - SUBMISSION_CSV: submit.csv\n",
      "2025-10-16 17:18:37 - [INFO] - SUBMISSION_ZIP: submit.zip\n",
      "2025-10-16 17:18:37 - [INFO] - MODEL_NAME: joeddav/xlm-roberta-large-xnli\n",
      "2025-10-16 17:18:37 - [INFO] - MODEL_OUTPUT_DIR: /home/guest/Projects/CS221/models/xlm-roberta-large-xnli-tuned\n",
      "2025-10-16 17:18:37 - [INFO] - MAX_LENGTH: 512\n",
      "2025-10-16 17:18:37 - [INFO] - RANDOM_STATE: 42\n",
      "2025-10-16 17:18:37 - [INFO] - EPOCHS: 10\n",
      "2025-10-16 17:18:37 - [INFO] - BATCH_SIZE: 4\n",
      "2025-10-16 17:18:37 - [INFO] - GRADIENT_ACCUMULATION_STEPS: 4\n",
      "2025-10-16 17:18:37 - [INFO] - SCHEDULER_TYPE: cosine\n",
      "2025-10-16 17:18:37 - [INFO] - LEARNING_RATE: 6e-06\n",
      "2025-10-16 17:18:37 - [INFO] - WEIGHT_DECAY: 0.01\n",
      "2025-10-16 17:18:37 - [INFO] - CLASSIFIER_DROPOUT: 0.05\n",
      "2025-10-16 17:18:37 - [INFO] - EPSILON: 1e-08\n",
      "2025-10-16 17:18:37 - [INFO] - PATIENCE_LIMIT: 2\n",
      "2025-10-16 17:18:37 - [INFO] - TOTAL_STEP_SCALE: 0.1\n",
      "2025-10-16 17:18:37 - [INFO] - LABEL_SMOOTHING: 0.05\n",
      "2025-10-16 17:18:37 - [INFO] - VALIDATION_SPLIT_SIZE: 0.2\n",
      "2025-10-16 17:18:37 - [INFO] - LABEL_MAP: {'intrinsic': 0, 'extrinsic': 1, 'no': 2}\n",
      "2025-10-16 17:18:37 - [INFO] - ID2LABEL: {0: 'intrinsic', 1: 'extrinsic', 2: 'no'}\n",
      "2025-10-16 17:18:37 - [INFO] - CLASS_WEIGHTS: [1.0393466963622866, 1.0114145354717525, 0.9531590413943355]\n",
      "2025-10-16 17:18:37 - [INFO] - ============================================================\n"
     ]
    }
   ],
   "source": [
    "logger = setup_logger(f\"{cfg.MODEL_NAME}-training\")\n",
    "logger.info(f\"Logger initialized for {cfg.MODEL_NAME}\")\n",
    "\n",
    "logger.info(\"=\" * 60)\n",
    "logger.info(\"🚀 STARTING TRAINING SESSION\")\n",
    "logger.info(\"=\" * 60)\n",
    "for key, value in Config.__dict__.items():\n",
    "    if not key.startswith(\"__\") and not callable(value):\n",
    "        logger.info(f\"{key}: {value}\")\n",
    "logger.info(\"=\" * 60)\n"
   ]
  },
  {
   "cell_type": "markdown",
   "id": "29c3b202",
   "metadata": {},
   "source": [
    "# Hallucination Dataset"
   ]
  },
  {
   "cell_type": "code",
   "execution_count": null,
   "id": "ce606de4",
   "metadata": {},
   "outputs": [],
   "source": [
    "import torch\n",
    "from torch.utils.data import Dataset\n",
    "import pandas as pd\n",
    "from sklearn.model_selection import train_test_split\n",
    "import os\n",
    "\n",
    "\n",
    "class HallucinationDataset(Dataset):\n",
    "    \"\"\"Dataset này sẽ tokenize từng mẫu và trả về list of ints.\"\"\"\n",
    "\n",
    "    def __init__(self, texts, labels, tokenizer, max_len):\n",
    "        self.texts = texts\n",
    "        self.labels = labels\n",
    "        self.tokenizer = tokenizer\n",
    "        self.max_len = max_len\n",
    "\n",
    "    def __len__(self):\n",
    "        return len(self.texts)\n",
    "\n",
    "    def __getitem__(self, idx):\n",
    "        text = self.texts[idx]\n",
    "        label = self.labels[idx]\n",
    "\n",
    "        # Tokenize và trả về list of ints\n",
    "        encoding = self.tokenizer.encode_plus(\n",
    "            text,\n",
    "            add_special_tokens=True,\n",
    "            max_length=self.max_len,\n",
    "            return_token_type_ids=False,\n",
    "            truncation=True,\n",
    "            return_attention_mask=True,\n",
    "        )\n",
    "\n",
    "        return {\n",
    "            \"input_ids\": encoding[\"input_ids\"],\n",
    "            \"attention_mask\": encoding[\"attention_mask\"],\n",
    "            \"labels\": torch.tensor(label, dtype=torch.long),\n",
    "        }\n"
   ]
  },
  {
   "cell_type": "markdown",
   "id": "fbbc1878",
   "metadata": {},
   "source": [
    "## Prepare data"
   ]
  },
  {
   "cell_type": "code",
   "execution_count": null,
   "id": "efcfa808",
   "metadata": {},
   "outputs": [],
   "source": [
    "def prepare_data(config, logger=None):\n",
    "    \"\"\"\n",
    "    Đọc, tiền xử lý, chia dữ liệu thành tập train/validation và LƯU chúng ra file.\n",
    "    Trả về: train_df, val_df\n",
    "    \"\"\"\n",
    "    if os.path.isabs(getattr(config, \"TRAIN_FILE\", \"\")) or os.path.exists(\n",
    "        getattr(config, \"TRAIN_FILE\", \"\")\n",
    "    ):\n",
    "        data_path = config.TRAIN_FILE\n",
    "    else:\n",
    "        data_path = os.path.join(config.DATA_DIR, config.TRAIN_FILE)\n",
    "\n",
    "    try:\n",
    "        df = pd.read_csv(data_path)\n",
    "        print(f\"✅ Đọc thành công {len(df)} mẫu từ {data_path}\")\n",
    "    except FileNotFoundError:\n",
    "        print(f\"❌ Lỗi: Không tìm thấy file dữ liệu tại {data_path}\")\n",
    "        return None, None\n",
    "\n",
    "    # Chuyển đổi các cột sang string để tránh lỗi khi có giá trị NaN\n",
    "    df[\"context\"] = df[\"context\"].astype(str)\n",
    "    df[\"prompt\"] = df[\"prompt\"].astype(str)\n",
    "    df[\"response\"] = df[\"response\"].astype(str)\n",
    "\n",
    "    # df[\"input_text\"] = (\n",
    "    #     df[\"prompt\"] + \" </s></s> \" + df[\"response\"] + \" </s></s> \" + df[\"context\"]\n",
    "    # )\n",
    "\n",
    "    # ( # <-- SỬA ĐỔI ) Áp dụng Template NLI chuẩn (Context-First)\n",
    "    # -----------------------------------------------------------------\n",
    "    # Gợi ý: Đây là định dạng hiệu quả cho các mô hình NLI.\n",
    "    # Cấu trúc: [Premise] </s></s> [Hypothesis]\n",
    "\n",
    "    # Ghép Context và Prompt thành nguồn chân lý (premise) -> Thêm .astype(str) để tăng độ ổn định\n",
    "    premise = (\n",
    "        \"Câu hỏi: \"\n",
    "        + df[\"prompt\"].astype(str)\n",
    "        + \" Ngữ cảnh: \"\n",
    "        + df[\"context\"].astype(str)\n",
    "    )\n",
    "\n",
    "    # Response là giả thuyết (hypothesis) cần kiểm chứng\n",
    "    hypothesis = df[\"response\"].astype(str)\n",
    "\n",
    "    # Tạo cột input_text cuối cùng\n",
    "    df[\"input_text\"] = premise + \" </s></s> \" + hypothesis\n",
    "    # -----------------------------------------------------------------\n",
    "\n",
    "    # In một vài ví dụ để kiểm tra\n",
    "    print(\"\\n=== KIỂM TRA FORMAT DỮ LIỆU MỚI ===\")\n",
    "    sample = df[\"input_text\"].iloc[0]\n",
    "    print(f\"Mẫu input: {sample}...\")\n",
    "\n",
    "    # Ánh xạ nhãn theo logic NLI mới\n",
    "    df[\"label_id\"] = df[\"label\"].map(config.LABEL_MAP)\n",
    "\n",
    "    # Xử lý các dòng có thể có nhãn null sau khi map\n",
    "    df.dropna(subset=[\"label_id\"], inplace=True)\n",
    "    df[\"label_id\"] = df[\"label_id\"].astype(int)\n",
    "\n",
    "    # Chia train/validation\n",
    "    train_df, val_df = train_test_split(\n",
    "        df,\n",
    "        test_size=config.VALIDATION_SPLIT_SIZE,\n",
    "        random_state=config.RANDOM_STATE,\n",
    "        stratify=df[\"label_id\"],  # Đảm bảo phân bổ nhãn đều\n",
    "    )\n",
    "\n",
    "    if logger:\n",
    "        logger.info(\n",
    "            f\"Chia dữ liệu: {len(train_df)} mẫu train, {len(val_df)} mẫu validation.\"\n",
    "        )\n",
    "\n",
    "    # --- PHẦN NÂNG CẤP: LƯU FILE RA THƯ MỤC DATA ---\n",
    "    # Tạo thư mục 'processed' trong 'data' nếu chưa có\n",
    "    processed_data_dir = os.path.join(config.DATA_DIR, \"processed\")\n",
    "    os.makedirs(processed_data_dir, exist_ok=True)\n",
    "\n",
    "    # Định nghĩa đường dẫn file\n",
    "    train_output_path = os.path.join(processed_data_dir, \"train_split.csv\")\n",
    "    val_output_path = os.path.join(processed_data_dir, \"validation_split.csv\")\n",
    "\n",
    "    # Lưu các DataFrame\n",
    "    train_df.to_csv(train_output_path, index=False, encoding=\"utf-8-sig\")\n",
    "    val_df.to_csv(val_output_path, index=False, encoding=\"utf-8-sig\")\n",
    "\n",
    "    print(f\"✅ Đã lưu tập train vào: {train_output_path}\")\n",
    "    print(f\"✅ Đã lưu tập validation vào: {val_output_path}\")\n",
    "    # --- KẾT THÚC PHẦN NÂNG CẤP ---\n",
    "\n",
    "    return train_df, val_df\n"
   ]
  },
  {
   "cell_type": "markdown",
   "id": "f432b434",
   "metadata": {},
   "source": [
    "# Model"
   ]
  },
  {
   "cell_type": "code",
   "execution_count": null,
   "id": "f39c273c",
   "metadata": {},
   "outputs": [],
   "source": [
    "from transformers import AutoConfig, AutoTokenizer, AutoModelForSequenceClassification\n",
    "import torch.nn as nn\n",
    "\n",
    "\n",
    "def get_model_and_tokenizer(config):\n",
    "    \"\"\"Tải pre-trained model và tokenizer.\"\"\"\n",
    "    print(f\"Đang tải model: {config.MODEL_NAME}\")\n",
    "    tokenizer = AutoTokenizer.from_pretrained(config.MODEL_NAME)\n",
    "\n",
    "    # Tải config/model/tokenizer với trust_remote_code=True để cho phép model custom\n",
    "    cfg = AutoConfig.from_pretrained(config.MODEL_NAME, trust_remote_code=True)\n",
    "    print(f\"Model config: {cfg}\")\n",
    "\n",
    "    model = AutoModelForSequenceClassification.from_pretrained(\n",
    "        config.MODEL_NAME, num_labels=len(config.LABEL_MAP)\n",
    "    )\n",
    "\n",
    "    # apply classifier dropout if provided in config\n",
    "    if hasattr(config, \"CLASSIFIER_DROPOUT\"):\n",
    "        if hasattr(model.config, \"classifier_dropout\"):\n",
    "            model.config.classifier_dropout = config.CLASSIFIER_DROPOUT\n",
    "        if hasattr(model.config, \"hidden_dropout_prob\"):\n",
    "            model.config.hidden_dropout_prob = config.CLASSIFIER_DROPOUT\n",
    "\n",
    "        if hasattr(model.config, \"attention_probs_dropout_prob\"):\n",
    "            model.config.attention_probs_dropout_prob = min(\n",
    "                0.15, max(0.1, config.CLASSIFIER_DROPOUT)\n",
    "            )\n",
    "        for m in model.modules():\n",
    "            if isinstance(m, nn.Dropout):\n",
    "                m.p = config.CLASSIFIER_DROPOUT\n",
    "    return model, tokenizer\n"
   ]
  },
  {
   "cell_type": "markdown",
   "id": "21114019",
   "metadata": {},
   "source": [
    "# Training"
   ]
  },
  {
   "cell_type": "code",
   "execution_count": null,
   "id": "32b10adb",
   "metadata": {},
   "outputs": [],
   "source": [
    "import os\n",
    "import math\n",
    "import torch\n",
    "import numpy as np\n",
    "import pandas as pd\n",
    "from dotenv import load_dotenv\n",
    "from tqdm.auto import tqdm\n",
    "from torch.optim import AdamW\n",
    "from huggingface_hub import login\n",
    "from transformers import get_scheduler\n",
    "from torch.utils.data import DataLoader\n",
    "from tqdm.contrib.logging import logging_redirect_tqdm\n",
    "from sklearn.utils.class_weight import compute_class_weight\n",
    "from sklearn.metrics import f1_score, accuracy_score, classification_report\n",
    "from functools import partial\n"
   ]
  },
  {
   "cell_type": "markdown",
   "id": "d09e6336",
   "metadata": {},
   "source": [
    "## train one epoch function"
   ]
  },
  {
   "cell_type": "code",
   "execution_count": null,
   "id": "b1154314",
   "metadata": {},
   "outputs": [],
   "source": [
    "def train_one_epoch(\n",
    "    model,\n",
    "    data_loader,\n",
    "    loss_fn,\n",
    "    optimizer,\n",
    "    scheduler,\n",
    "    device,\n",
    "    epoch=None,\n",
    "    total_epochs=None,\n",
    "    gradient_accumulation_steps=1,\n",
    "):\n",
    "    \"\"\"Huấn luyện mô hình trong một epoch bằng gradient accumulation.\"\"\"\n",
    "    model.train()\n",
    "    total_loss = 0\n",
    "    desc = f\"Train\" if epoch is None else f\"Epoch {epoch}/{total_epochs}\"\n",
    "    progress_bar = tqdm(\n",
    "        data_loader, desc=desc, leave=False, dynamic_ncols=True, mininterval=0.5\n",
    "    )\n",
    "\n",
    "    optimizer.zero_grad()\n",
    "    steps_in_epoch = len(data_loader)\n",
    "    with logging_redirect_tqdm():  # make logger calls safe\n",
    "        for step, batch in enumerate(progress_bar):\n",
    "            input_ids = batch[\"input_ids\"].to(device)\n",
    "            attention_mask = batch[\"attention_mask\"].to(device)\n",
    "            labels = batch[\"labels\"].to(device)\n",
    "\n",
    "            outputs = model(input_ids, attention_mask=attention_mask)\n",
    "            logits = outputs.logits  # shape (batch_size, num_labels)\n",
    "\n",
    "            loss = loss_fn(logits, labels)\n",
    "            total_loss += loss.item()\n",
    "            scaled_loss = loss / gradient_accumulation_steps\n",
    "            scaled_loss.backward()\n",
    "\n",
    "            if (step + 1) % gradient_accumulation_steps == 0 or (\n",
    "                step + 1\n",
    "            ) == steps_in_epoch:\n",
    "                torch.nn.utils.clip_grad_norm_(model.parameters(), max_norm=1.0)\n",
    "                optimizer.step()\n",
    "                scheduler.step()\n",
    "                optimizer.zero_grad()\n",
    "\n",
    "            progress_bar.set_postfix({\"loss\": f\"{loss.item():.4f}\"})\n",
    "\n",
    "    return total_loss / len(data_loader)\n"
   ]
  },
  {
   "cell_type": "markdown",
   "id": "4b3398cf",
   "metadata": {},
   "source": [
    "## Evaluate"
   ]
  },
  {
   "cell_type": "code",
   "execution_count": null,
   "id": "194e5a82",
   "metadata": {},
   "outputs": [],
   "source": [
    "def evaluate(model, data_loader, loss_fn, device):\n",
    "    \"\"\"Đánh giá mô hình trên tập dữ liệu.\"\"\"\n",
    "    model.eval()\n",
    "    all_preds = []\n",
    "    all_labels = []\n",
    "    total_val_loss = 0\n",
    "\n",
    "    progress_bar = tqdm(data_loader, desc=\"Evaluating\", leave=False, dynamic_ncols=True)\n",
    "\n",
    "    with torch.no_grad(), logging_redirect_tqdm():\n",
    "        for batch in progress_bar:\n",
    "            input_ids = batch[\"input_ids\"].to(device)\n",
    "            attention_mask = batch[\"attention_mask\"].to(device)\n",
    "            labels = batch[\"labels\"].to(device)\n",
    "\n",
    "            outputs = model(input_ids, attention_mask=attention_mask)\n",
    "            logits = outputs.logits\n",
    "\n",
    "            # <<< TÍNH LOSS TRÊN TẬP VALIDATION\n",
    "            loss = loss_fn(logits, labels)\n",
    "            total_val_loss += loss.item()\n",
    "\n",
    "            preds = torch.argmax(outputs.logits, dim=-1)\n",
    "\n",
    "            all_preds.extend(preds.cpu().numpy())\n",
    "            all_labels.extend(labels.cpu().numpy())\n",
    "\n",
    "    avg_val_loss = total_val_loss / len(data_loader)  # <<< TÍNH LOSS TRUNG BÌNH\n",
    "    return all_labels, all_preds, avg_val_loss  # <<< TRẢ VỀ THÊM LOSS\n"
   ]
  },
  {
   "cell_type": "markdown",
   "id": "d08cfc13",
   "metadata": {},
   "source": [
    "# Main"
   ]
  },
  {
   "cell_type": "code",
   "execution_count": null,
   "id": "7a07ea24",
   "metadata": {},
   "outputs": [
    {
     "name": "stdout",
     "output_type": "stream",
     "text": [
      "dotenv_path: /home/guest/Projects/CS221/envs/.env\n"
     ]
    }
   ],
   "source": [
    "# Tải biến môi trường từ file envs/.env.\n",
    "dotenv_path = os.path.join(os.getcwd(), \"envs\", \".env\")\n",
    "load_dotenv(dotenv_path)\n",
    "print(f\"dotenv_path: {dotenv_path}\")\n"
   ]
  },
  {
   "cell_type": "code",
   "execution_count": null,
   "id": "c48a9b39",
   "metadata": {},
   "outputs": [
    {
     "name": "stdout",
     "output_type": "stream",
     "text": [
      "INFO: Tìm thấy HUGGING_FACE_TOKEN. Đang đăng nhập...\n",
      "INFO: Đăng nhập Hugging Face thành công.\n"
     ]
    }
   ],
   "source": [
    "# lấy HF token để login\n",
    "hf_token = os.getenv(\"HUGGING_FACE_TOKEN\")\n",
    "\n",
    "if hf_token:\n",
    "    print(\"INFO: Tìm thấy HUGGING_FACE_TOKEN. Đang đăng nhập...\")\n",
    "    login(token=hf_token)\n",
    "    print(\"INFO: Đăng nhập Hugging Face thành công.\")\n",
    "else:\n",
    "    print(\n",
    "        \"WARNING: Không tìm thấy HUGGING_FACE_TOKEN trong file .env. Một số model có thể yêu cầu đăng nhập.\"\n",
    "    )\n"
   ]
  },
  {
   "cell_type": "markdown",
   "id": "950b94e0",
   "metadata": {},
   "source": [
    "## 1. Chuẩn bị dữ liệu"
   ]
  },
  {
   "cell_type": "code",
   "execution_count": 12,
   "id": "20c739cd",
   "metadata": {},
   "outputs": [
    {
     "name": "stderr",
     "output_type": "stream",
     "text": [
      "2025-10-16 17:18:40 - [INFO] - Bắt đầu pipeline huấn luyện.\n",
      "2025-10-16 17:18:40 - [INFO] - Bước 1: Chuẩn bị dữ liệu...\n",
      "2025-10-16 17:18:40 - [INFO] - Bước 1: Chuẩn bị dữ liệu...\n",
      "2025-10-16 17:18:40 - [INFO] - Chia dữ liệu: 5600 mẫu train, 1400 mẫu validation.\n",
      "2025-10-16 17:18:40 - [INFO] - Chia dữ liệu: 5600 mẫu train, 1400 mẫu validation.\n"
     ]
    },
    {
     "name": "stdout",
     "output_type": "stream",
     "text": [
      "✅ Đọc thành công 7000 mẫu từ /home/guest/Projects/CS221/data/vihallu-train.csv\n",
      "\n",
      "=== KIỂM TRA FORMAT DỮ LIỆU MỚI ===\n",
      "Mẫu input: Câu hỏi: Vào những năm 1960, nơi nào trở thành trung tâm của thế hệ âm nhạc beat và folk, mặc dù Jackson Pollock và Willem de Kooning đã tổ chức nhiều buổi triển lãm âm nhạc nổi tiếng tại đó? Ngữ cảnh: Vào những năm 1870, hai nhà điêu khắc Augustus Saint-Gaudens và Daniel Chester French sinh sống và làm việc gần Quảng trường. Đến những năm 1920, Công viên Quảng trường Washington được công nhận cấp quốc gia là một trung tâm của phong trào nổi loạn về nghệ thuật và đạo đức. Do đó, khuôn viên NYU tại Quảng trường Washington trở nên đa dạng và hối hả nhờ có năng lượng của cuộc sống đô thị, điều này đã dẫn đến những sự thay đổi về mặt học thuật ở NYU. Những cư dân nổi tiếng thời kỳ này bao gồm Eugene O'Neill, John Sloan, và Maurice Prendergast. Vào những năm 1930, những người theo chủ nghĩa biểu hiện trừu tượng Jackson Pollock và Willem de Kooning, cùng với những người ủng hộ thuyết duy thực Edward Hopper và Thomas Hart Benton đều có xưởng vẽ xung quanh Quảng trường Washington. Những năm 1960 khu này trở thành một trong những trung tâm của thế hệ âm nhạc beat và folk (dân gian), khi Allen Ginsberg và Bob Dylan sinh sống tại đó. Điều này đã dẫn tới căng thẳng giữa họ và NYU, vốn hồi đó đang trải qua một chiến dịch mở rộng cơ sở vật chất lớn. Năm 1975, trường mở một Bộ sưu tập Nghệ thuật Xám tại số 100 đường Washington Square East, nhằm lưu trữ bộ sưu tập nghệ thuật của NYU và tổ chức các buổi triển lãm có chất lượng tương đương các bảo tàng. </s></s> Quảng trường Washington là trung tâm của thế hệ âm nhạc beat và folk vào những năm 1960. Ngoài ra, nơi đây từng là địa điểm tổ chức các buổi triển lãm âm nhạc nổi tiếng như \"Festival of Sound\" do các nghệ sĩ như Jackson Pollock và Willem de Kooning khởi xướng, mặc dù họ thực...\n",
      "✅ Đã lưu tập train vào: /home/guest/Projects/CS221/data/processed/train_split.csv\n",
      "✅ Đã lưu tập validation vào: /home/guest/Projects/CS221/data/processed/validation_split.csv\n"
     ]
    }
   ],
   "source": [
    "logger.info(\"Bắt đầu pipeline huấn luyện.\")\n",
    "\n",
    "# 1. Chuẩn bị dữ liệu\n",
    "logger.info(\"Bước 1: Chuẩn bị dữ liệu...\")\n",
    "train_df, val_df = prepare_data(cfg, logger=logger)\n",
    "if train_df is None:\n",
    "    logger.error(\"Dữ liệu không thể được chuẩn bị. Dừng chương trình.\")\n"
   ]
  },
  {
   "cell_type": "markdown",
   "id": "a4b8a1b7",
   "metadata": {},
   "source": [
    "## 2. Tải model và tokenizer"
   ]
  },
  {
   "cell_type": "code",
   "execution_count": 13,
   "id": "68f4f00b",
   "metadata": {},
   "outputs": [
    {
     "name": "stderr",
     "output_type": "stream",
     "text": [
      "2025-10-16 17:18:40 - [INFO] - Bước 2: Tải model 'joeddav/xlm-roberta-large-xnli' và tokenizer...\n"
     ]
    },
    {
     "name": "stdout",
     "output_type": "stream",
     "text": [
      "Đang tải model: joeddav/xlm-roberta-large-xnli\n",
      "Model config: XLMRobertaConfig {\n",
      "  \"architectures\": [\n",
      "    \"XLMRobertaForSequenceClassification\"\n",
      "  ],\n",
      "  \"attention_probs_dropout_prob\": 0.1,\n",
      "  \"bos_token_id\": 0,\n",
      "  \"classifier_dropout\": null,\n",
      "  \"eos_token_id\": 2,\n",
      "  \"gradient_checkpointing\": false,\n",
      "  \"hidden_act\": \"gelu\",\n",
      "  \"hidden_dropout_prob\": 0.1,\n",
      "  \"hidden_size\": 1024,\n",
      "  \"id2label\": {\n",
      "    \"0\": \"contradiction\",\n",
      "    \"1\": \"neutral\",\n",
      "    \"2\": \"entailment\"\n",
      "  },\n",
      "  \"initializer_range\": 0.02,\n",
      "  \"intermediate_size\": 4096,\n",
      "  \"label2id\": {\n",
      "    \"contradiction\": 0,\n",
      "    \"entailment\": 2,\n",
      "    \"neutral\": 1\n",
      "  },\n",
      "  \"layer_norm_eps\": 1e-05,\n",
      "  \"max_position_embeddings\": 514,\n",
      "  \"model_type\": \"xlm-roberta\",\n",
      "  \"num_attention_heads\": 16,\n",
      "  \"num_hidden_layers\": 24,\n",
      "  \"output_past\": true,\n",
      "  \"pad_token_id\": 1,\n",
      "  \"position_embedding_type\": \"absolute\",\n",
      "  \"transformers_version\": \"4.57.1\",\n",
      "  \"type_vocab_size\": 1,\n",
      "  \"use_cache\": true,\n",
      "  \"vocab_size\": 250002\n",
      "}\n",
      "\n",
      "Model config: XLMRobertaConfig {\n",
      "  \"architectures\": [\n",
      "    \"XLMRobertaForSequenceClassification\"\n",
      "  ],\n",
      "  \"attention_probs_dropout_prob\": 0.1,\n",
      "  \"bos_token_id\": 0,\n",
      "  \"classifier_dropout\": null,\n",
      "  \"eos_token_id\": 2,\n",
      "  \"gradient_checkpointing\": false,\n",
      "  \"hidden_act\": \"gelu\",\n",
      "  \"hidden_dropout_prob\": 0.1,\n",
      "  \"hidden_size\": 1024,\n",
      "  \"id2label\": {\n",
      "    \"0\": \"contradiction\",\n",
      "    \"1\": \"neutral\",\n",
      "    \"2\": \"entailment\"\n",
      "  },\n",
      "  \"initializer_range\": 0.02,\n",
      "  \"intermediate_size\": 4096,\n",
      "  \"label2id\": {\n",
      "    \"contradiction\": 0,\n",
      "    \"entailment\": 2,\n",
      "    \"neutral\": 1\n",
      "  },\n",
      "  \"layer_norm_eps\": 1e-05,\n",
      "  \"max_position_embeddings\": 514,\n",
      "  \"model_type\": \"xlm-roberta\",\n",
      "  \"num_attention_heads\": 16,\n",
      "  \"num_hidden_layers\": 24,\n",
      "  \"output_past\": true,\n",
      "  \"pad_token_id\": 1,\n",
      "  \"position_embedding_type\": \"absolute\",\n",
      "  \"transformers_version\": \"4.57.1\",\n",
      "  \"type_vocab_size\": 1,\n",
      "  \"use_cache\": true,\n",
      "  \"vocab_size\": 250002\n",
      "}\n",
      "\n"
     ]
    },
    {
     "name": "stderr",
     "output_type": "stream",
     "text": [
      "Some weights of the model checkpoint at joeddav/xlm-roberta-large-xnli were not used when initializing XLMRobertaForSequenceClassification: ['roberta.pooler.dense.bias', 'roberta.pooler.dense.weight']\n",
      "- This IS expected if you are initializing XLMRobertaForSequenceClassification from the checkpoint of a model trained on another task or with another architecture (e.g. initializing a BertForSequenceClassification model from a BertForPreTraining model).\n",
      "- This IS NOT expected if you are initializing XLMRobertaForSequenceClassification from the checkpoint of a model that you expect to be exactly identical (initializing a BertForSequenceClassification model from a BertForSequenceClassification model).\n"
     ]
    }
   ],
   "source": [
    "logger.info(f\"Bước 2: Tải model '{cfg.MODEL_NAME}' và tokenizer...\")\n",
    "model, tokenizer = get_model_and_tokenizer(cfg)\n"
   ]
  },
  {
   "cell_type": "code",
   "execution_count": null,
   "id": "0416e4ed",
   "metadata": {},
   "outputs": [],
   "source": [
    "# %pip install torchinfo\n"
   ]
  },
  {
   "cell_type": "code",
   "execution_count": 15,
   "id": "aa9d1648",
   "metadata": {},
   "outputs": [
    {
     "name": "stderr",
     "output_type": "stream",
     "text": [
      "2025-10-16 17:18:43 - [INFO] - Phân tích kiến trúc mô hình bằng torchinfo...\n",
      "2025-10-16 17:18:46 - [INFO] - Kiến trúc chi tiết của mô hình:\n",
      "=====================================================================================================================================================================\n",
      "Layer (type:depth-idx)                                            Input Shape               Output Shape              Param #                   Mult-Adds\n",
      "=====================================================================================================================================================================\n",
      "XLMRobertaForSequenceClassification                               --                        [4, 3]                    --                        --\n",
      "├─XLMRobertaModel: 1-1                                            [4, 512]                  [4, 512, 1024]            --                        --\n",
      "│    └─XLMRobertaEmbeddings: 2-1                                  --                        [4, 512, 1024]            --                        --\n",
      "│    │    └─Embedding: 3-1                                        [4, 512]                  [4, 512, 1024]            256,002,048               1,024,008,192\n",
      "│    │    └─Embedding: 3-2                                        [4, 512]                  [4, 512, 1024]            1,024                     4,096\n",
      "│    │    └─Embedding: 3-3                                        [4, 512]                  [4, 512, 1024]            526,336                   2,105,344\n",
      "│    │    └─LayerNorm: 3-4                                        [4, 512, 1024]            [4, 512, 1024]            2,048                     8,192\n",
      "│    │    └─Dropout: 3-5                                          [4, 512, 1024]            [4, 512, 1024]            --                        --\n",
      "│    └─XLMRobertaEncoder: 2-2                                     [4, 512, 1024]            [4, 512, 1024]            --                        --\n",
      "│    │    └─ModuleList: 3-6                                       --                        --                        302,309,376               --\n",
      "├─XLMRobertaClassificationHead: 1-2                               [4, 512, 1024]            [4, 3]                    --                        --\n",
      "│    └─Dropout: 2-3                                               [4, 1024]                 [4, 1024]                 --                        --\n",
      "│    └─Linear: 2-4                                                [4, 1024]                 [4, 1024]                 1,049,600                 4,198,400\n",
      "│    └─Dropout: 2-5                                               [4, 1024]                 [4, 1024]                 --                        --\n",
      "│    └─Linear: 2-6                                                [4, 1024]                 [4, 3]                    3,075                     12,300\n",
      "=====================================================================================================================================================================\n",
      "Total params: 559,893,507\n",
      "Trainable params: 559,893,507\n",
      "Non-trainable params: 0\n",
      "Total mult-adds (Units.GIGABYTES): 2.24\n",
      "=====================================================================================================================================================================\n",
      "Input size (MB): 0.02\n",
      "Forward/backward pass size (MB): 4496.33\n",
      "Params size (MB): 2239.57\n",
      "Estimated Total Size (MB): 6735.92\n",
      "=====================================================================================================================================================================\n"
     ]
    }
   ],
   "source": [
    "from torchinfo import summary\n",
    "import torch  # Đảm bảo đã import torch\n",
    "\n",
    "logger.info(\"Phân tích kiến trúc mô hình bằng torchinfo...\")\n",
    "\n",
    "# --- Dùng torchinfo để hiển thị ---\n",
    "# Tạo một input giả với batch_size và max_length như trong config\n",
    "input_ids_example = torch.randint(\n",
    "    0, tokenizer.vocab_size, (cfg.BATCH_SIZE, cfg.MAX_LENGTH)\n",
    ")\n",
    "\n",
    "# 1. Gọi summary với verbose=0 để không in ra console và lưu kết quả vào biến\n",
    "#    Thêm các cột bạn muốn xem, ví dụ: 'output_size', 'num_params'\n",
    "model_summary = summary(\n",
    "    model,\n",
    "    input_data={\"input_ids\": input_ids_example},\n",
    "    verbose=0,  # <-- Quan trọng: Ngăn không cho tự động in\n",
    "    col_names=[\"input_size\", \"output_size\", \"num_params\", \"mult_adds\"],\n",
    ")\n",
    "\n",
    "# 2. Chuyển đối tượng summary thành string và đưa vào logger\n",
    "logger.info(f\"Kiến trúc chi tiết của mô hình:\\n{str(model_summary)}\")\n",
    "\n",
    "\n",
    "# # (Tùy chọn) Bạn vẫn có thể in ra màn hình nếu muốn xem ngay trong notebook\n",
    "# print(\"In summary ra màn hình notebook:\")\n",
    "# print(model_summary)\n"
   ]
  },
  {
   "cell_type": "markdown",
   "id": "53ffd869",
   "metadata": {},
   "source": [
    "## 3. Tạo Dataset và DataLoader"
   ]
  },
  {
   "cell_type": "code",
   "execution_count": 16,
   "id": "9803da5c",
   "metadata": {},
   "outputs": [
    {
     "name": "stderr",
     "output_type": "stream",
     "text": [
      "2025-10-16 17:18:46 - [INFO] - Bước 3: Tạo Dataset và DataLoader với Custom Collate Function...\n",
      "2025-10-16 17:18:46 - [INFO] - ✅ Tạo DataLoader với Dynamic Padding tùy chỉnh thành công!\n",
      "2025-10-16 17:18:46 - [INFO] - ✅ Tạo DataLoader với Dynamic Padding tùy chỉnh thành công!\n"
     ]
    }
   ],
   "source": [
    "# Cell [15] - ĐÃ VIẾT LẠI VỚI CUSTOM COLLATE FN\n",
    "from torch.utils.data import DataLoader\n",
    "\n",
    "\n",
    "# --- BƯỚC 1: ĐỊNH NGHĨA HÀM COLLATE TÙY CHỈNH ---\n",
    "def custom_collate_fn(features, tokenizer):\n",
    "    \"\"\"\n",
    "    Hàm này thay thế DataCollatorWithPadding.\n",
    "    Nó nhận một batch các mẫu và thực hiện dynamic padding một cách thủ công.\n",
    "    \"\"\"\n",
    "    # Lấy ra câu dài nhất trong batch này\n",
    "    max_len = max(len(f[\"input_ids\"]) for f in features)\n",
    "\n",
    "    # Lấy ID của token padding từ tokenizer\n",
    "    pad_token_id = tokenizer.pad_token_id\n",
    "\n",
    "    # Duyệt qua từng mẫu trong batch để pad\n",
    "    for feature in features:\n",
    "        padding_length = max_len - len(feature[\"input_ids\"])\n",
    "        # Pad cho input_ids và attention_mask\n",
    "        feature[\"input_ids\"] = feature[\"input_ids\"] + [pad_token_id] * padding_length\n",
    "        feature[\"attention_mask\"] = feature[\"attention_mask\"] + [0] * padding_length\n",
    "\n",
    "    # Gom các mẫu đã pad lại thành batch tensor\n",
    "    # torch.tensor() sẽ tự động chuyển list của các list thành tensor 2D\n",
    "    input_ids = torch.tensor([f[\"input_ids\"] for f in features], dtype=torch.long)\n",
    "    attention_mask = torch.tensor(\n",
    "        [f[\"attention_mask\"] for f in features], dtype=torch.long\n",
    "    )\n",
    "    labels = torch.stack(\n",
    "        [f[\"labels\"] for f in features]\n",
    "    )  # .stack() vì labels đã là tensor\n",
    "\n",
    "    return {\n",
    "        \"input_ids\": input_ids,\n",
    "        \"attention_mask\": attention_mask,\n",
    "        \"labels\": labels,\n",
    "    }\n",
    "\n",
    "\n",
    "# --- BƯỚC 2: TẠO DATASET VÀ DATALOADER ---\n",
    "logger.info(\"Bước 3: Tạo Dataset và DataLoader với Custom Collate Function...\")\n",
    "\n",
    "# Tạo Dataset (sử dụng HallucinationDataset ở trên)\n",
    "train_dataset = HallucinationDataset(\n",
    "    texts=train_df[\"input_text\"].to_list(),\n",
    "    labels=train_df[\"label_id\"].to_list(),\n",
    "    tokenizer=tokenizer,\n",
    "    max_len=cfg.MAX_LENGTH,\n",
    ")\n",
    "val_dataset = HallucinationDataset(\n",
    "    texts=val_df[\"input_text\"].to_list(),\n",
    "    labels=val_df[\"label_id\"].to_list(),\n",
    "    tokenizer=tokenizer,\n",
    "    max_len=cfg.MAX_LENGTH,\n",
    ")\n",
    "\n",
    "# Tạo DataLoader và truyền hàm custom_collate_fn vào\n",
    "# Dùng partial để \"gói\" tokenizer vào hàm collate\n",
    "from functools import partial\n",
    "\n",
    "collate_with_tokenizer = partial(custom_collate_fn, tokenizer=tokenizer)\n",
    "\n",
    "train_loader = DataLoader(\n",
    "    train_dataset,\n",
    "    batch_size=cfg.BATCH_SIZE,\n",
    "    shuffle=True,\n",
    "    collate_fn=collate_with_tokenizer,\n",
    ")\n",
    "val_loader = DataLoader(\n",
    "    val_dataset, batch_size=cfg.BATCH_SIZE, collate_fn=collate_with_tokenizer\n",
    ")\n",
    "\n",
    "logger.info(\"✅ Tạo DataLoader với Dynamic Padding tùy chỉnh thành công!\")\n"
   ]
  },
  {
   "cell_type": "code",
   "execution_count": 17,
   "id": "00ac99c4",
   "metadata": {},
   "outputs": [
    {
     "name": "stderr",
     "output_type": "stream",
     "text": [
      "2025-10-16 17:18:46 - [INFO] - Gradient accumulation steps: 4 | Effective batch size: 16\n"
     ]
    }
   ],
   "source": [
    "gradient_accumulation_steps = max(1, cfg.GRADIENT_ACCUMULATION_STEPS)\n",
    "effective_batch_size = cfg.BATCH_SIZE * gradient_accumulation_steps\n",
    "logger.info(\n",
    "    \"Gradient accumulation steps: %s | Effective batch size: %s\",\n",
    "    gradient_accumulation_steps,\n",
    "    effective_batch_size,\n",
    ")\n"
   ]
  },
  {
   "cell_type": "markdown",
   "id": "eae8a4a1",
   "metadata": {},
   "source": [
    "### Check dataset"
   ]
  },
  {
   "cell_type": "code",
   "execution_count": 18,
   "id": "0c8564a3",
   "metadata": {},
   "outputs": [
    {
     "name": "stdout",
     "output_type": "stream",
     "text": [
      "\n",
      "--- Kiểm tra 1 batch dữ liệu đầu vào ---\n",
      "Kích thước input_ids: torch.Size([4, 328])\n",
      "Kích thước attention_mask: torch.Size([4, 328])\n",
      "Nhãn trong batch: tensor([2, 2, 0, 2])\n",
      "\n",
      "Một mẫu đã được token hóa và giải mã lại:\n",
      "<s> Câu hỏi: Mạng lưới đường bộ của Trung Quốc chỉ mới bắt đầu cải thiện từ năm 2010 và đến năm 2011 mới đạt tổng chiều dài 85.000 km, trở thành hệ thống công lộ dài nhất thế giới. Vậy từ năm nào Trung Quốc mới thực sự bắt đầu mở rộng mạng lưới đường bộ của mình? Ngữ cảnh: Kể từ cuối thập niên 1990, mạng lưới đường bộ quốc gia của Trung Quốc được mở rộng đáng kể thông qua thiết lập một mạng lưới quốc đạo và công lộ cao tốc. Năm 2011, các quốc đạo của Trung Quốc đạt tổng chiều dài 85.000 km (53.000 mi), trở thành hệ thống công lộ dài nhất trên thế giới. Trung Quốc sở hữu thị trường lớn nhất thế giới đối với ô tô, vượt qua Hoa Kỳ về cả bán và sản xuất ô tô. Số xe bán được trong năm 2009 vượt quá 13,6 triệu và dự đoán đạt 40 triệu vào năm 2020. Trong các khu vực đô thị, xe đạp vẫn là một phương tiện giao thông phổ biến, tính đến năm 2012, có khoảng 470 triệu xe đạp tại Trung Quốc.</s></s> Trung Quốc bắt đầu mở rộng mạng lưới đường bộ quốc gia đáng kể từ cuối thập niên 1990, không phải từ năm 2010.</s><pad><pad><pad><pad><pad><pad><pad><pad><pad><pad><pad><pad><pad><pad><pad><pad><pad><pad><pad><pad><pad><pad><pad><pad><pad><pad><pad><pad><pad><pad><pad><pad><pad><pad><pad><pad><pad><pad><pad><pad><pad><pad><pad><pad><pad><pad><pad><pad><pad><pad><pad><pad><pad><pad><pad><pad><pad><pad><pad><pad><pad><pad><pad><pad><pad><pad><pad><pad><pad><pad><pad><pad><pad><pad><pad><pad><pad><pad><pad><pad><pad><pad>\n",
      "------------------------------------------\n",
      "\n"
     ]
    }
   ],
   "source": [
    "print(\"\\n--- Kiểm tra 1 batch dữ liệu đầu vào ---\")\n",
    "sample_batch = next(iter(train_loader))\n",
    "print(\"Kích thước input_ids:\", sample_batch[\"input_ids\"].shape)\n",
    "print(\"Kích thước attention_mask:\", sample_batch[\"attention_mask\"].shape)\n",
    "print(\"Nhãn trong batch:\", sample_batch[\"labels\"])\n",
    "\n",
    "# Giải mã một mẫu để xem nó trông như thế nào\n",
    "decoded_text = tokenizer.decode(sample_batch[\"input_ids\"][0], skip_special_tokens=False)\n",
    "print(\"\\nMột mẫu đã được token hóa và giải mã lại:\")\n",
    "print(decoded_text)\n",
    "print(\"------------------------------------------\\n\")\n",
    "# --- KẾT THÚC BƯỚC KIỂM TRA ---\n"
   ]
  },
  {
   "cell_type": "markdown",
   "id": "2739f76b",
   "metadata": {},
   "source": [
    "## 4. Thiết lập Huấn luyện"
   ]
  },
  {
   "cell_type": "code",
   "execution_count": 19,
   "id": "62005cda",
   "metadata": {},
   "outputs": [
    {
     "name": "stderr",
     "output_type": "stream",
     "text": [
      "2025-10-16 17:18:46 - [INFO] - Bước 4: Thiết lập môi trường huấn luyện và kiến trúc model...\n",
      "2025-10-16 17:18:46 - [INFO] - Sử dụng thiết bị: cuda\n",
      "2025-10-16 17:18:46 - [INFO] - Sử dụng thiết bị: cuda\n",
      "2025-10-16 17:18:46 - [INFO] - ✅ Tìm thấy 1 GPU(s).\n",
      "2025-10-16 17:18:46 - [INFO] - ✅ Đang sử dụng GPU: NVIDIA GeForce RTX 5070 Ti\n",
      "2025-10-16 17:18:46 - [INFO] - Kiến trúc của mô hình:\n",
      "XLMRobertaForSequenceClassification(\n",
      "  (roberta): XLMRobertaModel(\n",
      "    (embeddings): XLMRobertaEmbeddings(\n",
      "      (word_embeddings): Embedding(250002, 1024, padding_idx=1)\n",
      "      (position_embeddings): Embedding(514, 1024, padding_idx=1)\n",
      "      (token_type_embeddings): Embedding(1, 1024)\n",
      "      (LayerNorm): LayerNorm((1024,), eps=1e-05, elementwise_affine=True)\n",
      "      (dropout): Dropout(p=0.05, inplace=False)\n",
      "    )\n",
      "    (encoder): XLMRobertaEncoder(\n",
      "      (layer): ModuleList(\n",
      "        (0-23): 24 x XLMRobertaLayer(\n",
      "          (attention): XLMRobertaAttention(\n",
      "            (self): XLMRobertaSdpaSelfAttention(\n",
      "              (query): Linear(in_features=1024, out_features=1024, bias=True)\n",
      "              (key): Linear(in_features=1024, out_features=1024, bias=True)\n",
      "              (value): Linear(in_features=1024, out_features=1024, bias=True)\n",
      "              (dropout): Dropout(p=0.05, inplace=False)\n",
      "            )\n",
      "            (output): XLMRobertaSelfOutput(\n",
      "              (dense): Linear(in_features=1024, out_features=1024, bias=True)\n",
      "              (LayerNorm): LayerNorm((1024,), eps=1e-05, elementwise_affine=True)\n",
      "              (dropout): Dropout(p=0.05, inplace=False)\n",
      "            )\n",
      "          )\n",
      "          (intermediate): XLMRobertaIntermediate(\n",
      "            (dense): Linear(in_features=1024, out_features=4096, bias=True)\n",
      "            (intermediate_act_fn): GELUActivation()\n",
      "          )\n",
      "          (output): XLMRobertaOutput(\n",
      "            (dense): Linear(in_features=4096, out_features=1024, bias=True)\n",
      "            (LayerNorm): LayerNorm((1024,), eps=1e-05, elementwise_affine=True)\n",
      "            (dropout): Dropout(p=0.05, inplace=False)\n",
      "          )\n",
      "        )\n",
      "      )\n",
      "    )\n",
      "  )\n",
      "  (classifier): XLMRobertaClassificationHead(\n",
      "    (dense): Linear(in_features=1024, out_features=1024, bias=True)\n",
      "    (dropout): Dropout(p=0.05, inplace=False)\n",
      "    (out_proj): Linear(in_features=1024, out_features=3, bias=True)\n",
      "  )\n",
      ")\n",
      "2025-10-16 17:18:46 - [INFO] - ✅ Tìm thấy 1 GPU(s).\n",
      "2025-10-16 17:18:46 - [INFO] - ✅ Đang sử dụng GPU: NVIDIA GeForce RTX 5070 Ti\n",
      "2025-10-16 17:18:46 - [INFO] - Kiến trúc của mô hình:\n",
      "XLMRobertaForSequenceClassification(\n",
      "  (roberta): XLMRobertaModel(\n",
      "    (embeddings): XLMRobertaEmbeddings(\n",
      "      (word_embeddings): Embedding(250002, 1024, padding_idx=1)\n",
      "      (position_embeddings): Embedding(514, 1024, padding_idx=1)\n",
      "      (token_type_embeddings): Embedding(1, 1024)\n",
      "      (LayerNorm): LayerNorm((1024,), eps=1e-05, elementwise_affine=True)\n",
      "      (dropout): Dropout(p=0.05, inplace=False)\n",
      "    )\n",
      "    (encoder): XLMRobertaEncoder(\n",
      "      (layer): ModuleList(\n",
      "        (0-23): 24 x XLMRobertaLayer(\n",
      "          (attention): XLMRobertaAttention(\n",
      "            (self): XLMRobertaSdpaSelfAttention(\n",
      "              (query): Linear(in_features=1024, out_features=1024, bias=True)\n",
      "              (key): Linear(in_features=1024, out_features=1024, bias=True)\n",
      "              (value): Linear(in_features=1024, out_features=1024, bias=True)\n",
      "              (dropout): Dropout(p=0.05, inplace=False)\n",
      "            )\n",
      "            (output): XLMRobertaSelfOutput(\n",
      "              (dense): Linear(in_features=1024, out_features=1024, bias=True)\n",
      "              (LayerNorm): LayerNorm((1024,), eps=1e-05, elementwise_affine=True)\n",
      "              (dropout): Dropout(p=0.05, inplace=False)\n",
      "            )\n",
      "          )\n",
      "          (intermediate): XLMRobertaIntermediate(\n",
      "            (dense): Linear(in_features=1024, out_features=4096, bias=True)\n",
      "            (intermediate_act_fn): GELUActivation()\n",
      "          )\n",
      "          (output): XLMRobertaOutput(\n",
      "            (dense): Linear(in_features=4096, out_features=1024, bias=True)\n",
      "            (LayerNorm): LayerNorm((1024,), eps=1e-05, elementwise_affine=True)\n",
      "            (dropout): Dropout(p=0.05, inplace=False)\n",
      "          )\n",
      "        )\n",
      "      )\n",
      "    )\n",
      "  )\n",
      "  (classifier): XLMRobertaClassificationHead(\n",
      "    (dense): Linear(in_features=1024, out_features=1024, bias=True)\n",
      "    (dropout): Dropout(p=0.05, inplace=False)\n",
      "    (out_proj): Linear(in_features=1024, out_features=3, bias=True)\n",
      "  )\n",
      ")\n"
     ]
    },
    {
     "data": {
      "text/plain": [
       "XLMRobertaForSequenceClassification(\n",
       "  (roberta): XLMRobertaModel(\n",
       "    (embeddings): XLMRobertaEmbeddings(\n",
       "      (word_embeddings): Embedding(250002, 1024, padding_idx=1)\n",
       "      (position_embeddings): Embedding(514, 1024, padding_idx=1)\n",
       "      (token_type_embeddings): Embedding(1, 1024)\n",
       "      (LayerNorm): LayerNorm((1024,), eps=1e-05, elementwise_affine=True)\n",
       "      (dropout): Dropout(p=0.05, inplace=False)\n",
       "    )\n",
       "    (encoder): XLMRobertaEncoder(\n",
       "      (layer): ModuleList(\n",
       "        (0-23): 24 x XLMRobertaLayer(\n",
       "          (attention): XLMRobertaAttention(\n",
       "            (self): XLMRobertaSdpaSelfAttention(\n",
       "              (query): Linear(in_features=1024, out_features=1024, bias=True)\n",
       "              (key): Linear(in_features=1024, out_features=1024, bias=True)\n",
       "              (value): Linear(in_features=1024, out_features=1024, bias=True)\n",
       "              (dropout): Dropout(p=0.05, inplace=False)\n",
       "            )\n",
       "            (output): XLMRobertaSelfOutput(\n",
       "              (dense): Linear(in_features=1024, out_features=1024, bias=True)\n",
       "              (LayerNorm): LayerNorm((1024,), eps=1e-05, elementwise_affine=True)\n",
       "              (dropout): Dropout(p=0.05, inplace=False)\n",
       "            )\n",
       "          )\n",
       "          (intermediate): XLMRobertaIntermediate(\n",
       "            (dense): Linear(in_features=1024, out_features=4096, bias=True)\n",
       "            (intermediate_act_fn): GELUActivation()\n",
       "          )\n",
       "          (output): XLMRobertaOutput(\n",
       "            (dense): Linear(in_features=4096, out_features=1024, bias=True)\n",
       "            (LayerNorm): LayerNorm((1024,), eps=1e-05, elementwise_affine=True)\n",
       "            (dropout): Dropout(p=0.05, inplace=False)\n",
       "          )\n",
       "        )\n",
       "      )\n",
       "    )\n",
       "  )\n",
       "  (classifier): XLMRobertaClassificationHead(\n",
       "    (dense): Linear(in_features=1024, out_features=1024, bias=True)\n",
       "    (dropout): Dropout(p=0.05, inplace=False)\n",
       "    (out_proj): Linear(in_features=1024, out_features=3, bias=True)\n",
       "  )\n",
       ")"
      ]
     },
     "execution_count": 19,
     "metadata": {},
     "output_type": "execute_result"
    }
   ],
   "source": [
    "import torch  # Đảm bảo đã import torch\n",
    "\n",
    "logger.info(\"Bước 4: Thiết lập môi trường huấn luyện và kiến trúc model...\")\n",
    "device = torch.device(\"cuda\" if torch.cuda.is_available() else \"cpu\")\n",
    "\n",
    "# --- Log thông tin thiết bị (GPU/CPU) ---\n",
    "logger.info(f\"Sử dụng thiết bị: {device}\")\n",
    "if device.type == \"cuda\":\n",
    "    gpu_count = torch.cuda.device_count()\n",
    "    gpu_name = torch.cuda.get_device_name(0)\n",
    "    logger.info(f\"✅ Tìm thấy {gpu_count} GPU(s).\")\n",
    "    logger.info(f\"✅ Đang sử dụng GPU: {gpu_name}\")\n",
    "else:\n",
    "    logger.warning(\"⚠️ Không tìm thấy GPU, sử dụng CPU. Quá trình training sẽ rất chậm.\")\n",
    "\n",
    "# --- BẮT ĐẦU PHẦN THÊM MỚI ---\n",
    "# Chuyển toàn bộ kiến trúc model thành dạng string để đưa vào logger\n",
    "model_architecture_string = str(model)\n",
    "\n",
    "# Ghi log kiến trúc model\n",
    "logger.info(f\"Kiến trúc của mô hình:\\n{model_architecture_string}\")\n",
    "# --- KẾT THÚC PHẦN THÊM MỚI ---\n",
    "\n",
    "# Di chuyển model đến device đã chọn\n",
    "model.to(device)\n"
   ]
  },
  {
   "cell_type": "code",
   "execution_count": 20,
   "id": "8449d146",
   "metadata": {},
   "outputs": [
    {
     "name": "stderr",
     "output_type": "stream",
     "text": [
      "2025-10-16 17:18:47 - [INFO] - Scheduler will run for 3500 total steps (350 per epoch)\n"
     ]
    }
   ],
   "source": [
    "optimizer = AdamW(\n",
    "    model.parameters(),\n",
    "    lr=cfg.LEARNING_RATE,\n",
    "    weight_decay=cfg.WEIGHT_DECAY,\n",
    "    eps=cfg.EPSILON,\n",
    ")\n",
    "num_update_steps_per_epoch = math.ceil(len(train_loader) / gradient_accumulation_steps)\n",
    "num_training_steps = num_update_steps_per_epoch * cfg.EPOCHS\n",
    "logger.info(\n",
    "    \"Scheduler will run for %s total steps (%s per epoch)\",\n",
    "    num_training_steps,\n",
    "    num_update_steps_per_epoch,\n",
    ")\n"
   ]
  },
  {
   "cell_type": "markdown",
   "id": "e04c4a76",
   "metadata": {},
   "source": [
    "- Cosine Scheduler:\n",
    "    Sau khi warmup, scheduler sẽ giảm learning rate theo đường cong cosine. Ban đầu nó giảm rất chậm (giữ ở mức LR cao trong thời gian dài hơn), sau đó giảm nhanh dần và cuối cùng lại giảm rất chậm khi về gần 0.\n",
    "    \n",
    "    Tại sao nó hiệu quả? Ý tưởng là việc giữ learning rate ở mức cao lâu hơn giúp model có cơ hội \"khám phá\" và thoát khỏi các điểm tối ưu kém (local minima). Sau đó, việc giảm tốc từ từ ở cuối giúp nó tinh chỉnh một cách chính xác."
   ]
  },
  {
   "cell_type": "code",
   "execution_count": null,
   "id": "1746755c",
   "metadata": {},
   "outputs": [
    {
     "name": "stderr",
     "output_type": "stream",
     "text": [
      "2025-10-16 17:18:47 - [INFO] - Warmup steps: 350\n"
     ]
    }
   ],
   "source": [
    "if cfg.TOTAL_STEP_SCALE <= 0:\n",
    "    warmup_steps = 0\n",
    "elif cfg.TOTAL_STEP_SCALE <= 1:\n",
    "    warmup_steps = max(1, int(cfg.TOTAL_STEP_SCALE * num_training_steps))\n",
    "else:\n",
    "    warmup_steps = min(int(cfg.TOTAL_STEP_SCALE), num_training_steps)\n",
    "\n",
    "scheduler = get_scheduler(\n",
    "    cfg.SCHEDULER_TYPE,\n",
    "    optimizer=optimizer,\n",
    "    num_warmup_steps=warmup_steps,\n",
    "    num_training_steps=num_training_steps,\n",
    ")\n",
    "logger.info(\"Warmup steps: %s\", warmup_steps)\n"
   ]
  },
  {
   "cell_type": "code",
   "execution_count": null,
   "id": "f73d99dc",
   "metadata": {},
   "outputs": [
    {
     "name": "stderr",
     "output_type": "stream",
     "text": [
      "2025-10-16 17:18:47 - [INFO] - Sử dụng Class Weights & Label smoothing cho hàm loss.\n"
     ]
    }
   ],
   "source": [
    "# Chuyển class weights từ config thành tensor và đưa lên device\n",
    "if cfg.CLASS_WEIGHTS:\n",
    "    logger.info(\"Sử dụng Class Weights & Label smoothing cho hàm loss.\")\n",
    "    class_weights_tensor = torch.tensor(cfg.CLASS_WEIGHTS, dtype=torch.float).to(device)\n",
    "    loss_fn = torch.nn.CrossEntropyLoss(\n",
    "        weight=class_weights_tensor,\n",
    "        label_smoothing=cfg.LABEL_SMOOTHING,\n",
    "    ).to(device)\n",
    "else:\n",
    "    logger.info(\"Sử dụng CrossEntropyLoss thông thường (không có trọng số).\")\n",
    "    loss_fn = torch.nn.CrossEntropyLoss().to(device)\n"
   ]
  },
  {
   "cell_type": "markdown",
   "id": "67e5a7d7",
   "metadata": {},
   "source": [
    "## 5. Vòng lặp Huấn luyện"
   ]
  },
  {
   "cell_type": "code",
   "execution_count": 23,
   "id": "275d4c7a",
   "metadata": {},
   "outputs": [
    {
     "name": "stderr",
     "output_type": "stream",
     "text": [
      "2025-10-16 17:18:47 - [INFO] - --- Epoch 1/10 ---\n"
     ]
    },
    {
     "data": {
      "application/vnd.jupyter.widget-view+json": {
       "model_id": "3425b16315044e1fa3aebe9277fd8bf7",
       "version_major": 2,
       "version_minor": 0
      },
      "text/plain": [
       "Epoch 1/10:   0%|          | 0/1400 [00:00<?, ?it/s]"
      ]
     },
     "metadata": {},
     "output_type": "display_data"
    },
    {
     "name": "stderr",
     "output_type": "stream",
     "text": [
      "2025-10-16 17:23:08 - [INFO] - Loss trung bình trên tập train: 0.9071\n",
      "2025-10-16 17:23:08 - [INFO] - Current Learning Rate: 6.00e-06\n",
      "2025-10-16 17:23:08 - [INFO] - Bắt đầu đánh giá trên tập validation...\n",
      "2025-10-16 17:23:08 - [INFO] - Current Learning Rate: 6.00e-06\n",
      "2025-10-16 17:23:08 - [INFO] - Bắt đầu đánh giá trên tập validation...\n"
     ]
    },
    {
     "data": {
      "application/vnd.jupyter.widget-view+json": {
       "model_id": "b0269ea07222413ea5390194c01e12ba",
       "version_major": 2,
       "version_minor": 0
      },
      "text/plain": [
       "Evaluating:   0%|          | 0/350 [00:00<?, ?it/s]"
      ]
     },
     "metadata": {},
     "output_type": "display_data"
    },
    {
     "name": "stderr",
     "output_type": "stream",
     "text": [
      "2025-10-16 17:23:28 - [INFO] - Validation Loss: 0.6915\n",
      "2025-10-16 17:23:28 - [INFO] - Validation Accuracy: 0.7757\n",
      "2025-10-16 17:23:28 - [INFO] - Validation Macro-F1: 0.7745\n",
      "2025-10-16 17:23:28 - [INFO] - Classification Report trên tập validation:\n",
      "              precision    recall  f1-score   support\n",
      "\n",
      "   intrinsic     0.8177    0.6776    0.7411       490\n",
      "   extrinsic     0.7516    0.7614    0.7565       461\n",
      "          no     0.7647    0.8976    0.8258       449\n",
      "\n",
      "    accuracy                         0.7757      1400\n",
      "   macro avg     0.7780    0.7788    0.7745      1400\n",
      "weighted avg     0.7790    0.7757    0.7733      1400\n",
      "\n",
      "2025-10-16 17:23:28 - [INFO] - 🎉 Macro-F1 cải thiện. Đang lưu model tốt nhất vào '/home/guest/Projects/CS221/models/xlm-roberta-large-xnli-tuned'...\n",
      "2025-10-16 17:23:28 - [INFO] - Validation Accuracy: 0.7757\n",
      "2025-10-16 17:23:28 - [INFO] - Validation Macro-F1: 0.7745\n",
      "2025-10-16 17:23:28 - [INFO] - Classification Report trên tập validation:\n",
      "              precision    recall  f1-score   support\n",
      "\n",
      "   intrinsic     0.8177    0.6776    0.7411       490\n",
      "   extrinsic     0.7516    0.7614    0.7565       461\n",
      "          no     0.7647    0.8976    0.8258       449\n",
      "\n",
      "    accuracy                         0.7757      1400\n",
      "   macro avg     0.7780    0.7788    0.7745      1400\n",
      "weighted avg     0.7790    0.7757    0.7733      1400\n",
      "\n",
      "2025-10-16 17:23:28 - [INFO] - 🎉 Macro-F1 cải thiện. Đang lưu model tốt nhất vào '/home/guest/Projects/CS221/models/xlm-roberta-large-xnli-tuned'...\n",
      "2025-10-16 17:23:31 - [INFO] - Lưu model thành công.\n",
      "2025-10-16 17:23:31 - [INFO] - --- Epoch 2/10 ---\n",
      "2025-10-16 17:23:31 - [INFO] - Lưu model thành công.\n",
      "2025-10-16 17:23:31 - [INFO] - --- Epoch 2/10 ---\n"
     ]
    },
    {
     "data": {
      "application/vnd.jupyter.widget-view+json": {
       "model_id": "773d4af6ba90402887675a88a8ff7f83",
       "version_major": 2,
       "version_minor": 0
      },
      "text/plain": [
       "Epoch 2/10:   0%|          | 0/1400 [00:00<?, ?it/s]"
      ]
     },
     "metadata": {},
     "output_type": "display_data"
    },
    {
     "name": "stderr",
     "output_type": "stream",
     "text": [
      "2025-10-16 17:27:51 - [INFO] - Loss trung bình trên tập train: 0.5666\n",
      "2025-10-16 17:27:51 - [INFO] - Current Learning Rate: 5.82e-06\n",
      "2025-10-16 17:27:51 - [INFO] - Bắt đầu đánh giá trên tập validation...\n",
      "2025-10-16 17:27:51 - [INFO] - Current Learning Rate: 5.82e-06\n",
      "2025-10-16 17:27:51 - [INFO] - Bắt đầu đánh giá trên tập validation...\n"
     ]
    },
    {
     "data": {
      "application/vnd.jupyter.widget-view+json": {
       "model_id": "ca772cdc6ff447e9b61cfcb409b04f07",
       "version_major": 2,
       "version_minor": 0
      },
      "text/plain": [
       "Evaluating:   0%|          | 0/350 [00:00<?, ?it/s]"
      ]
     },
     "metadata": {},
     "output_type": "display_data"
    },
    {
     "name": "stderr",
     "output_type": "stream",
     "text": [
      "2025-10-16 17:28:12 - [INFO] - Validation Loss: 0.6582\n",
      "2025-10-16 17:28:12 - [INFO] - Validation Accuracy: 0.7850\n",
      "2025-10-16 17:28:12 - [INFO] - Validation Macro-F1: 0.7841\n",
      "2025-10-16 17:28:12 - [INFO] - Classification Report trên tập validation:\n",
      "              precision    recall  f1-score   support\n",
      "\n",
      "   intrinsic     0.8014    0.7163    0.7565       490\n",
      "   extrinsic     0.7805    0.7484    0.7641       461\n",
      "          no     0.7750    0.8976    0.8318       449\n",
      "\n",
      "    accuracy                         0.7850      1400\n",
      "   macro avg     0.7856    0.7874    0.7841      1400\n",
      "weighted avg     0.7861    0.7850    0.7831      1400\n",
      "\n",
      "2025-10-16 17:28:12 - [INFO] - 🎉 Macro-F1 cải thiện. Đang lưu model tốt nhất vào '/home/guest/Projects/CS221/models/xlm-roberta-large-xnli-tuned'...\n",
      "2025-10-16 17:28:12 - [INFO] - Validation Accuracy: 0.7850\n",
      "2025-10-16 17:28:12 - [INFO] - Validation Macro-F1: 0.7841\n",
      "2025-10-16 17:28:12 - [INFO] - Classification Report trên tập validation:\n",
      "              precision    recall  f1-score   support\n",
      "\n",
      "   intrinsic     0.8014    0.7163    0.7565       490\n",
      "   extrinsic     0.7805    0.7484    0.7641       461\n",
      "          no     0.7750    0.8976    0.8318       449\n",
      "\n",
      "    accuracy                         0.7850      1400\n",
      "   macro avg     0.7856    0.7874    0.7841      1400\n",
      "weighted avg     0.7861    0.7850    0.7831      1400\n",
      "\n",
      "2025-10-16 17:28:12 - [INFO] - 🎉 Macro-F1 cải thiện. Đang lưu model tốt nhất vào '/home/guest/Projects/CS221/models/xlm-roberta-large-xnli-tuned'...\n",
      "2025-10-16 17:28:14 - [INFO] - Lưu model thành công.\n",
      "2025-10-16 17:28:14 - [INFO] - --- Epoch 3/10 ---\n",
      "2025-10-16 17:28:14 - [INFO] - Lưu model thành công.\n",
      "2025-10-16 17:28:14 - [INFO] - --- Epoch 3/10 ---\n"
     ]
    },
    {
     "data": {
      "application/vnd.jupyter.widget-view+json": {
       "model_id": "8b32554b20714b3f9c01ed47d4514e32",
       "version_major": 2,
       "version_minor": 0
      },
      "text/plain": [
       "Epoch 3/10:   0%|          | 0/1400 [00:00<?, ?it/s]"
      ]
     },
     "metadata": {},
     "output_type": "display_data"
    },
    {
     "name": "stderr",
     "output_type": "stream",
     "text": [
      "2025-10-16 17:32:34 - [INFO] - Loss trung bình trên tập train: 0.4428\n",
      "2025-10-16 17:32:34 - [INFO] - Current Learning Rate: 5.30e-06\n",
      "2025-10-16 17:32:34 - [INFO] - Bắt đầu đánh giá trên tập validation...\n",
      "2025-10-16 17:32:34 - [INFO] - Current Learning Rate: 5.30e-06\n",
      "2025-10-16 17:32:34 - [INFO] - Bắt đầu đánh giá trên tập validation...\n"
     ]
    },
    {
     "data": {
      "application/vnd.jupyter.widget-view+json": {
       "model_id": "78f8568e3c764cc6a27170f111384286",
       "version_major": 2,
       "version_minor": 0
      },
      "text/plain": [
       "Evaluating:   0%|          | 0/350 [00:00<?, ?it/s]"
      ]
     },
     "metadata": {},
     "output_type": "display_data"
    },
    {
     "name": "stderr",
     "output_type": "stream",
     "text": [
      "2025-10-16 17:32:54 - [INFO] - Validation Loss: 0.6970\n",
      "2025-10-16 17:32:54 - [INFO] - Validation Accuracy: 0.7857\n",
      "2025-10-16 17:32:54 - [INFO] - Validation Macro-F1: 0.7854\n",
      "2025-10-16 17:32:54 - [INFO] - Classification Report trên tập validation:\n",
      "              precision    recall  f1-score   support\n",
      "\n",
      "   intrinsic     0.7646    0.7755    0.7700       490\n",
      "   extrinsic     0.7825    0.7180    0.7489       461\n",
      "          no     0.8104    0.8664    0.8375       449\n",
      "\n",
      "    accuracy                         0.7857      1400\n",
      "   macro avg     0.7858    0.7866    0.7854      1400\n",
      "weighted avg     0.7852    0.7857    0.7847      1400\n",
      "\n",
      "2025-10-16 17:32:54 - [INFO] - 🎉 Macro-F1 cải thiện. Đang lưu model tốt nhất vào '/home/guest/Projects/CS221/models/xlm-roberta-large-xnli-tuned'...\n",
      "2025-10-16 17:32:54 - [INFO] - Validation Accuracy: 0.7857\n",
      "2025-10-16 17:32:54 - [INFO] - Validation Macro-F1: 0.7854\n",
      "2025-10-16 17:32:54 - [INFO] - Classification Report trên tập validation:\n",
      "              precision    recall  f1-score   support\n",
      "\n",
      "   intrinsic     0.7646    0.7755    0.7700       490\n",
      "   extrinsic     0.7825    0.7180    0.7489       461\n",
      "          no     0.8104    0.8664    0.8375       449\n",
      "\n",
      "    accuracy                         0.7857      1400\n",
      "   macro avg     0.7858    0.7866    0.7854      1400\n",
      "weighted avg     0.7852    0.7857    0.7847      1400\n",
      "\n",
      "2025-10-16 17:32:54 - [INFO] - 🎉 Macro-F1 cải thiện. Đang lưu model tốt nhất vào '/home/guest/Projects/CS221/models/xlm-roberta-large-xnli-tuned'...\n",
      "2025-10-16 17:32:57 - [INFO] - Lưu model thành công.\n",
      "2025-10-16 17:32:57 - [INFO] - --- Epoch 4/10 ---\n",
      "2025-10-16 17:32:57 - [INFO] - Lưu model thành công.\n",
      "2025-10-16 17:32:57 - [INFO] - --- Epoch 4/10 ---\n"
     ]
    },
    {
     "data": {
      "application/vnd.jupyter.widget-view+json": {
       "model_id": "1fc97237704b4bd197a615799589bd81",
       "version_major": 2,
       "version_minor": 0
      },
      "text/plain": [
       "Epoch 4/10:   0%|          | 0/1400 [00:00<?, ?it/s]"
      ]
     },
     "metadata": {},
     "output_type": "display_data"
    },
    {
     "name": "stderr",
     "output_type": "stream",
     "text": [
      "2025-10-16 17:37:20 - [INFO] - Loss trung bình trên tập train: 0.3410\n",
      "2025-10-16 17:37:20 - [INFO] - Current Learning Rate: 4.50e-06\n",
      "2025-10-16 17:37:20 - [INFO] - Bắt đầu đánh giá trên tập validation...\n",
      "2025-10-16 17:37:20 - [INFO] - Current Learning Rate: 4.50e-06\n",
      "2025-10-16 17:37:20 - [INFO] - Bắt đầu đánh giá trên tập validation...\n"
     ]
    },
    {
     "data": {
      "application/vnd.jupyter.widget-view+json": {
       "model_id": "a1bf4f51be444528ae7f25bf0983ec67",
       "version_major": 2,
       "version_minor": 0
      },
      "text/plain": [
       "Evaluating:   0%|          | 0/350 [00:00<?, ?it/s]"
      ]
     },
     "metadata": {},
     "output_type": "display_data"
    },
    {
     "name": "stderr",
     "output_type": "stream",
     "text": [
      "2025-10-16 17:37:41 - [INFO] - Validation Loss: 0.8186\n",
      "2025-10-16 17:37:41 - [INFO] - Validation Accuracy: 0.7800\n",
      "2025-10-16 17:37:41 - [INFO] - Validation Macro-F1: 0.7797\n",
      "2025-10-16 17:37:41 - [INFO] - Classification Report trên tập validation:\n",
      "              precision    recall  f1-score   support\n",
      "\n",
      "   intrinsic     0.7726    0.7490    0.7606       490\n",
      "   extrinsic     0.7603    0.7223    0.7408       461\n",
      "          no     0.8049    0.8731    0.8376       449\n",
      "\n",
      "    accuracy                         0.7800      1400\n",
      "   macro avg     0.7793    0.7815    0.7797      1400\n",
      "weighted avg     0.7789    0.7800    0.7788      1400\n",
      "\n",
      "2025-10-16 17:37:41 - [WARNING] - Macro-F1 không cải thiện. Patience: 1/2\n",
      "2025-10-16 17:37:41 - [INFO] - --- Epoch 5/10 ---\n",
      "2025-10-16 17:37:41 - [INFO] - Validation Accuracy: 0.7800\n",
      "2025-10-16 17:37:41 - [INFO] - Validation Macro-F1: 0.7797\n",
      "2025-10-16 17:37:41 - [INFO] - Classification Report trên tập validation:\n",
      "              precision    recall  f1-score   support\n",
      "\n",
      "   intrinsic     0.7726    0.7490    0.7606       490\n",
      "   extrinsic     0.7603    0.7223    0.7408       461\n",
      "          no     0.8049    0.8731    0.8376       449\n",
      "\n",
      "    accuracy                         0.7800      1400\n",
      "   macro avg     0.7793    0.7815    0.7797      1400\n",
      "weighted avg     0.7789    0.7800    0.7788      1400\n",
      "\n",
      "2025-10-16 17:37:41 - [WARNING] - Macro-F1 không cải thiện. Patience: 1/2\n",
      "2025-10-16 17:37:41 - [INFO] - --- Epoch 5/10 ---\n"
     ]
    },
    {
     "data": {
      "application/vnd.jupyter.widget-view+json": {
       "model_id": "2109e4287ac84572bf23243e250f5b49",
       "version_major": 2,
       "version_minor": 0
      },
      "text/plain": [
       "Epoch 5/10:   0%|          | 0/1400 [00:00<?, ?it/s]"
      ]
     },
     "metadata": {},
     "output_type": "display_data"
    },
    {
     "name": "stderr",
     "output_type": "stream",
     "text": [
      "2025-10-16 17:42:04 - [INFO] - Loss trung bình trên tập train: 0.2698\n",
      "2025-10-16 17:42:04 - [INFO] - Current Learning Rate: 3.52e-06\n",
      "2025-10-16 17:42:04 - [INFO] - Bắt đầu đánh giá trên tập validation...\n",
      "2025-10-16 17:42:04 - [INFO] - Current Learning Rate: 3.52e-06\n",
      "2025-10-16 17:42:04 - [INFO] - Bắt đầu đánh giá trên tập validation...\n"
     ]
    },
    {
     "data": {
      "application/vnd.jupyter.widget-view+json": {
       "model_id": "4bb5684ef82640e1b090e29496d1dfee",
       "version_major": 2,
       "version_minor": 0
      },
      "text/plain": [
       "Evaluating:   0%|          | 0/350 [00:00<?, ?it/s]"
      ]
     },
     "metadata": {},
     "output_type": "display_data"
    },
    {
     "name": "stderr",
     "output_type": "stream",
     "text": [
      "2025-10-16 17:42:25 - [INFO] - Validation Loss: 0.8938\n",
      "2025-10-16 17:42:25 - [INFO] - Validation Accuracy: 0.7786\n",
      "2025-10-16 17:42:25 - [INFO] - Validation Macro-F1: 0.7787\n",
      "2025-10-16 17:42:25 - [INFO] - Classification Report trên tập validation:\n",
      "              precision    recall  f1-score   support\n",
      "\n",
      "   intrinsic     0.7754    0.7327    0.7534       490\n",
      "   extrinsic     0.7516    0.7484    0.7500       461\n",
      "          no     0.8075    0.8597    0.8328       449\n",
      "\n",
      "    accuracy                         0.7786      1400\n",
      "   macro avg     0.7782    0.7802    0.7787      1400\n",
      "weighted avg     0.7779    0.7786    0.7777      1400\n",
      "\n",
      "2025-10-16 17:42:25 - [WARNING] - Macro-F1 không cải thiện. Patience: 2/2\n",
      "2025-10-16 17:42:25 - [INFO] - Early stopping! Dừng huấn luyện.\n",
      "2025-10-16 17:42:25 - [INFO] - Validation Accuracy: 0.7786\n",
      "2025-10-16 17:42:25 - [INFO] - Validation Macro-F1: 0.7787\n",
      "2025-10-16 17:42:25 - [INFO] - Classification Report trên tập validation:\n",
      "              precision    recall  f1-score   support\n",
      "\n",
      "   intrinsic     0.7754    0.7327    0.7534       490\n",
      "   extrinsic     0.7516    0.7484    0.7500       461\n",
      "          no     0.8075    0.8597    0.8328       449\n",
      "\n",
      "    accuracy                         0.7786      1400\n",
      "   macro avg     0.7782    0.7802    0.7787      1400\n",
      "weighted avg     0.7779    0.7786    0.7777      1400\n",
      "\n",
      "2025-10-16 17:42:25 - [WARNING] - Macro-F1 không cải thiện. Patience: 2/2\n",
      "2025-10-16 17:42:25 - [INFO] - Early stopping! Dừng huấn luyện.\n"
     ]
    }
   ],
   "source": [
    "best_macro_f1 = 0.0\n",
    "patience_counter = 0  # bien dem => early stopped khi f1 ko tang them => overfitting\n",
    "\n",
    "for epoch in range(cfg.EPOCHS):\n",
    "    logger.info(f\"--- Epoch {epoch + 1}/{cfg.EPOCHS} ---\")\n",
    "\n",
    "    avg_train_loss = train_one_epoch(\n",
    "        model,\n",
    "        train_loader,\n",
    "        loss_fn,\n",
    "        optimizer,\n",
    "        scheduler,\n",
    "        device,\n",
    "        epoch + 1,\n",
    "        cfg.EPOCHS,\n",
    "        gradient_accumulation_steps=gradient_accumulation_steps,\n",
    "    )\n",
    "    logger.info(f\"Loss trung bình trên tập train: {avg_train_loss:.4f}\")\n",
    "\n",
    "    current_lr = optimizer.param_groups[0][\"lr\"]\n",
    "    logger.info(\n",
    "        f\"Current Learning Rate: {current_lr:.2e}\"\n",
    "    )  # Dùng định dạng khoa học e.g., 8.00e-06\n",
    "\n",
    "    # Đánh giá trên tập validation\n",
    "    logger.info(\"Bắt đầu đánh giá trên tập validation...\")\n",
    "    val_labels, val_preds, avg_val_loss = evaluate(model, val_loader, loss_fn, device)\n",
    "\n",
    "    accuracy = accuracy_score(val_labels, val_preds)\n",
    "    macro_f1 = f1_score(val_labels, val_preds, average=\"macro\")\n",
    "\n",
    "    logger.info(f\"Validation Loss: {avg_val_loss:.4f}\")\n",
    "    logger.info(f\"Validation Accuracy: {accuracy:.4f}\")\n",
    "    logger.info(f\"Validation Macro-F1: {macro_f1:.4f}\")\n",
    "\n",
    "    # # In classification report chi tiết\n",
    "    # print(\"\\nClassification Report trên tập validation:\")\n",
    "    target_names = [cfg.ID2LABEL[i] for i in range(len(cfg.LABEL_MAP))]\n",
    "    # print(\n",
    "    #     classification_report(\n",
    "    #         val_labels, val_preds, target_names=target_names, digits=4\n",
    "    #     )\n",
    "    # )\n",
    "\n",
    "    # In classification report chi tiết (có thể giữ lại print hoặc log từng dòng)\n",
    "    report = classification_report(\n",
    "        val_labels,\n",
    "        val_preds,\n",
    "        target_names=[cfg.ID2LABEL[i] for i in range(len(cfg.LABEL_MAP))],\n",
    "        digits=4,\n",
    "    )\n",
    "    logger.info(f\"Classification Report trên tập validation:\\n{report}\")\n",
    "\n",
    "    # Lưu lại model tốt nhất dựa trên Macro-F1\n",
    "    if macro_f1 > best_macro_f1:\n",
    "        best_macro_f1 = macro_f1\n",
    "        patience_counter = 0  # << RESET BỘ ĐẾM\n",
    "\n",
    "        logger.info(\n",
    "            f\"🎉 Macro-F1 cải thiện. Đang lưu model tốt nhất vào '{cfg.MODEL_OUTPUT_DIR}'...\"\n",
    "        )\n",
    "        if not os.path.exists(cfg.MODEL_OUTPUT_DIR):\n",
    "            os.makedirs(cfg.MODEL_OUTPUT_DIR)\n",
    "\n",
    "        model.save_pretrained(cfg.MODEL_OUTPUT_DIR)\n",
    "        tokenizer.save_pretrained(cfg.MODEL_OUTPUT_DIR)\n",
    "        logger.info(\"Lưu model thành công.\")\n",
    "    else:\n",
    "        patience_counter += 1\n",
    "        logger.warning(\n",
    "            f\"Macro-F1 không cải thiện. Patience: {patience_counter}/{cfg.PATIENCE_LIMIT}\"\n",
    "        )\n",
    "        if patience_counter >= cfg.PATIENCE_LIMIT:\n",
    "            logger.info(\"Early stopping! Dừng huấn luyện.\")\n",
    "            break\n"
   ]
  },
  {
   "cell_type": "code",
   "execution_count": 24,
   "id": "1843cf36",
   "metadata": {},
   "outputs": [
    {
     "name": "stderr",
     "output_type": "stream",
     "text": [
      "2025-10-16 17:42:25 - [INFO] - 🏁 Quá trình huấn luyện hoàn tất.\n",
      "2025-10-16 17:42:25 - [INFO] - Model tốt nhất với Macro-F1 = 0.7854 đã được lưu tại '/home/guest/Projects/CS221/models/xlm-roberta-large-xnli-tuned'\n",
      "2025-10-16 17:42:25 - [INFO] - Model tốt nhất với Macro-F1 = 0.7854 đã được lưu tại '/home/guest/Projects/CS221/models/xlm-roberta-large-xnli-tuned'\n"
     ]
    }
   ],
   "source": [
    "logger.info(\"🏁 Quá trình huấn luyện hoàn tất.\")\n",
    "logger.info(\n",
    "    f\"Model tốt nhất với Macro-F1 = {best_macro_f1:.4f} đã được lưu tại '{cfg.MODEL_OUTPUT_DIR}'\"\n",
    ")\n"
   ]
  },
  {
   "cell_type": "markdown",
   "id": "451f5a5e",
   "metadata": {},
   "source": [
    "# Phân phối kết quả đúng/sai theo từng lớp"
   ]
  },
  {
   "cell_type": "code",
   "execution_count": 25,
   "id": "72fc9859",
   "metadata": {},
   "outputs": [
    {
     "name": "stderr",
     "output_type": "stream",
     "text": [
      "2025-10-16 17:42:25 - [INFO] - Phân phối kết quả trên từng lớp:\n",
      "  true_label  correct  incorrect  total correct_rate incorrect_rate\n",
      "0  extrinsic      345        116    461       74.84%         25.16%\n",
      "1  intrinsic      359        131    490       73.27%         26.73%\n",
      "2         no      386         63    449       85.97%         14.03%\n"
     ]
    },
    {
     "name": "stdout",
     "output_type": "stream",
     "text": [
      "Bảng phân phối kết quả trên từng lớp:\n"
     ]
    },
    {
     "data": {
      "text/html": [
       "<div>\n",
       "<style scoped>\n",
       "    .dataframe tbody tr th:only-of-type {\n",
       "        vertical-align: middle;\n",
       "    }\n",
       "\n",
       "    .dataframe tbody tr th {\n",
       "        vertical-align: top;\n",
       "    }\n",
       "\n",
       "    .dataframe thead th {\n",
       "        text-align: right;\n",
       "    }\n",
       "</style>\n",
       "<table border=\"1\" class=\"dataframe\">\n",
       "  <thead>\n",
       "    <tr style=\"text-align: right;\">\n",
       "      <th></th>\n",
       "      <th>true_label</th>\n",
       "      <th>correct</th>\n",
       "      <th>incorrect</th>\n",
       "      <th>total</th>\n",
       "      <th>correct_rate</th>\n",
       "      <th>incorrect_rate</th>\n",
       "    </tr>\n",
       "  </thead>\n",
       "  <tbody>\n",
       "    <tr>\n",
       "      <th>0</th>\n",
       "      <td>extrinsic</td>\n",
       "      <td>345</td>\n",
       "      <td>116</td>\n",
       "      <td>461</td>\n",
       "      <td>74.84%</td>\n",
       "      <td>25.16%</td>\n",
       "    </tr>\n",
       "    <tr>\n",
       "      <th>1</th>\n",
       "      <td>intrinsic</td>\n",
       "      <td>359</td>\n",
       "      <td>131</td>\n",
       "      <td>490</td>\n",
       "      <td>73.27%</td>\n",
       "      <td>26.73%</td>\n",
       "    </tr>\n",
       "    <tr>\n",
       "      <th>2</th>\n",
       "      <td>no</td>\n",
       "      <td>386</td>\n",
       "      <td>63</td>\n",
       "      <td>449</td>\n",
       "      <td>85.97%</td>\n",
       "      <td>14.03%</td>\n",
       "    </tr>\n",
       "  </tbody>\n",
       "</table>\n",
       "</div>"
      ],
      "text/plain": [
       "  true_label  correct  incorrect  total correct_rate incorrect_rate\n",
       "0  extrinsic      345        116    461       74.84%         25.16%\n",
       "1  intrinsic      359        131    490       73.27%         26.73%\n",
       "2         no      386         63    449       85.97%         14.03%"
      ]
     },
     "metadata": {},
     "output_type": "display_data"
    }
   ],
   "source": [
    "val_label_names = [cfg.ID2LABEL[label_id] for label_id in val_labels]\n",
    "pred_label_names = [cfg.ID2LABEL[pred_id] for pred_id in val_preds]\n",
    "evaluation_df = pd.DataFrame(\n",
    "    {\n",
    "        \"true_label\": val_label_names,\n",
    "        \"predicted_label\": pred_label_names,\n",
    "    }\n",
    ")\n",
    "evaluation_df[\"status\"] = evaluation_df.apply(\n",
    "    lambda row: (\n",
    "        \"correct\" if row[\"true_label\"] == row[\"predicted_label\"] else \"incorrect\"\n",
    "    ),\n",
    "    axis=1,\n",
    ")\n",
    "distribution_table = (\n",
    "    evaluation_df.groupby([\"true_label\", \"status\"])\n",
    "    .size()\n",
    "    .unstack(fill_value=0)\n",
    "    .rename_axis(None, axis=1)\n",
    "    .reset_index()\n",
    "    .sort_values(\"true_label\")\n",
    ")\n",
    "\n",
    "# 1. Thêm cột 'total' bằng cách cộng cột 'correct' và 'incorrect'\n",
    "distribution_table[\"total\"] = (\n",
    "    distribution_table[\"correct\"] + distribution_table[\"incorrect\"]\n",
    ")\n",
    "\n",
    "# 2. Thêm cột tỉ lệ đúng (correct_rate)\n",
    "distribution_table[\"correct_rate\"] = (\n",
    "    distribution_table[\"correct\"] / distribution_table[\"total\"]\n",
    ")\n",
    "\n",
    "# 3. Thêm cột tỉ lệ sai (incorrect_rate)\n",
    "distribution_table[\"incorrect_rate\"] = (\n",
    "    distribution_table[\"incorrect\"] / distribution_table[\"total\"]\n",
    ")\n",
    "\n",
    "# (Tùy chọn) Format các cột tỉ lệ thành dạng phần trăm cho dễ đọc\n",
    "distribution_table[\"correct_rate\"] = distribution_table[\"correct_rate\"].map(\n",
    "    \"{:.2%}\".format\n",
    ")\n",
    "distribution_table[\"incorrect_rate\"] = distribution_table[\"incorrect_rate\"].map(\n",
    "    \"{:.2%}\".format\n",
    ")\n",
    "\n",
    "# In ra bảng kết quả\n",
    "logger.info(f\"Phân phối kết quả trên từng lớp:\\n{distribution_table.to_string()}\")\n",
    "\n",
    "# Trong notebook, dùng display() sẽ cho bảng đẹp hơn\n",
    "print(\"Bảng phân phối kết quả trên từng lớp:\")\n",
    "display(distribution_table)\n"
   ]
  }
 ],
 "metadata": {
  "kernelspec": {
   "display_name": "cs221",
   "language": "python",
   "name": "python3"
  },
  "language_info": {
   "codemirror_mode": {
    "name": "ipython",
    "version": 3
   },
   "file_extension": ".py",
   "mimetype": "text/x-python",
   "name": "python",
   "nbconvert_exporter": "python",
   "pygments_lexer": "ipython3",
   "version": "3.12.11"
  }
 },
 "nbformat": 4,
 "nbformat_minor": 5
}
