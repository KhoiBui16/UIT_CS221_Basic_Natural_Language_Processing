{
 "cells": [
  {
   "cell_type": "markdown",
   "id": "c761c320",
   "metadata": {},
   "source": [
    "# CONFIGURATION"
   ]
  },
  {
   "cell_type": "code",
   "execution_count": null,
   "id": "a5f24b51",
   "metadata": {},
   "outputs": [],
   "source": [
    "# Cell [1] - ĐÃ CẬP NHẬT\n",
    "import os\n",
    "\n",
    "MODEL_NAMES = [\n",
    "    \"joeddav/xlm-roberta-large-xnli\",\n",
    "    \"microsoft/infoxlm-large\",\n",
    "    \"uitnlp/CafeBERT\",\n",
    "    \"FacebookAI/xlm-roberta-large\",\n",
    "    \"MoritzLaurer/DeBERTa-v3-large-mnli-fever-anli-ling-wanli\",\n",
    "    \"MoritzLaurer/ernie-m-large-mnli-xnli\",\n",
    "    \"microsoft/deberta-xlarge-mnli\",\n",
    "]\n",
    "\n",
    "\n",
    "class Config:\n",
    "    ROOT_DIR = os.getcwd()\n",
    "    DATA_DIR = os.path.join(ROOT_DIR, \"data\")\n",
    "\n",
    "    # --- THAY ĐỔI QUAN TRỌNG ---\n",
    "    # Trỏ đến file đã được xử lý bằng semantic search\n",
    "    TRAIN_FILE = os.path.join(DATA_DIR, \"vihallu-train.csv\")\n",
    "\n",
    "    TEST_FILE = os.path.join(DATA_DIR, \"vihallu-public-test.csv\")\n",
    "    SUBMISSION_DIR = os.path.join(ROOT_DIR, \"submission\")\n",
    "    SUBMISSION_CSV = \"submit.csv\"\n",
    "    SUBMISSION_ZIP = \"submit.zip\"\n",
    "\n",
    "    MODEL_NAME = MODEL_NAMES[2]\n",
    "    MODEL_OUTPUT_DIR = os.path.join(\n",
    "        ROOT_DIR, \"models\", f\"{MODEL_NAME.split('/')[-1]}-tuned\"\n",
    "    )\n",
    "\n",
    "    MAX_LENGTH = 512\n",
    "    RANDOM_STATE = 42\n",
    "    EPOCHS = 10\n",
    "    BATCH_SIZE = 1\n",
    "    GRADIENT_ACCUMULATION_STEPS = 16\n",
    "    SCHEDULER_TYPE = \"cosine\"\n",
    "    LEARNING_RATE = 8e-6  # Giảm LR một chút cho PET\n",
    "    WEIGHT_DECAY = 0.02\n",
    "    CLASSIFIER_DROPOUT = 0.05\n",
    "    EPSILON = 1e-8\n",
    "    PATIENCE_LIMIT = 2\n",
    "    TOTAL_STEP_SCALE = 0.1\n",
    "    LABEL_SMOOTHING = 0.05\n",
    "    VALIDATION_SPLIT_SIZE = 0.2\n",
    "\n",
    "    # Giữ nguyên mapping để đọc dữ liệu, nhưng sẽ được ánh xạ lại trong PET\n",
    "    LABEL_MAP = {\"intrinsic\": 0, \"extrinsic\": 1, \"no\": 2}\n",
    "    ID2LABEL = {v: k for k, v in LABEL_MAP.items()}\n",
    "    CLASS_WEIGHTS = [1.0393466963622866, 1.0114145354717525, 0.9531590413943355]\n",
    "\n",
    "\n",
    "cfg = Config()\n"
   ]
  },
  {
   "cell_type": "markdown",
   "id": "b01017e0",
   "metadata": {},
   "source": [
    "# LOGGER"
   ]
  },
  {
   "cell_type": "code",
   "execution_count": null,
   "id": "3d1e41e5",
   "metadata": {},
   "outputs": [],
   "source": [
    "import logging\n",
    "import os\n",
    "from datetime import datetime\n",
    "\n",
    "# Thư mục gốc để lưu tất cả các file log\n",
    "LOG_BASE_DIR = \"logs\"\n",
    "\n",
    "# Dùng một dictionary để lưu các logger đã tạo, tránh việc tạo lại và gây ra log trùng lặp\n",
    "_loggers = {}\n",
    "\n",
    "\n",
    "def setup_logger(model_name: str, log_level=logging.INFO):\n",
    "    \"\"\"\n",
    "    Thiết lập và trả về một logger để ghi log vào cả console và file.\n",
    "\n",
    "    - Mỗi model sẽ có một thư mục log riêng dựa trên `model_name`.\n",
    "    - Mỗi lần chạy sẽ tạo một file log mới có tên là timestamp (ví dụ: 2023-10-27_15-30-00.log).\n",
    "    - Đảm bảo không có log nào bị ghi đè.\n",
    "\n",
    "    Args:\n",
    "        model_name (str): Tên của model, dùng để tạo thư mục con. Ví dụ: 'xnli-large-tuned'.\n",
    "        log_level (int): Cấp độ log, mặc định là logging.INFO.\n",
    "\n",
    "    Returns:\n",
    "        logging.Logger: Instance của logger đã được cấu hình.\n",
    "    \"\"\"\n",
    "    # Nếu logger cho model này đã tồn tại, trả về nó ngay lập tức\n",
    "    if model_name in _loggers:\n",
    "        return _loggers[model_name]\n",
    "\n",
    "    # Xử lý tên model để an toàn khi tạo tên thư mục (thay thế \"/\")\n",
    "    safe_model_name = model_name.replace(\"/\", \"_\").replace(\"\\\\\", \"_\")\n",
    "    model_log_dir = os.path.join(LOG_BASE_DIR, safe_model_name)\n",
    "    os.makedirs(model_log_dir, exist_ok=True)\n",
    "\n",
    "    # Tạo logger\n",
    "    logger = logging.getLogger(safe_model_name)\n",
    "    logger.setLevel(log_level)\n",
    "\n",
    "    # Ngăn không cho log lan truyền đến root logger để tránh in ra console 2 lần\n",
    "    logger.propagate = False\n",
    "\n",
    "    # Định dạng cho log message\n",
    "    formatter = logging.Formatter(\n",
    "        \"%(asctime)s - [%(levelname)s] - %(message)s\", datefmt=\"%Y-%m-%d %H:%M:%S\"\n",
    "    )\n",
    "\n",
    "    # Tạo File Handler để ghi log ra file\n",
    "    timestamp = datetime.now().strftime(\"%Y-%m-%d_%H-%M-%S\")\n",
    "    log_file_path = os.path.join(model_log_dir, f\"{timestamp}.log\")\n",
    "\n",
    "    file_handler = logging.FileHandler(log_file_path, encoding=\"utf-8\")\n",
    "    file_handler.setLevel(log_level)\n",
    "    file_handler.setFormatter(formatter)\n",
    "\n",
    "    # Tạo Console (Stream) Handler để in log ra màn hình\n",
    "    console_handler = logging.StreamHandler()\n",
    "    console_handler.setLevel(log_level)\n",
    "    console_handler.setFormatter(formatter)\n",
    "\n",
    "    # Thêm các handler vào logger\n",
    "    logger.addHandler(file_handler)\n",
    "    logger.addHandler(console_handler)\n",
    "\n",
    "    # Lưu logger vào cache\n",
    "    _loggers[model_name] = logger\n",
    "\n",
    "    logger.info(\n",
    "        f\"Logger cho '{safe_model_name}' đã được khởi tạo. File log: {log_file_path}\"\n",
    "    )\n",
    "\n",
    "    return logger\n"
   ]
  },
  {
   "cell_type": "markdown",
   "id": "148d0474",
   "metadata": {},
   "source": [
    "## Setup logger"
   ]
  },
  {
   "cell_type": "code",
   "execution_count": 3,
   "id": "16eac9f6",
   "metadata": {},
   "outputs": [
    {
     "name": "stderr",
     "output_type": "stream",
     "text": [
      "2025-10-16 21:44:15 - [INFO] - Logger cho 'uitnlp_CafeBERT-training' đã được khởi tạo. File log: logs/uitnlp_CafeBERT-training/2025-10-16_21-44-15.log\n",
      "2025-10-16 21:44:15 - [INFO] - Logger initialized for uitnlp/CafeBERT\n",
      "2025-10-16 21:44:15 - [INFO] - ============================================================\n",
      "2025-10-16 21:44:15 - [INFO] - 🚀 STARTING TRAINING SESSION\n",
      "2025-10-16 21:44:15 - [INFO] - ============================================================\n",
      "2025-10-16 21:44:15 - [INFO] - ROOT_DIR: /home/guest/Projects/CS221\n",
      "2025-10-16 21:44:15 - [INFO] - DATA_DIR: /home/guest/Projects/CS221/data\n",
      "2025-10-16 21:44:15 - [INFO] - TRAIN_FILE: /home/guest/Projects/CS221/data/vihallu-train.csv\n",
      "2025-10-16 21:44:15 - [INFO] - TEST_FILE: /home/guest/Projects/CS221/data/vihallu-public-test.csv\n",
      "2025-10-16 21:44:15 - [INFO] - SUBMISSION_DIR: /home/guest/Projects/CS221/submission\n",
      "2025-10-16 21:44:15 - [INFO] - SUBMISSION_CSV: submit.csv\n",
      "2025-10-16 21:44:15 - [INFO] - SUBMISSION_ZIP: submit.zip\n",
      "2025-10-16 21:44:15 - [INFO] - MODEL_NAME: uitnlp/CafeBERT\n",
      "2025-10-16 21:44:15 - [INFO] - MODEL_OUTPUT_DIR: /home/guest/Projects/CS221/models/CafeBERT-tuned\n",
      "2025-10-16 21:44:15 - [INFO] - MAX_LENGTH: 512\n",
      "2025-10-16 21:44:15 - [INFO] - RANDOM_STATE: 42\n",
      "2025-10-16 21:44:15 - [INFO] - EPOCHS: 10\n",
      "2025-10-16 21:44:15 - [INFO] - BATCH_SIZE: 1\n",
      "2025-10-16 21:44:15 - [INFO] - GRADIENT_ACCUMULATION_STEPS: 16\n",
      "2025-10-16 21:44:15 - [INFO] - SCHEDULER_TYPE: cosine\n",
      "2025-10-16 21:44:15 - [INFO] - LEARNING_RATE: 8e-06\n",
      "2025-10-16 21:44:15 - [INFO] - WEIGHT_DECAY: 0.02\n",
      "2025-10-16 21:44:15 - [INFO] - CLASSIFIER_DROPOUT: 0.05\n",
      "2025-10-16 21:44:15 - [INFO] - EPSILON: 1e-08\n",
      "2025-10-16 21:44:15 - [INFO] - PATIENCE_LIMIT: 2\n",
      "2025-10-16 21:44:15 - [INFO] - TOTAL_STEP_SCALE: 0.1\n",
      "2025-10-16 21:44:15 - [INFO] - LABEL_SMOOTHING: 0.05\n",
      "2025-10-16 21:44:15 - [INFO] - VALIDATION_SPLIT_SIZE: 0.2\n",
      "2025-10-16 21:44:15 - [INFO] - LABEL_MAP: {'intrinsic': 0, 'extrinsic': 1, 'no': 2}\n",
      "2025-10-16 21:44:15 - [INFO] - ID2LABEL: {0: 'intrinsic', 1: 'extrinsic', 2: 'no'}\n",
      "2025-10-16 21:44:15 - [INFO] - CLASS_WEIGHTS: [1.0393466963622866, 1.0114145354717525, 0.9531590413943355]\n",
      "2025-10-16 21:44:15 - [INFO] - ============================================================\n",
      "2025-10-16 21:44:15 - [INFO] - Logger initialized for uitnlp/CafeBERT\n",
      "2025-10-16 21:44:15 - [INFO] - ============================================================\n",
      "2025-10-16 21:44:15 - [INFO] - 🚀 STARTING TRAINING SESSION\n",
      "2025-10-16 21:44:15 - [INFO] - ============================================================\n",
      "2025-10-16 21:44:15 - [INFO] - ROOT_DIR: /home/guest/Projects/CS221\n",
      "2025-10-16 21:44:15 - [INFO] - DATA_DIR: /home/guest/Projects/CS221/data\n",
      "2025-10-16 21:44:15 - [INFO] - TRAIN_FILE: /home/guest/Projects/CS221/data/vihallu-train.csv\n",
      "2025-10-16 21:44:15 - [INFO] - TEST_FILE: /home/guest/Projects/CS221/data/vihallu-public-test.csv\n",
      "2025-10-16 21:44:15 - [INFO] - SUBMISSION_DIR: /home/guest/Projects/CS221/submission\n",
      "2025-10-16 21:44:15 - [INFO] - SUBMISSION_CSV: submit.csv\n",
      "2025-10-16 21:44:15 - [INFO] - SUBMISSION_ZIP: submit.zip\n",
      "2025-10-16 21:44:15 - [INFO] - MODEL_NAME: uitnlp/CafeBERT\n",
      "2025-10-16 21:44:15 - [INFO] - MODEL_OUTPUT_DIR: /home/guest/Projects/CS221/models/CafeBERT-tuned\n",
      "2025-10-16 21:44:15 - [INFO] - MAX_LENGTH: 512\n",
      "2025-10-16 21:44:15 - [INFO] - RANDOM_STATE: 42\n",
      "2025-10-16 21:44:15 - [INFO] - EPOCHS: 10\n",
      "2025-10-16 21:44:15 - [INFO] - BATCH_SIZE: 1\n",
      "2025-10-16 21:44:15 - [INFO] - GRADIENT_ACCUMULATION_STEPS: 16\n",
      "2025-10-16 21:44:15 - [INFO] - SCHEDULER_TYPE: cosine\n",
      "2025-10-16 21:44:15 - [INFO] - LEARNING_RATE: 8e-06\n",
      "2025-10-16 21:44:15 - [INFO] - WEIGHT_DECAY: 0.02\n",
      "2025-10-16 21:44:15 - [INFO] - CLASSIFIER_DROPOUT: 0.05\n",
      "2025-10-16 21:44:15 - [INFO] - EPSILON: 1e-08\n",
      "2025-10-16 21:44:15 - [INFO] - PATIENCE_LIMIT: 2\n",
      "2025-10-16 21:44:15 - [INFO] - TOTAL_STEP_SCALE: 0.1\n",
      "2025-10-16 21:44:15 - [INFO] - LABEL_SMOOTHING: 0.05\n",
      "2025-10-16 21:44:15 - [INFO] - VALIDATION_SPLIT_SIZE: 0.2\n",
      "2025-10-16 21:44:15 - [INFO] - LABEL_MAP: {'intrinsic': 0, 'extrinsic': 1, 'no': 2}\n",
      "2025-10-16 21:44:15 - [INFO] - ID2LABEL: {0: 'intrinsic', 1: 'extrinsic', 2: 'no'}\n",
      "2025-10-16 21:44:15 - [INFO] - CLASS_WEIGHTS: [1.0393466963622866, 1.0114145354717525, 0.9531590413943355]\n",
      "2025-10-16 21:44:15 - [INFO] - ============================================================\n"
     ]
    }
   ],
   "source": [
    "logger = setup_logger(f\"{cfg.MODEL_NAME}-training\")\n",
    "logger.info(f\"Logger initialized for {cfg.MODEL_NAME}\")\n",
    "\n",
    "logger.info(\"=\" * 60)\n",
    "logger.info(\"🚀 STARTING TRAINING SESSION\")\n",
    "logger.info(\"=\" * 60)\n",
    "for key, value in Config.__dict__.items():\n",
    "    if not key.startswith(\"__\") and not callable(value):\n",
    "        logger.info(f\"{key}: {value}\")\n",
    "logger.info(\"=\" * 60)\n"
   ]
  },
  {
   "cell_type": "markdown",
   "id": "fbbc1878",
   "metadata": {},
   "source": [
    "## Prepare data"
   ]
  },
  {
   "cell_type": "code",
   "execution_count": null,
   "id": "efcfa808",
   "metadata": {},
   "outputs": [],
   "source": [
    "from sklearn.model_selection import train_test_split\n",
    "\n",
    "\n",
    "def prepare_data(config, logger=None):\n",
    "    df = pd.read_csv(config.TRAIN_FILE)\n",
    "    print(f\"✅ Đọc thành công {len(df)} mẫu từ file đã xử lý: {config.TRAIN_FILE}\")\n",
    "\n",
    "    # Tạo 2 cột premise và hypothesis từ ngữ cảnh (context)\n",
    "    df[\"premise\"] = (\n",
    "        \"Câu hỏi: \"\n",
    "        + df[\"prompt\"].astype(str)\n",
    "        + \" Ngữ cảnh: \"\n",
    "        + df[\"context\"].astype(str)\n",
    "    )\n",
    "    df[\"hypothesis\"] = df[\"response\"].astype(str)\n",
    "\n",
    "    df[\"label_id\"] = df[\"label\"].map(config.LABEL_MAP)\n",
    "    df.dropna(subset=[\"label_id\"], inplace=True)\n",
    "    df[\"label_id\"] = df[\"label_id\"].astype(int)\n",
    "\n",
    "    train_df, val_df = train_test_split(\n",
    "        df,\n",
    "        test_size=config.VALIDATION_SPLIT_SIZE,\n",
    "        random_state=config.RANDOM_STATE,\n",
    "        stratify=df[\"label_id\"],\n",
    "    )\n",
    "\n",
    "    if logger:\n",
    "        logger.info(\n",
    "            f\"Chia dữ liệu: {len(train_df)} mẫu train, {len(val_df)} mẫu validation.\"\n",
    "        )\n",
    "\n",
    "    # --- PHẦN NÂNG CẤP: LƯU FILE RA THƯ MỤC DATA ---\n",
    "    # Tạo thư mục 'processed' trong 'data' nếu chưa có\n",
    "    processed_data_dir = os.path.join(config.DATA_DIR, \"processed\")\n",
    "    os.makedirs(processed_data_dir, exist_ok=True)\n",
    "\n",
    "    # Định nghĩa đường dẫn file\n",
    "    train_output_path = os.path.join(processed_data_dir, \"train_split.csv\")\n",
    "    val_output_path = os.path.join(processed_data_dir, \"validation_split.csv\")\n",
    "\n",
    "    # Lưu các DataFrame\n",
    "    train_df.to_csv(train_output_path, index=False, encoding=\"utf-8-sig\")\n",
    "    val_df.to_csv(val_output_path, index=False, encoding=\"utf-8-sig\")\n",
    "\n",
    "    print(f\"✅ Đã lưu tập train vào: {train_output_path}\")\n",
    "    print(f\"✅ Đã lưu tập validation vào: {val_output_path}\")\n",
    "    # --- KẾT THÚC PHẦN NÂNG CẤP ---\n",
    "\n",
    "    return train_df, val_df\n"
   ]
  },
  {
   "cell_type": "markdown",
   "id": "c3844963",
   "metadata": {},
   "source": [
    "# Model (Cập nhật cho Masked Language Modeling)"
   ]
  },
  {
   "cell_type": "code",
   "execution_count": 5,
   "id": "e80ebeb2",
   "metadata": {},
   "outputs": [],
   "source": [
    "from transformers import (\n",
    "    AutoConfig,\n",
    "    AutoTokenizer,\n",
    "    AutoModelForMaskedLM,\n",
    ")  # <-- THAY ĐỔI Ở ĐÂY\n",
    "\n",
    "\n",
    "def get_model_and_tokenizer(config):\n",
    "    \"\"\"Tải pre-trained model và tokenizer cho Masked LM.\"\"\"\n",
    "    print(f\"Đang tải model: {config.MODEL_NAME}\")\n",
    "    tokenizer = AutoTokenizer.from_pretrained(config.MODEL_NAME)\n",
    "\n",
    "    cfg_model = AutoConfig.from_pretrained(config.MODEL_NAME, trust_remote_code=True)\n",
    "    print(f\"Model config: {cfg_model}\")\n",
    "\n",
    "    # --- THAY ĐỔI QUAN TRỌNG ---\n",
    "    # Chuyển từ SequenceClassification sang MaskedLM\n",
    "    model = AutoModelForMaskedLM.from_pretrained(\n",
    "        config.MODEL_NAME,\n",
    "        config=cfg_model,\n",
    "    )\n",
    "    # -------------------------\n",
    "\n",
    "    return model, tokenizer\n"
   ]
  },
  {
   "cell_type": "markdown",
   "id": "89aed701",
   "metadata": {},
   "source": [
    "# Thiết lập Pattern & Verbalizer cho PET"
   ]
  },
  {
   "cell_type": "code",
   "execution_count": 6,
   "id": "b8723a89",
   "metadata": {},
   "outputs": [],
   "source": [
    "import torch\n",
    "\n",
    "\n",
    "def setup_pet_components(tokenizer, logger):\n",
    "    \"\"\"\n",
    "    Định nghĩa Pattern và Verbalizer cho phương pháp PET.\n",
    "    \"\"\"\n",
    "    # 1. Định nghĩa Pattern (Mẫu câu)\n",
    "    # --- THAY ĐỔI QUAN TRỌNG: Đưa {mask} lên đầu ---\n",
    "    pattern = '{mask}! Dựa trên thông tin: \"{premise}\", câu trả lời \"{hypothesis}\" có đúng không?'\n",
    "    # Bạn cũng có thể thử các pattern khác như:\n",
    "    # pattern = \"Phán quyết: {mask}. Bằng chứng: \\\"{premise}\\\". Giả thuyết: \\\"{hypothesis}\\\".\"\n",
    "    # ------------------------------------------------\n",
    "\n",
    "    logger.info(f\"Sử dụng Pattern (đã sửa lỗi): {pattern}\")\n",
    "\n",
    "    # 2. Định nghĩa Verbalizer (Giữ nguyên)\n",
    "    verbalizer = {\n",
    "        2: \"chuẩn\",  # no Thay \"đúng\" bằng \"chuẩn\" hoặc \"chính xác\"\n",
    "        0: \"trật\",  # intrinsic\n",
    "        1: \"khác\",  # extrinsic\n",
    "    }\n",
    "    logger.info(f\"Sử dụng Verbalizer: {verbalizer}\")\n",
    "\n",
    "    # 3. Lấy token ID cho các từ trong verbalizer\n",
    "    verbalizer_token_ids = {\n",
    "        label_id: tokenizer.convert_tokens_to_ids(verb)\n",
    "        for label_id, verb in verbalizer.items()\n",
    "    }\n",
    "\n",
    "    # Kiểm tra xem có từ nào bị tách thành nhiều sub-token không\n",
    "    for label_id, verb in verbalizer.items():\n",
    "        tokens = tokenizer.tokenize(verb)\n",
    "        if len(tokens) > 1:\n",
    "            logger.warning(f\"⚠️ Từ '{verb}' bị tách thành nhiều token: {tokens}.\")\n",
    "        else:\n",
    "            logger.info(\n",
    "                f\"✅ Từ '{verb}' (ID: {verbalizer_token_ids[label_id]}) là token đơn lẻ.\"\n",
    "            )\n",
    "\n",
    "    return pattern, verbalizer, verbalizer_token_ids\n"
   ]
  },
  {
   "cell_type": "markdown",
   "id": "29c3b202",
   "metadata": {},
   "source": [
    "# Hallucination Dataset (Cập nhật cho PET)"
   ]
  },
  {
   "cell_type": "code",
   "execution_count": 7,
   "id": "ce606de4",
   "metadata": {},
   "outputs": [],
   "source": [
    "import torch\n",
    "from torch.utils.data import Dataset\n",
    "\n",
    "\n",
    "class HallucinationDataset(Dataset):\n",
    "    def __init__(self, premises, hypotheses, labels, tokenizer, max_len, pattern):\n",
    "        self.premises = premises\n",
    "        self.hypotheses = hypotheses\n",
    "        self.labels = labels\n",
    "        self.tokenizer = tokenizer\n",
    "        self.max_len = max_len\n",
    "        self.pattern = pattern\n",
    "\n",
    "    def __len__(self):\n",
    "        return len(self.labels)\n",
    "\n",
    "    def __getitem__(self, idx):\n",
    "        premise = self.premises[idx]\n",
    "        hypothesis = self.hypotheses[idx]\n",
    "        label = self.labels[idx]\n",
    "\n",
    "        # 1. Tạo câu prompt hoàn chỉnh bằng cách điền premise và hypothesis vào pattern\n",
    "        prompt_text = self.pattern.format(\n",
    "            premise=premise, hypothesis=hypothesis, mask=self.tokenizer.mask_token\n",
    "        )\n",
    "\n",
    "        # 2. Tokenize câu prompt đã tạo\n",
    "        encoding = self.tokenizer(\n",
    "            prompt_text,\n",
    "            add_special_tokens=True,\n",
    "            max_length=self.max_len,\n",
    "            padding=False,\n",
    "            truncation=True,\n",
    "            return_attention_mask=True,\n",
    "            return_token_type_ids=False,\n",
    "        )\n",
    "\n",
    "        return {\n",
    "            \"input_ids\": encoding[\"input_ids\"],\n",
    "            \"attention_mask\": encoding[\"attention_mask\"],\n",
    "            \"labels\": label,  # Trả về số nguyên để DataCollator xử lý\n",
    "        }\n"
   ]
  },
  {
   "cell_type": "markdown",
   "id": "21114019",
   "metadata": {},
   "source": [
    "# Training"
   ]
  },
  {
   "cell_type": "code",
   "execution_count": 8,
   "id": "32b10adb",
   "metadata": {},
   "outputs": [],
   "source": [
    "import os\n",
    "import math\n",
    "import torch\n",
    "import numpy as np\n",
    "import pandas as pd\n",
    "from dotenv import load_dotenv\n",
    "from tqdm.auto import tqdm\n",
    "from torch.optim import AdamW\n",
    "from huggingface_hub import login\n",
    "from transformers import get_scheduler\n",
    "from torch.utils.data import DataLoader\n",
    "from tqdm.contrib.logging import logging_redirect_tqdm\n",
    "from sklearn.utils.class_weight import compute_class_weight\n",
    "from sklearn.metrics import f1_score, accuracy_score, classification_report\n",
    "from functools import partial\n"
   ]
  },
  {
   "cell_type": "markdown",
   "id": "d09e6336",
   "metadata": {},
   "source": [
    "## Train & Evaluate Functions (Cập nhật cho PET)"
   ]
  },
  {
   "cell_type": "code",
   "execution_count": 9,
   "id": "b1154314",
   "metadata": {},
   "outputs": [],
   "source": [
    "def train_one_epoch(\n",
    "    model,\n",
    "    data_loader,\n",
    "    loss_fn,\n",
    "    optimizer,\n",
    "    scheduler,\n",
    "    device,\n",
    "    tokenizer,\n",
    "    verbalizer_ids_tensor,\n",
    "    label_map,\n",
    "    epoch=None,\n",
    "    total_epochs=None,\n",
    "    gradient_accumulation_steps=1,\n",
    "):\n",
    "    model.train()\n",
    "    total_loss = 0\n",
    "    desc = f\"Train\" if epoch is None else f\"Epoch {epoch}/{total_epochs}\"\n",
    "    progress_bar = tqdm(\n",
    "        data_loader, desc=desc, leave=False, dynamic_ncols=True, mininterval=0.5\n",
    "    )\n",
    "\n",
    "    optimizer.zero_grad()\n",
    "    steps_in_epoch = len(data_loader)\n",
    "    with logging_redirect_tqdm():\n",
    "        for step, batch in enumerate(progress_bar):\n",
    "            input_ids = batch[\"input_ids\"].to(device)\n",
    "            attention_mask = batch[\"attention_mask\"].to(device)\n",
    "            original_labels = batch[\"labels\"]\n",
    "            target_labels = torch.tensor(\n",
    "                [label_map[l.item()] for l in original_labels], dtype=torch.long\n",
    "            ).to(device)\n",
    "\n",
    "            outputs = model(input_ids, attention_mask=attention_mask)\n",
    "            logits = outputs.logits\n",
    "\n",
    "            mask_token_indices = (input_ids == tokenizer.mask_token_id).nonzero(\n",
    "                as_tuple=True\n",
    "            )[1]\n",
    "            mask_logits = logits[torch.arange(logits.size(0)), mask_token_indices]\n",
    "            verbalizer_logits = mask_logits[:, verbalizer_ids_tensor]\n",
    "\n",
    "            loss = loss_fn(verbalizer_logits, target_labels)\n",
    "            total_loss += loss.item()\n",
    "            scaled_loss = loss / gradient_accumulation_steps\n",
    "            scaled_loss.backward()\n",
    "\n",
    "            if (step + 1) % gradient_accumulation_steps == 0 or (\n",
    "                step + 1\n",
    "            ) == steps_in_epoch:\n",
    "                torch.nn.utils.clip_grad_norm_(model.parameters(), max_norm=1.0)\n",
    "                optimizer.step()\n",
    "                scheduler.step()\n",
    "                optimizer.zero_grad()\n",
    "\n",
    "            progress_bar.set_postfix({\"loss\": f\"{loss.item():.4f}\"})\n",
    "\n",
    "    return total_loss / len(data_loader)\n"
   ]
  },
  {
   "cell_type": "markdown",
   "id": "4b3398cf",
   "metadata": {},
   "source": [
    "## Evaluate"
   ]
  },
  {
   "cell_type": "code",
   "execution_count": 10,
   "id": "194e5a82",
   "metadata": {},
   "outputs": [],
   "source": [
    "def evaluate(\n",
    "    model,\n",
    "    data_loader,\n",
    "    loss_fn,\n",
    "    device,\n",
    "    tokenizer,\n",
    "    verbalizer_ids_tensor,\n",
    "    label_map,\n",
    "    id2label_map,\n",
    "):\n",
    "    model.eval()\n",
    "    all_preds = []\n",
    "    all_labels = []\n",
    "    total_val_loss = 0\n",
    "    progress_bar = tqdm(data_loader, desc=\"Evaluating\", leave=False, dynamic_ncols=True)\n",
    "\n",
    "    with torch.no_grad(), logging_redirect_tqdm():\n",
    "        for batch in progress_bar:\n",
    "            input_ids = batch[\"input_ids\"].to(device)\n",
    "            attention_mask = batch[\"attention_mask\"].to(device)\n",
    "            original_labels = batch[\"labels\"]\n",
    "            target_labels = torch.tensor(\n",
    "                [label_map[l.item()] for l in original_labels], dtype=torch.long\n",
    "            ).to(device)\n",
    "\n",
    "            outputs = model(input_ids, attention_mask=attention_mask)\n",
    "            logits = outputs.logits\n",
    "\n",
    "            mask_token_indices = (input_ids == tokenizer.mask_token_id).nonzero(\n",
    "                as_tuple=True\n",
    "            )[1]\n",
    "            mask_logits = logits[torch.arange(logits.size(0)), mask_token_indices]\n",
    "            verbalizer_logits = mask_logits[:, verbalizer_ids_tensor]\n",
    "\n",
    "            loss = loss_fn(verbalizer_logits, target_labels)\n",
    "            total_val_loss += loss.item()\n",
    "\n",
    "            preds_indices = torch.argmax(verbalizer_logits, dim=-1)\n",
    "            original_preds = [id2label_map[p.item()] for p in preds_indices]\n",
    "\n",
    "            all_preds.extend(original_preds)\n",
    "            all_labels.extend(original_labels.cpu().numpy())\n",
    "\n",
    "    avg_val_loss = total_val_loss / len(data_loader)\n",
    "    return all_labels, all_preds, avg_val_loss\n"
   ]
  },
  {
   "cell_type": "markdown",
   "id": "d08cfc13",
   "metadata": {},
   "source": [
    "# Main"
   ]
  },
  {
   "cell_type": "code",
   "execution_count": 11,
   "id": "7a07ea24",
   "metadata": {},
   "outputs": [
    {
     "name": "stdout",
     "output_type": "stream",
     "text": [
      "dotenv_path: /home/guest/Projects/CS221/envs/.env\n"
     ]
    }
   ],
   "source": [
    "# Tải biến môi trường từ file envs/.env.\n",
    "dotenv_path = os.path.join(os.getcwd(), \"envs\", \".env\")\n",
    "load_dotenv(dotenv_path)\n",
    "print(f\"dotenv_path: {dotenv_path}\")\n"
   ]
  },
  {
   "cell_type": "code",
   "execution_count": 12,
   "id": "c48a9b39",
   "metadata": {},
   "outputs": [
    {
     "name": "stdout",
     "output_type": "stream",
     "text": [
      "INFO: Tìm thấy HUGGING_FACE_TOKEN. Đang đăng nhập...\n",
      "INFO: Đăng nhập Hugging Face thành công.\n"
     ]
    }
   ],
   "source": [
    "# lấy HF token để login\n",
    "hf_token = os.getenv(\"HUGGING_FACE_TOKEN\")\n",
    "\n",
    "if hf_token:\n",
    "    print(\"INFO: Tìm thấy HUGGING_FACE_TOKEN. Đang đăng nhập...\")\n",
    "    login(token=hf_token)\n",
    "    print(\"INFO: Đăng nhập Hugging Face thành công.\")\n",
    "else:\n",
    "    print(\n",
    "        \"WARNING: Không tìm thấy HUGGING_FACE_TOKEN trong file .env. Một số model có thể yêu cầu đăng nhập.\"\n",
    "    )\n"
   ]
  },
  {
   "cell_type": "markdown",
   "id": "950b94e0",
   "metadata": {},
   "source": [
    "# ==============================================================================\n",
    "# 1. Chuẩn bị dữ liệu\n",
    "# =============================================================================="
   ]
  },
  {
   "cell_type": "code",
   "execution_count": 13,
   "id": "20c739cd",
   "metadata": {},
   "outputs": [
    {
     "name": "stderr",
     "output_type": "stream",
     "text": [
      "2025-10-16 21:44:18 - [INFO] - Bắt đầu pipeline huấn luyện PET.\n",
      "2025-10-16 21:44:18 - [INFO] - Bước 1: Chuẩn bị dữ liệu...\n",
      "2025-10-16 21:44:18 - [INFO] - Chia dữ liệu: 5600 mẫu train, 1400 mẫu validation.\n"
     ]
    },
    {
     "name": "stdout",
     "output_type": "stream",
     "text": [
      "✅ Đọc thành công 7000 mẫu từ file đã xử lý: /home/guest/Projects/CS221/data/vihallu-train.csv\n",
      "✅ Đã lưu tập train vào: /home/guest/Projects/CS221/data/processed/train_split.csv\n",
      "✅ Đã lưu tập validation vào: /home/guest/Projects/CS221/data/processed/validation_split.csv\n"
     ]
    }
   ],
   "source": [
    "logger.info(\"Bắt đầu pipeline huấn luyện PET.\")\n",
    "logger.info(\"Bước 1: Chuẩn bị dữ liệu...\")\n",
    "train_df, val_df = prepare_data(cfg, logger=logger)\n"
   ]
  },
  {
   "cell_type": "markdown",
   "id": "a4b8a1b7",
   "metadata": {},
   "source": [
    "# ==============================================================================\n",
    "# 2. Tải model, tokenizer và thiết lập PET\n",
    "# =============================================================================="
   ]
  },
  {
   "cell_type": "code",
   "execution_count": 14,
   "id": "68f4f00b",
   "metadata": {},
   "outputs": [
    {
     "name": "stderr",
     "output_type": "stream",
     "text": [
      "2025-10-16 21:44:18 - [INFO] - Bước 2: Tải model 'uitnlp/CafeBERT' và tokenizer...\n"
     ]
    },
    {
     "name": "stdout",
     "output_type": "stream",
     "text": [
      "Đang tải model: uitnlp/CafeBERT\n"
     ]
    },
    {
     "name": "stderr",
     "output_type": "stream",
     "text": [
      "2025-10-16 21:44:20 - [INFO] - Thiết lập các thành phần cho PET...\n",
      "2025-10-16 21:44:20 - [INFO] - Sử dụng Pattern (đã sửa lỗi): {mask}! Dựa trên thông tin: \"{premise}\", câu trả lời \"{hypothesis}\" có đúng không?\n",
      "2025-10-16 21:44:20 - [INFO] - Sử dụng Verbalizer: {2: 'chuẩn', 0: 'trật', 1: 'khác'}\n",
      "2025-10-16 21:44:20 - [INFO] - ✅ Từ 'chuẩn' (ID: 3) là token đơn lẻ.\n",
      "2025-10-16 21:44:20 - [INFO] - ✅ Từ 'trật' (ID: 3) là token đơn lẻ.\n",
      "2025-10-16 21:44:20 - [INFO] - ✅ Từ 'khác' (ID: 3) là token đơn lẻ.\n"
     ]
    },
    {
     "name": "stdout",
     "output_type": "stream",
     "text": [
      "Model config: XLMRobertaConfig {\n",
      "  \"architectures\": [\n",
      "    \"XLMRobertaForMaskedLM\"\n",
      "  ],\n",
      "  \"attention_probs_dropout_prob\": 0.1,\n",
      "  \"bos_token_id\": 0,\n",
      "  \"classifier_dropout\": null,\n",
      "  \"dtype\": \"float32\",\n",
      "  \"eos_token_id\": 2,\n",
      "  \"hidden_act\": \"gelu\",\n",
      "  \"hidden_dropout_prob\": 0.1,\n",
      "  \"hidden_size\": 1024,\n",
      "  \"initializer_range\": 0.02,\n",
      "  \"intermediate_size\": 4096,\n",
      "  \"layer_norm_eps\": 1e-05,\n",
      "  \"max_position_embeddings\": 514,\n",
      "  \"model_type\": \"xlm-roberta\",\n",
      "  \"num_attention_heads\": 16,\n",
      "  \"num_hidden_layers\": 24,\n",
      "  \"output_past\": true,\n",
      "  \"pad_token_id\": 1,\n",
      "  \"position_embedding_type\": \"absolute\",\n",
      "  \"transformers_version\": \"4.57.1\",\n",
      "  \"type_vocab_size\": 1,\n",
      "  \"use_cache\": true,\n",
      "  \"vocab_size\": 250002\n",
      "}\n",
      "\n"
     ]
    }
   ],
   "source": [
    "logger.info(f\"Bước 2: Tải model '{cfg.MODEL_NAME}' và tokenizer...\")\n",
    "model, tokenizer = get_model_and_tokenizer(cfg)\n",
    "\n",
    "logger.info(f\"Thiết lập các thành phần cho PET...\")\n",
    "pattern, verbalizer, verbalizer_token_ids = setup_pet_components(tokenizer, logger)\n",
    "\n",
    "device = torch.device(\"cuda\" if torch.cuda.is_available() else \"cpu\")\n",
    "model.to(device)\n",
    "\n",
    "verbalizer_ids_tensor = torch.tensor(\n",
    "    [verbalizer_token_ids[i] for i in sorted(verbalizer_token_ids.keys())]\n",
    ").to(device)\n",
    "\n",
    "original_label_to_verbalizer_idx = {\n",
    "    label: i for i, label in enumerate(sorted(verbalizer_token_ids.keys()))\n",
    "}\n",
    "verbalizer_idx_to_original_label = {\n",
    "    i: label for i, label in enumerate(sorted(verbalizer_token_ids.keys()))\n",
    "}\n"
   ]
  },
  {
   "cell_type": "markdown",
   "id": "53ffd869",
   "metadata": {},
   "source": [
    "# ==============================================================================\n",
    "# 3. Tạo Dataset và DataLoader\n",
    "# =============================================================================="
   ]
  },
  {
   "cell_type": "code",
   "execution_count": 15,
   "id": "9803da5c",
   "metadata": {},
   "outputs": [
    {
     "name": "stderr",
     "output_type": "stream",
     "text": [
      "2025-10-16 21:44:21 - [INFO] - Bước 3: Tạo Dataset và DataLoader...\n",
      "2025-10-16 21:44:21 - [INFO] - ✅ Tạo DataLoader thành công với DataCollatorWithPadding chuẩn!\n",
      "2025-10-16 21:44:21 - [INFO] - ✅ Tạo DataLoader thành công với DataCollatorWithPadding chuẩn!\n"
     ]
    }
   ],
   "source": [
    "from torch.utils.data import DataLoader\n",
    "from transformers import DataCollatorWithPadding\n",
    "\n",
    "logger.info(\"Bước 3: Tạo Dataset và DataLoader...\")\n",
    "train_dataset = HallucinationDataset(\n",
    "    premises=train_df[\"premise\"].to_list(),\n",
    "    hypotheses=train_df[\"hypothesis\"].to_list(),\n",
    "    labels=train_df[\"label_id\"].to_list(),\n",
    "    tokenizer=tokenizer,\n",
    "    max_len=cfg.MAX_LENGTH,\n",
    "    pattern=pattern,  # <-- Truyền pattern vào\n",
    ")\n",
    "val_dataset = HallucinationDataset(\n",
    "    premises=val_df[\"premise\"].to_list(),\n",
    "    hypotheses=val_df[\"hypothesis\"].to_list(),\n",
    "    labels=val_df[\"label_id\"].to_list(),\n",
    "    tokenizer=tokenizer,\n",
    "    max_len=cfg.MAX_LENGTH,\n",
    "    pattern=pattern,  # <-- Truyền pattern vào\n",
    ")\n",
    "\n",
    "data_collator = DataCollatorWithPadding(tokenizer=tokenizer)\n",
    "\n",
    "train_loader = DataLoader(\n",
    "    train_dataset, batch_size=cfg.BATCH_SIZE, shuffle=True, collate_fn=data_collator\n",
    ")\n",
    "val_loader = DataLoader(\n",
    "    val_dataset, batch_size=cfg.BATCH_SIZE, collate_fn=data_collator\n",
    ")\n",
    "logger.info(\"✅ Tạo DataLoader thành công với DataCollatorWithPadding chuẩn!\")\n"
   ]
  },
  {
   "cell_type": "markdown",
   "id": "eae8a4a1",
   "metadata": {},
   "source": [
    "### Check dataset"
   ]
  },
  {
   "cell_type": "code",
   "execution_count": 16,
   "id": "0c8564a3",
   "metadata": {},
   "outputs": [
    {
     "name": "stdout",
     "output_type": "stream",
     "text": [
      "\n",
      "--- Kiểm tra 1 batch dữ liệu đầu vào ---\n",
      "Kích thước input_ids: torch.Size([1, 269])\n",
      "Kích thước attention_mask: torch.Size([1, 269])\n",
      "Nhãn trong batch: tensor([2])\n",
      "\n",
      "Một mẫu đã được token hóa và giải mã lại:\n",
      "<s><mask> ! Dựa trên thông tin: \"Câu hỏi: Năm 2012, tỉ trọng đầu tư của Mỹ vào R&D là 33%, đúng không, và điều này cho thấy sự gia tăng vượt bậc so với các năm trước đó? Ngữ cảnh: Dù giá trị đầu tư vào R&D tại Mỹ cao, nó vẫn chưa đáp ứng được mục tiêu mà tổng thống Obama đề ra là 3% GDP vào thời điểm cuối nhiệm kỳ năm 2016. Sự độc tôn của Hoa Kỳ trong lĩnh vực này đang bị suy giảm, thậm chí với các quốc gia khác, như Trung Quốc, đang đẩy các hoạt động tài trợ R&D của học lên mức độ mới. Từ năm 2009 đến 2012, tỷ trọng tổng đầu tư của Hoa Kỳ vào R&D so với thế giới giảm nhẹ từ 30,5% còn 28,1%. Một vài quốc gia dành tới hơn 4% GDP cho hoạt động nghiên cứu và phát triển (Israel, Nhật Bản và Nam Hàn) và các nước khác có kế hoạch tăng GERD/GDP tới 4% năm 2020 (Phần Lan và Thuỵ Điển).\", câu trả lời \"Năm 2012, tỷ trọng đầu tư của Mỹ vào R&D là 28,1%, giảm nhẹ so với mức 30,5% vào năm 2009, không phải là 33% như bạn đề cập.\" có đúng không?</s>\n",
      "------------------------------------------\n",
      "\n"
     ]
    }
   ],
   "source": [
    "print(\"\\n--- Kiểm tra 1 batch dữ liệu đầu vào ---\")\n",
    "sample_batch = next(iter(train_loader))\n",
    "\n",
    "print(\"Kích thước input_ids:\", sample_batch[\"input_ids\"].shape)\n",
    "print(\"Kích thước attention_mask:\", sample_batch[\"attention_mask\"].shape)\n",
    "print(\"Nhãn trong batch:\", sample_batch[\"labels\"])\n",
    "\n",
    "# Giải mã một mẫu để xem nó trông như thế nào\n",
    "decoded_text = tokenizer.decode(sample_batch[\"input_ids\"][0], skip_special_tokens=False)\n",
    "print(\"\\nMột mẫu đã được token hóa và giải mã lại:\")\n",
    "print(decoded_text)\n",
    "print(\"------------------------------------------\\n\")\n",
    "# --- KẾT THÚC BƯỚC KIỂM TRA ---\n"
   ]
  },
  {
   "cell_type": "code",
   "execution_count": 17,
   "id": "7fa66f2c",
   "metadata": {},
   "outputs": [
    {
     "name": "stdout",
     "output_type": "stream",
     "text": [
      "\n",
      "--- Kiểm tra chi tiết 5 mẫu đầu tiên để so sánh trước và sau khi xử lý ---\n",
      "\n",
      "=============== MẪU 0 ===============\n",
      "Số token gốc (ước tính): 216\n",
      "Số token sau khi xử lý (giới hạn bởi max_len=512): 235\n",
      "✅  OK: Độ dài mẫu nằm trong giới hạn, không bị cắt.\n",
      "\n",
      "--- Văn bản GỐC  ---\n",
      "Câu hỏi: Nước chấm được pha trộn bởi những nguyên liệu gì? Ngữ cảnh: Ẩm thực Việt Nam đặc trưng với việc sử dụng rất nhiều loại mắm, nước chấm từ loãng đến đặc. Mắm, nước chấm có thể dùng nguyên chất, có thể chưng lên hoặc pha chế, phối trộn với ớt, gừng hoặc tỏi, hạt tiêu, đường, chanh hoặc giấm. Người sành nội trợ thường có kinh nghiệm đặc biệt để pha chế nước chấm tùy theo món ăn. Thậm chí, cùng nguyên liệu là nước mắm, dấm, đường, tỏi, ớt, dùng để ăn với món gì thì tỷ lệ các thành phần pha chế cũng khác nhau, như khi dùng chấm rau sống thì pha nhạt, ăn với bún chả thì thêm chua. [SEP] Nước chấm còn có thể pha thêm với dầu mè để tạo hương thơm đặc biệt, hoặc sử dụng nước dừa tươi để làm dịu vị, tạo ra hương vị độc đáo cho món ăn.\n",
      "\n",
      "--- Văn bản SAU KHI DECODE từ input_ids ---\n",
      "<s><mask> ! Dựa trên thông tin: \"Câu hỏi: Nước chấm được pha trộn bởi những nguyên liệu gì? Ngữ cảnh: Ẩm thực Việt Nam đặc trưng với việc sử dụng rất nhiều loại mắm, nước chấm từ loãng đến đặc. Mắm, nước chấm có thể dùng nguyên chất, có thể chưng lên hoặc pha chế, phối trộn với ớt, gừng hoặc tỏi, hạt tiêu, đường, chanh hoặc giấm. Người sành nội trợ thường có kinh nghiệm đặc biệt để pha chế nước chấm tùy theo món ăn. Thậm chí, cùng nguyên liệu là nước mắm, dấm, đường, tỏi, ớt, dùng để ăn với món gì thì tỷ lệ các thành phần pha chế cũng khác nhau, như khi dùng chấm rau sống thì pha nhạt, ăn với bún chả thì thêm chua.\", câu trả lời \"Nước chấm còn có thể pha thêm với dầu mè để tạo hương thơm đặc biệt, hoặc sử dụng nước dừa tươi để làm dịu vị, tạo ra hương vị độc đáo cho món ăn.\" có đúng không?</s>\n",
      "\n",
      "=============== MẪU 1 ===============\n",
      "Số token gốc (ước tính): 273\n",
      "Số token sau khi xử lý (giới hạn bởi max_len=512): 292\n",
      "✅  OK: Độ dài mẫu nằm trong giới hạn, không bị cắt.\n",
      "\n",
      "--- Văn bản GỐC  ---\n",
      "Câu hỏi: Newt0n dã hoan thàn phuong phap của ai? Ngữ cảnh: Bốn quy tắc súc tích và tổng quát cho nghiên cứu khoa học này đã là một cuộc cách mạng về tư duy thực sự vào thời điểm bấy giờ. Thực hiện các quy tắc này, Newton đã hình thành được các định luật tổng quát của tự nhiên và giải thích được gần như tất cả các bài toán khoa học vào thời của ông. Newton còn đi xa hơn việc chỉ đưa ra các quy tắc cho lý luận, ông đã miêu tả cách áp dụng chúng trong việc giải quyết một bài toán cụ thể. Phương pháp giải tích mà ông sáng tạo vượt trội các phương pháp mang tính triết lý hơn là tính chính xác khoa học của Aristoteles và Thomas Aquinas. Newton đã hoàn thiện phương pháp thực nghiệm của Galileo Galilei, tạo ra phương pháp tổng hợp vẫn còn được sử dụng cho đến ngày nay trong khoa học. Những câu chữ sau đây trong quyển Opticks (Quang học) của ông có thể dễ dàng bị nhầm lẫn với trình bày hiện đại của phương pháp nghiên cứu thời nay, nếu Newton dùng từ \"khoa học\" thay cho \"triết lý về tự nhiên\": [SEP] Newton đã hoàn thiện phương pháp thực nghiệm của Galileo Galilei.\n",
      "\n",
      "--- Văn bản SAU KHI DECODE từ input_ids ---\n",
      "<s><mask> ! Dựa trên thông tin: \"Câu hỏi: Newt0n dã hoan thàn phuong phap của ai? Ngữ cảnh: Bốn quy tắc súc tích và tổng quát cho nghiên cứu khoa học này đã là một cuộc cách mạng về tư duy thực sự vào thời điểm bấy giờ. Thực hiện các quy tắc này, Newton đã hình thành được các định luật tổng quát của tự nhiên và giải thích được gần như tất cả các bài toán khoa học vào thời của ông. Newton còn đi xa hơn việc chỉ đưa ra các quy tắc cho lý luận, ông đã miêu tả cách áp dụng chúng trong việc giải quyết một bài toán cụ thể. Phương pháp giải tích mà ông sáng tạo vượt trội các phương pháp mang tính triết lý hơn là tính chính xác khoa học của Aristoteles và Thomas Aquinas. Newton đã hoàn thiện phương pháp thực nghiệm của Galileo Galilei, tạo ra phương pháp tổng hợp vẫn còn được sử dụng cho đến ngày nay trong khoa học. Những câu chữ sau đây trong quyển Opticks (Quang học) của ông có thể dễ dàng bị nhầm lẫn với trình bày hiện đại của phương pháp nghiên cứu thời nay, nếu Newton dùng từ \"khoa học\" thay cho \"triết lý về tự nhiên\":\", câu trả lời \"Newton đã hoàn thiện phương pháp thực nghiệm của Galileo Galilei.\" có đúng không?</s>\n",
      "\n",
      "=============== MẪU 2 ===============\n",
      "Số token gốc (ước tính): 260\n",
      "Số token sau khi xử lý (giới hạn bởi max_len=512): 279\n",
      "✅  OK: Độ dài mẫu nằm trong giới hạn, không bị cắt.\n",
      "\n",
      "--- Văn bản GỐC  ---\n",
      "Câu hỏi: Biển Đông nằm về phía nào của đại lục Trung Hoa và có phải nó thuộc chủ quyền của Trung Quốc vì tên gọi quốc tế là biển Nam Trung Hoa không? Ngữ cảnh: Tên gọi quốc tế của Biển Đông ra đời từ nhiều thế kỷ trước, là biển Nam Trung Hoa (South China Sea) hay gọi tắt là biển Hoa Nam vì thời bấy giờ Trung Quốc là nước rộng lớn nhất, phát triển nhất trong khu vực và đã có giao thương với phương Tây qua con đường tơ lụa. Tên gọi nhiều biển, đại dương vốn căn cứ vào vị trí của chúng so với các vùng đất gần đó cho dễ tra cứu, không có ý nói về chủ quyền, cần tránh nhầm lẫn. Có thể kể ra các thí dụ là Ấn Độ Dương, là đại dương ở phía nam Ấn Độ, giáp nhiều nước ở châu Á và châu Phi, không phải là của riêng nước Ấn Độ; hay biển Nhật Bản, được bao quanh bởi Nga, Bắc Triều Tiên, Hàn Quốc và Nhật Bản. [SEP] Biển Đông nằm ở phía đông của đại lục Trung Hoa và thuộc chủ quyền của Trung Quốc vì tên gọi quốc tế là biển Nam Trung Hoa, phản ánh quyền sở hữu của Trung Quốc từ xưa.\n",
      "\n",
      "--- Văn bản SAU KHI DECODE từ input_ids ---\n",
      "<s><mask> ! Dựa trên thông tin: \"Câu hỏi: Biển Đông nằm về phía nào của đại lục Trung Hoa và có phải nó thuộc chủ quyền của Trung Quốc vì tên gọi quốc tế là biển Nam Trung Hoa không? Ngữ cảnh: Tên gọi quốc tế của Biển Đông ra đời từ nhiều thế kỷ trước, là biển Nam Trung Hoa (South China Sea) hay gọi tắt là biển Hoa Nam vì thời bấy giờ Trung Quốc là nước rộng lớn nhất, phát triển nhất trong khu vực và đã có giao thương với phương Tây qua con đường tơ lụa. Tên gọi nhiều biển, đại dương vốn căn cứ vào vị trí của chúng so với các vùng đất gần đó cho dễ tra cứu, không có ý nói về chủ quyền, cần tránh nhầm lẫn. Có thể kể ra các thí dụ là Ấn Độ Dương, là đại dương ở phía nam Ấn Độ, giáp nhiều nước ở châu Á và châu Phi, không phải là của riêng nước Ấn Độ; hay biển Nhật Bản, được bao quanh bởi Nga, Bắc Triều Tiên, Hàn Quốc và Nhật Bản.\", câu trả lời \"Biển Đông nằm ở phía đông của đại lục Trung Hoa và thuộc chủ quyền của Trung Quốc vì tên gọi quốc tế là biển Nam Trung Hoa, phản ánh quyền sở hữu của Trung Quốc từ xưa.\" có đúng không?</s>\n",
      "\n",
      "=============== MẪU 3 ===============\n",
      "Số token gốc (ước tính): 402\n",
      "Số token sau khi xử lý (giới hạn bởi max_len=512): 420\n",
      "✅  OK: Độ dài mẫu nằm trong giới hạn, không bị cắt.\n",
      "\n",
      "--- Văn bản GỐC  ---\n",
      "Câu hỏi: Đoạn ghi âm cuộc nói chuyện với bà của Obama là do ai làm ra? Ngữ cảnh: Tháng 4 năm 2011, Trump đặt dấu hỏi về bằng chứng quốc tịch của Tổng thống Barack Obama, cáo buộc rằng \"bà của ông ta ở Kenya nói rằng ông ta sinh ra ở Kenya và bà ấy đã ở đó và tận mắt chứng kiến\" (Luận điểm của Trump bắt nguồn từ đoạn ghi âm bài phỏng vấn qua điện thoại với bà của Obama, sản phẩm của một mục sư bang Pennsylvania phản đối việc bầu Obama). Trump cũng hoài nghi việc liệu Obama có đủ điểm đầu vào Trường Luật Harvard hay không. Trump nói rằng ông đã gửi một nhóm điều tra tư nhân tới Hawaii, nơi sinh ghi trên giấy tờ của Obama và chia sẻ với The Today Show \"họ không thể tin vào những gì họ tìm thấy\". Ngày 25 tháng 4 năm 2011, Trump kêu gọi Obama hãy kết thúc vấn đề quốc tịch bằng việc công bố bản đầy đủ giấy khai sinh của mình. Hai ngày sau, Obama đưa ra thông cáo chính thức trong một nỗ lực của Nhà Trắng nhằm khép lại sự vụ và công bố bản đầy đủ giấy khai sinh của mình. Trump bày tỏ sự tự hào với vai trò của ông trong việc giấy khai sinh được công bố qua một buổi họp báo ngay sau đó, nói rằng ông mong rằng nó \"hợp lý\" và \"chúng ta phải tận mắt thấy, nó có thật hay không?\" Khi được hỏi vào tháng 7 năm 2015 có đúng Obama sinh ra ở Mỹ không, Trump nói: \"Tôi thật sự không biết. Ý tôi là, tôi không hiểu tại sao trước đó ông ta không công bố giấy tờ của mình\". [SEP] Đoạn ghi âm cuộc nói chuyện với bà của Obama được thực hiện bởi một nhà báo điều tra độc lập từ New York, người đã tuyên bố có bằng chứng mới về nơi sinh của Obama, khác với những gì đã biết trước đó.\n",
      "\n",
      "--- Văn bản SAU KHI DECODE từ input_ids ---\n",
      "<s><mask> ! Dựa trên thông tin: \"Câu hỏi: Đoạn ghi âm cuộc nói chuyện với bà của Obama là do ai làm ra? Ngữ cảnh: Tháng 4 năm 2011, Trump đặt dấu hỏi về bằng chứng quốc tịch của Tổng thống Barack Obama, cáo buộc rằng \"bà của ông ta ở Kenya nói rằng ông ta sinh ra ở Kenya và bà ấy đã ở đó và tận mắt chứng kiến\" (Luận điểm của Trump bắt nguồn từ đoạn ghi âm bài phỏng vấn qua điện thoại với bà của Obama, sản phẩm của một mục sư bang Pennsylvania phản đối việc bầu Obama). Trump cũng hoài nghi việc liệu Obama có đủ điểm đầu vào Trường Luật Harvard hay không. Trump nói rằng ông đã gửi một nhóm điều tra tư nhân tới Hawaii, nơi sinh ghi trên giấy tờ của Obama và chia sẻ với The Today Show \"họ không thể tin vào những gì họ tìm thấy\". Ngày 25 tháng 4 năm 2011, Trump kêu gọi Obama hãy kết thúc vấn đề quốc tịch bằng việc công bố bản đầy đủ giấy khai sinh của mình. Hai ngày sau, Obama đưa ra thông cáo chính thức trong một nỗ lực của Nhà Trắng nhằm khép lại sự vụ và công bố bản đầy đủ giấy khai sinh của mình. Trump bày tỏ sự tự hào với vai trò của ông trong việc giấy khai sinh được công bố qua một buổi họp báo ngay sau đó, nói rằng ông mong rằng nó \"hợp lý\" và \"chúng ta phải tận mắt thấy, nó có thật hay không?\" Khi được hỏi vào tháng 7 năm 2015 có đúng Obama sinh ra ở Mỹ không, Trump nói: \"Tôi thật sự không biết. Ý tôi là, tôi không hiểu tại sao trước đó ông ta không công bố giấy tờ của mình\".\", câu trả lời \"Đoạn ghi âm cuộc nói chuyện với bà của Obama được thực hiện bởi một nhà báo điều tra độc lập từ New York, người đã tuyên bố có bằng chứng mới về nơi sinh của Obama, khác với những gì đã biết trước đó.\" có đúng không?</s>\n",
      "\n",
      "=============== MẪU 4 ===============\n",
      "Số token gốc (ước tính): 417\n",
      "Số token sau khi xử lý (giới hạn bởi max_len=512): 436\n",
      "✅  OK: Độ dài mẫu nằm trong giới hạn, không bị cắt.\n",
      "\n",
      "--- Văn bản GỐC  ---\n",
      "Câu hỏi: Khi đến khoe tài tại Montréal, các nhạc sĩ, nghệ sĩ đã sử dụng ngôn ngữ Nhật Bản, có đúng không? Ngữ cảnh: Sang đến mùa hè thì Montréal lúc nào cũng có ít nhất một hội hè. Trong khi các thành phố khác chỉ có một, Montréal có 3 liên hoan phim diễn ra hàng năm, trong đó Liên hoan phim thế giới Montréal (Festival du Film International de Montréal) - đứng thứ ba sau Liên hoan phim Cannes và Liên hoan phim quốc tế Toronto - là quan trọng nhất. Đại hội nhạc Jazz Montréal (Montreal Jazz Festival) - một trong hàng chục các nhạc hội khác - thu hút hàng trăm ngàn người mỗi năm. Ngày Canada Day là một ngày mọi người nghỉ ngơi nhưng ngày Thánh bổn mạng của Québec (St. Jean Bapstiste) lại là một dịp để mọi người vui chơi, nhất là ở những khu đông dân nói tiếng Pháp. Francopholie là một dịp để các nhạc sĩ, nghệ sĩ nói tiếng Pháp trên toàn thế giới đến khoe tài tại Montréal. Triển lãm nghệ thuật pháo bông quốc tế (với nhạc) diễn ra hàng tuần trong tháng 7 và tháng 8. Montréal cũng là một địa điểm của loại đua xe nhanh nhất và tốn tiền nhất trên thế giới: Formula One. Hàng năm cả trăm ngàn người trên khắp thế giới kéo nhau đến Montréal để xem các tay lái thượng thặng đua tài với tốc độ hơn 300 km/giờ. Hầu như không có tay khôi hài nào ở Bắc Mỹ không tham dự Juste pour rire/Just For Laugh diễn ra vào tháng 8 hàng năm tại Montréal. Trong các hội hè của các dân định cư thì Tuần lễ của Ý và ngày Độc lập của Hy Lạp là hai lễ hội to nhất. [SEP] Mặc dù các nghệ sĩ chủ yếu sử dụng tiếng Pháp tại Francopholie, nhưng một số nghệ sĩ quốc tế cũng biểu diễn bằng tiếng Nhật và các ngôn ngữ khác để tôn vinh sự đa dạng văn hóa của Montréal.\n",
      "\n",
      "--- Văn bản SAU KHI DECODE từ input_ids ---\n",
      "<s><mask> ! Dựa trên thông tin: \"Câu hỏi: Khi đến khoe tài tại Montréal, các nhạc sĩ, nghệ sĩ đã sử dụng ngôn ngữ Nhật Bản, có đúng không? Ngữ cảnh: Sang đến mùa hè thì Montréal lúc nào cũng có ít nhất một hội hè. Trong khi các thành phố khác chỉ có một, Montréal có 3 liên hoan phim diễn ra hàng năm, trong đó Liên hoan phim thế giới Montréal (Festival du Film International de Montréal) - đứng thứ ba sau Liên hoan phim Cannes và Liên hoan phim quốc tế Toronto - là quan trọng nhất. Đại hội nhạc Jazz Montréal (Montreal Jazz Festival) - một trong hàng chục các nhạc hội khác - thu hút hàng trăm ngàn người mỗi năm. Ngày Canada Day là một ngày mọi người nghỉ ngơi nhưng ngày Thánh bổn mạng của Québec (St. Jean Bapstiste) lại là một dịp để mọi người vui chơi, nhất là ở những khu đông dân nói tiếng Pháp. Francopholie là một dịp để các nhạc sĩ, nghệ sĩ nói tiếng Pháp trên toàn thế giới đến khoe tài tại Montréal. Triển lãm nghệ thuật pháo bông quốc tế (với nhạc) diễn ra hàng tuần trong tháng 7 và tháng 8. Montréal cũng là một địa điểm của loại đua xe nhanh nhất và tốn tiền nhất trên thế giới: Formula One. Hàng năm cả trăm ngàn người trên khắp thế giới kéo nhau đến Montréal để xem các tay lái thượng thặng đua tài với tốc độ hơn 300 km/giờ. Hầu như không có tay khôi hài nào ở Bắc Mỹ không tham dự Juste pour rire/Just For Laugh diễn ra vào tháng 8 hàng năm tại Montréal. Trong các hội hè của các dân định cư thì Tuần lễ của Ý và ngày Độc lập của Hy Lạp là hai lễ hội to nhất.\", câu trả lời \"Mặc dù các nghệ sĩ chủ yếu sử dụng tiếng Pháp tại Francopholie, nhưng một số nghệ sĩ quốc tế cũng biểu diễn bằng tiếng Nhật và các ngôn ngữ khác để tôn vinh sự đa dạng văn hóa của Montréal.\" có đúng không?</s>\n",
      "\n",
      "===========================================\n",
      "Kiểm tra hoàn tất. Hãy so sánh văn bản trên để xem có sự khác biệt ở cuối chuỗi không.\n"
     ]
    }
   ],
   "source": [
    "print(\"\\n--- Kiểm tra chi tiết 5 mẫu đầu tiên để so sánh trước và sau khi xử lý ---\")\n",
    "\n",
    "# Lấy 5 mẫu đầu tiên từ DataFrame gốc để so sánh\n",
    "num_samples_to_check = 5\n",
    "for i in range(num_samples_to_check):\n",
    "    print(f\"\\n=============== MẪU {i} ===============\")\n",
    "\n",
    "    # 1. Lấy dữ liệu gốc từ DataFrame\n",
    "    original_premise = train_df[\"premise\"].iloc[i]\n",
    "    original_hypothesis = train_df[\"hypothesis\"].iloc[i]\n",
    "    # Nối 2 chuỗi lại giống cách tokenizer sẽ thấy chúng\n",
    "    original_combined_text = original_premise + \" [SEP] \" + original_hypothesis\n",
    "\n",
    "    # 2. Lấy dữ liệu đã được xử lý từ Dataset\n",
    "    processed_sample = train_dataset[i]\n",
    "    processed_input_ids = processed_sample[\"input_ids\"]\n",
    "\n",
    "    # 3. Giải mã (decode) các input_ids đã xử lý trở lại thành văn bản\n",
    "    decoded_text = tokenizer.decode(processed_input_ids, skip_special_tokens=False)\n",
    "\n",
    "    # 4. So sánh và in kết quả\n",
    "    original_token_count = len(tokenizer.encode(original_premise, original_hypothesis))\n",
    "    processed_token_count = len(processed_input_ids)\n",
    "\n",
    "    print(f\"Số token gốc (ước tính): {original_token_count}\")\n",
    "    print(\n",
    "        f\"Số token sau khi xử lý (giới hạn bởi max_len={cfg.MAX_LENGTH}): {processed_token_count}\"\n",
    "    )\n",
    "\n",
    "    if original_token_count > cfg.MAX_LENGTH:\n",
    "        print(\"⚠️  CẢNH BÁO: Mẫu này đã bị cắt bớt (truncated)!\")\n",
    "    else:\n",
    "        print(\"✅  OK: Độ dài mẫu nằm trong giới hạn, không bị cắt.\")\n",
    "\n",
    "    print(\"\\n--- Văn bản GỐC  ---\")\n",
    "    print(original_combined_text)\n",
    "\n",
    "    print(\"\\n--- Văn bản SAU KHI DECODE từ input_ids ---\")\n",
    "    print(decoded_text)\n",
    "\n",
    "print(\"\\n===========================================\")\n",
    "print(\n",
    "    \"Kiểm tra hoàn tất. Hãy so sánh văn bản trên để xem có sự khác biệt ở cuối chuỗi không.\"\n",
    ")\n"
   ]
  },
  {
   "cell_type": "markdown",
   "id": "2739f76b",
   "metadata": {},
   "source": [
    "# ==============================================================================\n",
    "# 4. Thiết lập Huấn luyện\n",
    "# =============================================================================="
   ]
  },
  {
   "cell_type": "code",
   "execution_count": 18,
   "id": "62005cda",
   "metadata": {},
   "outputs": [
    {
     "name": "stderr",
     "output_type": "stream",
     "text": [
      "2025-10-16 21:44:21 - [INFO] - Bước 4: Thiết lập optimizer, scheduler và loss function...\n",
      "2025-10-16 21:44:21 - [INFO] - Scheduler sẽ chạy trong 3500 bước (350 bước/epoch)\n",
      "2025-10-16 21:44:21 - [INFO] - Warmup steps: 350\n",
      "2025-10-16 21:44:21 - [INFO] - Sử dụng Class Weights & Label smoothing cho hàm loss.\n",
      "2025-10-16 21:44:21 - [INFO] - Scheduler sẽ chạy trong 3500 bước (350 bước/epoch)\n",
      "2025-10-16 21:44:21 - [INFO] - Warmup steps: 350\n",
      "2025-10-16 21:44:21 - [INFO] - Sử dụng Class Weights & Label smoothing cho hàm loss.\n"
     ]
    }
   ],
   "source": [
    "logger.info(\"Bước 4: Thiết lập optimizer, scheduler và loss function...\")\n",
    "optimizer = AdamW(\n",
    "    model.parameters(),\n",
    "    lr=cfg.LEARNING_RATE,\n",
    "    weight_decay=cfg.WEIGHT_DECAY,\n",
    "    eps=cfg.EPSILON,\n",
    ")\n",
    "\n",
    "gradient_accumulation_steps = max(1, cfg.GRADIENT_ACCUMULATION_STEPS)\n",
    "num_update_steps_per_epoch = math.ceil(len(train_loader) / gradient_accumulation_steps)\n",
    "num_training_steps = num_update_steps_per_epoch * cfg.EPOCHS\n",
    "logger.info(\n",
    "    f\"Scheduler sẽ chạy trong {num_training_steps} bước ({num_update_steps_per_epoch} bước/epoch)\"\n",
    ")\n",
    "\n",
    "warmup_steps = max(1, int(cfg.TOTAL_STEP_SCALE * num_training_steps))\n",
    "scheduler = get_scheduler(\n",
    "    cfg.SCHEDULER_TYPE,\n",
    "    optimizer=optimizer,\n",
    "    num_warmup_steps=warmup_steps,\n",
    "    num_training_steps=num_training_steps,\n",
    ")\n",
    "logger.info(f\"Warmup steps: {warmup_steps}\")\n",
    "\n",
    "class_weights_tensor = torch.tensor(cfg.CLASS_WEIGHTS, dtype=torch.float).to(device)\n",
    "loss_fn = torch.nn.CrossEntropyLoss(\n",
    "    weight=class_weights_tensor, label_smoothing=cfg.LABEL_SMOOTHING\n",
    ").to(device)\n",
    "logger.info(\"Sử dụng Class Weights & Label smoothing cho hàm loss.\")\n"
   ]
  },
  {
   "cell_type": "markdown",
   "id": "67e5a7d7",
   "metadata": {},
   "source": [
    "# ==============================================================================\n",
    "# 5. Vòng lặp Huấn luyện\n",
    "# =============================================================================="
   ]
  },
  {
   "cell_type": "code",
   "execution_count": 19,
   "id": "275d4c7a",
   "metadata": {},
   "outputs": [
    {
     "name": "stderr",
     "output_type": "stream",
     "text": [
      "2025-10-16 21:44:21 - [INFO] - Bước 5: Bắt đầu vòng lặp huấn luyện...\n",
      "2025-10-16 21:44:21 - [INFO] - --- Epoch 1/10 ---\n"
     ]
    },
    {
     "data": {
      "application/vnd.jupyter.widget-view+json": {
       "model_id": "d895f33af1a04f2fad2af45cfa3b5a6f",
       "version_major": 2,
       "version_minor": 0
      },
      "text/plain": [
       "Epoch 1/10:   0%|          | 0/5600 [00:00<?, ?it/s]"
      ]
     },
     "metadata": {},
     "output_type": "display_data"
    },
    {
     "name": "stderr",
     "output_type": "stream",
     "text": [
      "2025-10-16 21:52:11 - [INFO] - Loss trung bình trên tập train: 1.0986\n",
      "2025-10-16 21:52:11 - [INFO] - Current Learning Rate: 8.00e-06\n",
      "2025-10-16 21:52:11 - [INFO] - Bắt đầu đánh giá trên tập validation...\n"
     ]
    },
    {
     "data": {
      "application/vnd.jupyter.widget-view+json": {
       "model_id": "627ca531e7f847f8811c20a4363ef526",
       "version_major": 2,
       "version_minor": 0
      },
      "text/plain": [
       "Evaluating:   0%|          | 0/1400 [00:00<?, ?it/s]"
      ]
     },
     "metadata": {},
     "output_type": "display_data"
    },
    {
     "name": "stderr",
     "output_type": "stream",
     "text": [
      "2025-10-16 21:52:49 - [INFO] - Validation Loss: 1.0986\n",
      "2025-10-16 21:52:49 - [INFO] - Validation Accuracy: 0.3500\n",
      "2025-10-16 21:52:49 - [INFO] - Validation Macro-F1: 0.1728\n",
      "/home/guest/.conda/envs/cs221/lib/python3.12/site-packages/sklearn/metrics/_classification.py:1731: UndefinedMetricWarning: Precision is ill-defined and being set to 0.0 in labels with no predicted samples. Use `zero_division` parameter to control this behavior.\n",
      "  _warn_prf(average, modifier, f\"{metric.capitalize()} is\", result.shape[0])\n",
      "/home/guest/.conda/envs/cs221/lib/python3.12/site-packages/sklearn/metrics/_classification.py:1731: UndefinedMetricWarning: Precision is ill-defined and being set to 0.0 in labels with no predicted samples. Use `zero_division` parameter to control this behavior.\n",
      "  _warn_prf(average, modifier, f\"{metric.capitalize()} is\", result.shape[0])\n",
      "/home/guest/.conda/envs/cs221/lib/python3.12/site-packages/sklearn/metrics/_classification.py:1731: UndefinedMetricWarning: Precision is ill-defined and being set to 0.0 in labels with no predicted samples. Use `zero_division` parameter to control this behavior.\n",
      "  _warn_prf(average, modifier, f\"{metric.capitalize()} is\", result.shape[0])\n",
      "2025-10-16 21:52:49 - [INFO] - Classification Report trên tập validation:\n",
      "              precision    recall  f1-score   support\n",
      "\n",
      "   intrinsic     0.3500    1.0000    0.5185       490\n",
      "   extrinsic     0.0000    0.0000    0.0000       461\n",
      "          no     0.0000    0.0000    0.0000       449\n",
      "\n",
      "    accuracy                         0.3500      1400\n",
      "   macro avg     0.1167    0.3333    0.1728      1400\n",
      "weighted avg     0.1225    0.3500    0.1815      1400\n",
      "\n",
      "2025-10-16 21:52:49 - [INFO] - 🎉 Macro-F1 cải thiện. Đang lưu model tốt nhất vào '/home/guest/Projects/CS221/models/CafeBERT-tuned'...\n",
      "2025-10-16 21:52:51 - [INFO] - Lưu model thành công.\n",
      "2025-10-16 21:52:51 - [INFO] - --- Epoch 2/10 ---\n"
     ]
    },
    {
     "data": {
      "application/vnd.jupyter.widget-view+json": {
       "model_id": "1987251818424908929600e6566b0ecc",
       "version_major": 2,
       "version_minor": 0
      },
      "text/plain": [
       "Epoch 2/10:   0%|          | 0/5600 [00:00<?, ?it/s]"
      ]
     },
     "metadata": {},
     "output_type": "display_data"
    },
    {
     "name": "stderr",
     "output_type": "stream",
     "text": [
      "2025-10-16 22:00:49 - [INFO] - Loss trung bình trên tập train: 1.0986\n",
      "2025-10-16 22:00:49 - [INFO] - Current Learning Rate: 7.76e-06\n",
      "2025-10-16 22:00:49 - [INFO] - Bắt đầu đánh giá trên tập validation...\n"
     ]
    },
    {
     "data": {
      "application/vnd.jupyter.widget-view+json": {
       "model_id": "8e4e76b63a67475fb124334af23772de",
       "version_major": 2,
       "version_minor": 0
      },
      "text/plain": [
       "Evaluating:   0%|          | 0/1400 [00:00<?, ?it/s]"
      ]
     },
     "metadata": {},
     "output_type": "display_data"
    },
    {
     "name": "stderr",
     "output_type": "stream",
     "text": [
      "2025-10-16 22:01:26 - [INFO] - Validation Loss: 1.0986\n",
      "2025-10-16 22:01:26 - [INFO] - Validation Accuracy: 0.3500\n",
      "2025-10-16 22:01:26 - [INFO] - Validation Macro-F1: 0.1728\n",
      "/home/guest/.conda/envs/cs221/lib/python3.12/site-packages/sklearn/metrics/_classification.py:1731: UndefinedMetricWarning: Precision is ill-defined and being set to 0.0 in labels with no predicted samples. Use `zero_division` parameter to control this behavior.\n",
      "  _warn_prf(average, modifier, f\"{metric.capitalize()} is\", result.shape[0])\n",
      "/home/guest/.conda/envs/cs221/lib/python3.12/site-packages/sklearn/metrics/_classification.py:1731: UndefinedMetricWarning: Precision is ill-defined and being set to 0.0 in labels with no predicted samples. Use `zero_division` parameter to control this behavior.\n",
      "  _warn_prf(average, modifier, f\"{metric.capitalize()} is\", result.shape[0])\n",
      "/home/guest/.conda/envs/cs221/lib/python3.12/site-packages/sklearn/metrics/_classification.py:1731: UndefinedMetricWarning: Precision is ill-defined and being set to 0.0 in labels with no predicted samples. Use `zero_division` parameter to control this behavior.\n",
      "  _warn_prf(average, modifier, f\"{metric.capitalize()} is\", result.shape[0])\n",
      "2025-10-16 22:01:26 - [INFO] - Classification Report trên tập validation:\n",
      "              precision    recall  f1-score   support\n",
      "\n",
      "   intrinsic     0.3500    1.0000    0.5185       490\n",
      "   extrinsic     0.0000    0.0000    0.0000       461\n",
      "          no     0.0000    0.0000    0.0000       449\n",
      "\n",
      "    accuracy                         0.3500      1400\n",
      "   macro avg     0.1167    0.3333    0.1728      1400\n",
      "weighted avg     0.1225    0.3500    0.1815      1400\n",
      "\n",
      "2025-10-16 22:01:26 - [WARNING] - Macro-F1 không cải thiện. Patience: 1/2\n",
      "2025-10-16 22:01:26 - [INFO] - --- Epoch 3/10 ---\n"
     ]
    },
    {
     "data": {
      "application/vnd.jupyter.widget-view+json": {
       "model_id": "a1079a751480481db6c7806c7f1d3062",
       "version_major": 2,
       "version_minor": 0
      },
      "text/plain": [
       "Epoch 3/10:   0%|          | 0/5600 [00:00<?, ?it/s]"
      ]
     },
     "metadata": {},
     "output_type": "display_data"
    },
    {
     "name": "stderr",
     "output_type": "stream",
     "text": [
      "2025-10-16 22:09:33 - [INFO] - Loss trung bình trên tập train: 1.0986\n",
      "2025-10-16 22:09:33 - [INFO] - Current Learning Rate: 7.06e-06\n",
      "2025-10-16 22:09:33 - [INFO] - Bắt đầu đánh giá trên tập validation...\n"
     ]
    },
    {
     "data": {
      "application/vnd.jupyter.widget-view+json": {
       "model_id": "5454011b85144e5d871b2c3e7f7b7e24",
       "version_major": 2,
       "version_minor": 0
      },
      "text/plain": [
       "Evaluating:   0%|          | 0/1400 [00:00<?, ?it/s]"
      ]
     },
     "metadata": {},
     "output_type": "display_data"
    },
    {
     "name": "stderr",
     "output_type": "stream",
     "text": [
      "2025-10-16 22:10:11 - [INFO] - Validation Loss: 1.0986\n",
      "2025-10-16 22:10:11 - [INFO] - Validation Accuracy: 0.3500\n",
      "2025-10-16 22:10:11 - [INFO] - Validation Macro-F1: 0.1728\n",
      "/home/guest/.conda/envs/cs221/lib/python3.12/site-packages/sklearn/metrics/_classification.py:1731: UndefinedMetricWarning: Precision is ill-defined and being set to 0.0 in labels with no predicted samples. Use `zero_division` parameter to control this behavior.\n",
      "  _warn_prf(average, modifier, f\"{metric.capitalize()} is\", result.shape[0])\n",
      "/home/guest/.conda/envs/cs221/lib/python3.12/site-packages/sklearn/metrics/_classification.py:1731: UndefinedMetricWarning: Precision is ill-defined and being set to 0.0 in labels with no predicted samples. Use `zero_division` parameter to control this behavior.\n",
      "  _warn_prf(average, modifier, f\"{metric.capitalize()} is\", result.shape[0])\n",
      "/home/guest/.conda/envs/cs221/lib/python3.12/site-packages/sklearn/metrics/_classification.py:1731: UndefinedMetricWarning: Precision is ill-defined and being set to 0.0 in labels with no predicted samples. Use `zero_division` parameter to control this behavior.\n",
      "  _warn_prf(average, modifier, f\"{metric.capitalize()} is\", result.shape[0])\n",
      "2025-10-16 22:10:11 - [INFO] - Classification Report trên tập validation:\n",
      "              precision    recall  f1-score   support\n",
      "\n",
      "   intrinsic     0.3500    1.0000    0.5185       490\n",
      "   extrinsic     0.0000    0.0000    0.0000       461\n",
      "          no     0.0000    0.0000    0.0000       449\n",
      "\n",
      "    accuracy                         0.3500      1400\n",
      "   macro avg     0.1167    0.3333    0.1728      1400\n",
      "weighted avg     0.1225    0.3500    0.1815      1400\n",
      "\n",
      "2025-10-16 22:10:11 - [WARNING] - Macro-F1 không cải thiện. Patience: 2/2\n",
      "2025-10-16 22:10:11 - [INFO] - Early stopping! Dừng huấn luyện.\n",
      "2025-10-16 22:10:11 - [INFO] - 🏁 Quá trình huấn luyện hoàn tất.\n",
      "2025-10-16 22:10:11 - [INFO] - Model tốt nhất với Macro-F1 = 0.1728 đã được lưu tại '/home/guest/Projects/CS221/models/CafeBERT-tuned'\n",
      "2025-10-16 22:10:11 - [INFO] - Validation Accuracy: 0.3500\n",
      "2025-10-16 22:10:11 - [INFO] - Validation Macro-F1: 0.1728\n",
      "/home/guest/.conda/envs/cs221/lib/python3.12/site-packages/sklearn/metrics/_classification.py:1731: UndefinedMetricWarning: Precision is ill-defined and being set to 0.0 in labels with no predicted samples. Use `zero_division` parameter to control this behavior.\n",
      "  _warn_prf(average, modifier, f\"{metric.capitalize()} is\", result.shape[0])\n",
      "/home/guest/.conda/envs/cs221/lib/python3.12/site-packages/sklearn/metrics/_classification.py:1731: UndefinedMetricWarning: Precision is ill-defined and being set to 0.0 in labels with no predicted samples. Use `zero_division` parameter to control this behavior.\n",
      "  _warn_prf(average, modifier, f\"{metric.capitalize()} is\", result.shape[0])\n",
      "/home/guest/.conda/envs/cs221/lib/python3.12/site-packages/sklearn/metrics/_classification.py:1731: UndefinedMetricWarning: Precision is ill-defined and being set to 0.0 in labels with no predicted samples. Use `zero_division` parameter to control this behavior.\n",
      "  _warn_prf(average, modifier, f\"{metric.capitalize()} is\", result.shape[0])\n",
      "2025-10-16 22:10:11 - [INFO] - Classification Report trên tập validation:\n",
      "              precision    recall  f1-score   support\n",
      "\n",
      "   intrinsic     0.3500    1.0000    0.5185       490\n",
      "   extrinsic     0.0000    0.0000    0.0000       461\n",
      "          no     0.0000    0.0000    0.0000       449\n",
      "\n",
      "    accuracy                         0.3500      1400\n",
      "   macro avg     0.1167    0.3333    0.1728      1400\n",
      "weighted avg     0.1225    0.3500    0.1815      1400\n",
      "\n",
      "2025-10-16 22:10:11 - [WARNING] - Macro-F1 không cải thiện. Patience: 2/2\n",
      "2025-10-16 22:10:11 - [INFO] - Early stopping! Dừng huấn luyện.\n",
      "2025-10-16 22:10:11 - [INFO] - 🏁 Quá trình huấn luyện hoàn tất.\n",
      "2025-10-16 22:10:11 - [INFO] - Model tốt nhất với Macro-F1 = 0.1728 đã được lưu tại '/home/guest/Projects/CS221/models/CafeBERT-tuned'\n"
     ]
    }
   ],
   "source": [
    "logger.info(\"Bước 5: Bắt đầu vòng lặp huấn luyện...\")\n",
    "best_macro_f1 = 0.0\n",
    "patience_counter = 0\n",
    "\n",
    "for epoch in range(cfg.EPOCHS):\n",
    "    logger.info(f\"--- Epoch {epoch + 1}/{cfg.EPOCHS} ---\")\n",
    "\n",
    "    avg_train_loss = train_one_epoch(\n",
    "        model,\n",
    "        train_loader,\n",
    "        loss_fn,\n",
    "        optimizer,\n",
    "        scheduler,\n",
    "        device,\n",
    "        tokenizer=tokenizer,\n",
    "        verbalizer_ids_tensor=verbalizer_ids_tensor,\n",
    "        label_map=original_label_to_verbalizer_idx,\n",
    "        epoch=epoch + 1,\n",
    "        total_epochs=cfg.EPOCHS,\n",
    "        gradient_accumulation_steps=gradient_accumulation_steps,\n",
    "    )\n",
    "    logger.info(f\"Loss trung bình trên tập train: {avg_train_loss:.4f}\")\n",
    "    logger.info(f\"Current Learning Rate: {optimizer.param_groups[0]['lr']:.2e}\")\n",
    "\n",
    "    logger.info(\"Bắt đầu đánh giá trên tập validation...\")\n",
    "    val_labels, val_preds, avg_val_loss = evaluate(\n",
    "        model,\n",
    "        val_loader,\n",
    "        loss_fn,\n",
    "        device,\n",
    "        tokenizer=tokenizer,\n",
    "        verbalizer_ids_tensor=verbalizer_ids_tensor,\n",
    "        label_map=original_label_to_verbalizer_idx,\n",
    "        id2label_map=verbalizer_idx_to_original_label,\n",
    "    )\n",
    "\n",
    "    accuracy = accuracy_score(val_labels, val_preds)\n",
    "    macro_f1 = f1_score(val_labels, val_preds, average=\"macro\")\n",
    "\n",
    "    logger.info(f\"Validation Loss: {avg_val_loss:.4f}\")\n",
    "    logger.info(f\"Validation Accuracy: {accuracy:.4f}\")\n",
    "    logger.info(f\"Validation Macro-F1: {macro_f1:.4f}\")\n",
    "\n",
    "    report = classification_report(\n",
    "        val_labels,\n",
    "        val_preds,\n",
    "        target_names=[cfg.ID2LABEL[i] for i in range(len(cfg.LABEL_MAP))],\n",
    "        digits=4,\n",
    "    )\n",
    "    logger.info(f\"Classification Report trên tập validation:\\n{report}\")\n",
    "\n",
    "    if macro_f1 > best_macro_f1:\n",
    "        best_macro_f1 = macro_f1\n",
    "        patience_counter = 0\n",
    "        logger.info(\n",
    "            f\"🎉 Macro-F1 cải thiện. Đang lưu model tốt nhất vào '{cfg.MODEL_OUTPUT_DIR}'...\"\n",
    "        )\n",
    "        os.makedirs(cfg.MODEL_OUTPUT_DIR, exist_ok=True)\n",
    "        model.save_pretrained(cfg.MODEL_OUTPUT_DIR)\n",
    "        tokenizer.save_pretrained(cfg.MODEL_OUTPUT_DIR)\n",
    "        logger.info(\"Lưu model thành công.\")\n",
    "    else:\n",
    "        patience_counter += 1\n",
    "        logger.warning(\n",
    "            f\"Macro-F1 không cải thiện. Patience: {patience_counter}/{cfg.PATIENCE_LIMIT}\"\n",
    "        )\n",
    "        if patience_counter >= cfg.PATIENCE_LIMIT:\n",
    "            logger.info(\"Early stopping! Dừng huấn luyện.\")\n",
    "            break\n",
    "\n",
    "logger.info(\"🏁 Quá trình huấn luyện hoàn tất.\")\n",
    "logger.info(\n",
    "    f\"Model tốt nhất với Macro-F1 = {best_macro_f1:.4f} đã được lưu tại '{cfg.MODEL_OUTPUT_DIR}'\"\n",
    ")\n"
   ]
  },
  {
   "cell_type": "markdown",
   "id": "451f5a5e",
   "metadata": {},
   "source": [
    "# Phân phối kết quả đúng/sai theo từng lớp"
   ]
  },
  {
   "cell_type": "code",
   "execution_count": 20,
   "id": "72fc9859",
   "metadata": {},
   "outputs": [
    {
     "name": "stderr",
     "output_type": "stream",
     "text": [
      "2025-10-16 22:10:11 - [INFO] - Phân phối kết quả trên từng lớp:\n",
      "  true_label  correct  incorrect  total correct_rate incorrect_rate\n",
      "0  extrinsic        0        461    461        0.00%        100.00%\n",
      "1  intrinsic      490          0    490      100.00%          0.00%\n",
      "2         no        0        449    449        0.00%        100.00%\n"
     ]
    },
    {
     "name": "stdout",
     "output_type": "stream",
     "text": [
      "Bảng phân phối kết quả trên từng lớp:\n"
     ]
    },
    {
     "data": {
      "text/html": [
       "<div>\n",
       "<style scoped>\n",
       "    .dataframe tbody tr th:only-of-type {\n",
       "        vertical-align: middle;\n",
       "    }\n",
       "\n",
       "    .dataframe tbody tr th {\n",
       "        vertical-align: top;\n",
       "    }\n",
       "\n",
       "    .dataframe thead th {\n",
       "        text-align: right;\n",
       "    }\n",
       "</style>\n",
       "<table border=\"1\" class=\"dataframe\">\n",
       "  <thead>\n",
       "    <tr style=\"text-align: right;\">\n",
       "      <th></th>\n",
       "      <th>true_label</th>\n",
       "      <th>correct</th>\n",
       "      <th>incorrect</th>\n",
       "      <th>total</th>\n",
       "      <th>correct_rate</th>\n",
       "      <th>incorrect_rate</th>\n",
       "    </tr>\n",
       "  </thead>\n",
       "  <tbody>\n",
       "    <tr>\n",
       "      <th>0</th>\n",
       "      <td>extrinsic</td>\n",
       "      <td>0</td>\n",
       "      <td>461</td>\n",
       "      <td>461</td>\n",
       "      <td>0.00%</td>\n",
       "      <td>100.00%</td>\n",
       "    </tr>\n",
       "    <tr>\n",
       "      <th>1</th>\n",
       "      <td>intrinsic</td>\n",
       "      <td>490</td>\n",
       "      <td>0</td>\n",
       "      <td>490</td>\n",
       "      <td>100.00%</td>\n",
       "      <td>0.00%</td>\n",
       "    </tr>\n",
       "    <tr>\n",
       "      <th>2</th>\n",
       "      <td>no</td>\n",
       "      <td>0</td>\n",
       "      <td>449</td>\n",
       "      <td>449</td>\n",
       "      <td>0.00%</td>\n",
       "      <td>100.00%</td>\n",
       "    </tr>\n",
       "  </tbody>\n",
       "</table>\n",
       "</div>"
      ],
      "text/plain": [
       "  true_label  correct  incorrect  total correct_rate incorrect_rate\n",
       "0  extrinsic        0        461    461        0.00%        100.00%\n",
       "1  intrinsic      490          0    490      100.00%          0.00%\n",
       "2         no        0        449    449        0.00%        100.00%"
      ]
     },
     "metadata": {},
     "output_type": "display_data"
    }
   ],
   "source": [
    "val_label_names = [cfg.ID2LABEL[label_id] for label_id in val_labels]\n",
    "pred_label_names = [cfg.ID2LABEL[pred_id] for pred_id in val_preds]\n",
    "evaluation_df = pd.DataFrame(\n",
    "    {\n",
    "        \"true_label\": val_label_names,\n",
    "        \"predicted_label\": pred_label_names,\n",
    "    }\n",
    ")\n",
    "evaluation_df[\"status\"] = evaluation_df.apply(\n",
    "    lambda row: (\n",
    "        \"correct\" if row[\"true_label\"] == row[\"predicted_label\"] else \"incorrect\"\n",
    "    ),\n",
    "    axis=1,\n",
    ")\n",
    "distribution_table = (\n",
    "    evaluation_df.groupby([\"true_label\", \"status\"])\n",
    "    .size()\n",
    "    .unstack(fill_value=0)\n",
    "    .rename_axis(None, axis=1)\n",
    "    .reset_index()\n",
    "    .sort_values(\"true_label\")\n",
    ")\n",
    "\n",
    "# 1. Thêm cột 'total' bằng cách cộng cột 'correct' và 'incorrect'\n",
    "distribution_table[\"total\"] = (\n",
    "    distribution_table[\"correct\"] + distribution_table[\"incorrect\"]\n",
    ")\n",
    "\n",
    "# 2. Thêm cột tỉ lệ đúng (correct_rate)\n",
    "distribution_table[\"correct_rate\"] = (\n",
    "    distribution_table[\"correct\"] / distribution_table[\"total\"]\n",
    ")\n",
    "\n",
    "# 3. Thêm cột tỉ lệ sai (incorrect_rate)\n",
    "distribution_table[\"incorrect_rate\"] = (\n",
    "    distribution_table[\"incorrect\"] / distribution_table[\"total\"]\n",
    ")\n",
    "\n",
    "# (Tùy chọn) Format các cột tỉ lệ thành dạng phần trăm cho dễ đọc\n",
    "distribution_table[\"correct_rate\"] = distribution_table[\"correct_rate\"].map(\n",
    "    \"{:.2%}\".format\n",
    ")\n",
    "distribution_table[\"incorrect_rate\"] = distribution_table[\"incorrect_rate\"].map(\n",
    "    \"{:.2%}\".format\n",
    ")\n",
    "\n",
    "# In ra bảng kết quả\n",
    "logger.info(f\"Phân phối kết quả trên từng lớp:\\n{distribution_table.to_string()}\")\n",
    "\n",
    "# Trong notebook, dùng display() sẽ cho bảng đẹp hơn\n",
    "print(\"Bảng phân phối kết quả trên từng lớp:\")\n",
    "display(distribution_table)\n"
   ]
  }
 ],
 "metadata": {
  "kernelspec": {
   "display_name": "cs221",
   "language": "python",
   "name": "python3"
  },
  "language_info": {
   "codemirror_mode": {
    "name": "ipython",
    "version": 3
   },
   "file_extension": ".py",
   "mimetype": "text/x-python",
   "name": "python",
   "nbconvert_exporter": "python",
   "pygments_lexer": "ipython3",
   "version": "3.12.11"
  }
 },
 "nbformat": 4,
 "nbformat_minor": 5
}
