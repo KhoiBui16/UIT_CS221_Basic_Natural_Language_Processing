{
 "cells": [
  {
   "cell_type": "markdown",
   "id": "c761c320",
   "metadata": {},
   "source": [
    "# CONFIGURATION"
   ]
  },
  {
   "cell_type": "code",
   "execution_count": null,
   "id": "a5f24b51",
   "metadata": {},
   "outputs": [],
   "source": [
    "# Cell [1] - ĐÃ CẬP NHẬT\n",
    "import os\n",
    "\n",
    "MODEL_NAMES = [\n",
    "    \"joeddav/xlm-roberta-large-xnli\",\n",
    "    \"microsoft/infoxlm-large\",\n",
    "    \"uitnlp/CafeBERT\",\n",
    "    \"FacebookAI/xlm-roberta-large\",\n",
    "    \"MoritzLaurer/DeBERTa-v3-large-mnli-fever-anli-ling-wanli\",\n",
    "    \"MoritzLaurer/ernie-m-large-mnli-xnli\",\n",
    "    \"microsoft/deberta-xlarge-mnli\",\n",
    "]\n",
    "\n",
    "\n",
    "class Config:\n",
    "    ROOT_DIR = os.getcwd()\n",
    "    DATA_DIR = os.path.join(ROOT_DIR, \"data\")\n",
    "\n",
    "    # --- THAY ĐỔI QUAN TRỌNG ---\n",
    "    # Trỏ đến file đã được xử lý bằng semantic search\n",
    "    TRAIN_FILE = os.path.join(DATA_DIR, \"vihallu-train.csv\")\n",
    "\n",
    "    TEST_FILE = os.path.join(DATA_DIR, \"vihallu-public-test.csv\")\n",
    "    SUBMISSION_DIR = os.path.join(ROOT_DIR, \"submission\")\n",
    "    SUBMISSION_CSV = \"submit.csv\"\n",
    "    SUBMISSION_ZIP = \"submit.zip\"\n",
    "\n",
    "    MODEL_NAME = MODEL_NAMES[1]\n",
    "    MODEL_OUTPUT_DIR = os.path.join(\n",
    "        ROOT_DIR, \"models\", f\"{MODEL_NAME.split('/')[-1]}-tuned\"\n",
    "    )\n",
    "\n",
    "    MAX_LENGTH = 512\n",
    "    RANDOM_STATE = 42\n",
    "    EPOCHS = 10\n",
    "    BATCH_SIZE = 4\n",
    "    GRADIENT_ACCUMULATION_STEPS = 4\n",
    "    SCHEDULER_TYPE = \"cosine\"\n",
    "    LEARNING_RATE = 5e-6\n",
    "    WEIGHT_DECAY = 0.02\n",
    "    CLASSIFIER_DROPOUT = 0.05\n",
    "    EPSILON = 1e-8\n",
    "    PATIENCE_LIMIT = 2\n",
    "    TOTAL_STEP_SCALE = 0.1\n",
    "    LABEL_SMOOTHING = 0.05\n",
    "    VALIDATION_SPLIT_SIZE = 0.2\n",
    "\n",
    "    LABEL_MAP = {\"intrinsic\": 0, \"extrinsic\": 1, \"no\": 2}\n",
    "    ID2LABEL = {v: k for k, v in LABEL_MAP.items()}\n",
    "    CLASS_WEIGHTS = [1.0393466963622866, 1.0114145354717525, 0.9531590413943355]\n",
    "\n",
    "\n",
    "cfg = Config()\n"
   ]
  },
  {
   "cell_type": "markdown",
   "id": "b01017e0",
   "metadata": {},
   "source": [
    "# LOGGER"
   ]
  },
  {
   "cell_type": "code",
   "execution_count": null,
   "id": "3d1e41e5",
   "metadata": {},
   "outputs": [],
   "source": [
    "import logging\n",
    "import os\n",
    "from datetime import datetime\n",
    "\n",
    "# Thư mục gốc để lưu tất cả các file log\n",
    "LOG_BASE_DIR = \"logs\"\n",
    "\n",
    "# Dùng một dictionary để lưu các logger đã tạo, tránh việc tạo lại và gây ra log trùng lặp\n",
    "_loggers = {}\n",
    "\n",
    "\n",
    "def setup_logger(model_name: str, log_level=logging.INFO):\n",
    "    \"\"\"\n",
    "    Thiết lập và trả về một logger để ghi log vào cả console và file.\n",
    "\n",
    "    - Mỗi model sẽ có một thư mục log riêng dựa trên `model_name`.\n",
    "    - Mỗi lần chạy sẽ tạo một file log mới có tên là timestamp (ví dụ: 2023-10-27_15-30-00.log).\n",
    "    - Đảm bảo không có log nào bị ghi đè.\n",
    "\n",
    "    Args:\n",
    "        model_name (str): Tên của model, dùng để tạo thư mục con. Ví dụ: 'xnli-large-tuned'.\n",
    "        log_level (int): Cấp độ log, mặc định là logging.INFO.\n",
    "\n",
    "    Returns:\n",
    "        logging.Logger: Instance của logger đã được cấu hình.\n",
    "    \"\"\"\n",
    "    # Nếu logger cho model này đã tồn tại, trả về nó ngay lập tức\n",
    "    if model_name in _loggers:\n",
    "        return _loggers[model_name]\n",
    "\n",
    "    # Xử lý tên model để an toàn khi tạo tên thư mục (thay thế \"/\")\n",
    "    safe_model_name = model_name.replace(\"/\", \"_\").replace(\"\\\\\", \"_\")\n",
    "    model_log_dir = os.path.join(LOG_BASE_DIR, safe_model_name)\n",
    "    os.makedirs(model_log_dir, exist_ok=True)\n",
    "\n",
    "    # Tạo logger\n",
    "    logger = logging.getLogger(safe_model_name)\n",
    "    logger.setLevel(log_level)\n",
    "\n",
    "    # Ngăn không cho log lan truyền đến root logger để tránh in ra console 2 lần\n",
    "    logger.propagate = False\n",
    "\n",
    "    # Định dạng cho log message\n",
    "    formatter = logging.Formatter(\n",
    "        \"%(asctime)s - [%(levelname)s] - %(message)s\", datefmt=\"%Y-%m-%d %H:%M:%S\"\n",
    "    )\n",
    "\n",
    "    # Tạo File Handler để ghi log ra file\n",
    "    timestamp = datetime.now().strftime(\"%Y-%m-%d_%H-%M-%S\")\n",
    "    log_file_path = os.path.join(model_log_dir, f\"{timestamp}.log\")\n",
    "\n",
    "    file_handler = logging.FileHandler(log_file_path, encoding=\"utf-8\")\n",
    "    file_handler.setLevel(log_level)\n",
    "    file_handler.setFormatter(formatter)\n",
    "\n",
    "    # Tạo Console (Stream) Handler để in log ra màn hình\n",
    "    console_handler = logging.StreamHandler()\n",
    "    console_handler.setLevel(log_level)\n",
    "    console_handler.setFormatter(formatter)\n",
    "\n",
    "    # Thêm các handler vào logger\n",
    "    logger.addHandler(file_handler)\n",
    "    logger.addHandler(console_handler)\n",
    "\n",
    "    # Lưu logger vào cache\n",
    "    _loggers[model_name] = logger\n",
    "\n",
    "    logger.info(\n",
    "        f\"Logger cho '{safe_model_name}' đã được khởi tạo. File log: {log_file_path}\"\n",
    "    )\n",
    "\n",
    "    return logger\n"
   ]
  },
  {
   "cell_type": "markdown",
   "id": "148d0474",
   "metadata": {},
   "source": [
    "## Setup logger"
   ]
  },
  {
   "cell_type": "code",
   "execution_count": 3,
   "id": "16eac9f6",
   "metadata": {},
   "outputs": [
    {
     "name": "stderr",
     "output_type": "stream",
     "text": [
      "2025-10-16 19:54:21 - [INFO] - Logger cho 'microsoft_infoxlm-large-training' đã được khởi tạo. File log: logs/microsoft_infoxlm-large-training/2025-10-16_19-54-21.log\n",
      "2025-10-16 19:54:21 - [INFO] - Logger initialized for microsoft/infoxlm-large\n",
      "2025-10-16 19:54:21 - [INFO] - ============================================================\n",
      "2025-10-16 19:54:21 - [INFO] - 🚀 STARTING TRAINING SESSION\n",
      "2025-10-16 19:54:21 - [INFO] - ============================================================\n",
      "2025-10-16 19:54:21 - [INFO] - ROOT_DIR: /home/guest/Projects/CS221\n",
      "2025-10-16 19:54:21 - [INFO] - DATA_DIR: /home/guest/Projects/CS221/data\n",
      "2025-10-16 19:54:21 - [INFO] - TRAIN_FILE: /home/guest/Projects/CS221/data/vihallu-train.csv\n",
      "2025-10-16 19:54:21 - [INFO] - TEST_FILE: /home/guest/Projects/CS221/data/vihallu-public-test.csv\n",
      "2025-10-16 19:54:21 - [INFO] - SUBMISSION_DIR: /home/guest/Projects/CS221/submission\n",
      "2025-10-16 19:54:21 - [INFO] - SUBMISSION_CSV: submit.csv\n",
      "2025-10-16 19:54:21 - [INFO] - SUBMISSION_ZIP: submit.zip\n",
      "2025-10-16 19:54:21 - [INFO] - MODEL_NAME: microsoft/infoxlm-large\n",
      "2025-10-16 19:54:21 - [INFO] - MODEL_OUTPUT_DIR: /home/guest/Projects/CS221/models/infoxlm-large-tuned\n",
      "2025-10-16 19:54:21 - [INFO] - MAX_LENGTH: 512\n",
      "2025-10-16 19:54:21 - [INFO] - RANDOM_STATE: 42\n",
      "2025-10-16 19:54:21 - [INFO] - EPOCHS: 10\n",
      "2025-10-16 19:54:21 - [INFO] - BATCH_SIZE: 4\n",
      "2025-10-16 19:54:21 - [INFO] - GRADIENT_ACCUMULATION_STEPS: 4\n",
      "2025-10-16 19:54:21 - [INFO] - SCHEDULER_TYPE: cosine\n",
      "2025-10-16 19:54:21 - [INFO] - LEARNING_RATE: 6e-06\n",
      "2025-10-16 19:54:21 - [INFO] - WEIGHT_DECAY: 0.02\n",
      "2025-10-16 19:54:21 - [INFO] - CLASSIFIER_DROPOUT: 0.05\n",
      "2025-10-16 19:54:21 - [INFO] - EPSILON: 1e-08\n",
      "2025-10-16 19:54:21 - [INFO] - PATIENCE_LIMIT: 2\n",
      "2025-10-16 19:54:21 - [INFO] - TOTAL_STEP_SCALE: 0.1\n",
      "2025-10-16 19:54:21 - [INFO] - LABEL_SMOOTHING: 0.05\n",
      "2025-10-16 19:54:21 - [INFO] - VALIDATION_SPLIT_SIZE: 0.2\n",
      "2025-10-16 19:54:21 - [INFO] - LABEL_MAP: {'intrinsic': 0, 'extrinsic': 1, 'no': 2}\n",
      "2025-10-16 19:54:21 - [INFO] - ID2LABEL: {0: 'intrinsic', 1: 'extrinsic', 2: 'no'}\n",
      "2025-10-16 19:54:21 - [INFO] - CLASS_WEIGHTS: [1.0393466963622866, 1.0114145354717525, 0.9531590413943355]\n",
      "2025-10-16 19:54:21 - [INFO] - ============================================================\n",
      "2025-10-16 19:54:21 - [INFO] - Logger initialized for microsoft/infoxlm-large\n",
      "2025-10-16 19:54:21 - [INFO] - ============================================================\n",
      "2025-10-16 19:54:21 - [INFO] - 🚀 STARTING TRAINING SESSION\n",
      "2025-10-16 19:54:21 - [INFO] - ============================================================\n",
      "2025-10-16 19:54:21 - [INFO] - ROOT_DIR: /home/guest/Projects/CS221\n",
      "2025-10-16 19:54:21 - [INFO] - DATA_DIR: /home/guest/Projects/CS221/data\n",
      "2025-10-16 19:54:21 - [INFO] - TRAIN_FILE: /home/guest/Projects/CS221/data/vihallu-train.csv\n",
      "2025-10-16 19:54:21 - [INFO] - TEST_FILE: /home/guest/Projects/CS221/data/vihallu-public-test.csv\n",
      "2025-10-16 19:54:21 - [INFO] - SUBMISSION_DIR: /home/guest/Projects/CS221/submission\n",
      "2025-10-16 19:54:21 - [INFO] - SUBMISSION_CSV: submit.csv\n",
      "2025-10-16 19:54:21 - [INFO] - SUBMISSION_ZIP: submit.zip\n",
      "2025-10-16 19:54:21 - [INFO] - MODEL_NAME: microsoft/infoxlm-large\n",
      "2025-10-16 19:54:21 - [INFO] - MODEL_OUTPUT_DIR: /home/guest/Projects/CS221/models/infoxlm-large-tuned\n",
      "2025-10-16 19:54:21 - [INFO] - MAX_LENGTH: 512\n",
      "2025-10-16 19:54:21 - [INFO] - RANDOM_STATE: 42\n",
      "2025-10-16 19:54:21 - [INFO] - EPOCHS: 10\n",
      "2025-10-16 19:54:21 - [INFO] - BATCH_SIZE: 4\n",
      "2025-10-16 19:54:21 - [INFO] - GRADIENT_ACCUMULATION_STEPS: 4\n",
      "2025-10-16 19:54:21 - [INFO] - SCHEDULER_TYPE: cosine\n",
      "2025-10-16 19:54:21 - [INFO] - LEARNING_RATE: 6e-06\n",
      "2025-10-16 19:54:21 - [INFO] - WEIGHT_DECAY: 0.02\n",
      "2025-10-16 19:54:21 - [INFO] - CLASSIFIER_DROPOUT: 0.05\n",
      "2025-10-16 19:54:21 - [INFO] - EPSILON: 1e-08\n",
      "2025-10-16 19:54:21 - [INFO] - PATIENCE_LIMIT: 2\n",
      "2025-10-16 19:54:21 - [INFO] - TOTAL_STEP_SCALE: 0.1\n",
      "2025-10-16 19:54:21 - [INFO] - LABEL_SMOOTHING: 0.05\n",
      "2025-10-16 19:54:21 - [INFO] - VALIDATION_SPLIT_SIZE: 0.2\n",
      "2025-10-16 19:54:21 - [INFO] - LABEL_MAP: {'intrinsic': 0, 'extrinsic': 1, 'no': 2}\n",
      "2025-10-16 19:54:21 - [INFO] - ID2LABEL: {0: 'intrinsic', 1: 'extrinsic', 2: 'no'}\n",
      "2025-10-16 19:54:21 - [INFO] - CLASS_WEIGHTS: [1.0393466963622866, 1.0114145354717525, 0.9531590413943355]\n",
      "2025-10-16 19:54:21 - [INFO] - ============================================================\n"
     ]
    }
   ],
   "source": [
    "logger = setup_logger(f\"{cfg.MODEL_NAME}-training\")\n",
    "logger.info(f\"Logger initialized for {cfg.MODEL_NAME}\")\n",
    "\n",
    "logger.info(\"=\" * 60)\n",
    "logger.info(\"🚀 STARTING TRAINING SESSION\")\n",
    "logger.info(\"=\" * 60)\n",
    "for key, value in Config.__dict__.items():\n",
    "    if not key.startswith(\"__\") and not callable(value):\n",
    "        logger.info(f\"{key}: {value}\")\n",
    "logger.info(\"=\" * 60)\n"
   ]
  },
  {
   "cell_type": "markdown",
   "id": "29c3b202",
   "metadata": {},
   "source": [
    "# Hallucination Dataset"
   ]
  },
  {
   "cell_type": "code",
   "execution_count": null,
   "id": "ce606de4",
   "metadata": {},
   "outputs": [],
   "source": [
    "# Cell [6] - ĐÃ CẬP NHẬT\n",
    "import torch\n",
    "from torch.utils.data import Dataset\n",
    "\n",
    "\n",
    "class HallucinationDataset(Dataset):\n",
    "    def __init__(self, premises, hypotheses, labels, tokenizer, max_len):\n",
    "        self.premises = premises\n",
    "        self.hypotheses = hypotheses\n",
    "        self.labels = labels\n",
    "        self.tokenizer = tokenizer\n",
    "        self.max_len = max_len\n",
    "\n",
    "    def __len__(self):\n",
    "        return len(self.labels)\n",
    "\n",
    "    def __getitem__(self, idx):\n",
    "        premise = self.premises[idx]\n",
    "        hypothesis = self.hypotheses[idx]\n",
    "        label = self.labels[idx]\n",
    "\n",
    "        # Tokenize bằng cách truyền 2 chuỗi riêng biệt\n",
    "        # Tokenizer sẽ tự động cắt bớt `premise` nếu cần\n",
    "        encoding = self.tokenizer.encode_plus(\n",
    "            premise,\n",
    "            hypothesis,  # <-- text_pair\n",
    "            add_special_tokens=True,\n",
    "            max_length=self.max_len,\n",
    "            return_token_type_ids=False,\n",
    "            truncation=True,\n",
    "            return_attention_mask=True,\n",
    "        )\n",
    "\n",
    "        return {\n",
    "            \"input_ids\": encoding[\"input_ids\"],\n",
    "            \"attention_mask\": encoding[\"attention_mask\"],\n",
    "            \"labels\": torch.tensor(label, dtype=torch.long),\n",
    "        }\n"
   ]
  },
  {
   "cell_type": "markdown",
   "id": "fbbc1878",
   "metadata": {},
   "source": [
    "## Prepare data"
   ]
  },
  {
   "cell_type": "code",
   "execution_count": null,
   "id": "efcfa808",
   "metadata": {},
   "outputs": [],
   "source": [
    "from sklearn.model_selection import train_test_split\n",
    "\n",
    "\n",
    "def prepare_data(config, logger=None):\n",
    "    df = pd.read_csv(config.TRAIN_FILE)\n",
    "    print(f\"✅ Đọc thành công {len(df)} mẫu từ file đã xử lý: {config.TRAIN_FILE}\")\n",
    "\n",
    "    # Tạo 2 cột premise và hypothesis từ ngữ cảnh (context)\n",
    "    df[\"premise\"] = (\n",
    "        \"Câu hỏi: \"\n",
    "        + df[\"prompt\"].astype(str)\n",
    "        + \" Ngữ cảnh: \"\n",
    "        + df[\"context\"].astype(str)\n",
    "    )\n",
    "    df[\"hypothesis\"] = df[\"response\"].astype(str)\n",
    "\n",
    "    df[\"label_id\"] = df[\"label\"].map(config.LABEL_MAP)\n",
    "    df.dropna(subset=[\"label_id\"], inplace=True)\n",
    "    df[\"label_id\"] = df[\"label_id\"].astype(int)\n",
    "\n",
    "    train_df, val_df = train_test_split(\n",
    "        df,\n",
    "        test_size=config.VALIDATION_SPLIT_SIZE,\n",
    "        random_state=config.RANDOM_STATE,\n",
    "        stratify=df[\"label_id\"],\n",
    "    )\n",
    "\n",
    "    if logger:\n",
    "        logger.info(\n",
    "            f\"Chia dữ liệu: {len(train_df)} mẫu train, {len(val_df)} mẫu validation.\"\n",
    "        )\n",
    "\n",
    "    # --- PHẦN NÂNG CẤP: LƯU FILE RA THƯ MỤC DATA ---\n",
    "    # Tạo thư mục 'processed' trong 'data' nếu chưa có\n",
    "    processed_data_dir = os.path.join(config.DATA_DIR, \"processed\")\n",
    "    os.makedirs(processed_data_dir, exist_ok=True)\n",
    "\n",
    "    # Định nghĩa đường dẫn file\n",
    "    train_output_path = os.path.join(processed_data_dir, \"train_split.csv\")\n",
    "    val_output_path = os.path.join(processed_data_dir, \"validation_split.csv\")\n",
    "\n",
    "    # Lưu các DataFrame\n",
    "    train_df.to_csv(train_output_path, index=False, encoding=\"utf-8-sig\")\n",
    "    val_df.to_csv(val_output_path, index=False, encoding=\"utf-8-sig\")\n",
    "\n",
    "    print(f\"✅ Đã lưu tập train vào: {train_output_path}\")\n",
    "    print(f\"✅ Đã lưu tập validation vào: {val_output_path}\")\n",
    "    # --- KẾT THÚC PHẦN NÂNG CẤP ---\n",
    "\n",
    "    return train_df, val_df\n"
   ]
  },
  {
   "cell_type": "markdown",
   "id": "f432b434",
   "metadata": {},
   "source": [
    "# Model"
   ]
  },
  {
   "cell_type": "code",
   "execution_count": null,
   "id": "f39c273c",
   "metadata": {},
   "outputs": [],
   "source": [
    "from transformers import AutoConfig, AutoTokenizer, AutoModelForSequenceClassification\n",
    "import torch.nn as nn\n",
    "\n",
    "\n",
    "def get_model_and_tokenizer(config):\n",
    "    \"\"\"Tải pre-trained model và tokenizer.\"\"\"\n",
    "    print(f\"Đang tải model: {config.MODEL_NAME}\")\n",
    "    tokenizer = AutoTokenizer.from_pretrained(config.MODEL_NAME)\n",
    "\n",
    "    # Tải config/model/tokenizer với trust_remote_code=True để cho phép model custom\n",
    "    cfg = AutoConfig.from_pretrained(config.MODEL_NAME, trust_remote_code=True)\n",
    "    print(f\"Model config: {cfg}\")\n",
    "\n",
    "    model = AutoModelForSequenceClassification.from_pretrained(\n",
    "        config.MODEL_NAME, num_labels=len(config.LABEL_MAP)\n",
    "    )\n",
    "\n",
    "    # apply classifier dropout if provided in config\n",
    "    if hasattr(config, \"CLASSIFIER_DROPOUT\"):\n",
    "        if hasattr(model.config, \"classifier_dropout\"):\n",
    "            model.config.classifier_dropout = config.CLASSIFIER_DROPOUT\n",
    "        if hasattr(model.config, \"hidden_dropout_prob\"):\n",
    "            model.config.hidden_dropout_prob = config.CLASSIFIER_DROPOUT\n",
    "\n",
    "        if hasattr(model.config, \"attention_probs_dropout_prob\"):\n",
    "            model.config.attention_probs_dropout_prob = min(\n",
    "                0.15, max(0.1, config.CLASSIFIER_DROPOUT)\n",
    "            )\n",
    "        for m in model.modules():\n",
    "            if isinstance(m, nn.Dropout):\n",
    "                m.p = config.CLASSIFIER_DROPOUT\n",
    "    return model, tokenizer\n"
   ]
  },
  {
   "cell_type": "markdown",
   "id": "21114019",
   "metadata": {},
   "source": [
    "# Training"
   ]
  },
  {
   "cell_type": "code",
   "execution_count": null,
   "id": "32b10adb",
   "metadata": {},
   "outputs": [],
   "source": [
    "import os\n",
    "import math\n",
    "import torch\n",
    "import numpy as np\n",
    "import pandas as pd\n",
    "from dotenv import load_dotenv\n",
    "from tqdm.auto import tqdm\n",
    "from torch.optim import AdamW\n",
    "from huggingface_hub import login\n",
    "from transformers import get_scheduler\n",
    "from torch.utils.data import DataLoader\n",
    "from tqdm.contrib.logging import logging_redirect_tqdm\n",
    "from sklearn.utils.class_weight import compute_class_weight\n",
    "from sklearn.metrics import f1_score, accuracy_score, classification_report\n",
    "from functools import partial\n"
   ]
  },
  {
   "cell_type": "markdown",
   "id": "d09e6336",
   "metadata": {},
   "source": [
    "## train one epoch function"
   ]
  },
  {
   "cell_type": "code",
   "execution_count": null,
   "id": "b1154314",
   "metadata": {},
   "outputs": [],
   "source": [
    "def train_one_epoch(\n",
    "    model,\n",
    "    data_loader,\n",
    "    loss_fn,\n",
    "    optimizer,\n",
    "    scheduler,\n",
    "    device,\n",
    "    epoch=None,\n",
    "    total_epochs=None,\n",
    "    gradient_accumulation_steps=1,\n",
    "):\n",
    "    \"\"\"Huấn luyện mô hình trong một epoch bằng gradient accumulation.\"\"\"\n",
    "    model.train()\n",
    "    total_loss = 0\n",
    "    desc = f\"Train\" if epoch is None else f\"Epoch {epoch}/{total_epochs}\"\n",
    "    progress_bar = tqdm(\n",
    "        data_loader, desc=desc, leave=False, dynamic_ncols=True, mininterval=0.5\n",
    "    )\n",
    "\n",
    "    optimizer.zero_grad()\n",
    "    steps_in_epoch = len(data_loader)\n",
    "    with logging_redirect_tqdm():  # make logger calls safe\n",
    "        for step, batch in enumerate(progress_bar):\n",
    "            input_ids = batch[\"input_ids\"].to(device)\n",
    "            attention_mask = batch[\"attention_mask\"].to(device)\n",
    "            labels = batch[\"labels\"].to(device)\n",
    "\n",
    "            outputs = model(input_ids, attention_mask=attention_mask)\n",
    "            logits = outputs.logits  # shape (batch_size, num_labels)\n",
    "\n",
    "            loss = loss_fn(logits, labels)\n",
    "            total_loss += loss.item()\n",
    "            scaled_loss = loss / gradient_accumulation_steps\n",
    "            scaled_loss.backward()\n",
    "\n",
    "            if (step + 1) % gradient_accumulation_steps == 0 or (\n",
    "                step + 1\n",
    "            ) == steps_in_epoch:\n",
    "                torch.nn.utils.clip_grad_norm_(model.parameters(), max_norm=1.0)\n",
    "                optimizer.step()\n",
    "                scheduler.step()\n",
    "                optimizer.zero_grad()\n",
    "\n",
    "            progress_bar.set_postfix({\"loss\": f\"{loss.item():.4f}\"})\n",
    "\n",
    "    return total_loss / len(data_loader)\n"
   ]
  },
  {
   "cell_type": "markdown",
   "id": "4b3398cf",
   "metadata": {},
   "source": [
    "## Evaluate"
   ]
  },
  {
   "cell_type": "code",
   "execution_count": null,
   "id": "194e5a82",
   "metadata": {},
   "outputs": [],
   "source": [
    "def evaluate(model, data_loader, loss_fn, device):\n",
    "    \"\"\"Đánh giá mô hình trên tập dữ liệu.\"\"\"\n",
    "    model.eval()\n",
    "    all_preds = []\n",
    "    all_labels = []\n",
    "    total_val_loss = 0\n",
    "\n",
    "    progress_bar = tqdm(data_loader, desc=\"Evaluating\", leave=False, dynamic_ncols=True)\n",
    "\n",
    "    with torch.no_grad(), logging_redirect_tqdm():\n",
    "        for batch in progress_bar:\n",
    "            input_ids = batch[\"input_ids\"].to(device)\n",
    "            attention_mask = batch[\"attention_mask\"].to(device)\n",
    "            labels = batch[\"labels\"].to(device)\n",
    "\n",
    "            outputs = model(input_ids, attention_mask=attention_mask)\n",
    "            logits = outputs.logits\n",
    "\n",
    "            # <<< TÍNH LOSS TRÊN TẬP VALIDATION\n",
    "            loss = loss_fn(logits, labels)\n",
    "            total_val_loss += loss.item()\n",
    "\n",
    "            preds = torch.argmax(outputs.logits, dim=-1)\n",
    "\n",
    "            all_preds.extend(preds.cpu().numpy())\n",
    "            all_labels.extend(labels.cpu().numpy())\n",
    "\n",
    "    avg_val_loss = total_val_loss / len(data_loader)  # <<< TÍNH LOSS TRUNG BÌNH\n",
    "    return all_labels, all_preds, avg_val_loss  # <<< TRẢ VỀ THÊM LOSS\n"
   ]
  },
  {
   "cell_type": "markdown",
   "id": "d08cfc13",
   "metadata": {},
   "source": [
    "# Main"
   ]
  },
  {
   "cell_type": "code",
   "execution_count": 10,
   "id": "7a07ea24",
   "metadata": {},
   "outputs": [
    {
     "name": "stdout",
     "output_type": "stream",
     "text": [
      "dotenv_path: /home/guest/Projects/CS221/envs/.env\n"
     ]
    }
   ],
   "source": [
    "# Tải biến môi trường từ file envs/.env.\n",
    "dotenv_path = os.path.join(os.getcwd(), \"envs\", \".env\")\n",
    "load_dotenv(dotenv_path)\n",
    "print(f\"dotenv_path: {dotenv_path}\")\n"
   ]
  },
  {
   "cell_type": "code",
   "execution_count": 11,
   "id": "c48a9b39",
   "metadata": {},
   "outputs": [
    {
     "name": "stdout",
     "output_type": "stream",
     "text": [
      "INFO: Tìm thấy HUGGING_FACE_TOKEN. Đang đăng nhập...\n",
      "INFO: Đăng nhập Hugging Face thành công.\n"
     ]
    }
   ],
   "source": [
    "# lấy HF token để login\n",
    "hf_token = os.getenv(\"HUGGING_FACE_TOKEN\")\n",
    "\n",
    "if hf_token:\n",
    "    print(\"INFO: Tìm thấy HUGGING_FACE_TOKEN. Đang đăng nhập...\")\n",
    "    login(token=hf_token)\n",
    "    print(\"INFO: Đăng nhập Hugging Face thành công.\")\n",
    "else:\n",
    "    print(\n",
    "        \"WARNING: Không tìm thấy HUGGING_FACE_TOKEN trong file .env. Một số model có thể yêu cầu đăng nhập.\"\n",
    "    )\n"
   ]
  },
  {
   "cell_type": "markdown",
   "id": "950b94e0",
   "metadata": {},
   "source": [
    "## 1. Chuẩn bị dữ liệu"
   ]
  },
  {
   "cell_type": "code",
   "execution_count": 12,
   "id": "20c739cd",
   "metadata": {},
   "outputs": [
    {
     "name": "stderr",
     "output_type": "stream",
     "text": [
      "2025-10-16 19:54:23 - [INFO] - Bắt đầu pipeline huấn luyện.\n",
      "2025-10-16 19:54:23 - [INFO] - Bước 1: Chuẩn bị dữ liệu...\n",
      "2025-10-16 19:54:23 - [INFO] - Chia dữ liệu: 5600 mẫu train, 1400 mẫu validation.\n"
     ]
    },
    {
     "name": "stdout",
     "output_type": "stream",
     "text": [
      "✅ Đọc thành công 7000 mẫu từ file đã xử lý: /home/guest/Projects/CS221/data/vihallu-train.csv\n",
      "✅ Đã lưu tập train vào: /home/guest/Projects/CS221/data/processed/train_split.csv\n",
      "✅ Đã lưu tập validation vào: /home/guest/Projects/CS221/data/processed/validation_split.csv\n"
     ]
    }
   ],
   "source": [
    "logger.info(\"Bắt đầu pipeline huấn luyện.\")\n",
    "\n",
    "# 1. Chuẩn bị dữ liệu\n",
    "logger.info(\"Bước 1: Chuẩn bị dữ liệu...\")\n",
    "train_df, val_df = prepare_data(cfg, logger=logger)\n",
    "if train_df is None:\n",
    "    logger.error(\"Dữ liệu không thể được chuẩn bị. Dừng chương trình.\")\n"
   ]
  },
  {
   "cell_type": "markdown",
   "id": "a4b8a1b7",
   "metadata": {},
   "source": [
    "## 2. Tải model và tokenizer"
   ]
  },
  {
   "cell_type": "code",
   "execution_count": 13,
   "id": "68f4f00b",
   "metadata": {},
   "outputs": [
    {
     "name": "stderr",
     "output_type": "stream",
     "text": [
      "2025-10-16 19:54:23 - [INFO] - Bước 2: Tải model 'microsoft/infoxlm-large' và tokenizer...\n"
     ]
    },
    {
     "name": "stdout",
     "output_type": "stream",
     "text": [
      "Đang tải model: microsoft/infoxlm-large\n",
      "Model config: XLMRobertaConfig {\n",
      "  \"architectures\": [\n",
      "    \"XLMRobertaForMaskedLM\"\n",
      "  ],\n",
      "  \"attention_probs_dropout_prob\": 0.1,\n",
      "  \"bos_token_id\": 0,\n",
      "  \"classifier_dropout\": null,\n",
      "  \"eos_token_id\": 2,\n",
      "  \"hidden_act\": \"gelu\",\n",
      "  \"hidden_dropout_prob\": 0.1,\n",
      "  \"hidden_size\": 1024,\n",
      "  \"initializer_range\": 0.02,\n",
      "  \"intermediate_size\": 4096,\n",
      "  \"layer_norm_eps\": 1e-05,\n",
      "  \"max_position_embeddings\": 514,\n",
      "  \"model_type\": \"xlm-roberta\",\n",
      "  \"num_attention_heads\": 16,\n",
      "  \"num_hidden_layers\": 24,\n",
      "  \"output_past\": true,\n",
      "  \"pad_token_id\": 1,\n",
      "  \"position_embedding_type\": \"absolute\",\n",
      "  \"transformers_version\": \"4.57.1\",\n",
      "  \"type_vocab_size\": 1,\n",
      "  \"use_cache\": true,\n",
      "  \"vocab_size\": 250002\n",
      "}\n",
      "\n"
     ]
    },
    {
     "name": "stderr",
     "output_type": "stream",
     "text": [
      "Some weights of XLMRobertaForSequenceClassification were not initialized from the model checkpoint at microsoft/infoxlm-large and are newly initialized: ['classifier.dense.bias', 'classifier.dense.weight', 'classifier.out_proj.bias', 'classifier.out_proj.weight']\n",
      "You should probably TRAIN this model on a down-stream task to be able to use it for predictions and inference.\n"
     ]
    }
   ],
   "source": [
    "logger.info(f\"Bước 2: Tải model '{cfg.MODEL_NAME}' và tokenizer...\")\n",
    "model, tokenizer = get_model_and_tokenizer(cfg)\n"
   ]
  },
  {
   "cell_type": "code",
   "execution_count": null,
   "id": "0416e4ed",
   "metadata": {},
   "outputs": [],
   "source": [
    "# %pip install torchinfo\n"
   ]
  },
  {
   "cell_type": "code",
   "execution_count": 15,
   "id": "aa9d1648",
   "metadata": {},
   "outputs": [
    {
     "name": "stderr",
     "output_type": "stream",
     "text": [
      "2025-10-16 19:54:28 - [INFO] - Phân tích kiến trúc mô hình bằng torchinfo...\n",
      "2025-10-16 19:54:30 - [INFO] - Kiến trúc chi tiết của mô hình:\n",
      "=====================================================================================================================================================================\n",
      "Layer (type:depth-idx)                                            Input Shape               Output Shape              Param #                   Mult-Adds\n",
      "=====================================================================================================================================================================\n",
      "XLMRobertaForSequenceClassification                               --                        [4, 3]                    --                        --\n",
      "├─XLMRobertaModel: 1-1                                            [4, 512]                  [4, 512, 1024]            --                        --\n",
      "│    └─XLMRobertaEmbeddings: 2-1                                  --                        [4, 512, 1024]            --                        --\n",
      "│    │    └─Embedding: 3-1                                        [4, 512]                  [4, 512, 1024]            256,002,048               1,024,008,192\n",
      "│    │    └─Embedding: 3-2                                        [4, 512]                  [4, 512, 1024]            1,024                     4,096\n",
      "│    │    └─Embedding: 3-3                                        [4, 512]                  [4, 512, 1024]            526,336                   2,105,344\n",
      "│    │    └─LayerNorm: 3-4                                        [4, 512, 1024]            [4, 512, 1024]            2,048                     8,192\n",
      "│    │    └─Dropout: 3-5                                          [4, 512, 1024]            [4, 512, 1024]            --                        --\n",
      "│    └─XLMRobertaEncoder: 2-2                                     [4, 512, 1024]            [4, 512, 1024]            --                        --\n",
      "│    │    └─ModuleList: 3-6                                       --                        --                        302,309,376               --\n",
      "├─XLMRobertaClassificationHead: 1-2                               [4, 512, 1024]            [4, 3]                    --                        --\n",
      "│    └─Dropout: 2-3                                               [4, 1024]                 [4, 1024]                 --                        --\n",
      "│    └─Linear: 2-4                                                [4, 1024]                 [4, 1024]                 1,049,600                 4,198,400\n",
      "│    └─Dropout: 2-5                                               [4, 1024]                 [4, 1024]                 --                        --\n",
      "│    └─Linear: 2-6                                                [4, 1024]                 [4, 3]                    3,075                     12,300\n",
      "=====================================================================================================================================================================\n",
      "Total params: 559,893,507\n",
      "Trainable params: 559,893,507\n",
      "Non-trainable params: 0\n",
      "Total mult-adds (Units.GIGABYTES): 2.24\n",
      "=====================================================================================================================================================================\n",
      "Input size (MB): 0.02\n",
      "Forward/backward pass size (MB): 4496.33\n",
      "Params size (MB): 2239.57\n",
      "Estimated Total Size (MB): 6735.92\n",
      "=====================================================================================================================================================================\n"
     ]
    }
   ],
   "source": [
    "from torchinfo import summary\n",
    "import torch  # Đảm bảo đã import torch\n",
    "\n",
    "logger.info(\"Phân tích kiến trúc mô hình bằng torchinfo...\")\n",
    "\n",
    "# --- Dùng torchinfo để hiển thị ---\n",
    "# Tạo một input giả với batch_size và max_length như trong config\n",
    "input_ids_example = torch.randint(\n",
    "    0, tokenizer.vocab_size, (cfg.BATCH_SIZE, cfg.MAX_LENGTH)\n",
    ")\n",
    "\n",
    "# 1. Gọi summary với verbose=0 để không in ra console và lưu kết quả vào biến\n",
    "#    Thêm các cột bạn muốn xem, ví dụ: 'output_size', 'num_params'\n",
    "model_summary = summary(\n",
    "    model,\n",
    "    input_data={\"input_ids\": input_ids_example},\n",
    "    verbose=0,  # <-- Quan trọng: Ngăn không cho tự động in\n",
    "    col_names=[\"input_size\", \"output_size\", \"num_params\", \"mult_adds\"],\n",
    ")\n",
    "\n",
    "# 2. Chuyển đối tượng summary thành string và đưa vào logger\n",
    "logger.info(f\"Kiến trúc chi tiết của mô hình:\\n{str(model_summary)}\")\n",
    "\n",
    "\n",
    "# # (Tùy chọn) Bạn vẫn có thể in ra màn hình nếu muốn xem ngay trong notebook\n",
    "# print(\"In summary ra màn hình notebook:\")\n",
    "# print(model_summary)\n"
   ]
  },
  {
   "cell_type": "markdown",
   "id": "53ffd869",
   "metadata": {},
   "source": [
    "## 3. Tạo Dataset và DataLoader"
   ]
  },
  {
   "cell_type": "code",
   "execution_count": 16,
   "id": "9803da5c",
   "metadata": {},
   "outputs": [
    {
     "name": "stderr",
     "output_type": "stream",
     "text": [
      "2025-10-16 19:54:30 - [INFO] - Bước 3: Tạo Dataset và DataLoader...\n",
      "2025-10-16 19:54:30 - [INFO] - ✅ Tạo DataLoader thành công với pipeline tối ưu!\n",
      "2025-10-16 19:54:30 - [INFO] - ✅ Tạo DataLoader thành công với pipeline tối ưu!\n"
     ]
    }
   ],
   "source": [
    "# Cell [15] - ĐÃ CẬP NHẬT\n",
    "from torch.utils.data import DataLoader\n",
    "from functools import partial\n",
    "\n",
    "\n",
    "# --- HÀM COLLATE TÙY CHỈNH (KHÔNG THAY ĐỔI) ---\n",
    "def custom_collate_fn(features, tokenizer):\n",
    "    max_len = max(len(f[\"input_ids\"]) for f in features)\n",
    "    pad_token_id = tokenizer.pad_token_id\n",
    "    for feature in features:\n",
    "        padding_length = max_len - len(feature[\"input_ids\"])\n",
    "        feature[\"input_ids\"] = feature[\"input_ids\"] + [pad_token_id] * padding_length\n",
    "        feature[\"attention_mask\"] = feature[\"attention_mask\"] + [0] * padding_length\n",
    "    input_ids = torch.tensor([f[\"input_ids\"] for f in features], dtype=torch.long)\n",
    "    attention_mask = torch.tensor(\n",
    "        [f[\"attention_mask\"] for f in features], dtype=torch.long\n",
    "    )\n",
    "    labels = torch.stack([f[\"labels\"] for f in features])\n",
    "    return {\n",
    "        \"input_ids\": input_ids,\n",
    "        \"attention_mask\": attention_mask,\n",
    "        \"labels\": labels,\n",
    "    }\n",
    "\n",
    "\n",
    "# --- TẠO DATASET VÀ DATALOADER (THEO CÁCH MỚI) ---\n",
    "logger.info(\"Bước 3: Tạo Dataset và DataLoader...\")\n",
    "\n",
    "# Tạo Dataset bằng cách truyền 2 cột mới là premise và hypothesis\n",
    "train_dataset = HallucinationDataset(\n",
    "    premises=train_df[\"premise\"].to_list(),\n",
    "    hypotheses=train_df[\"hypothesis\"].to_list(),\n",
    "    labels=train_df[\"label_id\"].to_list(),\n",
    "    tokenizer=tokenizer,\n",
    "    max_len=cfg.MAX_LENGTH,\n",
    ")\n",
    "val_dataset = HallucinationDataset(\n",
    "    premises=val_df[\"premise\"].to_list(),\n",
    "    hypotheses=val_df[\"hypothesis\"].to_list(),\n",
    "    labels=val_df[\"label_id\"].to_list(),\n",
    "    tokenizer=tokenizer,\n",
    "    max_len=cfg.MAX_LENGTH,\n",
    ")\n",
    "\n",
    "# Tạo DataLoader và truyền hàm custom_collate_fn vào\n",
    "collate_with_tokenizer = partial(custom_collate_fn, tokenizer=tokenizer)\n",
    "train_loader = DataLoader(\n",
    "    train_dataset,\n",
    "    batch_size=cfg.BATCH_SIZE,\n",
    "    shuffle=True,\n",
    "    collate_fn=collate_with_tokenizer,\n",
    ")\n",
    "val_loader = DataLoader(\n",
    "    val_dataset, batch_size=cfg.BATCH_SIZE, collate_fn=collate_with_tokenizer\n",
    ")\n",
    "\n",
    "logger.info(\"✅ Tạo DataLoader thành công với pipeline tối ưu!\")\n"
   ]
  },
  {
   "cell_type": "code",
   "execution_count": 17,
   "id": "00ac99c4",
   "metadata": {},
   "outputs": [
    {
     "name": "stderr",
     "output_type": "stream",
     "text": [
      "2025-10-16 19:54:30 - [INFO] - Gradient accumulation steps: 4 | Effective batch size: 16\n"
     ]
    }
   ],
   "source": [
    "gradient_accumulation_steps = max(1, cfg.GRADIENT_ACCUMULATION_STEPS)\n",
    "effective_batch_size = cfg.BATCH_SIZE * gradient_accumulation_steps\n",
    "logger.info(\n",
    "    \"Gradient accumulation steps: %s | Effective batch size: %s\",\n",
    "    gradient_accumulation_steps,\n",
    "    effective_batch_size,\n",
    ")\n"
   ]
  },
  {
   "cell_type": "markdown",
   "id": "eae8a4a1",
   "metadata": {},
   "source": [
    "### Check dataset"
   ]
  },
  {
   "cell_type": "code",
   "execution_count": 18,
   "id": "0c8564a3",
   "metadata": {},
   "outputs": [
    {
     "name": "stdout",
     "output_type": "stream",
     "text": [
      "\n",
      "--- Kiểm tra 1 batch dữ liệu đầu vào ---\n",
      "Kích thước input_ids: torch.Size([4, 407])\n",
      "Kích thước attention_mask: torch.Size([4, 407])\n",
      "Nhãn trong batch: tensor([2, 0, 0, 1])\n",
      "\n",
      "Một mẫu đã được token hóa và giải mã lại:\n",
      "<s> Câu hỏi: Việt Minh sẽ nhận được gì nếu đồng ý hợp nhất ba tổ chức? Ngữ cảnh: Trong hai ngày 18 và 19 tháng 9 năm 1945, Việt Minh họp bí mật với Việt Cách (ngày 18/9/1945) và Việt Quốc (ngày 19/9/1945). Trong hai cuộc họp này, Nguyễn Hải Thần đại diện Việt Cách và Nguyễn Tường Tam đại diện Việt Quốc đề nghị Hồ Chí Minh đồng ý hợp nhất Việt Minh với Việt Cách và Việt Quốc. Qua đó, Chính phủ Việt Nam Dân chủ Cộng hòa do Việt Minh lãnh đạo sẽ nhận được sự ủng hộ về tài chính và chính trị của Trung Hoa Dân quốc. Võ Nguyên Giáp dứt khoát không đồng ý. Theo ông, những đề nghị đó không có giá trị và không thật thà, nó chẳng khác gì thay thế chủ nghĩa thực dân Pháp bằng ách thống trị của Trung Quốc, nhân dân sẽ \"chẳng bao giờ chịu bán rẻ sự nghiệp chính nghĩa của họ để đổi lấy đô la Trung Quốc\".</s></s> Việt Minh sẽ nhận được sự ủng hộ về tài chính và chính trị của Trung Hoa Dân quốc nếu đồng ý hợp nhất với Việt Cách và Việt Quốc.</s><pad><pad><pad><pad><pad><pad><pad><pad><pad><pad><pad><pad><pad><pad><pad><pad><pad><pad><pad><pad><pad><pad><pad><pad><pad><pad><pad><pad><pad><pad><pad><pad><pad><pad><pad><pad><pad><pad><pad><pad><pad><pad><pad><pad><pad><pad><pad><pad><pad><pad><pad><pad><pad><pad><pad><pad><pad><pad><pad><pad><pad><pad><pad><pad><pad><pad><pad><pad><pad><pad><pad><pad><pad><pad><pad><pad><pad><pad><pad><pad><pad><pad><pad><pad><pad><pad><pad><pad><pad><pad><pad><pad><pad><pad><pad><pad><pad><pad><pad><pad><pad><pad><pad><pad><pad><pad><pad><pad><pad><pad><pad><pad><pad><pad><pad><pad><pad><pad><pad><pad><pad><pad><pad><pad><pad><pad><pad><pad><pad><pad><pad><pad><pad><pad><pad><pad><pad><pad><pad><pad><pad><pad><pad><pad><pad><pad><pad><pad><pad><pad><pad><pad><pad><pad><pad><pad><pad><pad><pad><pad><pad><pad><pad><pad><pad><pad><pad>\n",
      "------------------------------------------\n",
      "\n"
     ]
    }
   ],
   "source": [
    "print(\"\\n--- Kiểm tra 1 batch dữ liệu đầu vào ---\")\n",
    "sample_batch = next(iter(train_loader))\n",
    "\n",
    "print(\"Kích thước input_ids:\", sample_batch[\"input_ids\"].shape)\n",
    "print(\"Kích thước attention_mask:\", sample_batch[\"attention_mask\"].shape)\n",
    "print(\"Nhãn trong batch:\", sample_batch[\"labels\"])\n",
    "\n",
    "# Giải mã một mẫu để xem nó trông như thế nào\n",
    "decoded_text = tokenizer.decode(sample_batch[\"input_ids\"][0], skip_special_tokens=False)\n",
    "print(\"\\nMột mẫu đã được token hóa và giải mã lại:\")\n",
    "print(decoded_text)\n",
    "print(\"------------------------------------------\\n\")\n",
    "# --- KẾT THÚC BƯỚC KIỂM TRA ---\n"
   ]
  },
  {
   "cell_type": "code",
   "execution_count": 19,
   "id": "7fa66f2c",
   "metadata": {},
   "outputs": [
    {
     "name": "stdout",
     "output_type": "stream",
     "text": [
      "\n",
      "--- Kiểm tra chi tiết 5 mẫu đầu tiên để so sánh trước và sau khi xử lý ---\n",
      "\n",
      "=============== MẪU 0 ===============\n",
      "Số token gốc (ước tính): 216\n",
      "Số token sau khi xử lý (giới hạn bởi max_len=512): 216\n",
      "✅  OK: Độ dài mẫu nằm trong giới hạn, không bị cắt.\n",
      "\n",
      "--- Văn bản GỐC  ---\n",
      "Câu hỏi: Nước chấm được pha trộn bởi những nguyên liệu gì? Ngữ cảnh: Ẩm thực Việt Nam đặc trưng với việc sử dụng rất nhiều loại mắm, nước chấm từ loãng đến đặc. Mắm, nước chấm có thể dùng nguyên chất, có thể chưng lên hoặc pha chế, phối trộn với ớt, gừng hoặc tỏi, hạt tiêu, đường, chanh hoặc giấm. Người sành nội trợ thường có kinh nghiệm đặc biệt để pha chế nước chấm tùy theo món ăn. Thậm chí, cùng nguyên liệu là nước mắm, dấm, đường, tỏi, ớt, dùng để ăn với món gì thì tỷ lệ các thành phần pha chế cũng khác nhau, như khi dùng chấm rau sống thì pha nhạt, ăn với bún chả thì thêm chua. [SEP] Nước chấm còn có thể pha thêm với dầu mè để tạo hương thơm đặc biệt, hoặc sử dụng nước dừa tươi để làm dịu vị, tạo ra hương vị độc đáo cho món ăn.\n",
      "\n",
      "--- Văn bản SAU KHI DECODE từ input_ids ---\n",
      "<s> Câu hỏi: Nước chấm được pha trộn bởi những nguyên liệu gì? Ngữ cảnh: Ẩm thực Việt Nam đặc trưng với việc sử dụng rất nhiều loại mắm, nước chấm từ loãng đến đặc. Mắm, nước chấm có thể dùng nguyên chất, có thể chưng lên hoặc pha chế, phối trộn với ớt, gừng hoặc tỏi, hạt tiêu, đường, chanh hoặc giấm. Người sành nội trợ thường có kinh nghiệm đặc biệt để pha chế nước chấm tùy theo món ăn. Thậm chí, cùng nguyên liệu là nước mắm, dấm, đường, tỏi, ớt, dùng để ăn với món gì thì tỷ lệ các thành phần pha chế cũng khác nhau, như khi dùng chấm rau sống thì pha nhạt, ăn với bún chả thì thêm chua.</s></s> Nước chấm còn có thể pha thêm với dầu mè để tạo hương thơm đặc biệt, hoặc sử dụng nước dừa tươi để làm dịu vị, tạo ra hương vị độc đáo cho món ăn.</s>\n",
      "\n",
      "=============== MẪU 1 ===============\n",
      "Số token gốc (ước tính): 273\n",
      "Số token sau khi xử lý (giới hạn bởi max_len=512): 273\n",
      "✅  OK: Độ dài mẫu nằm trong giới hạn, không bị cắt.\n",
      "\n",
      "--- Văn bản GỐC  ---\n",
      "Câu hỏi: Newt0n dã hoan thàn phuong phap của ai? Ngữ cảnh: Bốn quy tắc súc tích và tổng quát cho nghiên cứu khoa học này đã là một cuộc cách mạng về tư duy thực sự vào thời điểm bấy giờ. Thực hiện các quy tắc này, Newton đã hình thành được các định luật tổng quát của tự nhiên và giải thích được gần như tất cả các bài toán khoa học vào thời của ông. Newton còn đi xa hơn việc chỉ đưa ra các quy tắc cho lý luận, ông đã miêu tả cách áp dụng chúng trong việc giải quyết một bài toán cụ thể. Phương pháp giải tích mà ông sáng tạo vượt trội các phương pháp mang tính triết lý hơn là tính chính xác khoa học của Aristoteles và Thomas Aquinas. Newton đã hoàn thiện phương pháp thực nghiệm của Galileo Galilei, tạo ra phương pháp tổng hợp vẫn còn được sử dụng cho đến ngày nay trong khoa học. Những câu chữ sau đây trong quyển Opticks (Quang học) của ông có thể dễ dàng bị nhầm lẫn với trình bày hiện đại của phương pháp nghiên cứu thời nay, nếu Newton dùng từ \"khoa học\" thay cho \"triết lý về tự nhiên\": [SEP] Newton đã hoàn thiện phương pháp thực nghiệm của Galileo Galilei.\n",
      "\n",
      "--- Văn bản SAU KHI DECODE từ input_ids ---\n",
      "<s> Câu hỏi: Newt0n dã hoan thàn phuong phap của ai? Ngữ cảnh: Bốn quy tắc súc tích và tổng quát cho nghiên cứu khoa học này đã là một cuộc cách mạng về tư duy thực sự vào thời điểm bấy giờ. Thực hiện các quy tắc này, Newton đã hình thành được các định luật tổng quát của tự nhiên và giải thích được gần như tất cả các bài toán khoa học vào thời của ông. Newton còn đi xa hơn việc chỉ đưa ra các quy tắc cho lý luận, ông đã miêu tả cách áp dụng chúng trong việc giải quyết một bài toán cụ thể. Phương pháp giải tích mà ông sáng tạo vượt trội các phương pháp mang tính triết lý hơn là tính chính xác khoa học của Aristoteles và Thomas Aquinas. Newton đã hoàn thiện phương pháp thực nghiệm của Galileo Galilei, tạo ra phương pháp tổng hợp vẫn còn được sử dụng cho đến ngày nay trong khoa học. Những câu chữ sau đây trong quyển Opticks (Quang học) của ông có thể dễ dàng bị nhầm lẫn với trình bày hiện đại của phương pháp nghiên cứu thời nay, nếu Newton dùng từ \"khoa học\" thay cho \"triết lý về tự nhiên\":</s></s> Newton đã hoàn thiện phương pháp thực nghiệm của Galileo Galilei.</s>\n",
      "\n",
      "=============== MẪU 2 ===============\n",
      "Số token gốc (ước tính): 260\n",
      "Số token sau khi xử lý (giới hạn bởi max_len=512): 260\n",
      "✅  OK: Độ dài mẫu nằm trong giới hạn, không bị cắt.\n",
      "\n",
      "--- Văn bản GỐC  ---\n",
      "Câu hỏi: Biển Đông nằm về phía nào của đại lục Trung Hoa và có phải nó thuộc chủ quyền của Trung Quốc vì tên gọi quốc tế là biển Nam Trung Hoa không? Ngữ cảnh: Tên gọi quốc tế của Biển Đông ra đời từ nhiều thế kỷ trước, là biển Nam Trung Hoa (South China Sea) hay gọi tắt là biển Hoa Nam vì thời bấy giờ Trung Quốc là nước rộng lớn nhất, phát triển nhất trong khu vực và đã có giao thương với phương Tây qua con đường tơ lụa. Tên gọi nhiều biển, đại dương vốn căn cứ vào vị trí của chúng so với các vùng đất gần đó cho dễ tra cứu, không có ý nói về chủ quyền, cần tránh nhầm lẫn. Có thể kể ra các thí dụ là Ấn Độ Dương, là đại dương ở phía nam Ấn Độ, giáp nhiều nước ở châu Á và châu Phi, không phải là của riêng nước Ấn Độ; hay biển Nhật Bản, được bao quanh bởi Nga, Bắc Triều Tiên, Hàn Quốc và Nhật Bản. [SEP] Biển Đông nằm ở phía đông của đại lục Trung Hoa và thuộc chủ quyền của Trung Quốc vì tên gọi quốc tế là biển Nam Trung Hoa, phản ánh quyền sở hữu của Trung Quốc từ xưa.\n",
      "\n",
      "--- Văn bản SAU KHI DECODE từ input_ids ---\n",
      "<s> Câu hỏi: Biển Đông nằm về phía nào của đại lục Trung Hoa và có phải nó thuộc chủ quyền của Trung Quốc vì tên gọi quốc tế là biển Nam Trung Hoa không? Ngữ cảnh: Tên gọi quốc tế của Biển Đông ra đời từ nhiều thế kỷ trước, là biển Nam Trung Hoa (South China Sea) hay gọi tắt là biển Hoa Nam vì thời bấy giờ Trung Quốc là nước rộng lớn nhất, phát triển nhất trong khu vực và đã có giao thương với phương Tây qua con đường tơ lụa. Tên gọi nhiều biển, đại dương vốn căn cứ vào vị trí của chúng so với các vùng đất gần đó cho dễ tra cứu, không có ý nói về chủ quyền, cần tránh nhầm lẫn. Có thể kể ra các thí dụ là Ấn Độ Dương, là đại dương ở phía nam Ấn Độ, giáp nhiều nước ở châu Á và châu Phi, không phải là của riêng nước Ấn Độ; hay biển Nhật Bản, được bao quanh bởi Nga, Bắc Triều Tiên, Hàn Quốc và Nhật Bản.</s></s> Biển Đông nằm ở phía đông của đại lục Trung Hoa và thuộc chủ quyền của Trung Quốc vì tên gọi quốc tế là biển Nam Trung Hoa, phản ánh quyền sở hữu của Trung Quốc từ xưa.</s>\n",
      "\n",
      "=============== MẪU 3 ===============\n",
      "Số token gốc (ước tính): 402\n",
      "Số token sau khi xử lý (giới hạn bởi max_len=512): 402\n",
      "✅  OK: Độ dài mẫu nằm trong giới hạn, không bị cắt.\n",
      "\n",
      "--- Văn bản GỐC  ---\n",
      "Câu hỏi: Đoạn ghi âm cuộc nói chuyện với bà của Obama là do ai làm ra? Ngữ cảnh: Tháng 4 năm 2011, Trump đặt dấu hỏi về bằng chứng quốc tịch của Tổng thống Barack Obama, cáo buộc rằng \"bà của ông ta ở Kenya nói rằng ông ta sinh ra ở Kenya và bà ấy đã ở đó và tận mắt chứng kiến\" (Luận điểm của Trump bắt nguồn từ đoạn ghi âm bài phỏng vấn qua điện thoại với bà của Obama, sản phẩm của một mục sư bang Pennsylvania phản đối việc bầu Obama). Trump cũng hoài nghi việc liệu Obama có đủ điểm đầu vào Trường Luật Harvard hay không. Trump nói rằng ông đã gửi một nhóm điều tra tư nhân tới Hawaii, nơi sinh ghi trên giấy tờ của Obama và chia sẻ với The Today Show \"họ không thể tin vào những gì họ tìm thấy\". Ngày 25 tháng 4 năm 2011, Trump kêu gọi Obama hãy kết thúc vấn đề quốc tịch bằng việc công bố bản đầy đủ giấy khai sinh của mình. Hai ngày sau, Obama đưa ra thông cáo chính thức trong một nỗ lực của Nhà Trắng nhằm khép lại sự vụ và công bố bản đầy đủ giấy khai sinh của mình. Trump bày tỏ sự tự hào với vai trò của ông trong việc giấy khai sinh được công bố qua một buổi họp báo ngay sau đó, nói rằng ông mong rằng nó \"hợp lý\" và \"chúng ta phải tận mắt thấy, nó có thật hay không?\" Khi được hỏi vào tháng 7 năm 2015 có đúng Obama sinh ra ở Mỹ không, Trump nói: \"Tôi thật sự không biết. Ý tôi là, tôi không hiểu tại sao trước đó ông ta không công bố giấy tờ của mình\". [SEP] Đoạn ghi âm cuộc nói chuyện với bà của Obama được thực hiện bởi một nhà báo điều tra độc lập từ New York, người đã tuyên bố có bằng chứng mới về nơi sinh của Obama, khác với những gì đã biết trước đó.\n",
      "\n",
      "--- Văn bản SAU KHI DECODE từ input_ids ---\n",
      "<s> Câu hỏi: Đoạn ghi âm cuộc nói chuyện với bà của Obama là do ai làm ra? Ngữ cảnh: Tháng 4 năm 2011, Trump đặt dấu hỏi về bằng chứng quốc tịch của Tổng thống Barack Obama, cáo buộc rằng \"bà của ông ta ở Kenya nói rằng ông ta sinh ra ở Kenya và bà ấy đã ở đó và tận mắt chứng kiến\" (Luận điểm của Trump bắt nguồn từ đoạn ghi âm bài phỏng vấn qua điện thoại với bà của Obama, sản phẩm của một mục sư bang Pennsylvania phản đối việc bầu Obama). Trump cũng hoài nghi việc liệu Obama có đủ điểm đầu vào Trường Luật Harvard hay không. Trump nói rằng ông đã gửi một nhóm điều tra tư nhân tới Hawaii, nơi sinh ghi trên giấy tờ của Obama và chia sẻ với The Today Show \"họ không thể tin vào những gì họ tìm thấy\". Ngày 25 tháng 4 năm 2011, Trump kêu gọi Obama hãy kết thúc vấn đề quốc tịch bằng việc công bố bản đầy đủ giấy khai sinh của mình. Hai ngày sau, Obama đưa ra thông cáo chính thức trong một nỗ lực của Nhà Trắng nhằm khép lại sự vụ và công bố bản đầy đủ giấy khai sinh của mình. Trump bày tỏ sự tự hào với vai trò của ông trong việc giấy khai sinh được công bố qua một buổi họp báo ngay sau đó, nói rằng ông mong rằng nó \"hợp lý\" và \"chúng ta phải tận mắt thấy, nó có thật hay không?\" Khi được hỏi vào tháng 7 năm 2015 có đúng Obama sinh ra ở Mỹ không, Trump nói: \"Tôi thật sự không biết. Ý tôi là, tôi không hiểu tại sao trước đó ông ta không công bố giấy tờ của mình\".</s></s> Đoạn ghi âm cuộc nói chuyện với bà của Obama được thực hiện bởi một nhà báo điều tra độc lập từ New York, người đã tuyên bố có bằng chứng mới về nơi sinh của Obama, khác với những gì đã biết trước đó.</s>\n",
      "\n",
      "=============== MẪU 4 ===============\n",
      "Số token gốc (ước tính): 417\n",
      "Số token sau khi xử lý (giới hạn bởi max_len=512): 417\n",
      "✅  OK: Độ dài mẫu nằm trong giới hạn, không bị cắt.\n",
      "\n",
      "--- Văn bản GỐC  ---\n",
      "Câu hỏi: Khi đến khoe tài tại Montréal, các nhạc sĩ, nghệ sĩ đã sử dụng ngôn ngữ Nhật Bản, có đúng không? Ngữ cảnh: Sang đến mùa hè thì Montréal lúc nào cũng có ít nhất một hội hè. Trong khi các thành phố khác chỉ có một, Montréal có 3 liên hoan phim diễn ra hàng năm, trong đó Liên hoan phim thế giới Montréal (Festival du Film International de Montréal) - đứng thứ ba sau Liên hoan phim Cannes và Liên hoan phim quốc tế Toronto - là quan trọng nhất. Đại hội nhạc Jazz Montréal (Montreal Jazz Festival) - một trong hàng chục các nhạc hội khác - thu hút hàng trăm ngàn người mỗi năm. Ngày Canada Day là một ngày mọi người nghỉ ngơi nhưng ngày Thánh bổn mạng của Québec (St. Jean Bapstiste) lại là một dịp để mọi người vui chơi, nhất là ở những khu đông dân nói tiếng Pháp. Francopholie là một dịp để các nhạc sĩ, nghệ sĩ nói tiếng Pháp trên toàn thế giới đến khoe tài tại Montréal. Triển lãm nghệ thuật pháo bông quốc tế (với nhạc) diễn ra hàng tuần trong tháng 7 và tháng 8. Montréal cũng là một địa điểm của loại đua xe nhanh nhất và tốn tiền nhất trên thế giới: Formula One. Hàng năm cả trăm ngàn người trên khắp thế giới kéo nhau đến Montréal để xem các tay lái thượng thặng đua tài với tốc độ hơn 300 km/giờ. Hầu như không có tay khôi hài nào ở Bắc Mỹ không tham dự Juste pour rire/Just For Laugh diễn ra vào tháng 8 hàng năm tại Montréal. Trong các hội hè của các dân định cư thì Tuần lễ của Ý và ngày Độc lập của Hy Lạp là hai lễ hội to nhất. [SEP] Mặc dù các nghệ sĩ chủ yếu sử dụng tiếng Pháp tại Francopholie, nhưng một số nghệ sĩ quốc tế cũng biểu diễn bằng tiếng Nhật và các ngôn ngữ khác để tôn vinh sự đa dạng văn hóa của Montréal.\n",
      "\n",
      "--- Văn bản SAU KHI DECODE từ input_ids ---\n",
      "<s> Câu hỏi: Khi đến khoe tài tại Montréal, các nhạc sĩ, nghệ sĩ đã sử dụng ngôn ngữ Nhật Bản, có đúng không? Ngữ cảnh: Sang đến mùa hè thì Montréal lúc nào cũng có ít nhất một hội hè. Trong khi các thành phố khác chỉ có một, Montréal có 3 liên hoan phim diễn ra hàng năm, trong đó Liên hoan phim thế giới Montréal (Festival du Film International de Montréal) - đứng thứ ba sau Liên hoan phim Cannes và Liên hoan phim quốc tế Toronto - là quan trọng nhất. Đại hội nhạc Jazz Montréal (Montreal Jazz Festival) - một trong hàng chục các nhạc hội khác - thu hút hàng trăm ngàn người mỗi năm. Ngày Canada Day là một ngày mọi người nghỉ ngơi nhưng ngày Thánh bổn mạng của Québec (St. Jean Bapstiste) lại là một dịp để mọi người vui chơi, nhất là ở những khu đông dân nói tiếng Pháp. Francopholie là một dịp để các nhạc sĩ, nghệ sĩ nói tiếng Pháp trên toàn thế giới đến khoe tài tại Montréal. Triển lãm nghệ thuật pháo bông quốc tế (với nhạc) diễn ra hàng tuần trong tháng 7 và tháng 8. Montréal cũng là một địa điểm của loại đua xe nhanh nhất và tốn tiền nhất trên thế giới: Formula One. Hàng năm cả trăm ngàn người trên khắp thế giới kéo nhau đến Montréal để xem các tay lái thượng thặng đua tài với tốc độ hơn 300 km/giờ. Hầu như không có tay khôi hài nào ở Bắc Mỹ không tham dự Juste pour rire/Just For Laugh diễn ra vào tháng 8 hàng năm tại Montréal. Trong các hội hè của các dân định cư thì Tuần lễ của Ý và ngày Độc lập của Hy Lạp là hai lễ hội to nhất.</s></s> Mặc dù các nghệ sĩ chủ yếu sử dụng tiếng Pháp tại Francopholie, nhưng một số nghệ sĩ quốc tế cũng biểu diễn bằng tiếng Nhật và các ngôn ngữ khác để tôn vinh sự đa dạng văn hóa của Montréal.</s>\n",
      "\n",
      "===========================================\n",
      "Kiểm tra hoàn tất. Hãy so sánh văn bản trên để xem có sự khác biệt ở cuối chuỗi không.\n"
     ]
    }
   ],
   "source": [
    "print(\"\\n--- Kiểm tra chi tiết 5 mẫu đầu tiên để so sánh trước và sau khi xử lý ---\")\n",
    "\n",
    "# Lấy 5 mẫu đầu tiên từ DataFrame gốc để so sánh\n",
    "num_samples_to_check = 5\n",
    "for i in range(num_samples_to_check):\n",
    "    print(f\"\\n=============== MẪU {i} ===============\")\n",
    "\n",
    "    # 1. Lấy dữ liệu gốc từ DataFrame\n",
    "    original_premise = train_df[\"premise\"].iloc[i]\n",
    "    original_hypothesis = train_df[\"hypothesis\"].iloc[i]\n",
    "    # Nối 2 chuỗi lại giống cách tokenizer sẽ thấy chúng\n",
    "    original_combined_text = original_premise + \" [SEP] \" + original_hypothesis\n",
    "\n",
    "    # 2. Lấy dữ liệu đã được xử lý từ Dataset\n",
    "    processed_sample = train_dataset[i]\n",
    "    processed_input_ids = processed_sample[\"input_ids\"]\n",
    "\n",
    "    # 3. Giải mã (decode) các input_ids đã xử lý trở lại thành văn bản\n",
    "    decoded_text = tokenizer.decode(processed_input_ids, skip_special_tokens=False)\n",
    "\n",
    "    # 4. So sánh và in kết quả\n",
    "    original_token_count = len(tokenizer.encode(original_premise, original_hypothesis))\n",
    "    processed_token_count = len(processed_input_ids)\n",
    "\n",
    "    print(f\"Số token gốc (ước tính): {original_token_count}\")\n",
    "    print(\n",
    "        f\"Số token sau khi xử lý (giới hạn bởi max_len={cfg.MAX_LENGTH}): {processed_token_count}\"\n",
    "    )\n",
    "\n",
    "    if original_token_count > cfg.MAX_LENGTH:\n",
    "        print(\"⚠️  CẢNH BÁO: Mẫu này đã bị cắt bớt (truncated)!\")\n",
    "    else:\n",
    "        print(\"✅  OK: Độ dài mẫu nằm trong giới hạn, không bị cắt.\")\n",
    "\n",
    "    print(\"\\n--- Văn bản GỐC  ---\")\n",
    "    print(original_combined_text)\n",
    "\n",
    "    print(\"\\n--- Văn bản SAU KHI DECODE từ input_ids ---\")\n",
    "    print(decoded_text)\n",
    "\n",
    "print(\"\\n===========================================\")\n",
    "print(\n",
    "    \"Kiểm tra hoàn tất. Hãy so sánh văn bản trên để xem có sự khác biệt ở cuối chuỗi không.\"\n",
    ")\n"
   ]
  },
  {
   "cell_type": "markdown",
   "id": "2739f76b",
   "metadata": {},
   "source": [
    "## 4. Thiết lập Huấn luyện"
   ]
  },
  {
   "cell_type": "code",
   "execution_count": 20,
   "id": "62005cda",
   "metadata": {},
   "outputs": [
    {
     "name": "stderr",
     "output_type": "stream",
     "text": [
      "2025-10-16 19:54:30 - [INFO] - Bước 4: Thiết lập môi trường huấn luyện và kiến trúc model...\n",
      "2025-10-16 19:54:30 - [INFO] - Sử dụng thiết bị: cuda\n",
      "2025-10-16 19:54:30 - [INFO] - ✅ Tìm thấy 1 GPU(s).\n",
      "2025-10-16 19:54:30 - [INFO] - ✅ Đang sử dụng GPU: NVIDIA GeForce RTX 5070 Ti\n",
      "2025-10-16 19:54:30 - [INFO] - Kiến trúc của mô hình:\n",
      "XLMRobertaForSequenceClassification(\n",
      "  (roberta): XLMRobertaModel(\n",
      "    (embeddings): XLMRobertaEmbeddings(\n",
      "      (word_embeddings): Embedding(250002, 1024, padding_idx=1)\n",
      "      (position_embeddings): Embedding(514, 1024, padding_idx=1)\n",
      "      (token_type_embeddings): Embedding(1, 1024)\n",
      "      (LayerNorm): LayerNorm((1024,), eps=1e-05, elementwise_affine=True)\n",
      "      (dropout): Dropout(p=0.05, inplace=False)\n",
      "    )\n",
      "    (encoder): XLMRobertaEncoder(\n",
      "      (layer): ModuleList(\n",
      "        (0-23): 24 x XLMRobertaLayer(\n",
      "          (attention): XLMRobertaAttention(\n",
      "            (self): XLMRobertaSdpaSelfAttention(\n",
      "              (query): Linear(in_features=1024, out_features=1024, bias=True)\n",
      "              (key): Linear(in_features=1024, out_features=1024, bias=True)\n",
      "              (value): Linear(in_features=1024, out_features=1024, bias=True)\n",
      "              (dropout): Dropout(p=0.05, inplace=False)\n",
      "            )\n",
      "            (output): XLMRobertaSelfOutput(\n",
      "              (dense): Linear(in_features=1024, out_features=1024, bias=True)\n",
      "              (LayerNorm): LayerNorm((1024,), eps=1e-05, elementwise_affine=True)\n",
      "              (dropout): Dropout(p=0.05, inplace=False)\n",
      "            )\n",
      "          )\n",
      "          (intermediate): XLMRobertaIntermediate(\n",
      "            (dense): Linear(in_features=1024, out_features=4096, bias=True)\n",
      "            (intermediate_act_fn): GELUActivation()\n",
      "          )\n",
      "          (output): XLMRobertaOutput(\n",
      "            (dense): Linear(in_features=4096, out_features=1024, bias=True)\n",
      "            (LayerNorm): LayerNorm((1024,), eps=1e-05, elementwise_affine=True)\n",
      "            (dropout): Dropout(p=0.05, inplace=False)\n",
      "          )\n",
      "        )\n",
      "      )\n",
      "    )\n",
      "  )\n",
      "  (classifier): XLMRobertaClassificationHead(\n",
      "    (dense): Linear(in_features=1024, out_features=1024, bias=True)\n",
      "    (dropout): Dropout(p=0.05, inplace=False)\n",
      "    (out_proj): Linear(in_features=1024, out_features=3, bias=True)\n",
      "  )\n",
      ")\n"
     ]
    },
    {
     "data": {
      "text/plain": [
       "XLMRobertaForSequenceClassification(\n",
       "  (roberta): XLMRobertaModel(\n",
       "    (embeddings): XLMRobertaEmbeddings(\n",
       "      (word_embeddings): Embedding(250002, 1024, padding_idx=1)\n",
       "      (position_embeddings): Embedding(514, 1024, padding_idx=1)\n",
       "      (token_type_embeddings): Embedding(1, 1024)\n",
       "      (LayerNorm): LayerNorm((1024,), eps=1e-05, elementwise_affine=True)\n",
       "      (dropout): Dropout(p=0.05, inplace=False)\n",
       "    )\n",
       "    (encoder): XLMRobertaEncoder(\n",
       "      (layer): ModuleList(\n",
       "        (0-23): 24 x XLMRobertaLayer(\n",
       "          (attention): XLMRobertaAttention(\n",
       "            (self): XLMRobertaSdpaSelfAttention(\n",
       "              (query): Linear(in_features=1024, out_features=1024, bias=True)\n",
       "              (key): Linear(in_features=1024, out_features=1024, bias=True)\n",
       "              (value): Linear(in_features=1024, out_features=1024, bias=True)\n",
       "              (dropout): Dropout(p=0.05, inplace=False)\n",
       "            )\n",
       "            (output): XLMRobertaSelfOutput(\n",
       "              (dense): Linear(in_features=1024, out_features=1024, bias=True)\n",
       "              (LayerNorm): LayerNorm((1024,), eps=1e-05, elementwise_affine=True)\n",
       "              (dropout): Dropout(p=0.05, inplace=False)\n",
       "            )\n",
       "          )\n",
       "          (intermediate): XLMRobertaIntermediate(\n",
       "            (dense): Linear(in_features=1024, out_features=4096, bias=True)\n",
       "            (intermediate_act_fn): GELUActivation()\n",
       "          )\n",
       "          (output): XLMRobertaOutput(\n",
       "            (dense): Linear(in_features=4096, out_features=1024, bias=True)\n",
       "            (LayerNorm): LayerNorm((1024,), eps=1e-05, elementwise_affine=True)\n",
       "            (dropout): Dropout(p=0.05, inplace=False)\n",
       "          )\n",
       "        )\n",
       "      )\n",
       "    )\n",
       "  )\n",
       "  (classifier): XLMRobertaClassificationHead(\n",
       "    (dense): Linear(in_features=1024, out_features=1024, bias=True)\n",
       "    (dropout): Dropout(p=0.05, inplace=False)\n",
       "    (out_proj): Linear(in_features=1024, out_features=3, bias=True)\n",
       "  )\n",
       ")"
      ]
     },
     "execution_count": 20,
     "metadata": {},
     "output_type": "execute_result"
    }
   ],
   "source": [
    "import torch  # Đảm bảo đã import torch\n",
    "\n",
    "logger.info(\"Bước 4: Thiết lập môi trường huấn luyện và kiến trúc model...\")\n",
    "device = torch.device(\"cuda\" if torch.cuda.is_available() else \"cpu\")\n",
    "\n",
    "# --- Log thông tin thiết bị (GPU/CPU) ---\n",
    "logger.info(f\"Sử dụng thiết bị: {device}\")\n",
    "if device.type == \"cuda\":\n",
    "    gpu_count = torch.cuda.device_count()\n",
    "    gpu_name = torch.cuda.get_device_name(0)\n",
    "    logger.info(f\"✅ Tìm thấy {gpu_count} GPU(s).\")\n",
    "    logger.info(f\"✅ Đang sử dụng GPU: {gpu_name}\")\n",
    "else:\n",
    "    logger.warning(\"⚠️ Không tìm thấy GPU, sử dụng CPU. Quá trình training sẽ rất chậm.\")\n",
    "\n",
    "# --- BẮT ĐẦU PHẦN THÊM MỚI ---\n",
    "# Chuyển toàn bộ kiến trúc model thành dạng string để đưa vào logger\n",
    "model_architecture_string = str(model)\n",
    "\n",
    "# Ghi log kiến trúc model\n",
    "logger.info(f\"Kiến trúc của mô hình:\\n{model_architecture_string}\")\n",
    "# --- KẾT THÚC PHẦN THÊM MỚI ---\n",
    "\n",
    "# Di chuyển model đến device đã chọn\n",
    "model.to(device)\n"
   ]
  },
  {
   "cell_type": "code",
   "execution_count": 21,
   "id": "8449d146",
   "metadata": {},
   "outputs": [
    {
     "name": "stderr",
     "output_type": "stream",
     "text": [
      "2025-10-16 19:54:30 - [INFO] - Scheduler will run for 3500 total steps (350 per epoch)\n"
     ]
    }
   ],
   "source": [
    "optimizer = AdamW(\n",
    "    model.parameters(),\n",
    "    lr=cfg.LEARNING_RATE,\n",
    "    weight_decay=cfg.WEIGHT_DECAY,\n",
    "    eps=cfg.EPSILON,\n",
    ")\n",
    "num_update_steps_per_epoch = math.ceil(len(train_loader) / gradient_accumulation_steps)\n",
    "num_training_steps = num_update_steps_per_epoch * cfg.EPOCHS\n",
    "logger.info(\n",
    "    \"Scheduler will run for %s total steps (%s per epoch)\",\n",
    "    num_training_steps,\n",
    "    num_update_steps_per_epoch,\n",
    ")\n"
   ]
  },
  {
   "cell_type": "markdown",
   "id": "e04c4a76",
   "metadata": {},
   "source": [
    "- Cosine Scheduler:\n",
    "    Sau khi warmup, scheduler sẽ giảm learning rate theo đường cong cosine. Ban đầu nó giảm rất chậm (giữ ở mức LR cao trong thời gian dài hơn), sau đó giảm nhanh dần và cuối cùng lại giảm rất chậm khi về gần 0.\n",
    "    \n",
    "    Tại sao nó hiệu quả? Ý tưởng là việc giữ learning rate ở mức cao lâu hơn giúp model có cơ hội \"khám phá\" và thoát khỏi các điểm tối ưu kém (local minima). Sau đó, việc giảm tốc từ từ ở cuối giúp nó tinh chỉnh một cách chính xác."
   ]
  },
  {
   "cell_type": "code",
   "execution_count": 22,
   "id": "1746755c",
   "metadata": {},
   "outputs": [
    {
     "name": "stderr",
     "output_type": "stream",
     "text": [
      "2025-10-16 19:54:30 - [INFO] - Warmup steps: 350\n"
     ]
    }
   ],
   "source": [
    "if cfg.TOTAL_STEP_SCALE <= 0:\n",
    "    warmup_steps = 0\n",
    "elif cfg.TOTAL_STEP_SCALE <= 1:\n",
    "    warmup_steps = max(1, int(cfg.TOTAL_STEP_SCALE * num_training_steps))\n",
    "else:\n",
    "    warmup_steps = min(int(cfg.TOTAL_STEP_SCALE), num_training_steps)\n",
    "\n",
    "scheduler = get_scheduler(\n",
    "    cfg.SCHEDULER_TYPE,\n",
    "    optimizer=optimizer,\n",
    "    num_warmup_steps=warmup_steps,\n",
    "    num_training_steps=num_training_steps,\n",
    ")\n",
    "logger.info(\"Warmup steps: %s\", warmup_steps)\n"
   ]
  },
  {
   "cell_type": "code",
   "execution_count": 23,
   "id": "f73d99dc",
   "metadata": {},
   "outputs": [
    {
     "name": "stderr",
     "output_type": "stream",
     "text": [
      "2025-10-16 19:54:30 - [INFO] - Sử dụng Class Weights & Label smoothing cho hàm loss.\n"
     ]
    }
   ],
   "source": [
    "# Chuyển class weights từ config thành tensor và đưa lên device\n",
    "if cfg.CLASS_WEIGHTS:\n",
    "    logger.info(\"Sử dụng Class Weights & Label smoothing cho hàm loss.\")\n",
    "    class_weights_tensor = torch.tensor(cfg.CLASS_WEIGHTS, dtype=torch.float).to(device)\n",
    "    loss_fn = torch.nn.CrossEntropyLoss(\n",
    "        weight=class_weights_tensor,\n",
    "        label_smoothing=cfg.LABEL_SMOOTHING,\n",
    "    ).to(device)\n",
    "else:\n",
    "    logger.info(\"Sử dụng CrossEntropyLoss thông thường (không có trọng số).\")\n",
    "    loss_fn = torch.nn.CrossEntropyLoss().to(device)\n"
   ]
  },
  {
   "cell_type": "markdown",
   "id": "67e5a7d7",
   "metadata": {},
   "source": [
    "## 5. Vòng lặp Huấn luyện"
   ]
  },
  {
   "cell_type": "code",
   "execution_count": 24,
   "id": "275d4c7a",
   "metadata": {},
   "outputs": [
    {
     "name": "stderr",
     "output_type": "stream",
     "text": [
      "2025-10-16 19:54:30 - [INFO] - --- Epoch 1/10 ---\n"
     ]
    },
    {
     "data": {
      "application/vnd.jupyter.widget-view+json": {
       "model_id": "8cdeeb9848704fe2ba6bc75a088e8edc",
       "version_major": 2,
       "version_minor": 0
      },
      "text/plain": [
       "Epoch 1/10:   0%|          | 0/1400 [00:00<?, ?it/s]"
      ]
     },
     "metadata": {},
     "output_type": "display_data"
    },
    {
     "name": "stderr",
     "output_type": "stream",
     "text": [
      "2025-10-16 19:58:51 - [INFO] - Loss trung bình trên tập train: 1.1026\n",
      "2025-10-16 19:58:51 - [INFO] - Current Learning Rate: 6.00e-06\n",
      "2025-10-16 19:58:51 - [INFO] - Bắt đầu đánh giá trên tập validation...\n"
     ]
    },
    {
     "data": {
      "application/vnd.jupyter.widget-view+json": {
       "model_id": "b40eddf6779743108d950aa267a6cfc8",
       "version_major": 2,
       "version_minor": 0
      },
      "text/plain": [
       "Evaluating:   0%|          | 0/350 [00:00<?, ?it/s]"
      ]
     },
     "metadata": {},
     "output_type": "display_data"
    },
    {
     "name": "stderr",
     "output_type": "stream",
     "text": [
      "2025-10-16 19:59:12 - [INFO] - Validation Loss: 1.0965\n",
      "2025-10-16 19:59:12 - [INFO] - Validation Accuracy: 0.3500\n",
      "2025-10-16 19:59:12 - [INFO] - Validation Macro-F1: 0.1728\n",
      "/home/guest/.conda/envs/cs221/lib/python3.12/site-packages/sklearn/metrics/_classification.py:1731: UndefinedMetricWarning: Precision is ill-defined and being set to 0.0 in labels with no predicted samples. Use `zero_division` parameter to control this behavior.\n",
      "  _warn_prf(average, modifier, f\"{metric.capitalize()} is\", result.shape[0])\n",
      "/home/guest/.conda/envs/cs221/lib/python3.12/site-packages/sklearn/metrics/_classification.py:1731: UndefinedMetricWarning: Precision is ill-defined and being set to 0.0 in labels with no predicted samples. Use `zero_division` parameter to control this behavior.\n",
      "  _warn_prf(average, modifier, f\"{metric.capitalize()} is\", result.shape[0])\n",
      "/home/guest/.conda/envs/cs221/lib/python3.12/site-packages/sklearn/metrics/_classification.py:1731: UndefinedMetricWarning: Precision is ill-defined and being set to 0.0 in labels with no predicted samples. Use `zero_division` parameter to control this behavior.\n",
      "  _warn_prf(average, modifier, f\"{metric.capitalize()} is\", result.shape[0])\n",
      "2025-10-16 19:59:12 - [INFO] - Classification Report trên tập validation:\n",
      "              precision    recall  f1-score   support\n",
      "\n",
      "   intrinsic     0.3500    1.0000    0.5185       490\n",
      "   extrinsic     0.0000    0.0000    0.0000       461\n",
      "          no     0.0000    0.0000    0.0000       449\n",
      "\n",
      "    accuracy                         0.3500      1400\n",
      "   macro avg     0.1167    0.3333    0.1728      1400\n",
      "weighted avg     0.1225    0.3500    0.1815      1400\n",
      "\n",
      "2025-10-16 19:59:12 - [INFO] - 🎉 Macro-F1 cải thiện. Đang lưu model tốt nhất vào '/home/guest/Projects/CS221/models/infoxlm-large-tuned'...\n",
      "2025-10-16 19:59:14 - [INFO] - Lưu model thành công.\n",
      "2025-10-16 19:59:14 - [INFO] - --- Epoch 2/10 ---\n"
     ]
    },
    {
     "data": {
      "application/vnd.jupyter.widget-view+json": {
       "model_id": "666cc5c512bf42cf9dab7e12339d83ab",
       "version_major": 2,
       "version_minor": 0
      },
      "text/plain": [
       "Epoch 2/10:   0%|          | 0/1400 [00:00<?, ?it/s]"
      ]
     },
     "metadata": {},
     "output_type": "display_data"
    },
    {
     "name": "stderr",
     "output_type": "stream",
     "text": [
      "2025-10-16 20:03:38 - [INFO] - Loss trung bình trên tập train: 1.0432\n",
      "2025-10-16 20:03:38 - [INFO] - Current Learning Rate: 5.82e-06\n",
      "2025-10-16 20:03:38 - [INFO] - Bắt đầu đánh giá trên tập validation...\n"
     ]
    },
    {
     "data": {
      "application/vnd.jupyter.widget-view+json": {
       "model_id": "a6e0444eae4c4228b84323338864b4d7",
       "version_major": 2,
       "version_minor": 0
      },
      "text/plain": [
       "Evaluating:   0%|          | 0/350 [00:00<?, ?it/s]"
      ]
     },
     "metadata": {},
     "output_type": "display_data"
    },
    {
     "name": "stderr",
     "output_type": "stream",
     "text": [
      "2025-10-16 20:03:58 - [INFO] - Validation Loss: 0.8228\n",
      "2025-10-16 20:03:58 - [INFO] - Validation Accuracy: 0.6614\n",
      "2025-10-16 20:03:58 - [INFO] - Validation Macro-F1: 0.6592\n",
      "2025-10-16 20:03:58 - [INFO] - Classification Report trên tập validation:\n",
      "              precision    recall  f1-score   support\n",
      "\n",
      "   intrinsic     0.5909    0.4776    0.5282       490\n",
      "   extrinsic     0.6390    0.7679    0.6975       461\n",
      "          no     0.7511    0.7528    0.7519       449\n",
      "\n",
      "    accuracy                         0.6614      1400\n",
      "   macro avg     0.6603    0.6661    0.6592      1400\n",
      "weighted avg     0.6581    0.6614    0.6557      1400\n",
      "\n",
      "2025-10-16 20:03:58 - [INFO] - 🎉 Macro-F1 cải thiện. Đang lưu model tốt nhất vào '/home/guest/Projects/CS221/models/infoxlm-large-tuned'...\n",
      "2025-10-16 20:04:01 - [INFO] - Lưu model thành công.\n",
      "2025-10-16 20:04:01 - [INFO] - --- Epoch 3/10 ---\n"
     ]
    },
    {
     "data": {
      "application/vnd.jupyter.widget-view+json": {
       "model_id": "2faf0ce54791442db91a031dba0df71f",
       "version_major": 2,
       "version_minor": 0
      },
      "text/plain": [
       "Epoch 3/10:   0%|          | 0/1400 [00:00<?, ?it/s]"
      ]
     },
     "metadata": {},
     "output_type": "display_data"
    },
    {
     "name": "stderr",
     "output_type": "stream",
     "text": [
      "2025-10-16 20:08:25 - [INFO] - Loss trung bình trên tập train: 0.7405\n",
      "2025-10-16 20:08:25 - [INFO] - Current Learning Rate: 5.30e-06\n",
      "2025-10-16 20:08:25 - [INFO] - Bắt đầu đánh giá trên tập validation...\n"
     ]
    },
    {
     "data": {
      "application/vnd.jupyter.widget-view+json": {
       "model_id": "163e0438c34f445ebe3ba930952cdbdd",
       "version_major": 2,
       "version_minor": 0
      },
      "text/plain": [
       "Evaluating:   0%|          | 0/350 [00:00<?, ?it/s]"
      ]
     },
     "metadata": {},
     "output_type": "display_data"
    },
    {
     "name": "stderr",
     "output_type": "stream",
     "text": [
      "2025-10-16 20:08:47 - [INFO] - Validation Loss: 0.7063\n",
      "2025-10-16 20:08:47 - [INFO] - Validation Accuracy: 0.7700\n",
      "2025-10-16 20:08:47 - [INFO] - Validation Macro-F1: 0.7694\n",
      "2025-10-16 20:08:47 - [INFO] - Classification Report trên tập validation:\n",
      "              precision    recall  f1-score   support\n",
      "\n",
      "   intrinsic     0.7737    0.6837    0.7259       490\n",
      "   extrinsic     0.7783    0.7614    0.7697       461\n",
      "          no     0.7597    0.8731    0.8124       449\n",
      "\n",
      "    accuracy                         0.7700      1400\n",
      "   macro avg     0.7705    0.7727    0.7694      1400\n",
      "weighted avg     0.7707    0.7700    0.7681      1400\n",
      "\n",
      "2025-10-16 20:08:47 - [INFO] - 🎉 Macro-F1 cải thiện. Đang lưu model tốt nhất vào '/home/guest/Projects/CS221/models/infoxlm-large-tuned'...\n",
      "2025-10-16 20:08:49 - [INFO] - Lưu model thành công.\n",
      "2025-10-16 20:08:49 - [INFO] - --- Epoch 4/10 ---\n"
     ]
    },
    {
     "data": {
      "application/vnd.jupyter.widget-view+json": {
       "model_id": "3fcf289a66944d4e9d456759d21f9091",
       "version_major": 2,
       "version_minor": 0
      },
      "text/plain": [
       "Epoch 4/10:   0%|          | 0/1400 [00:00<?, ?it/s]"
      ]
     },
     "metadata": {},
     "output_type": "display_data"
    },
    {
     "name": "stderr",
     "output_type": "stream",
     "text": [
      "2025-10-16 20:13:11 - [INFO] - Loss trung bình trên tập train: 0.6227\n",
      "2025-10-16 20:13:11 - [INFO] - Current Learning Rate: 4.50e-06\n",
      "2025-10-16 20:13:11 - [INFO] - Bắt đầu đánh giá trên tập validation...\n"
     ]
    },
    {
     "data": {
      "application/vnd.jupyter.widget-view+json": {
       "model_id": "3dfab7456eee4fd3879ed5f57924c89e",
       "version_major": 2,
       "version_minor": 0
      },
      "text/plain": [
       "Evaluating:   0%|          | 0/350 [00:00<?, ?it/s]"
      ]
     },
     "metadata": {},
     "output_type": "display_data"
    },
    {
     "name": "stderr",
     "output_type": "stream",
     "text": [
      "2025-10-16 20:13:32 - [INFO] - Validation Loss: 0.6999\n",
      "2025-10-16 20:13:32 - [INFO] - Validation Accuracy: 0.7764\n",
      "2025-10-16 20:13:32 - [INFO] - Validation Macro-F1: 0.7774\n",
      "2025-10-16 20:13:32 - [INFO] - Classification Report trên tập validation:\n",
      "              precision    recall  f1-score   support\n",
      "\n",
      "   intrinsic     0.7384    0.7490    0.7437       490\n",
      "   extrinsic     0.7860    0.7570    0.7713       461\n",
      "          no     0.8083    0.8263    0.8172       449\n",
      "\n",
      "    accuracy                         0.7764      1400\n",
      "   macro avg     0.7776    0.7774    0.7774      1400\n",
      "weighted avg     0.7765    0.7764    0.7763      1400\n",
      "\n",
      "2025-10-16 20:13:32 - [INFO] - 🎉 Macro-F1 cải thiện. Đang lưu model tốt nhất vào '/home/guest/Projects/CS221/models/infoxlm-large-tuned'...\n",
      "2025-10-16 20:13:34 - [INFO] - Lưu model thành công.\n",
      "2025-10-16 20:13:34 - [INFO] - --- Epoch 5/10 ---\n"
     ]
    },
    {
     "data": {
      "application/vnd.jupyter.widget-view+json": {
       "model_id": "2a642120a7ad4d95b370a274130e9337",
       "version_major": 2,
       "version_minor": 0
      },
      "text/plain": [
       "Epoch 5/10:   0%|          | 0/1400 [00:00<?, ?it/s]"
      ]
     },
     "metadata": {},
     "output_type": "display_data"
    },
    {
     "name": "stderr",
     "output_type": "stream",
     "text": [
      "2025-10-16 20:17:56 - [INFO] - Loss trung bình trên tập train: 0.5576\n",
      "2025-10-16 20:17:56 - [INFO] - Current Learning Rate: 3.52e-06\n",
      "2025-10-16 20:17:56 - [INFO] - Bắt đầu đánh giá trên tập validation...\n"
     ]
    },
    {
     "data": {
      "application/vnd.jupyter.widget-view+json": {
       "model_id": "5fac1f7e60a644c0a293b6df0bdb9500",
       "version_major": 2,
       "version_minor": 0
      },
      "text/plain": [
       "Evaluating:   0%|          | 0/350 [00:00<?, ?it/s]"
      ]
     },
     "metadata": {},
     "output_type": "display_data"
    },
    {
     "name": "stderr",
     "output_type": "stream",
     "text": [
      "2025-10-16 20:18:16 - [INFO] - Validation Loss: 0.7439\n",
      "2025-10-16 20:18:16 - [INFO] - Validation Accuracy: 0.7793\n",
      "2025-10-16 20:18:16 - [INFO] - Validation Macro-F1: 0.7797\n",
      "2025-10-16 20:18:16 - [INFO] - Classification Report trên tập validation:\n",
      "              precision    recall  f1-score   support\n",
      "\n",
      "   intrinsic     0.7454    0.7469    0.7462       490\n",
      "   extrinsic     0.7884    0.7354    0.7609       461\n",
      "          no     0.8058    0.8597    0.8319       449\n",
      "\n",
      "    accuracy                         0.7793      1400\n",
      "   macro avg     0.7799    0.7807    0.7797      1400\n",
      "weighted avg     0.7789    0.7793    0.7785      1400\n",
      "\n",
      "2025-10-16 20:18:16 - [INFO] - 🎉 Macro-F1 cải thiện. Đang lưu model tốt nhất vào '/home/guest/Projects/CS221/models/infoxlm-large-tuned'...\n",
      "2025-10-16 20:18:19 - [INFO] - Lưu model thành công.\n",
      "2025-10-16 20:18:19 - [INFO] - --- Epoch 6/10 ---\n"
     ]
    },
    {
     "data": {
      "application/vnd.jupyter.widget-view+json": {
       "model_id": "f6d18662562642d3954ed1d12d64ce1d",
       "version_major": 2,
       "version_minor": 0
      },
      "text/plain": [
       "Epoch 6/10:   0%|          | 0/1400 [00:00<?, ?it/s]"
      ]
     },
     "metadata": {},
     "output_type": "display_data"
    },
    {
     "name": "stderr",
     "output_type": "stream",
     "text": [
      "2025-10-16 20:22:34 - [INFO] - Loss trung bình trên tập train: 0.4553\n",
      "2025-10-16 20:22:34 - [INFO] - Current Learning Rate: 2.48e-06\n",
      "2025-10-16 20:22:34 - [INFO] - Bắt đầu đánh giá trên tập validation...\n"
     ]
    },
    {
     "data": {
      "application/vnd.jupyter.widget-view+json": {
       "model_id": "973f0190b6524f658307652d78e357d2",
       "version_major": 2,
       "version_minor": 0
      },
      "text/plain": [
       "Evaluating:   0%|          | 0/350 [00:00<?, ?it/s]"
      ]
     },
     "metadata": {},
     "output_type": "display_data"
    },
    {
     "name": "stderr",
     "output_type": "stream",
     "text": [
      "2025-10-16 20:22:55 - [INFO] - Validation Loss: 0.7738\n",
      "2025-10-16 20:22:55 - [INFO] - Validation Accuracy: 0.7807\n",
      "2025-10-16 20:22:55 - [INFO] - Validation Macro-F1: 0.7813\n",
      "2025-10-16 20:22:55 - [INFO] - Classification Report trên tập validation:\n",
      "              precision    recall  f1-score   support\n",
      "\n",
      "   intrinsic     0.7421    0.7633    0.7525       490\n",
      "   extrinsic     0.7860    0.7332    0.7587       461\n",
      "          no     0.8176    0.8486    0.8328       449\n",
      "\n",
      "    accuracy                         0.7807      1400\n",
      "   macro avg     0.7819    0.7817    0.7813      1400\n",
      "weighted avg     0.7808    0.7807    0.7803      1400\n",
      "\n",
      "2025-10-16 20:22:55 - [INFO] - 🎉 Macro-F1 cải thiện. Đang lưu model tốt nhất vào '/home/guest/Projects/CS221/models/infoxlm-large-tuned'...\n",
      "2025-10-16 20:22:57 - [INFO] - Lưu model thành công.\n",
      "2025-10-16 20:22:57 - [INFO] - --- Epoch 7/10 ---\n"
     ]
    },
    {
     "data": {
      "application/vnd.jupyter.widget-view+json": {
       "model_id": "60c8400c7d094d46b06aef4a68296ba2",
       "version_major": 2,
       "version_minor": 0
      },
      "text/plain": [
       "Epoch 7/10:   0%|          | 0/1400 [00:00<?, ?it/s]"
      ]
     },
     "metadata": {},
     "output_type": "display_data"
    },
    {
     "name": "stderr",
     "output_type": "stream",
     "text": [
      "2025-10-16 20:27:15 - [INFO] - Loss trung bình trên tập train: 0.3990\n",
      "2025-10-16 20:27:15 - [INFO] - Current Learning Rate: 1.50e-06\n",
      "2025-10-16 20:27:15 - [INFO] - Bắt đầu đánh giá trên tập validation...\n"
     ]
    },
    {
     "data": {
      "application/vnd.jupyter.widget-view+json": {
       "model_id": "ee90debefef04d728cefc45868e3755f",
       "version_major": 2,
       "version_minor": 0
      },
      "text/plain": [
       "Evaluating:   0%|          | 0/350 [00:00<?, ?it/s]"
      ]
     },
     "metadata": {},
     "output_type": "display_data"
    },
    {
     "name": "stderr",
     "output_type": "stream",
     "text": [
      "2025-10-16 20:27:37 - [INFO] - Validation Loss: 0.8559\n",
      "2025-10-16 20:27:37 - [INFO] - Validation Accuracy: 0.7743\n",
      "2025-10-16 20:27:37 - [INFO] - Validation Macro-F1: 0.7752\n",
      "2025-10-16 20:27:37 - [INFO] - Classification Report trên tập validation:\n",
      "              precision    recall  f1-score   support\n",
      "\n",
      "   intrinsic     0.7382    0.7367    0.7375       490\n",
      "   extrinsic     0.7740    0.7505    0.7621       461\n",
      "          no     0.8125    0.8396    0.8258       449\n",
      "\n",
      "    accuracy                         0.7743      1400\n",
      "   macro avg     0.7749    0.7756    0.7752      1400\n",
      "weighted avg     0.7738    0.7743    0.7739      1400\n",
      "\n",
      "2025-10-16 20:27:37 - [WARNING] - Macro-F1 không cải thiện. Patience: 1/2\n",
      "2025-10-16 20:27:37 - [INFO] - --- Epoch 8/10 ---\n"
     ]
    },
    {
     "data": {
      "application/vnd.jupyter.widget-view+json": {
       "model_id": "5618f1c50067424cbc1d006f7069a74c",
       "version_major": 2,
       "version_minor": 0
      },
      "text/plain": [
       "Epoch 8/10:   0%|          | 0/1400 [00:00<?, ?it/s]"
      ]
     },
     "metadata": {},
     "output_type": "display_data"
    },
    {
     "name": "stderr",
     "output_type": "stream",
     "text": [
      "2025-10-16 20:31:57 - [INFO] - Loss trung bình trên tập train: 0.3568\n",
      "2025-10-16 20:31:57 - [INFO] - Current Learning Rate: 7.02e-07\n",
      "2025-10-16 20:31:57 - [INFO] - Bắt đầu đánh giá trên tập validation...\n"
     ]
    },
    {
     "data": {
      "application/vnd.jupyter.widget-view+json": {
       "model_id": "7877634f04e24ead9943d6e3eca7660a",
       "version_major": 2,
       "version_minor": 0
      },
      "text/plain": [
       "Evaluating:   0%|          | 0/350 [00:00<?, ?it/s]"
      ]
     },
     "metadata": {},
     "output_type": "display_data"
    },
    {
     "name": "stderr",
     "output_type": "stream",
     "text": [
      "2025-10-16 20:32:18 - [INFO] - Validation Loss: 0.8638\n",
      "2025-10-16 20:32:18 - [INFO] - Validation Accuracy: 0.7743\n",
      "2025-10-16 20:32:18 - [INFO] - Validation Macro-F1: 0.7749\n",
      "2025-10-16 20:32:18 - [INFO] - Classification Report trên tập validation:\n",
      "              precision    recall  f1-score   support\n",
      "\n",
      "   intrinsic     0.7636    0.7184    0.7403       490\n",
      "   extrinsic     0.7453    0.7679    0.7564       461\n",
      "          no     0.8147    0.8419    0.8280       449\n",
      "\n",
      "    accuracy                         0.7743      1400\n",
      "   macro avg     0.7745    0.7760    0.7749      1400\n",
      "weighted avg     0.7739    0.7743    0.7737      1400\n",
      "\n",
      "2025-10-16 20:32:18 - [WARNING] - Macro-F1 không cải thiện. Patience: 2/2\n",
      "2025-10-16 20:32:18 - [INFO] - Early stopping! Dừng huấn luyện.\n",
      "2025-10-16 20:32:18 - [INFO] - Validation Accuracy: 0.7743\n",
      "2025-10-16 20:32:18 - [INFO] - Validation Macro-F1: 0.7749\n",
      "2025-10-16 20:32:18 - [INFO] - Classification Report trên tập validation:\n",
      "              precision    recall  f1-score   support\n",
      "\n",
      "   intrinsic     0.7636    0.7184    0.7403       490\n",
      "   extrinsic     0.7453    0.7679    0.7564       461\n",
      "          no     0.8147    0.8419    0.8280       449\n",
      "\n",
      "    accuracy                         0.7743      1400\n",
      "   macro avg     0.7745    0.7760    0.7749      1400\n",
      "weighted avg     0.7739    0.7743    0.7737      1400\n",
      "\n",
      "2025-10-16 20:32:18 - [WARNING] - Macro-F1 không cải thiện. Patience: 2/2\n",
      "2025-10-16 20:32:18 - [INFO] - Early stopping! Dừng huấn luyện.\n"
     ]
    }
   ],
   "source": [
    "best_macro_f1 = 0.0\n",
    "patience_counter = 0  # bien dem => early stopped khi f1 ko tang them => overfitting\n",
    "\n",
    "for epoch in range(cfg.EPOCHS):\n",
    "    logger.info(f\"--- Epoch {epoch + 1}/{cfg.EPOCHS} ---\")\n",
    "\n",
    "    avg_train_loss = train_one_epoch(\n",
    "        model,\n",
    "        train_loader,\n",
    "        loss_fn,\n",
    "        optimizer,\n",
    "        scheduler,\n",
    "        device,\n",
    "        epoch + 1,\n",
    "        cfg.EPOCHS,\n",
    "        gradient_accumulation_steps=gradient_accumulation_steps,\n",
    "    )\n",
    "    logger.info(f\"Loss trung bình trên tập train: {avg_train_loss:.4f}\")\n",
    "\n",
    "    current_lr = optimizer.param_groups[0][\"lr\"]\n",
    "    logger.info(\n",
    "        f\"Current Learning Rate: {current_lr:.2e}\"\n",
    "    )  # Dùng định dạng khoa học e.g., 8.00e-06\n",
    "\n",
    "    # Đánh giá trên tập validation\n",
    "    logger.info(\"Bắt đầu đánh giá trên tập validation...\")\n",
    "    val_labels, val_preds, avg_val_loss = evaluate(model, val_loader, loss_fn, device)\n",
    "\n",
    "    accuracy = accuracy_score(val_labels, val_preds)\n",
    "    macro_f1 = f1_score(val_labels, val_preds, average=\"macro\")\n",
    "\n",
    "    logger.info(f\"Validation Loss: {avg_val_loss:.4f}\")\n",
    "    logger.info(f\"Validation Accuracy: {accuracy:.4f}\")\n",
    "    logger.info(f\"Validation Macro-F1: {macro_f1:.4f}\")\n",
    "\n",
    "    # # In classification report chi tiết\n",
    "    # print(\"\\nClassification Report trên tập validation:\")\n",
    "    target_names = [cfg.ID2LABEL[i] for i in range(len(cfg.LABEL_MAP))]\n",
    "    # print(\n",
    "    #     classification_report(\n",
    "    #         val_labels, val_preds, target_names=target_names, digits=4\n",
    "    #     )\n",
    "    # )\n",
    "\n",
    "    # In classification report chi tiết (có thể giữ lại print hoặc log từng dòng)\n",
    "    report = classification_report(\n",
    "        val_labels,\n",
    "        val_preds,\n",
    "        target_names=[cfg.ID2LABEL[i] for i in range(len(cfg.LABEL_MAP))],\n",
    "        digits=4,\n",
    "    )\n",
    "    logger.info(f\"Classification Report trên tập validation:\\n{report}\")\n",
    "\n",
    "    # Lưu lại model tốt nhất dựa trên Macro-F1\n",
    "    if macro_f1 > best_macro_f1:\n",
    "        best_macro_f1 = macro_f1\n",
    "        patience_counter = 0  # << RESET BỘ ĐẾM\n",
    "\n",
    "        logger.info(\n",
    "            f\"🎉 Macro-F1 cải thiện. Đang lưu model tốt nhất vào '{cfg.MODEL_OUTPUT_DIR}'...\"\n",
    "        )\n",
    "        if not os.path.exists(cfg.MODEL_OUTPUT_DIR):\n",
    "            os.makedirs(cfg.MODEL_OUTPUT_DIR)\n",
    "\n",
    "        model.save_pretrained(cfg.MODEL_OUTPUT_DIR)\n",
    "        tokenizer.save_pretrained(cfg.MODEL_OUTPUT_DIR)\n",
    "        logger.info(\"Lưu model thành công.\")\n",
    "    else:\n",
    "        patience_counter += 1\n",
    "        logger.warning(\n",
    "            f\"Macro-F1 không cải thiện. Patience: {patience_counter}/{cfg.PATIENCE_LIMIT}\"\n",
    "        )\n",
    "        if patience_counter >= cfg.PATIENCE_LIMIT:\n",
    "            logger.info(\"Early stopping! Dừng huấn luyện.\")\n",
    "            break\n"
   ]
  },
  {
   "cell_type": "code",
   "execution_count": 25,
   "id": "1843cf36",
   "metadata": {},
   "outputs": [
    {
     "name": "stderr",
     "output_type": "stream",
     "text": [
      "2025-10-16 20:32:18 - [INFO] - 🏁 Quá trình huấn luyện hoàn tất.\n",
      "2025-10-16 20:32:18 - [INFO] - Model tốt nhất với Macro-F1 = 0.7813 đã được lưu tại '/home/guest/Projects/CS221/models/infoxlm-large-tuned'\n",
      "2025-10-16 20:32:18 - [INFO] - Model tốt nhất với Macro-F1 = 0.7813 đã được lưu tại '/home/guest/Projects/CS221/models/infoxlm-large-tuned'\n"
     ]
    }
   ],
   "source": [
    "logger.info(\"🏁 Quá trình huấn luyện hoàn tất.\")\n",
    "logger.info(\n",
    "    f\"Model tốt nhất với Macro-F1 = {best_macro_f1:.4f} đã được lưu tại '{cfg.MODEL_OUTPUT_DIR}'\"\n",
    ")\n"
   ]
  },
  {
   "cell_type": "markdown",
   "id": "451f5a5e",
   "metadata": {},
   "source": [
    "# Phân phối kết quả đúng/sai theo từng lớp"
   ]
  },
  {
   "cell_type": "code",
   "execution_count": null,
   "id": "72fc9859",
   "metadata": {},
   "outputs": [
    {
     "name": "stderr",
     "output_type": "stream",
     "text": [
      "2025-10-16 20:32:18 - [INFO] - Phân phối kết quả trên từng lớp:\n",
      "  true_label  correct  incorrect  total correct_rate incorrect_rate\n",
      "0  extrinsic      354        107    461       76.79%         23.21%\n",
      "1  intrinsic      352        138    490       71.84%         28.16%\n",
      "2         no      378         71    449       84.19%         15.81%\n"
     ]
    },
    {
     "name": "stdout",
     "output_type": "stream",
     "text": [
      "Bảng phân phối kết quả trên từng lớp:\n"
     ]
    },
    {
     "data": {
      "text/html": [
       "<div>\n",
       "<style scoped>\n",
       "    .dataframe tbody tr th:only-of-type {\n",
       "        vertical-align: middle;\n",
       "    }\n",
       "\n",
       "    .dataframe tbody tr th {\n",
       "        vertical-align: top;\n",
       "    }\n",
       "\n",
       "    .dataframe thead th {\n",
       "        text-align: right;\n",
       "    }\n",
       "</style>\n",
       "<table border=\"1\" class=\"dataframe\">\n",
       "  <thead>\n",
       "    <tr style=\"text-align: right;\">\n",
       "      <th></th>\n",
       "      <th>true_label</th>\n",
       "      <th>correct</th>\n",
       "      <th>incorrect</th>\n",
       "      <th>total</th>\n",
       "      <th>correct_rate</th>\n",
       "      <th>incorrect_rate</th>\n",
       "    </tr>\n",
       "  </thead>\n",
       "  <tbody>\n",
       "    <tr>\n",
       "      <th>0</th>\n",
       "      <td>extrinsic</td>\n",
       "      <td>354</td>\n",
       "      <td>107</td>\n",
       "      <td>461</td>\n",
       "      <td>76.79%</td>\n",
       "      <td>23.21%</td>\n",
       "    </tr>\n",
       "    <tr>\n",
       "      <th>1</th>\n",
       "      <td>intrinsic</td>\n",
       "      <td>352</td>\n",
       "      <td>138</td>\n",
       "      <td>490</td>\n",
       "      <td>71.84%</td>\n",
       "      <td>28.16%</td>\n",
       "    </tr>\n",
       "    <tr>\n",
       "      <th>2</th>\n",
       "      <td>no</td>\n",
       "      <td>378</td>\n",
       "      <td>71</td>\n",
       "      <td>449</td>\n",
       "      <td>84.19%</td>\n",
       "      <td>15.81%</td>\n",
       "    </tr>\n",
       "  </tbody>\n",
       "</table>\n",
       "</div>"
      ],
      "text/plain": [
       "  true_label  correct  incorrect  total correct_rate incorrect_rate\n",
       "0  extrinsic      354        107    461       76.79%         23.21%\n",
       "1  intrinsic      352        138    490       71.84%         28.16%\n",
       "2         no      378         71    449       84.19%         15.81%"
      ]
     },
     "metadata": {},
     "output_type": "display_data"
    },
    {
     "ename": "",
     "evalue": "",
     "output_type": "error",
     "traceback": [
      "\u001b[1;31mThe Kernel crashed while executing code in the current cell or a previous cell. \n",
      "\u001b[1;31mPlease review the code in the cell(s) to identify a possible cause of the failure. \n",
      "\u001b[1;31mClick <a href='https://aka.ms/vscodeJupyterKernelCrash'>here</a> for more info. \n",
      "\u001b[1;31mView Jupyter <a href='command:jupyter.viewOutput'>log</a> for further details."
     ]
    }
   ],
   "source": [
    "val_label_names = [cfg.ID2LABEL[label_id] for label_id in val_labels]\n",
    "pred_label_names = [cfg.ID2LABEL[pred_id] for pred_id in val_preds]\n",
    "evaluation_df = pd.DataFrame(\n",
    "    {\n",
    "        \"true_label\": val_label_names,\n",
    "        \"predicted_label\": pred_label_names,\n",
    "    }\n",
    ")\n",
    "evaluation_df[\"status\"] = evaluation_df.apply(\n",
    "    lambda row: (\n",
    "        \"correct\" if row[\"true_label\"] == row[\"predicted_label\"] else \"incorrect\"\n",
    "    ),\n",
    "    axis=1,\n",
    ")\n",
    "distribution_table = (\n",
    "    evaluation_df.groupby([\"true_label\", \"status\"])\n",
    "    .size()\n",
    "    .unstack(fill_value=0)\n",
    "    .rename_axis(None, axis=1)\n",
    "    .reset_index()\n",
    "    .sort_values(\"true_label\")\n",
    ")\n",
    "\n",
    "# 1. Thêm cột 'total' bằng cách cộng cột 'correct' và 'incorrect'\n",
    "distribution_table[\"total\"] = (\n",
    "    distribution_table[\"correct\"] + distribution_table[\"incorrect\"]\n",
    ")\n",
    "\n",
    "# 2. Thêm cột tỉ lệ đúng (correct_rate)\n",
    "distribution_table[\"correct_rate\"] = (\n",
    "    distribution_table[\"correct\"] / distribution_table[\"total\"]\n",
    ")\n",
    "\n",
    "# 3. Thêm cột tỉ lệ sai (incorrect_rate)\n",
    "distribution_table[\"incorrect_rate\"] = (\n",
    "    distribution_table[\"incorrect\"] / distribution_table[\"total\"]\n",
    ")\n",
    "\n",
    "# (Tùy chọn) Format các cột tỉ lệ thành dạng phần trăm cho dễ đọc\n",
    "distribution_table[\"correct_rate\"] = distribution_table[\"correct_rate\"].map(\n",
    "    \"{:.2%}\".format\n",
    ")\n",
    "distribution_table[\"incorrect_rate\"] = distribution_table[\"incorrect_rate\"].map(\n",
    "    \"{:.2%}\".format\n",
    ")\n",
    "\n",
    "# In ra bảng kết quả\n",
    "logger.info(f\"Phân phối kết quả trên từng lớp:\\n{distribution_table.to_string()}\")\n",
    "\n",
    "# Trong notebook, dùng display() sẽ cho bảng đẹp hơn\n",
    "print(\"Bảng phân phối kết quả trên từng lớp:\")\n",
    "display(distribution_table)\n"
   ]
  }
 ],
 "metadata": {
  "kernelspec": {
   "display_name": "cs221",
   "language": "python",
   "name": "python3"
  },
  "language_info": {
   "codemirror_mode": {
    "name": "ipython",
    "version": 3
   },
   "file_extension": ".py",
   "mimetype": "text/x-python",
   "name": "python",
   "nbconvert_exporter": "python",
   "pygments_lexer": "ipython3",
   "version": "3.12.11"
  }
 },
 "nbformat": 4,
 "nbformat_minor": 5
}
