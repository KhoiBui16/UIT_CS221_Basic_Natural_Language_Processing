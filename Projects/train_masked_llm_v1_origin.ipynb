{
 "cells": [
  {
   "cell_type": "markdown",
   "id": "c761c320",
   "metadata": {},
   "source": [
    "# CONFIGURATION"
   ]
  },
  {
   "cell_type": "code",
   "execution_count": null,
   "id": "a5f24b51",
   "metadata": {},
   "outputs": [],
   "source": [
    "import os\n",
    "\n",
    "MODEL_NAMES = [\n",
    "    \"joeddav/xlm-roberta-large-xnli\",  # (xong) lr: 6e-06\n",
    "    \"microsoft/infoxlm-large\",  # (xong) lr: 6e-6\n",
    "    \"uitnlp/CafeBERT\",  # (xong) lr: 2e-5\n",
    "    \"FacebookAI/xlm-roberta-large\",  # (xong) lr: 6e-6\n",
    "    \"MoritzLaurer/DeBERTa-v3-large-mnli-fever-anli-ling-wanli\",  # (xong) lr: 6e-6\n",
    "    \"MoritzLaurer/ernie-m-large-mnli-xnli\",\n",
    "    \"microsoft/deberta-xlarge-mnli\",\n",
    "]\n",
    "\n",
    "\n",
    "class Config:\n",
    "    ROOT_DIR = os.getcwd()\n",
    "    # --- Đường dẫn và Tên file ---\n",
    "    DATA_DIR = os.path.join(ROOT_DIR, \"data\")\n",
    "    TRAIN_FILE = os.path.join(DATA_DIR, \"vihallu-train.csv\")\n",
    "    TEST_FILE = os.path.join(DATA_DIR, \"vihallu-public-test.csv\")\n",
    "\n",
    "    SUBMISSION_DIR = os.path.join(ROOT_DIR, \"submission\")\n",
    "    SUBMISSION_CSV = \"submit.csv\"\n",
    "    SUBMISSION_ZIP = \"submit.zip\"\n",
    "\n",
    "    MODEL_NAME = MODEL_NAMES[5]  # Doi index de chon model\n",
    "    MODEL_OUTPUT_DIR = os.path.join(\n",
    "        ROOT_DIR, \"models\", f\"{MODEL_NAME.split('/')[-1]}-tuned\"\n",
    "    )\n",
    "\n",
    "    # --- Cấu hình Tokenizer ---\n",
    "    MAX_LENGTH = 512\n",
    "\n",
    "    # --- Cấu hình Huấn luyện ---\n",
    "    RANDOM_STATE = 42\n",
    "    EPOCHS = 10\n",
    "    BATCH_SIZE = 2\n",
    "    GRADIENT_ACCUMULATION_STEPS = 8  # Tăng dần để phù hợp với GPU VRAM\n",
    "\n",
    "    SCHEDULER_TYPE = \"cosine\"  # \"linear\"  # Chọn scheduler phù hợp\n",
    "    LEARNING_RATE = 1e-5\n",
    "    WEIGHT_DECAY = 0.03\n",
    "    CLASSIFIER_DROPOUT = 0.02\n",
    "    EPSILON = 1e-8\n",
    "    PATIENCE_LIMIT = 2\n",
    "    TOTAL_STEP_SCALE = 0.1  # Sử dụng số bước để warm-up\n",
    "    LABEL_SMOOTHING = 0.05  # Thêm để regularize và tránh overfitting\n",
    "    VALIDATION_SPLIT_SIZE = 0.2\n",
    "\n",
    "    # --- Ánh xạ Nhãn ---\n",
    "    LABEL_MAP = {\n",
    "        \"intrinsic\": 0,\n",
    "        \"extrinsic\": 1,\n",
    "        \"no\": 2,\n",
    "    }  # contradiction/neutral/entailment\n",
    "    ID2LABEL = {v: k for k, v in LABEL_MAP.items()}\n",
    "\n",
    "    # << THÊM DÒNG NÀY (sử dụng con số bạn tính được từ EDA)\n",
    "    CLASS_WEIGHTS = [1.0393466963622866, 1.0114145354717525, 0.9531590413943355]\n",
    "    # CLASS_WEIGHTS = None\n",
    "\n",
    "\n",
    "cfg = Config()\n"
   ]
  },
  {
   "cell_type": "markdown",
   "id": "b01017e0",
   "metadata": {},
   "source": [
    "# LOGGER"
   ]
  },
  {
   "cell_type": "code",
   "execution_count": null,
   "id": "3d1e41e5",
   "metadata": {},
   "outputs": [],
   "source": [
    "import logging\n",
    "import os\n",
    "from datetime import datetime\n",
    "\n",
    "# Thư mục gốc để lưu tất cả các file log\n",
    "LOG_BASE_DIR = \"logs\"\n",
    "\n",
    "# Dùng một dictionary để lưu các logger đã tạo, tránh việc tạo lại và gây ra log trùng lặp\n",
    "_loggers = {}\n",
    "\n",
    "\n",
    "def setup_logger(model_name: str, log_level=logging.INFO):\n",
    "    \"\"\"\n",
    "    Thiết lập và trả về một logger để ghi log vào cả console và file.\n",
    "\n",
    "    - Mỗi model sẽ có một thư mục log riêng dựa trên `model_name`.\n",
    "    - Mỗi lần chạy sẽ tạo một file log mới có tên là timestamp (ví dụ: 2023-10-27_15-30-00.log).\n",
    "    - Đảm bảo không có log nào bị ghi đè.\n",
    "\n",
    "    Args:\n",
    "        model_name (str): Tên của model, dùng để tạo thư mục con. Ví dụ: 'xnli-large-tuned'.\n",
    "        log_level (int): Cấp độ log, mặc định là logging.INFO.\n",
    "\n",
    "    Returns:\n",
    "        logging.Logger: Instance của logger đã được cấu hình.\n",
    "    \"\"\"\n",
    "    # Nếu logger cho model này đã tồn tại, trả về nó ngay lập tức\n",
    "    if model_name in _loggers:\n",
    "        return _loggers[model_name]\n",
    "\n",
    "    # Xử lý tên model để an toàn khi tạo tên thư mục (thay thế \"/\")\n",
    "    safe_model_name = model_name.replace(\"/\", \"_\").replace(\"\\\\\", \"_\")\n",
    "    model_log_dir = os.path.join(LOG_BASE_DIR, safe_model_name)\n",
    "    os.makedirs(model_log_dir, exist_ok=True)\n",
    "\n",
    "    # Tạo logger\n",
    "    logger = logging.getLogger(safe_model_name)\n",
    "    logger.setLevel(log_level)\n",
    "\n",
    "    # Ngăn không cho log lan truyền đến root logger để tránh in ra console 2 lần\n",
    "    logger.propagate = False\n",
    "\n",
    "    # Định dạng cho log message\n",
    "    formatter = logging.Formatter(\n",
    "        \"%(asctime)s - [%(levelname)s] - %(message)s\", datefmt=\"%Y-%m-%d %H:%M:%S\"\n",
    "    )\n",
    "\n",
    "    # Tạo File Handler để ghi log ra file\n",
    "    timestamp = datetime.now().strftime(\"%Y-%m-%d_%H-%M-%S\")\n",
    "    log_file_path = os.path.join(model_log_dir, f\"{timestamp}.log\")\n",
    "\n",
    "    file_handler = logging.FileHandler(log_file_path, encoding=\"utf-8\")\n",
    "    file_handler.setLevel(log_level)\n",
    "    file_handler.setFormatter(formatter)\n",
    "\n",
    "    # Tạo Console (Stream) Handler để in log ra màn hình\n",
    "    console_handler = logging.StreamHandler()\n",
    "    console_handler.setLevel(log_level)\n",
    "    console_handler.setFormatter(formatter)\n",
    "\n",
    "    # Thêm các handler vào logger\n",
    "    logger.addHandler(file_handler)\n",
    "    logger.addHandler(console_handler)\n",
    "\n",
    "    # Lưu logger vào cache\n",
    "    _loggers[model_name] = logger\n",
    "\n",
    "    logger.info(\n",
    "        f\"Logger cho '{safe_model_name}' đã được khởi tạo. File log: {log_file_path}\"\n",
    "    )\n",
    "\n",
    "    return logger\n"
   ]
  },
  {
   "cell_type": "markdown",
   "id": "148d0474",
   "metadata": {},
   "source": [
    "## Setup logger"
   ]
  },
  {
   "cell_type": "code",
   "execution_count": 3,
   "id": "16eac9f6",
   "metadata": {},
   "outputs": [
    {
     "name": "stderr",
     "output_type": "stream",
     "text": [
      "2025-10-16 15:20:51 - [INFO] - Logger cho 'MoritzLaurer_ernie-m-large-mnli-xnli-training' đã được khởi tạo. File log: logs/MoritzLaurer_ernie-m-large-mnli-xnli-training/2025-10-16_15-20-51.log\n",
      "2025-10-16 15:20:51 - [INFO] - Logger initialized for MoritzLaurer/ernie-m-large-mnli-xnli\n",
      "2025-10-16 15:20:51 - [INFO] - ============================================================\n",
      "2025-10-16 15:20:51 - [INFO] - 🚀 STARTING TRAINING SESSION\n",
      "2025-10-16 15:20:51 - [INFO] - ============================================================\n",
      "2025-10-16 15:20:51 - [INFO] - ROOT_DIR: /home/guest/Projects/CS221\n",
      "2025-10-16 15:20:51 - [INFO] - DATA_DIR: /home/guest/Projects/CS221/data\n",
      "2025-10-16 15:20:51 - [INFO] - TRAIN_FILE: /home/guest/Projects/CS221/data/vihallu-train.csv\n",
      "2025-10-16 15:20:51 - [INFO] - TEST_FILE: /home/guest/Projects/CS221/data/vihallu-public-test.csv\n",
      "2025-10-16 15:20:51 - [INFO] - SUBMISSION_DIR: /home/guest/Projects/CS221/submission\n",
      "2025-10-16 15:20:51 - [INFO] - SUBMISSION_CSV: submit.csv\n",
      "2025-10-16 15:20:51 - [INFO] - SUBMISSION_ZIP: submit.zip\n",
      "2025-10-16 15:20:51 - [INFO] - MODEL_NAME: MoritzLaurer/ernie-m-large-mnli-xnli\n",
      "2025-10-16 15:20:51 - [INFO] - MODEL_OUTPUT_DIR: /home/guest/Projects/CS221/models/ernie-m-large-mnli-xnli-tuned\n",
      "2025-10-16 15:20:51 - [INFO] - MAX_LENGTH: 512\n",
      "2025-10-16 15:20:51 - [INFO] - RANDOM_STATE: 42\n",
      "2025-10-16 15:20:51 - [INFO] - EPOCHS: 10\n",
      "2025-10-16 15:20:51 - [INFO] - BATCH_SIZE: 2\n",
      "2025-10-16 15:20:51 - [INFO] - GRADIENT_ACCUMULATION_STEPS: 8\n",
      "2025-10-16 15:20:51 - [INFO] - SCHEDULER_TYPE: cosine\n",
      "2025-10-16 15:20:51 - [INFO] - LEARNING_RATE: 8e-06\n",
      "2025-10-16 15:20:51 - [INFO] - WEIGHT_DECAY: 0.03\n",
      "2025-10-16 15:20:51 - [INFO] - CLASSIFIER_DROPOUT: 0.02\n",
      "2025-10-16 15:20:51 - [INFO] - EPSILON: 1e-08\n",
      "2025-10-16 15:20:51 - [INFO] - PATIENCE_LIMIT: 2\n",
      "2025-10-16 15:20:51 - [INFO] - TOTAL_STEP_SCALE: 0.1\n",
      "2025-10-16 15:20:51 - [INFO] - LABEL_SMOOTHING: 0.05\n",
      "2025-10-16 15:20:51 - [INFO] - VALIDATION_SPLIT_SIZE: 0.2\n",
      "2025-10-16 15:20:51 - [INFO] - LABEL_MAP: {'intrinsic': 0, 'extrinsic': 1, 'no': 2}\n",
      "2025-10-16 15:20:51 - [INFO] - ID2LABEL: {0: 'intrinsic', 1: 'extrinsic', 2: 'no'}\n",
      "2025-10-16 15:20:51 - [INFO] - CLASS_WEIGHTS: [1.0393466963622866, 1.0114145354717525, 0.9531590413943355]\n",
      "2025-10-16 15:20:51 - [INFO] - ============================================================\n",
      "2025-10-16 15:20:51 - [INFO] - Logger initialized for MoritzLaurer/ernie-m-large-mnli-xnli\n",
      "2025-10-16 15:20:51 - [INFO] - ============================================================\n",
      "2025-10-16 15:20:51 - [INFO] - 🚀 STARTING TRAINING SESSION\n",
      "2025-10-16 15:20:51 - [INFO] - ============================================================\n",
      "2025-10-16 15:20:51 - [INFO] - ROOT_DIR: /home/guest/Projects/CS221\n",
      "2025-10-16 15:20:51 - [INFO] - DATA_DIR: /home/guest/Projects/CS221/data\n",
      "2025-10-16 15:20:51 - [INFO] - TRAIN_FILE: /home/guest/Projects/CS221/data/vihallu-train.csv\n",
      "2025-10-16 15:20:51 - [INFO] - TEST_FILE: /home/guest/Projects/CS221/data/vihallu-public-test.csv\n",
      "2025-10-16 15:20:51 - [INFO] - SUBMISSION_DIR: /home/guest/Projects/CS221/submission\n",
      "2025-10-16 15:20:51 - [INFO] - SUBMISSION_CSV: submit.csv\n",
      "2025-10-16 15:20:51 - [INFO] - SUBMISSION_ZIP: submit.zip\n",
      "2025-10-16 15:20:51 - [INFO] - MODEL_NAME: MoritzLaurer/ernie-m-large-mnli-xnli\n",
      "2025-10-16 15:20:51 - [INFO] - MODEL_OUTPUT_DIR: /home/guest/Projects/CS221/models/ernie-m-large-mnli-xnli-tuned\n",
      "2025-10-16 15:20:51 - [INFO] - MAX_LENGTH: 512\n",
      "2025-10-16 15:20:51 - [INFO] - RANDOM_STATE: 42\n",
      "2025-10-16 15:20:51 - [INFO] - EPOCHS: 10\n",
      "2025-10-16 15:20:51 - [INFO] - BATCH_SIZE: 2\n",
      "2025-10-16 15:20:51 - [INFO] - GRADIENT_ACCUMULATION_STEPS: 8\n",
      "2025-10-16 15:20:51 - [INFO] - SCHEDULER_TYPE: cosine\n",
      "2025-10-16 15:20:51 - [INFO] - LEARNING_RATE: 8e-06\n",
      "2025-10-16 15:20:51 - [INFO] - WEIGHT_DECAY: 0.03\n",
      "2025-10-16 15:20:51 - [INFO] - CLASSIFIER_DROPOUT: 0.02\n",
      "2025-10-16 15:20:51 - [INFO] - EPSILON: 1e-08\n",
      "2025-10-16 15:20:51 - [INFO] - PATIENCE_LIMIT: 2\n",
      "2025-10-16 15:20:51 - [INFO] - TOTAL_STEP_SCALE: 0.1\n",
      "2025-10-16 15:20:51 - [INFO] - LABEL_SMOOTHING: 0.05\n",
      "2025-10-16 15:20:51 - [INFO] - VALIDATION_SPLIT_SIZE: 0.2\n",
      "2025-10-16 15:20:51 - [INFO] - LABEL_MAP: {'intrinsic': 0, 'extrinsic': 1, 'no': 2}\n",
      "2025-10-16 15:20:51 - [INFO] - ID2LABEL: {0: 'intrinsic', 1: 'extrinsic', 2: 'no'}\n",
      "2025-10-16 15:20:51 - [INFO] - CLASS_WEIGHTS: [1.0393466963622866, 1.0114145354717525, 0.9531590413943355]\n",
      "2025-10-16 15:20:51 - [INFO] - ============================================================\n"
     ]
    }
   ],
   "source": [
    "logger = setup_logger(f\"{cfg.MODEL_NAME}-training\")\n",
    "logger.info(f\"Logger initialized for {cfg.MODEL_NAME}\")\n",
    "\n",
    "logger.info(\"=\" * 60)\n",
    "logger.info(\"🚀 STARTING TRAINING SESSION\")\n",
    "logger.info(\"=\" * 60)\n",
    "for key, value in Config.__dict__.items():\n",
    "    if not key.startswith(\"__\") and not callable(value):\n",
    "        logger.info(f\"{key}: {value}\")\n",
    "logger.info(\"=\" * 60)\n"
   ]
  },
  {
   "cell_type": "markdown",
   "id": "29c3b202",
   "metadata": {},
   "source": [
    "# Hallucination Dataset"
   ]
  },
  {
   "cell_type": "code",
   "execution_count": null,
   "id": "ce606de4",
   "metadata": {},
   "outputs": [],
   "source": [
    "import torch\n",
    "from torch.utils.data import Dataset\n",
    "import pandas as pd\n",
    "from sklearn.model_selection import train_test_split\n",
    "import os\n",
    "\n",
    "\n",
    "# Nhiệm vụ của nó bây giờ chỉ là lấy ra các item đã được xử lý sẵn\n",
    "class PreTokenizedDataset(Dataset):\n",
    "    def __init__(self, encodings, labels):\n",
    "        self.encodings = encodings\n",
    "        self.labels = labels\n",
    "\n",
    "    def __len__(self):\n",
    "        return len(self.labels)\n",
    "\n",
    "    def __getitem__(self, idx):\n",
    "        # Lấy tất cả các encoding cho item thứ idx\n",
    "        # items() trả về một cặp (key, value)\n",
    "        # ví dụ key='input_ids', value=một list chứa tất cả input_ids\n",
    "        # val[idx] sẽ lấy ra input_ids cho mẫu thứ idx\n",
    "        item = {key: val[idx] for key, val in self.encodings.items()}\n",
    "\n",
    "        # Thêm nhãn vào item\n",
    "        item[\"labels\"] = torch.tensor(self.labels[idx], dtype=torch.long)\n",
    "        return item\n"
   ]
  },
  {
   "cell_type": "markdown",
   "id": "fbbc1878",
   "metadata": {},
   "source": [
    "## Prepare data"
   ]
  },
  {
   "cell_type": "code",
   "execution_count": null,
   "id": "efcfa808",
   "metadata": {},
   "outputs": [],
   "source": [
    "def prepare_data(config, logger=None):\n",
    "    \"\"\"\n",
    "    Đọc, tiền xử lý, chia dữ liệu thành tập train/validation và LƯU chúng ra file.\n",
    "    Trả về: train_df, val_df\n",
    "    \"\"\"\n",
    "    if os.path.isabs(getattr(config, \"TRAIN_FILE\", \"\")) or os.path.exists(\n",
    "        getattr(config, \"TRAIN_FILE\", \"\")\n",
    "    ):\n",
    "        data_path = config.TRAIN_FILE\n",
    "    else:\n",
    "        data_path = os.path.join(config.DATA_DIR, config.TRAIN_FILE)\n",
    "\n",
    "    try:\n",
    "        df = pd.read_csv(data_path)\n",
    "        print(f\"✅ Đọc thành công {len(df)} mẫu từ {data_path}\")\n",
    "    except FileNotFoundError:\n",
    "        print(f\"❌ Lỗi: Không tìm thấy file dữ liệu tại {data_path}\")\n",
    "        return None, None\n",
    "\n",
    "    # Chuyển đổi các cột sang string để tránh lỗi khi có giá trị NaN\n",
    "    df[\"context\"] = df[\"context\"].astype(str)\n",
    "    df[\"prompt\"] = df[\"prompt\"].astype(str)\n",
    "    df[\"response\"] = df[\"response\"].astype(str)\n",
    "\n",
    "    # df[\"input_text\"] = (\n",
    "    #     df[\"prompt\"] + \" </s></s> \" + df[\"response\"] + \" </s></s> \" + df[\"context\"]\n",
    "    # )\n",
    "\n",
    "    # ( # <-- SỬA ĐỔI ) Áp dụng Template NLI chuẩn (Context-First)\n",
    "    # -----------------------------------------------------------------\n",
    "    # Gợi ý: Đây là định dạng hiệu quả cho các mô hình NLI.\n",
    "    # Cấu trúc: [Premise] </s></s> [Hypothesis]\n",
    "\n",
    "    # Ghép Prompt và Context thành nguồn chân lý (premise) -> Thêm .astype(str) để tăng độ ổn định\n",
    "    premise = (\n",
    "        \"Câu hỏi: \"\n",
    "        + df[\"prompt\"].astype(str)\n",
    "        + \" Ngữ cảnh: \"\n",
    "        + df[\"context\"].astype(str)\n",
    "    )\n",
    "\n",
    "    # Response là giả thuyết (hypothesis) cần kiểm chứng\n",
    "    hypothesis = df[\"response\"].astype(str)\n",
    "\n",
    "    # Tạo cột input_text cuối cùng\n",
    "    df[\"input_text\"] = premise + \" </s></s> \" + hypothesis\n",
    "    # -----------------------------------------------------------------\n",
    "\n",
    "    # In một vài ví dụ để kiểm tra\n",
    "    print(\"\\n=== KIỂM TRA FORMAT DỮ LIỆU MỚI ===\")\n",
    "    sample = df[\"input_text\"].iloc[0]\n",
    "    print(f\"Mẫu input: {sample}...\")\n",
    "\n",
    "    # Ánh xạ nhãn theo logic NLI mới\n",
    "    df[\"label_id\"] = df[\"label\"].map(config.LABEL_MAP)\n",
    "\n",
    "    # Xử lý các dòng có thể có nhãn null sau khi map\n",
    "    df.dropna(subset=[\"label_id\"], inplace=True)\n",
    "    df[\"label_id\"] = df[\"label_id\"].astype(int)\n",
    "\n",
    "    # Chia train/validation\n",
    "    train_df, val_df = train_test_split(\n",
    "        df,\n",
    "        test_size=config.VALIDATION_SPLIT_SIZE,\n",
    "        random_state=config.RANDOM_STATE,\n",
    "        stratify=df[\"label_id\"],  # Đảm bảo phân bổ nhãn đều\n",
    "    )\n",
    "\n",
    "    if logger:\n",
    "        logger.info(\n",
    "            f\"Chia dữ liệu: {len(train_df)} mẫu train, {len(val_df)} mẫu validation.\"\n",
    "        )\n",
    "\n",
    "    # --- PHẦN NÂNG CẤP: LƯU FILE RA THƯ MỤC DATA ---\n",
    "    # Tạo thư mục 'processed' trong 'data' nếu chưa có\n",
    "    processed_data_dir = os.path.join(config.DATA_DIR, \"processed\")\n",
    "    os.makedirs(processed_data_dir, exist_ok=True)\n",
    "\n",
    "    # Định nghĩa đường dẫn file\n",
    "    train_output_path = os.path.join(processed_data_dir, \"train_split.csv\")\n",
    "    val_output_path = os.path.join(processed_data_dir, \"validation_split.csv\")\n",
    "\n",
    "    # Lưu các DataFrame\n",
    "    train_df.to_csv(train_output_path, index=False, encoding=\"utf-8-sig\")\n",
    "    val_df.to_csv(val_output_path, index=False, encoding=\"utf-8-sig\")\n",
    "\n",
    "    print(f\"✅ Đã lưu tập train vào: {train_output_path}\")\n",
    "    print(f\"✅ Đã lưu tập validation vào: {val_output_path}\")\n",
    "    # --- KẾT THÚC PHẦN NÂNG CẤP ---\n",
    "\n",
    "    return train_df, val_df\n"
   ]
  },
  {
   "cell_type": "markdown",
   "id": "f432b434",
   "metadata": {},
   "source": [
    "# Model"
   ]
  },
  {
   "cell_type": "code",
   "execution_count": null,
   "id": "f39c273c",
   "metadata": {},
   "outputs": [],
   "source": [
    "from transformers import AutoConfig, AutoTokenizer, AutoModelForSequenceClassification\n",
    "import torch.nn as nn\n",
    "\n",
    "\n",
    "def get_model_and_tokenizer(config):\n",
    "    \"\"\"Tải pre-trained model và tokenizer.\"\"\"\n",
    "    print(f\"Đang tải model: {config.MODEL_NAME}\")\n",
    "    tokenizer = AutoTokenizer.from_pretrained(config.MODEL_NAME)\n",
    "\n",
    "    # Tải config/model/tokenizer với trust_remote_code=True để cho phép model custom\n",
    "    cfg = AutoConfig.from_pretrained(config.MODEL_NAME, trust_remote_code=True)\n",
    "    print(f\"Model config: {cfg}\")\n",
    "\n",
    "    model = AutoModelForSequenceClassification.from_pretrained(\n",
    "        config.MODEL_NAME, num_labels=len(config.LABEL_MAP)\n",
    "    )\n",
    "\n",
    "    # apply classifier dropout if provided in config\n",
    "    if hasattr(config, \"CLASSIFIER_DROPOUT\"):\n",
    "        if hasattr(model.config, \"classifier_dropout\"):\n",
    "            model.config.classifier_dropout = config.CLASSIFIER_DROPOUT\n",
    "        if hasattr(model.config, \"hidden_dropout_prob\"):\n",
    "            model.config.hidden_dropout_prob = config.CLASSIFIER_DROPOUT\n",
    "\n",
    "        if hasattr(model.config, \"attention_probs_dropout_prob\"):\n",
    "            model.config.attention_probs_dropout_prob = min(\n",
    "                0.15, max(0.1, config.CLASSIFIER_DROPOUT)\n",
    "            )\n",
    "        for m in model.modules():\n",
    "            if isinstance(m, nn.Dropout):\n",
    "                m.p = config.CLASSIFIER_DROPOUT\n",
    "    return model, tokenizer\n"
   ]
  },
  {
   "cell_type": "markdown",
   "id": "21114019",
   "metadata": {},
   "source": [
    "# Training"
   ]
  },
  {
   "cell_type": "code",
   "execution_count": null,
   "id": "32b10adb",
   "metadata": {},
   "outputs": [],
   "source": [
    "import os\n",
    "import math\n",
    "import torch\n",
    "import numpy as np\n",
    "import pandas as pd\n",
    "from dotenv import load_dotenv\n",
    "from tqdm.auto import tqdm\n",
    "from torch.optim import AdamW\n",
    "from huggingface_hub import login\n",
    "from transformers import get_scheduler\n",
    "from torch.utils.data import DataLoader\n",
    "from tqdm.contrib.logging import logging_redirect_tqdm\n",
    "from sklearn.utils.class_weight import compute_class_weight\n",
    "from sklearn.metrics import f1_score, accuracy_score, classification_report\n",
    "from functools import partial\n"
   ]
  },
  {
   "cell_type": "markdown",
   "id": "d09e6336",
   "metadata": {},
   "source": [
    "## train one epoch function"
   ]
  },
  {
   "cell_type": "code",
   "execution_count": null,
   "id": "b1154314",
   "metadata": {},
   "outputs": [],
   "source": [
    "def train_one_epoch(\n",
    "    model,\n",
    "    data_loader,\n",
    "    loss_fn,\n",
    "    optimizer,\n",
    "    scheduler,\n",
    "    device,\n",
    "    epoch=None,\n",
    "    total_epochs=None,\n",
    "    gradient_accumulation_steps=1,\n",
    "):\n",
    "    \"\"\"Huấn luyện mô hình trong một epoch bằng gradient accumulation.\"\"\"\n",
    "    model.train()\n",
    "    total_loss = 0\n",
    "    desc = f\"Train\" if epoch is None else f\"Epoch {epoch}/{total_epochs}\"\n",
    "    progress_bar = tqdm(\n",
    "        data_loader, desc=desc, leave=False, dynamic_ncols=True, mininterval=0.5\n",
    "    )\n",
    "\n",
    "    optimizer.zero_grad()\n",
    "    steps_in_epoch = len(data_loader)\n",
    "    with logging_redirect_tqdm():  # make logger calls safe\n",
    "        for step, batch in enumerate(progress_bar):\n",
    "            input_ids = batch[\"input_ids\"].to(device)\n",
    "            attention_mask = batch[\"attention_mask\"].to(device)\n",
    "            labels = batch[\"labels\"].to(device)\n",
    "\n",
    "            outputs = model(input_ids, attention_mask=attention_mask)\n",
    "            logits = outputs.logits  # shape (batch_size, num_labels)\n",
    "\n",
    "            loss = loss_fn(logits, labels)\n",
    "            total_loss += loss.item()\n",
    "            scaled_loss = loss / gradient_accumulation_steps\n",
    "            scaled_loss.backward()\n",
    "\n",
    "            if (step + 1) % gradient_accumulation_steps == 0 or (\n",
    "                step + 1\n",
    "            ) == steps_in_epoch:\n",
    "                torch.nn.utils.clip_grad_norm_(model.parameters(), max_norm=1.0)\n",
    "                optimizer.step()\n",
    "                scheduler.step()\n",
    "                optimizer.zero_grad()\n",
    "\n",
    "            progress_bar.set_postfix({\"loss\": f\"{loss.item():.4f}\"})\n",
    "\n",
    "    return total_loss / len(data_loader)\n"
   ]
  },
  {
   "cell_type": "markdown",
   "id": "4b3398cf",
   "metadata": {},
   "source": [
    "## Evaluate"
   ]
  },
  {
   "cell_type": "code",
   "execution_count": null,
   "id": "194e5a82",
   "metadata": {},
   "outputs": [],
   "source": [
    "def evaluate(model, data_loader, loss_fn, device):\n",
    "    \"\"\"Đánh giá mô hình trên tập dữ liệu.\"\"\"\n",
    "    model.eval()\n",
    "    all_preds = []\n",
    "    all_labels = []\n",
    "    total_val_loss = 0\n",
    "\n",
    "    progress_bar = tqdm(data_loader, desc=\"Evaluating\", leave=False, dynamic_ncols=True)\n",
    "\n",
    "    with torch.no_grad(), logging_redirect_tqdm():\n",
    "        for batch in progress_bar:\n",
    "            input_ids = batch[\"input_ids\"].to(device)\n",
    "            attention_mask = batch[\"attention_mask\"].to(device)\n",
    "            labels = batch[\"labels\"].to(device)\n",
    "\n",
    "            outputs = model(input_ids, attention_mask=attention_mask)\n",
    "            logits = outputs.logits\n",
    "\n",
    "            # <<< TÍNH LOSS TRÊN TẬP VALIDATION\n",
    "            loss = loss_fn(logits, labels)\n",
    "            total_val_loss += loss.item()\n",
    "\n",
    "            preds = torch.argmax(outputs.logits, dim=-1)\n",
    "\n",
    "            all_preds.extend(preds.cpu().numpy())\n",
    "            all_labels.extend(labels.cpu().numpy())\n",
    "\n",
    "    avg_val_loss = total_val_loss / len(data_loader)  # <<< TÍNH LOSS TRUNG BÌNH\n",
    "    return all_labels, all_preds, avg_val_loss  # <<< TRẢ VỀ THÊM LOSS\n"
   ]
  },
  {
   "cell_type": "markdown",
   "id": "d08cfc13",
   "metadata": {},
   "source": [
    "# Main"
   ]
  },
  {
   "cell_type": "code",
   "execution_count": 10,
   "id": "7a07ea24",
   "metadata": {},
   "outputs": [
    {
     "name": "stdout",
     "output_type": "stream",
     "text": [
      "dotenv_path: /home/guest/Projects/CS221/envs/.env\n"
     ]
    }
   ],
   "source": [
    "# Tải biến môi trường từ file envs/.env.\n",
    "dotenv_path = os.path.join(os.getcwd(), \"envs\", \".env\")\n",
    "load_dotenv(dotenv_path)\n",
    "print(f\"dotenv_path: {dotenv_path}\")\n"
   ]
  },
  {
   "cell_type": "code",
   "execution_count": 11,
   "id": "c48a9b39",
   "metadata": {},
   "outputs": [
    {
     "name": "stdout",
     "output_type": "stream",
     "text": [
      "INFO: Tìm thấy HUGGING_FACE_TOKEN. Đang đăng nhập...\n",
      "INFO: Đăng nhập Hugging Face thành công.\n"
     ]
    }
   ],
   "source": [
    "# lấy HF token để login\n",
    "hf_token = os.getenv(\"HUGGING_FACE_TOKEN\")\n",
    "\n",
    "if hf_token:\n",
    "    print(\"INFO: Tìm thấy HUGGING_FACE_TOKEN. Đang đăng nhập...\")\n",
    "    login(token=hf_token)\n",
    "    print(\"INFO: Đăng nhập Hugging Face thành công.\")\n",
    "else:\n",
    "    print(\n",
    "        \"WARNING: Không tìm thấy HUGGING_FACE_TOKEN trong file .env. Một số model có thể yêu cầu đăng nhập.\"\n",
    "    )\n"
   ]
  },
  {
   "cell_type": "markdown",
   "id": "950b94e0",
   "metadata": {},
   "source": [
    "## 1. Chuẩn bị dữ liệu"
   ]
  },
  {
   "cell_type": "code",
   "execution_count": 12,
   "id": "20c739cd",
   "metadata": {},
   "outputs": [
    {
     "name": "stderr",
     "output_type": "stream",
     "text": [
      "2025-10-16 15:20:53 - [INFO] - Bắt đầu pipeline huấn luyện.\n",
      "2025-10-16 15:20:53 - [INFO] - Bước 1: Chuẩn bị dữ liệu...\n",
      "2025-10-16 15:20:53 - [INFO] - Chia dữ liệu: 5600 mẫu train, 1400 mẫu validation.\n"
     ]
    },
    {
     "name": "stdout",
     "output_type": "stream",
     "text": [
      "✅ Đọc thành công 7000 mẫu từ /home/guest/Projects/CS221/data/vihallu-train.csv\n",
      "\n",
      "=== KIỂM TRA FORMAT DỮ LIỆU MỚI ===\n",
      "Mẫu input: Câu hỏi: Vào những năm 1960, nơi nào trở thành trung tâm của thế hệ âm nhạc beat và folk, mặc dù Jackson Pollock và Willem de Kooning đã tổ chức nhiều buổi triển lãm âm nhạc nổi tiếng tại đó? Ngữ cảnh: Vào những năm 1870, hai nhà điêu khắc Augustus Saint-Gaudens và Daniel Chester French sinh sống và làm việc gần Quảng trường. Đến những năm 1920, Công viên Quảng trường Washington được công nhận cấp quốc gia là một trung tâm của phong trào nổi loạn về nghệ thuật và đạo đức. Do đó, khuôn viên NYU tại Quảng trường Washington trở nên đa dạng và hối hả nhờ có năng lượng của cuộc sống đô thị, điều này đã dẫn đến những sự thay đổi về mặt học thuật ở NYU. Những cư dân nổi tiếng thời kỳ này bao gồm Eugene O'Neill, John Sloan, và Maurice Prendergast. Vào những năm 1930, những người theo chủ nghĩa biểu hiện trừu tượng Jackson Pollock và Willem de Kooning, cùng với những người ủng hộ thuyết duy thực Edward Hopper và Thomas Hart Benton đều có xưởng vẽ xung quanh Quảng trường Washington. Những năm 1960 khu này trở thành một trong những trung tâm của thế hệ âm nhạc beat và folk (dân gian), khi Allen Ginsberg và Bob Dylan sinh sống tại đó. Điều này đã dẫn tới căng thẳng giữa họ và NYU, vốn hồi đó đang trải qua một chiến dịch mở rộng cơ sở vật chất lớn. Năm 1975, trường mở một Bộ sưu tập Nghệ thuật Xám tại số 100 đường Washington Square East, nhằm lưu trữ bộ sưu tập nghệ thuật của NYU và tổ chức các buổi triển lãm có chất lượng tương đương các bảo tàng. </s></s> Quảng trường Washington là trung tâm của thế hệ âm nhạc beat và folk vào những năm 1960. Ngoài ra, nơi đây từng là địa điểm tổ chức các buổi triển lãm âm nhạc nổi tiếng như \"Festival of Sound\" do các nghệ sĩ như Jackson Pollock và Willem de Kooning khởi xướng, mặc dù họ thực...\n",
      "✅ Đã lưu tập train vào: /home/guest/Projects/CS221/data/processed/train_split.csv\n",
      "✅ Đã lưu tập validation vào: /home/guest/Projects/CS221/data/processed/validation_split.csv\n"
     ]
    }
   ],
   "source": [
    "logger.info(\"Bắt đầu pipeline huấn luyện.\")\n",
    "\n",
    "# 1. Chuẩn bị dữ liệu\n",
    "logger.info(\"Bước 1: Chuẩn bị dữ liệu...\")\n",
    "train_df, val_df = prepare_data(cfg, logger=logger)\n",
    "if train_df is None:\n",
    "    logger.error(\"Dữ liệu không thể được chuẩn bị. Dừng chương trình.\")\n"
   ]
  },
  {
   "cell_type": "markdown",
   "id": "a4b8a1b7",
   "metadata": {},
   "source": [
    "## 2. Tải model và tokenizer"
   ]
  },
  {
   "cell_type": "code",
   "execution_count": 13,
   "id": "68f4f00b",
   "metadata": {},
   "outputs": [
    {
     "name": "stderr",
     "output_type": "stream",
     "text": [
      "2025-10-16 15:20:53 - [INFO] - Bước 2: Tải model 'MoritzLaurer/ernie-m-large-mnli-xnli' và tokenizer...\n"
     ]
    },
    {
     "name": "stdout",
     "output_type": "stream",
     "text": [
      "Đang tải model: MoritzLaurer/ernie-m-large-mnli-xnli\n",
      "Model config: ErnieMConfig {\n",
      "  \"act_dropout\": 0.0,\n",
      "  \"architectures\": [\n",
      "    \"ErnieMForSequenceClassification\"\n",
      "  ],\n",
      "  \"attention_probs_dropout_prob\": 0.1,\n",
      "  \"classifier_dropout\": null,\n",
      "  \"dtype\": \"float32\",\n",
      "  \"hidden_act\": \"gelu\",\n",
      "  \"hidden_dropout_prob\": 0.1,\n",
      "  \"hidden_size\": 1024,\n",
      "  \"id2label\": {\n",
      "    \"0\": \"entailment\",\n",
      "    \"1\": \"neutral\",\n",
      "    \"2\": \"contradiction\"\n",
      "  },\n",
      "  \"initializer_range\": 0.02,\n",
      "  \"intermediate_size\": 4096,\n",
      "  \"label2id\": {\n",
      "    \"contradiction\": 2,\n",
      "    \"entailment\": 0,\n",
      "    \"neutral\": 1\n",
      "  },\n",
      "  \"layer_norm_eps\": 1e-05,\n",
      "  \"max_position_embeddings\": 514,\n",
      "  \"model_type\": \"ernie_m\",\n",
      "  \"num_attention_heads\": 16,\n",
      "  \"num_hidden_layers\": 24,\n",
      "  \"pad_token_id\": 1,\n",
      "  \"paddlenlp_version\": null,\n",
      "  \"problem_type\": \"single_label_classification\",\n",
      "  \"transformers_version\": \"4.57.1\",\n",
      "  \"type_vocab_size\": 16,\n",
      "  \"vocab_size\": 250002\n",
      "}\n",
      "\n"
     ]
    }
   ],
   "source": [
    "logger.info(f\"Bước 2: Tải model '{cfg.MODEL_NAME}' và tokenizer...\")\n",
    "model, tokenizer = get_model_and_tokenizer(cfg)\n"
   ]
  },
  {
   "cell_type": "code",
   "execution_count": 14,
   "id": "0416e4ed",
   "metadata": {},
   "outputs": [],
   "source": [
    "# %pip install torchinfo\n"
   ]
  },
  {
   "cell_type": "code",
   "execution_count": 15,
   "id": "aa9d1648",
   "metadata": {},
   "outputs": [
    {
     "name": "stderr",
     "output_type": "stream",
     "text": [
      "2025-10-16 15:20:55 - [INFO] - Phân tích kiến trúc mô hình bằng torchinfo...\n",
      "2025-10-16 15:20:57 - [INFO] - Kiến trúc chi tiết của mô hình:\n",
      "================================================================================================================================================================\n",
      "Layer (type:depth-idx)                                       Input Shape               Output Shape              Param #                   Mult-Adds\n",
      "================================================================================================================================================================\n",
      "ErnieMForSequenceClassification                              --                        [2, 3]                    --                        --\n",
      "├─ErnieMModel: 1-1                                           [2, 512]                  [2, 1024]                 --                        --\n",
      "│    └─ErnieMEmbeddings: 2-1                                 --                        [2, 512, 1024]            --                        --\n",
      "│    │    └─Embedding: 3-1                                   [2, 512]                  [2, 512, 1024]            256,002,048               512,004,096\n",
      "│    │    └─Embedding: 3-2                                   [2, 512]                  [2, 512, 1024]            526,336                   1,052,672\n",
      "│    │    └─LayerNorm: 3-3                                   [2, 512, 1024]            [2, 512, 1024]            2,048                     4,096\n",
      "│    │    └─Dropout: 3-4                                     [2, 512, 1024]            [2, 512, 1024]            --                        --\n",
      "│    └─ErnieMEncoder: 2-2                                    [2, 512, 1024]            [2, 512, 1024]            --                        --\n",
      "│    │    └─ModuleList: 3-5                                  --                        --                        302,309,376               --\n",
      "│    └─ErnieMPooler: 2-3                                     [2, 512, 1024]            [2, 1024]                 --                        --\n",
      "│    │    └─Linear: 3-6                                      [2, 1024]                 [2, 1024]                 1,049,600                 2,099,200\n",
      "│    │    └─Tanh: 3-7                                        [2, 1024]                 [2, 1024]                 --                        --\n",
      "├─Dropout: 1-2                                               [2, 1024]                 [2, 1024]                 --                        --\n",
      "├─Linear: 1-3                                                [2, 1024]                 [2, 3]                    3,075                     6,150\n",
      "================================================================================================================================================================\n",
      "Total params: 559,892,483\n",
      "Trainable params: 559,892,483\n",
      "Non-trainable params: 0\n",
      "Total mult-adds (Units.GIGABYTES): 1.12\n",
      "================================================================================================================================================================\n",
      "Input size (MB): 0.01\n",
      "Forward/backward pass size (MB): 2239.77\n",
      "Params size (MB): 2239.57\n",
      "Estimated Total Size (MB): 4479.35\n",
      "================================================================================================================================================================\n"
     ]
    }
   ],
   "source": [
    "from torchinfo import summary\n",
    "import torch  # Đảm bảo đã import torch\n",
    "\n",
    "logger.info(\"Phân tích kiến trúc mô hình bằng torchinfo...\")\n",
    "\n",
    "# --- Dùng torchinfo để hiển thị ---\n",
    "# Tạo một input giả với batch_size và max_length như trong config\n",
    "input_ids_example = torch.randint(\n",
    "    0, tokenizer.vocab_size, (cfg.BATCH_SIZE, cfg.MAX_LENGTH)\n",
    ")\n",
    "\n",
    "# 1. Gọi summary với verbose=0 để không in ra console và lưu kết quả vào biến\n",
    "#    Thêm các cột bạn muốn xem, ví dụ: 'output_size', 'num_params'\n",
    "model_summary = summary(\n",
    "    model,\n",
    "    input_data={\"input_ids\": input_ids_example},\n",
    "    verbose=0,  # <-- Quan trọng: Ngăn không cho tự động in\n",
    "    col_names=[\"input_size\", \"output_size\", \"num_params\", \"mult_adds\"],\n",
    ")\n",
    "\n",
    "# 2. Chuyển đối tượng summary thành string và đưa vào logger\n",
    "logger.info(f\"Kiến trúc chi tiết của mô hình:\\n{str(model_summary)}\")\n",
    "\n",
    "\n",
    "# # (Tùy chọn) Bạn vẫn có thể in ra màn hình nếu muốn xem ngay trong notebook\n",
    "# print(\"In summary ra màn hình notebook:\")\n",
    "# print(model_summary)\n"
   ]
  },
  {
   "cell_type": "markdown",
   "id": "53ffd869",
   "metadata": {},
   "source": [
    "## 3. Tạo Dataset và DataLoader"
   ]
  },
  {
   "cell_type": "code",
   "execution_count": 16,
   "id": "9803da5c",
   "metadata": {},
   "outputs": [
    {
     "name": "stderr",
     "output_type": "stream",
     "text": [
      "2025-10-16 15:20:57 - [INFO] - Bước 3: Bắt đầu xử lý và tạo DataLoader với Static Padding...\n",
      "2025-10-16 15:20:57 - [INFO] - Tokenizing và Padding toàn bộ tập train...\n",
      "2025-10-16 15:20:57 - [INFO] - Tokenizing và Padding toàn bộ tập train...\n",
      "2025-10-16 15:21:01 - [INFO] - Tokenizing và Padding toàn bộ tập validation...\n",
      "2025-10-16 15:21:01 - [INFO] - Tạo Dataset...\n",
      "2025-10-16 15:21:01 - [INFO] - Tạo DataLoader...\n",
      "2025-10-16 15:21:01 - [INFO] - ✅ Tạo DataLoader thành công!\n"
     ]
    }
   ],
   "source": [
    "# Cell [15] - PHIÊN BẢN HOÀN CHỈNH\n",
    "from torch.utils.data import DataLoader\n",
    "\n",
    "logger.info(\"Bước 3: Bắt đầu xử lý và tạo DataLoader với Static Padding...\")\n",
    "\n",
    "# --- 3.1: Lấy danh sách câu và nhãn ---\n",
    "train_texts = train_df[\"input_text\"].to_list()\n",
    "val_texts = val_df[\"input_text\"].to_list()\n",
    "train_labels = train_df[\"label_id\"].to_list()\n",
    "val_labels = val_df[\"label_id\"].to_list()\n",
    "\n",
    "# --- 3.2: Tokenize, Pad và chuyển sang Tensor cùng lúc ---\n",
    "logger.info(\"Tokenizing và Padding toàn bộ tập train...\")\n",
    "train_encodings = tokenizer(\n",
    "    train_texts,\n",
    "    max_length=cfg.MAX_LENGTH,\n",
    "    truncation=True,\n",
    "    padding=\"max_length\",\n",
    "    return_attention_mask=True,\n",
    "    return_tensors=\"pt\",  # <-- THAY ĐỔI QUAN TRỌNG: Yêu cầu trả về PyTorch Tensor\n",
    ")\n",
    "\n",
    "logger.info(\"Tokenizing và Padding toàn bộ tập validation...\")\n",
    "val_encodings = tokenizer(\n",
    "    val_texts,\n",
    "    max_length=cfg.MAX_LENGTH,\n",
    "    truncation=True,\n",
    "    padding=\"max_length\",\n",
    "    return_attention_mask=True,\n",
    "    return_tensors=\"pt\",  # <-- THAY ĐỔI QUAN TRỌNG: Yêu cầu trả về PyTorch Tensor\n",
    ")\n",
    "\n",
    "# --- 3.3: Tạo Dataset từ dữ liệu đã được xử lý ---\n",
    "logger.info(\"Tạo Dataset...\")\n",
    "train_dataset = PreTokenizedDataset(encodings=train_encodings, labels=train_labels)\n",
    "val_dataset = PreTokenizedDataset(encodings=val_encodings, labels=val_labels)\n",
    "\n",
    "# --- 3.4: Tạo DataLoader (KHÔNG CẦN collate_fn) ---\n",
    "logger.info(\"Tạo DataLoader...\")\n",
    "train_loader = DataLoader(train_dataset, batch_size=cfg.BATCH_SIZE, shuffle=True)\n",
    "val_loader = DataLoader(val_dataset, batch_size=cfg.BATCH_SIZE)\n",
    "\n",
    "logger.info(\"✅ Tạo DataLoader thành công!\")\n"
   ]
  },
  {
   "cell_type": "code",
   "execution_count": 17,
   "id": "00ac99c4",
   "metadata": {},
   "outputs": [
    {
     "name": "stderr",
     "output_type": "stream",
     "text": [
      "2025-10-16 15:21:02 - [INFO] - Gradient accumulation steps: 8 | Effective batch size: 16\n"
     ]
    }
   ],
   "source": [
    "gradient_accumulation_steps = max(1, cfg.GRADIENT_ACCUMULATION_STEPS)\n",
    "effective_batch_size = cfg.BATCH_SIZE * gradient_accumulation_steps\n",
    "logger.info(\n",
    "    \"Gradient accumulation steps: %s | Effective batch size: %s\",\n",
    "    gradient_accumulation_steps,\n",
    "    effective_batch_size,\n",
    ")\n"
   ]
  },
  {
   "cell_type": "markdown",
   "id": "eae8a4a1",
   "metadata": {},
   "source": [
    "### Check dataset"
   ]
  },
  {
   "cell_type": "code",
   "execution_count": 18,
   "id": "0c8564a3",
   "metadata": {},
   "outputs": [
    {
     "name": "stdout",
     "output_type": "stream",
     "text": [
      "\n",
      "--- Kiểm tra 1 batch dữ liệu đầu vào ---\n",
      "Kích thước input_ids: torch.Size([2, 512])\n",
      "Kích thước attention_mask: torch.Size([2, 512])\n",
      "Nhãn trong batch: tensor([2, 1])\n",
      "\n",
      "Một mẫu đã được token hóa và giải mã lại:\n",
      "[CLS] Câu hỏi: Cuộc cách mạng Baal Teshuva, vốn không có tác động nhân khẩu học nào đáng kể, đã làm cho những người Do Thái thế tục trở thành những người Do Thái sùng đạo như thế nào? Ngữ cảnh: Cũng có một xu hướng của các cuộc cách mạng được khởi xướng từ phái Do Thái giáo Chính thống để hỗ trợ và giúp đỡ những người Do Thái thế tục hướng về một bản sắc Do Thái truyền thống đậm đà bản sắc dân tộc Do Thái để giảm thiểu tỷ lệ kết hôn khác chủng tộc và việc kết hôn khác tôn giáo. Nhờ những nỗ lực của các cuộc cách mạng ấy cùng với các nhóm Do Thái khác, trong25 năm qua đã có một xu hướng (được gọi là cuộc cách mạng Baal Teshuva) đã làm cho những người Do Thái thế tục trở thành những người Do Thái sùng đạo, mặc dù các tác động về nhân khẩu học của cuộc cách mạng này chưa được điều tra rõ ràng. Thêm vào đó, cũng có một tỷ lệ lớn những người dân ngoại cải đạo chuyển đổi sang đạo Do Thái Giáo được gọi là Người Do Thái của Sự Lựa Chọn của các dân ngoại là những người quyết định gia nhập đại gia đình dân tộc Do Thái. </s></s> Cuộc cách mạng Baal Teshuva đã khuyến khích những người Do Thái thế tục quay lại với bản sắc Do Thái truyền thống, làm họ trở nên sùng đạo hơn, dù tác động nhân khẩu học chưa được điều tra rõ ràng.[SEP][PAD][PAD][PAD][PAD][PAD][PAD][PAD][PAD][PAD][PAD][PAD][PAD][PAD][PAD][PAD][PAD][PAD][PAD][PAD][PAD][PAD][PAD][PAD][PAD][PAD][PAD][PAD][PAD][PAD][PAD][PAD][PAD][PAD][PAD][PAD][PAD][PAD][PAD][PAD][PAD][PAD][PAD][PAD][PAD][PAD][PAD][PAD][PAD][PAD][PAD][PAD][PAD][PAD][PAD][PAD][PAD][PAD][PAD][PAD][PAD][PAD][PAD][PAD][PAD][PAD][PAD][PAD][PAD][PAD][PAD][PAD][PAD][PAD][PAD][PAD][PAD][PAD][PAD][PAD][PAD][PAD][PAD][PAD][PAD][PAD][PAD][PAD][PAD][PAD][PAD][PAD][PAD][PAD][PAD][PAD][PAD][PAD][PAD][PAD][PAD][PAD][PAD][PAD][PAD][PAD][PAD][PAD][PAD][PAD][PAD][PAD][PAD][PAD][PAD][PAD][PAD][PAD][PAD][PAD][PAD][PAD][PAD][PAD][PAD][PAD][PAD][PAD][PAD][PAD][PAD][PAD][PAD][PAD][PAD][PAD][PAD][PAD][PAD][PAD][PAD][PAD][PAD][PAD][PAD][PAD][PAD][PAD][PAD][PAD][PAD][PAD][PAD][PAD][PAD][PAD][PAD][PAD][PAD][PAD][PAD][PAD][PAD][PAD][PAD][PAD][PAD][PAD][PAD][PAD][PAD][PAD][PAD][PAD][PAD][PAD][PAD][PAD][PAD][PAD][PAD][PAD][PAD][PAD][PAD][PAD][PAD][PAD][PAD][PAD][PAD][PAD][PAD][PAD][PAD][PAD][PAD][PAD][PAD][PAD]\n",
      "------------------------------------------\n",
      "\n"
     ]
    }
   ],
   "source": [
    "print(\"\\n--- Kiểm tra 1 batch dữ liệu đầu vào ---\")\n",
    "sample_batch = next(iter(train_loader))\n",
    "print(\"Kích thước input_ids:\", sample_batch[\"input_ids\"].shape)\n",
    "print(\"Kích thước attention_mask:\", sample_batch[\"attention_mask\"].shape)\n",
    "print(\"Nhãn trong batch:\", sample_batch[\"labels\"])\n",
    "\n",
    "# Giải mã một mẫu để xem nó trông như thế nào\n",
    "decoded_text = tokenizer.decode(sample_batch[\"input_ids\"][0], skip_special_tokens=False)\n",
    "print(\"\\nMột mẫu đã được token hóa và giải mã lại:\")\n",
    "print(decoded_text)\n",
    "print(\"------------------------------------------\\n\")\n",
    "# --- KẾT THÚC BƯỚC KIỂM TRA ---\n"
   ]
  },
  {
   "cell_type": "markdown",
   "id": "2739f76b",
   "metadata": {},
   "source": [
    "## 4. Thiết lập Huấn luyện"
   ]
  },
  {
   "cell_type": "code",
   "execution_count": 19,
   "id": "62005cda",
   "metadata": {},
   "outputs": [
    {
     "name": "stderr",
     "output_type": "stream",
     "text": [
      "2025-10-16 15:21:02 - [INFO] - Bước 4: Thiết lập môi trường huấn luyện và kiến trúc model...\n",
      "2025-10-16 15:21:02 - [INFO] - Sử dụng thiết bị: cuda\n",
      "2025-10-16 15:21:02 - [INFO] - ✅ Tìm thấy 1 GPU(s).\n",
      "2025-10-16 15:21:02 - [INFO] - ✅ Đang sử dụng GPU: NVIDIA GeForce RTX 5070 Ti\n",
      "2025-10-16 15:21:02 - [INFO] - Kiến trúc của mô hình:\n",
      "ErnieMForSequenceClassification(\n",
      "  (ernie_m): ErnieMModel(\n",
      "    (embeddings): ErnieMEmbeddings(\n",
      "      (word_embeddings): Embedding(250002, 1024, padding_idx=1)\n",
      "      (position_embeddings): Embedding(514, 1024, padding_idx=1)\n",
      "      (layer_norm): LayerNorm((1024,), eps=1e-05, elementwise_affine=True)\n",
      "      (dropout): Dropout(p=0.02, inplace=False)\n",
      "    )\n",
      "    (encoder): ErnieMEncoder(\n",
      "      (layers): ModuleList(\n",
      "        (0-23): 24 x ErnieMEncoderLayer(\n",
      "          (self_attn): ErnieMAttention(\n",
      "            (self_attn): ErnieMSelfAttention(\n",
      "              (q_proj): Linear(in_features=1024, out_features=1024, bias=True)\n",
      "              (k_proj): Linear(in_features=1024, out_features=1024, bias=True)\n",
      "              (v_proj): Linear(in_features=1024, out_features=1024, bias=True)\n",
      "              (dropout): Dropout(p=0.02, inplace=False)\n",
      "            )\n",
      "            (out_proj): Linear(in_features=1024, out_features=1024, bias=True)\n",
      "          )\n",
      "          (linear1): Linear(in_features=1024, out_features=4096, bias=True)\n",
      "          (dropout): Dropout(p=0.02, inplace=False)\n",
      "          (linear2): Linear(in_features=4096, out_features=1024, bias=True)\n",
      "          (norm1): LayerNorm((1024,), eps=1e-05, elementwise_affine=True)\n",
      "          (norm2): LayerNorm((1024,), eps=1e-05, elementwise_affine=True)\n",
      "          (dropout1): Dropout(p=0.02, inplace=False)\n",
      "          (dropout2): Dropout(p=0.02, inplace=False)\n",
      "          (activation): GELUActivation()\n",
      "        )\n",
      "      )\n",
      "    )\n",
      "    (pooler): ErnieMPooler(\n",
      "      (dense): Linear(in_features=1024, out_features=1024, bias=True)\n",
      "      (activation): Tanh()\n",
      "    )\n",
      "  )\n",
      "  (dropout): Dropout(p=0.02, inplace=False)\n",
      "  (classifier): Linear(in_features=1024, out_features=3, bias=True)\n",
      ")\n"
     ]
    },
    {
     "data": {
      "text/plain": [
       "ErnieMForSequenceClassification(\n",
       "  (ernie_m): ErnieMModel(\n",
       "    (embeddings): ErnieMEmbeddings(\n",
       "      (word_embeddings): Embedding(250002, 1024, padding_idx=1)\n",
       "      (position_embeddings): Embedding(514, 1024, padding_idx=1)\n",
       "      (layer_norm): LayerNorm((1024,), eps=1e-05, elementwise_affine=True)\n",
       "      (dropout): Dropout(p=0.02, inplace=False)\n",
       "    )\n",
       "    (encoder): ErnieMEncoder(\n",
       "      (layers): ModuleList(\n",
       "        (0-23): 24 x ErnieMEncoderLayer(\n",
       "          (self_attn): ErnieMAttention(\n",
       "            (self_attn): ErnieMSelfAttention(\n",
       "              (q_proj): Linear(in_features=1024, out_features=1024, bias=True)\n",
       "              (k_proj): Linear(in_features=1024, out_features=1024, bias=True)\n",
       "              (v_proj): Linear(in_features=1024, out_features=1024, bias=True)\n",
       "              (dropout): Dropout(p=0.02, inplace=False)\n",
       "            )\n",
       "            (out_proj): Linear(in_features=1024, out_features=1024, bias=True)\n",
       "          )\n",
       "          (linear1): Linear(in_features=1024, out_features=4096, bias=True)\n",
       "          (dropout): Dropout(p=0.02, inplace=False)\n",
       "          (linear2): Linear(in_features=4096, out_features=1024, bias=True)\n",
       "          (norm1): LayerNorm((1024,), eps=1e-05, elementwise_affine=True)\n",
       "          (norm2): LayerNorm((1024,), eps=1e-05, elementwise_affine=True)\n",
       "          (dropout1): Dropout(p=0.02, inplace=False)\n",
       "          (dropout2): Dropout(p=0.02, inplace=False)\n",
       "          (activation): GELUActivation()\n",
       "        )\n",
       "      )\n",
       "    )\n",
       "    (pooler): ErnieMPooler(\n",
       "      (dense): Linear(in_features=1024, out_features=1024, bias=True)\n",
       "      (activation): Tanh()\n",
       "    )\n",
       "  )\n",
       "  (dropout): Dropout(p=0.02, inplace=False)\n",
       "  (classifier): Linear(in_features=1024, out_features=3, bias=True)\n",
       ")"
      ]
     },
     "execution_count": 19,
     "metadata": {},
     "output_type": "execute_result"
    }
   ],
   "source": [
    "import torch  # Đảm bảo đã import torch\n",
    "\n",
    "logger.info(\"Bước 4: Thiết lập môi trường huấn luyện và kiến trúc model...\")\n",
    "device = torch.device(\"cuda\" if torch.cuda.is_available() else \"cpu\")\n",
    "\n",
    "# --- Log thông tin thiết bị (GPU/CPU) ---\n",
    "logger.info(f\"Sử dụng thiết bị: {device}\")\n",
    "if device.type == \"cuda\":\n",
    "    gpu_count = torch.cuda.device_count()\n",
    "    gpu_name = torch.cuda.get_device_name(0)\n",
    "    logger.info(f\"✅ Tìm thấy {gpu_count} GPU(s).\")\n",
    "    logger.info(f\"✅ Đang sử dụng GPU: {gpu_name}\")\n",
    "else:\n",
    "    logger.warning(\"⚠️ Không tìm thấy GPU, sử dụng CPU. Quá trình training sẽ rất chậm.\")\n",
    "\n",
    "# --- BẮT ĐẦU PHẦN THÊM MỚI ---\n",
    "# Chuyển toàn bộ kiến trúc model thành dạng string để đưa vào logger\n",
    "model_architecture_string = str(model)\n",
    "\n",
    "# Ghi log kiến trúc model\n",
    "logger.info(f\"Kiến trúc của mô hình:\\n{model_architecture_string}\")\n",
    "# --- KẾT THÚC PHẦN THÊM MỚI ---\n",
    "\n",
    "# Di chuyển model đến device đã chọn\n",
    "model.to(device)\n"
   ]
  },
  {
   "cell_type": "code",
   "execution_count": 20,
   "id": "8449d146",
   "metadata": {},
   "outputs": [
    {
     "name": "stderr",
     "output_type": "stream",
     "text": [
      "2025-10-16 15:21:02 - [INFO] - Scheduler will run for 3500 total steps (350 per epoch)\n"
     ]
    }
   ],
   "source": [
    "optimizer = AdamW(\n",
    "    model.parameters(),\n",
    "    lr=cfg.LEARNING_RATE,\n",
    "    weight_decay=cfg.WEIGHT_DECAY,\n",
    "    eps=cfg.EPSILON,\n",
    ")\n",
    "num_update_steps_per_epoch = math.ceil(len(train_loader) / gradient_accumulation_steps)\n",
    "num_training_steps = num_update_steps_per_epoch * cfg.EPOCHS\n",
    "logger.info(\n",
    "    \"Scheduler will run for %s total steps (%s per epoch)\",\n",
    "    num_training_steps,\n",
    "    num_update_steps_per_epoch,\n",
    ")\n"
   ]
  },
  {
   "cell_type": "markdown",
   "id": "e04c4a76",
   "metadata": {},
   "source": [
    "- Cosine Scheduler:\n",
    "    Sau khi warmup, scheduler sẽ giảm learning rate theo đường cong cosine. Ban đầu nó giảm rất chậm (giữ ở mức LR cao trong thời gian dài hơn), sau đó giảm nhanh dần và cuối cùng lại giảm rất chậm khi về gần 0.\n",
    "    \n",
    "    Tại sao nó hiệu quả? Ý tưởng là việc giữ learning rate ở mức cao lâu hơn giúp model có cơ hội \"khám phá\" và thoát khỏi các điểm tối ưu kém (local minima). Sau đó, việc giảm tốc từ từ ở cuối giúp nó tinh chỉnh một cách chính xác."
   ]
  },
  {
   "cell_type": "code",
   "execution_count": 21,
   "id": "1746755c",
   "metadata": {},
   "outputs": [
    {
     "name": "stderr",
     "output_type": "stream",
     "text": [
      "2025-10-16 15:21:02 - [INFO] - Warmup steps: 350\n"
     ]
    }
   ],
   "source": [
    "if cfg.TOTAL_STEP_SCALE <= 0:\n",
    "    warmup_steps = 0\n",
    "elif cfg.TOTAL_STEP_SCALE <= 1:\n",
    "    warmup_steps = max(1, int(cfg.TOTAL_STEP_SCALE * num_training_steps))\n",
    "else:\n",
    "    warmup_steps = min(int(cfg.TOTAL_STEP_SCALE), num_training_steps)\n",
    "\n",
    "scheduler = get_scheduler(\n",
    "    cfg.SCHEDULER_TYPE,\n",
    "    optimizer=optimizer,\n",
    "    num_warmup_steps=warmup_steps,\n",
    "    num_training_steps=num_training_steps,\n",
    ")\n",
    "logger.info(\"Warmup steps: %s\", warmup_steps)\n"
   ]
  },
  {
   "cell_type": "code",
   "execution_count": 22,
   "id": "f73d99dc",
   "metadata": {},
   "outputs": [
    {
     "name": "stderr",
     "output_type": "stream",
     "text": [
      "2025-10-16 15:21:02 - [INFO] - Sử dụng Class Weights & Label smoothing cho hàm loss.\n"
     ]
    }
   ],
   "source": [
    "# Chuyển class weights từ config thành tensor và đưa lên device\n",
    "if cfg.CLASS_WEIGHTS:\n",
    "    logger.info(\"Sử dụng Class Weights & Label smoothing cho hàm loss.\")\n",
    "    class_weights_tensor = torch.tensor(cfg.CLASS_WEIGHTS, dtype=torch.float).to(device)\n",
    "    loss_fn = torch.nn.CrossEntropyLoss(\n",
    "        weight=class_weights_tensor,\n",
    "        label_smoothing=cfg.LABEL_SMOOTHING,\n",
    "    ).to(device)\n",
    "else:\n",
    "    logger.info(\"Sử dụng CrossEntropyLoss thông thường (không có trọng số).\")\n",
    "    loss_fn = torch.nn.CrossEntropyLoss().to(device)\n"
   ]
  },
  {
   "cell_type": "markdown",
   "id": "67e5a7d7",
   "metadata": {},
   "source": [
    "## 5. Vòng lặp Huấn luyện"
   ]
  },
  {
   "cell_type": "code",
   "execution_count": 23,
   "id": "275d4c7a",
   "metadata": {},
   "outputs": [
    {
     "name": "stderr",
     "output_type": "stream",
     "text": [
      "2025-10-16 15:21:02 - [INFO] - --- Epoch 1/10 ---\n"
     ]
    },
    {
     "data": {
      "application/vnd.jupyter.widget-view+json": {
       "model_id": "632874b4b2154cfcaee9b6a420d7bf54",
       "version_major": 2,
       "version_minor": 0
      },
      "text/plain": [
       "Epoch 1/10:   0%|          | 0/2800 [00:00<?, ?it/s]"
      ]
     },
     "metadata": {},
     "output_type": "display_data"
    },
    {
     "name": "stderr",
     "output_type": "stream",
     "text": [
      "2025-10-16 15:27:03 - [INFO] - Loss trung bình trên tập train: 1.5303\n",
      "2025-10-16 15:27:03 - [INFO] - Current Learning Rate: 8.00e-06\n",
      "2025-10-16 15:27:03 - [INFO] - Bắt đầu đánh giá trên tập validation...\n"
     ]
    },
    {
     "data": {
      "application/vnd.jupyter.widget-view+json": {
       "model_id": "d5b812dd7f5a449985dbdf5808cd9618",
       "version_major": 2,
       "version_minor": 0
      },
      "text/plain": [
       "Evaluating:   0%|          | 0/700 [00:00<?, ?it/s]"
      ]
     },
     "metadata": {},
     "output_type": "display_data"
    },
    {
     "name": "stderr",
     "output_type": "stream",
     "text": [
      "2025-10-16 15:27:32 - [INFO] - Validation Loss: 0.8831\n",
      "2025-10-16 15:27:32 - [INFO] - Validation Accuracy: 0.6136\n",
      "2025-10-16 15:27:32 - [INFO] - Validation Macro-F1: 0.6139\n",
      "2025-10-16 15:27:32 - [INFO] - Classification Report trên tập validation:\n",
      "              precision    recall  f1-score   support\n",
      "\n",
      "   intrinsic     0.5345    0.5061    0.5199       490\n",
      "   extrinsic     0.6929    0.7245    0.7084       461\n",
      "          no     0.6101    0.6169    0.6135       449\n",
      "\n",
      "    accuracy                         0.6136      1400\n",
      "   macro avg     0.6125    0.6159    0.6139      1400\n",
      "weighted avg     0.6109    0.6136    0.6120      1400\n",
      "\n",
      "2025-10-16 15:27:32 - [INFO] - 🎉 Macro-F1 cải thiện. Đang lưu model tốt nhất vào '/home/guest/Projects/CS221/models/ernie-m-large-mnli-xnli-tuned'...\n"
     ]
    },
    {
     "name": "stdout",
     "output_type": "stream",
     "text": [
      "\n",
      "Classification Report trên tập validation:\n"
     ]
    },
    {
     "name": "stderr",
     "output_type": "stream",
     "text": [
      "2025-10-16 15:27:34 - [INFO] - Lưu model thành công.\n",
      "2025-10-16 15:27:34 - [INFO] - --- Epoch 2/10 ---\n"
     ]
    },
    {
     "data": {
      "application/vnd.jupyter.widget-view+json": {
       "model_id": "30d7690de1d746cc8803e86d7b9c21e0",
       "version_major": 2,
       "version_minor": 0
      },
      "text/plain": [
       "Epoch 2/10:   0%|          | 0/2800 [00:00<?, ?it/s]"
      ]
     },
     "metadata": {},
     "output_type": "display_data"
    },
    {
     "name": "stderr",
     "output_type": "stream",
     "text": [
      "2025-10-16 15:33:41 - [INFO] - Loss trung bình trên tập train: 0.7119\n",
      "2025-10-16 15:33:41 - [INFO] - Current Learning Rate: 7.76e-06\n",
      "2025-10-16 15:33:41 - [INFO] - Bắt đầu đánh giá trên tập validation...\n"
     ]
    },
    {
     "data": {
      "application/vnd.jupyter.widget-view+json": {
       "model_id": "35fb36d8697d41cf9d91fdea98453860",
       "version_major": 2,
       "version_minor": 0
      },
      "text/plain": [
       "Evaluating:   0%|          | 0/700 [00:00<?, ?it/s]"
      ]
     },
     "metadata": {},
     "output_type": "display_data"
    },
    {
     "name": "stderr",
     "output_type": "stream",
     "text": [
      "2025-10-16 15:34:10 - [INFO] - Validation Loss: 0.7283\n",
      "2025-10-16 15:34:10 - [INFO] - Validation Accuracy: 0.7386\n",
      "2025-10-16 15:34:10 - [INFO] - Validation Macro-F1: 0.7405\n",
      "2025-10-16 15:34:10 - [INFO] - Classification Report trên tập validation:\n",
      "              precision    recall  f1-score   support\n",
      "\n",
      "   intrinsic     0.6667    0.7388    0.7009       490\n",
      "   extrinsic     0.7897    0.7007    0.7425       461\n",
      "          no     0.7790    0.7773    0.7781       449\n",
      "\n",
      "    accuracy                         0.7386      1400\n",
      "   macro avg     0.7451    0.7389    0.7405      1400\n",
      "weighted avg     0.7432    0.7386    0.7394      1400\n",
      "\n",
      "2025-10-16 15:34:10 - [INFO] - 🎉 Macro-F1 cải thiện. Đang lưu model tốt nhất vào '/home/guest/Projects/CS221/models/ernie-m-large-mnli-xnli-tuned'...\n"
     ]
    },
    {
     "name": "stdout",
     "output_type": "stream",
     "text": [
      "\n",
      "Classification Report trên tập validation:\n"
     ]
    },
    {
     "name": "stderr",
     "output_type": "stream",
     "text": [
      "2025-10-16 15:34:12 - [INFO] - Lưu model thành công.\n",
      "2025-10-16 15:34:12 - [INFO] - --- Epoch 3/10 ---\n"
     ]
    },
    {
     "data": {
      "application/vnd.jupyter.widget-view+json": {
       "model_id": "ca2febdd9cb5466b8645f644548b3759",
       "version_major": 2,
       "version_minor": 0
      },
      "text/plain": [
       "Epoch 3/10:   0%|          | 0/2800 [00:00<?, ?it/s]"
      ]
     },
     "metadata": {},
     "output_type": "display_data"
    },
    {
     "name": "stderr",
     "output_type": "stream",
     "text": [
      "2025-10-16 15:40:22 - [INFO] - Loss trung bình trên tập train: 0.5187\n",
      "2025-10-16 15:40:22 - [INFO] - Current Learning Rate: 7.06e-06\n",
      "2025-10-16 15:40:22 - [INFO] - Bắt đầu đánh giá trên tập validation...\n"
     ]
    },
    {
     "data": {
      "application/vnd.jupyter.widget-view+json": {
       "model_id": "b70c8ef9fd8741da98f9fe831a590ed9",
       "version_major": 2,
       "version_minor": 0
      },
      "text/plain": [
       "Evaluating:   0%|          | 0/700 [00:00<?, ?it/s]"
      ]
     },
     "metadata": {},
     "output_type": "display_data"
    },
    {
     "name": "stderr",
     "output_type": "stream",
     "text": [
      "2025-10-16 15:40:51 - [INFO] - Validation Loss: 0.7591\n",
      "2025-10-16 15:40:51 - [INFO] - Validation Accuracy: 0.7500\n",
      "2025-10-16 15:40:51 - [INFO] - Validation Macro-F1: 0.7508\n",
      "2025-10-16 15:40:51 - [INFO] - Classification Report trên tập validation:\n",
      "              precision    recall  f1-score   support\n",
      "\n",
      "   intrinsic     0.7261    0.6980    0.7118       490\n",
      "   extrinsic     0.7437    0.7679    0.7556       461\n",
      "          no     0.7815    0.7884    0.7849       449\n",
      "\n",
      "    accuracy                         0.7500      1400\n",
      "   macro avg     0.7504    0.7514    0.7508      1400\n",
      "weighted avg     0.7497    0.7500    0.7497      1400\n",
      "\n",
      "2025-10-16 15:40:51 - [INFO] - 🎉 Macro-F1 cải thiện. Đang lưu model tốt nhất vào '/home/guest/Projects/CS221/models/ernie-m-large-mnli-xnli-tuned'...\n"
     ]
    },
    {
     "name": "stdout",
     "output_type": "stream",
     "text": [
      "\n",
      "Classification Report trên tập validation:\n"
     ]
    },
    {
     "name": "stderr",
     "output_type": "stream",
     "text": [
      "2025-10-16 15:40:53 - [INFO] - Lưu model thành công.\n",
      "2025-10-16 15:40:53 - [INFO] - --- Epoch 4/10 ---\n"
     ]
    },
    {
     "data": {
      "application/vnd.jupyter.widget-view+json": {
       "model_id": "0c91ebcb204c4e6f95617f2ab1b1f536",
       "version_major": 2,
       "version_minor": 0
      },
      "text/plain": [
       "Epoch 4/10:   0%|          | 0/2800 [00:00<?, ?it/s]"
      ]
     },
     "metadata": {},
     "output_type": "display_data"
    },
    {
     "name": "stderr",
     "output_type": "stream",
     "text": [
      "2025-10-16 15:47:06 - [INFO] - Loss trung bình trên tập train: 0.3588\n",
      "2025-10-16 15:47:06 - [INFO] - Current Learning Rate: 6.00e-06\n",
      "2025-10-16 15:47:06 - [INFO] - Bắt đầu đánh giá trên tập validation...\n"
     ]
    },
    {
     "data": {
      "application/vnd.jupyter.widget-view+json": {
       "model_id": "bd4e1b81f5aa4dc39cb35568e078092f",
       "version_major": 2,
       "version_minor": 0
      },
      "text/plain": [
       "Evaluating:   0%|          | 0/700 [00:00<?, ?it/s]"
      ]
     },
     "metadata": {},
     "output_type": "display_data"
    },
    {
     "name": "stderr",
     "output_type": "stream",
     "text": [
      "2025-10-16 15:47:34 - [INFO] - Validation Loss: 0.9048\n",
      "2025-10-16 15:47:34 - [INFO] - Validation Accuracy: 0.7371\n",
      "2025-10-16 15:47:34 - [INFO] - Validation Macro-F1: 0.7380\n",
      "2025-10-16 15:47:34 - [INFO] - Classification Report trên tập validation:\n",
      "              precision    recall  f1-score   support\n",
      "\n",
      "   intrinsic     0.6971    0.6857    0.6914       490\n",
      "   extrinsic     0.7619    0.7289    0.7450       461\n",
      "          no     0.7547    0.8018    0.7775       449\n",
      "\n",
      "    accuracy                         0.7371      1400\n",
      "   macro avg     0.7379    0.7388    0.7380      1400\n",
      "weighted avg     0.7369    0.7371    0.7367      1400\n",
      "\n",
      "2025-10-16 15:47:34 - [WARNING] - Macro-F1 không cải thiện. Patience: 1/2\n",
      "2025-10-16 15:47:34 - [INFO] - --- Epoch 5/10 ---\n"
     ]
    },
    {
     "name": "stdout",
     "output_type": "stream",
     "text": [
      "\n",
      "Classification Report trên tập validation:\n"
     ]
    },
    {
     "data": {
      "application/vnd.jupyter.widget-view+json": {
       "model_id": "1df86ee80b784577b74691b1998d46c4",
       "version_major": 2,
       "version_minor": 0
      },
      "text/plain": [
       "Epoch 5/10:   0%|          | 0/2800 [00:00<?, ?it/s]"
      ]
     },
     "metadata": {},
     "output_type": "display_data"
    },
    {
     "ename": "KeyboardInterrupt",
     "evalue": "",
     "output_type": "error",
     "traceback": [
      "\u001b[31m---------------------------------------------------------------------------\u001b[39m",
      "\u001b[31mKeyboardInterrupt\u001b[39m                         Traceback (most recent call last)",
      "\u001b[36mCell\u001b[39m\u001b[36m \u001b[39m\u001b[32mIn[23]\u001b[39m\u001b[32m, line 7\u001b[39m\n\u001b[32m      4\u001b[39m \u001b[38;5;28;01mfor\u001b[39;00m epoch \u001b[38;5;129;01min\u001b[39;00m \u001b[38;5;28mrange\u001b[39m(cfg.EPOCHS):\n\u001b[32m      5\u001b[39m     logger.info(\u001b[33mf\u001b[39m\u001b[33m\"\u001b[39m\u001b[33m--- Epoch \u001b[39m\u001b[38;5;132;01m{\u001b[39;00mepoch\u001b[38;5;250m \u001b[39m+\u001b[38;5;250m \u001b[39m\u001b[32m1\u001b[39m\u001b[38;5;132;01m}\u001b[39;00m\u001b[33m/\u001b[39m\u001b[38;5;132;01m{\u001b[39;00mcfg.EPOCHS\u001b[38;5;132;01m}\u001b[39;00m\u001b[33m ---\u001b[39m\u001b[33m\"\u001b[39m)\n\u001b[32m----> \u001b[39m\u001b[32m7\u001b[39m     avg_train_loss = \u001b[43mtrain_one_epoch\u001b[49m\u001b[43m(\u001b[49m\n\u001b[32m      8\u001b[39m \u001b[43m        \u001b[49m\u001b[43mmodel\u001b[49m\u001b[43m,\u001b[49m\n\u001b[32m      9\u001b[39m \u001b[43m        \u001b[49m\u001b[43mtrain_loader\u001b[49m\u001b[43m,\u001b[49m\n\u001b[32m     10\u001b[39m \u001b[43m        \u001b[49m\u001b[43mloss_fn\u001b[49m\u001b[43m,\u001b[49m\n\u001b[32m     11\u001b[39m \u001b[43m        \u001b[49m\u001b[43moptimizer\u001b[49m\u001b[43m,\u001b[49m\n\u001b[32m     12\u001b[39m \u001b[43m        \u001b[49m\u001b[43mscheduler\u001b[49m\u001b[43m,\u001b[49m\n\u001b[32m     13\u001b[39m \u001b[43m        \u001b[49m\u001b[43mdevice\u001b[49m\u001b[43m,\u001b[49m\n\u001b[32m     14\u001b[39m \u001b[43m        \u001b[49m\u001b[43mepoch\u001b[49m\u001b[43m \u001b[49m\u001b[43m+\u001b[49m\u001b[43m \u001b[49m\u001b[32;43m1\u001b[39;49m\u001b[43m,\u001b[49m\n\u001b[32m     15\u001b[39m \u001b[43m        \u001b[49m\u001b[43mcfg\u001b[49m\u001b[43m.\u001b[49m\u001b[43mEPOCHS\u001b[49m\u001b[43m,\u001b[49m\n\u001b[32m     16\u001b[39m \u001b[43m        \u001b[49m\u001b[43mgradient_accumulation_steps\u001b[49m\u001b[43m=\u001b[49m\u001b[43mgradient_accumulation_steps\u001b[49m\u001b[43m,\u001b[49m\n\u001b[32m     17\u001b[39m \u001b[43m    \u001b[49m\u001b[43m)\u001b[49m\n\u001b[32m     18\u001b[39m     logger.info(\u001b[33mf\u001b[39m\u001b[33m\"\u001b[39m\u001b[33mLoss trung bình trên tập train: \u001b[39m\u001b[38;5;132;01m{\u001b[39;00mavg_train_loss\u001b[38;5;132;01m:\u001b[39;00m\u001b[33m.4f\u001b[39m\u001b[38;5;132;01m}\u001b[39;00m\u001b[33m\"\u001b[39m)\n\u001b[32m     20\u001b[39m     current_lr = optimizer.param_groups[\u001b[32m0\u001b[39m][\u001b[33m\"\u001b[39m\u001b[33mlr\u001b[39m\u001b[33m\"\u001b[39m]\n",
      "\u001b[36mCell\u001b[39m\u001b[36m \u001b[39m\u001b[32mIn[8]\u001b[39m\u001b[32m, line 44\u001b[39m, in \u001b[36mtrain_one_epoch\u001b[39m\u001b[34m(model, data_loader, loss_fn, optimizer, scheduler, device, epoch, total_epochs, gradient_accumulation_steps)\u001b[39m\n\u001b[32m     41\u001b[39m             scheduler.step()\n\u001b[32m     42\u001b[39m             optimizer.zero_grad()\n\u001b[32m---> \u001b[39m\u001b[32m44\u001b[39m         progress_bar.set_postfix({\u001b[33m\"\u001b[39m\u001b[33mloss\u001b[39m\u001b[33m\"\u001b[39m: \u001b[33mf\u001b[39m\u001b[33m\"\u001b[39m\u001b[38;5;132;01m{\u001b[39;00m\u001b[43mloss\u001b[49m\u001b[43m.\u001b[49m\u001b[43mitem\u001b[49m\u001b[43m(\u001b[49m\u001b[43m)\u001b[49m\u001b[38;5;132;01m:\u001b[39;00m\u001b[33m.4f\u001b[39m\u001b[38;5;132;01m}\u001b[39;00m\u001b[33m\"\u001b[39m})\n\u001b[32m     46\u001b[39m \u001b[38;5;28;01mreturn\u001b[39;00m total_loss / \u001b[38;5;28mlen\u001b[39m(data_loader)\n",
      "\u001b[31mKeyboardInterrupt\u001b[39m: "
     ]
    }
   ],
   "source": [
    "best_macro_f1 = 0.0\n",
    "patience_counter = 0  # bien dem => early stopped khi f1 ko tang them => overfitting\n",
    "\n",
    "for epoch in range(cfg.EPOCHS):\n",
    "    logger.info(f\"--- Epoch {epoch + 1}/{cfg.EPOCHS} ---\")\n",
    "\n",
    "    avg_train_loss = train_one_epoch(\n",
    "        model,\n",
    "        train_loader,\n",
    "        loss_fn,\n",
    "        optimizer,\n",
    "        scheduler,\n",
    "        device,\n",
    "        epoch + 1,\n",
    "        cfg.EPOCHS,\n",
    "        gradient_accumulation_steps=gradient_accumulation_steps,\n",
    "    )\n",
    "    logger.info(f\"Loss trung bình trên tập train: {avg_train_loss:.4f}\")\n",
    "\n",
    "    current_lr = optimizer.param_groups[0][\"lr\"]\n",
    "    logger.info(\n",
    "        f\"Current Learning Rate: {current_lr:.2e}\"\n",
    "    )  # Dùng định dạng khoa học e.g., 8.00e-06\n",
    "\n",
    "    # Đánh giá trên tập validation\n",
    "    logger.info(\"Bắt đầu đánh giá trên tập validation...\")\n",
    "    val_labels, val_preds, avg_val_loss = evaluate(model, val_loader, loss_fn, device)\n",
    "\n",
    "    accuracy = accuracy_score(val_labels, val_preds)\n",
    "    macro_f1 = f1_score(val_labels, val_preds, average=\"macro\")\n",
    "\n",
    "    logger.info(f\"Validation Loss: {avg_val_loss:.4f}\")\n",
    "    logger.info(f\"Validation Accuracy: {accuracy:.4f}\")\n",
    "    logger.info(f\"Validation Macro-F1: {macro_f1:.4f}\")\n",
    "\n",
    "    # In classification report chi tiết\n",
    "    print(\"\\nClassification Report trên tập validation:\")\n",
    "    target_names = [cfg.ID2LABEL[i] for i in range(len(cfg.LABEL_MAP))]\n",
    "    # print(\n",
    "    #     classification_report(\n",
    "    #         val_labels, val_preds, target_names=target_names, digits=4\n",
    "    #     )\n",
    "    # )\n",
    "\n",
    "    # In classification report chi tiết (có thể giữ lại print hoặc log từng dòng)\n",
    "    report = classification_report(\n",
    "        val_labels,\n",
    "        val_preds,\n",
    "        target_names=[cfg.ID2LABEL[i] for i in range(len(cfg.LABEL_MAP))],\n",
    "        digits=4,\n",
    "    )\n",
    "    logger.info(f\"Classification Report trên tập validation:\\n{report}\")\n",
    "\n",
    "    # Lưu lại model tốt nhất dựa trên Macro-F1\n",
    "    if macro_f1 > best_macro_f1:\n",
    "        best_macro_f1 = macro_f1\n",
    "        patience_counter = 0  # << RESET BỘ ĐẾM\n",
    "\n",
    "        logger.info(\n",
    "            f\"🎉 Macro-F1 cải thiện. Đang lưu model tốt nhất vào '{cfg.MODEL_OUTPUT_DIR}'...\"\n",
    "        )\n",
    "        if not os.path.exists(cfg.MODEL_OUTPUT_DIR):\n",
    "            os.makedirs(cfg.MODEL_OUTPUT_DIR)\n",
    "\n",
    "        model.save_pretrained(cfg.MODEL_OUTPUT_DIR)\n",
    "        tokenizer.save_pretrained(cfg.MODEL_OUTPUT_DIR)\n",
    "        logger.info(\"Lưu model thành công.\")\n",
    "    else:\n",
    "        patience_counter += 1\n",
    "        logger.warning(\n",
    "            f\"Macro-F1 không cải thiện. Patience: {patience_counter}/{cfg.PATIENCE_LIMIT}\"\n",
    "        )\n",
    "        if patience_counter >= cfg.PATIENCE_LIMIT:\n",
    "            logger.info(\"Early stopping! Dừng huấn luyện.\")\n",
    "            break\n"
   ]
  },
  {
   "cell_type": "code",
   "execution_count": 24,
   "id": "1843cf36",
   "metadata": {},
   "outputs": [
    {
     "name": "stderr",
     "output_type": "stream",
     "text": [
      "2025-10-16 15:47:51 - [INFO] - 🏁 Quá trình huấn luyện hoàn tất.\n",
      "2025-10-16 15:47:51 - [INFO] - Model tốt nhất với Macro-F1 = 0.7508 đã được lưu tại '/home/guest/Projects/CS221/models/ernie-m-large-mnli-xnli-tuned'\n",
      "2025-10-16 15:47:51 - [INFO] - Model tốt nhất với Macro-F1 = 0.7508 đã được lưu tại '/home/guest/Projects/CS221/models/ernie-m-large-mnli-xnli-tuned'\n"
     ]
    }
   ],
   "source": [
    "logger.info(\"🏁 Quá trình huấn luyện hoàn tất.\")\n",
    "logger.info(\n",
    "    f\"Model tốt nhất với Macro-F1 = {best_macro_f1:.4f} đã được lưu tại '{cfg.MODEL_OUTPUT_DIR}'\"\n",
    ")\n"
   ]
  },
  {
   "cell_type": "markdown",
   "id": "451f5a5e",
   "metadata": {},
   "source": [
    "# Phân phối kết quả đúng/sai theo từng lớp"
   ]
  },
  {
   "cell_type": "code",
   "execution_count": 25,
   "id": "72fc9859",
   "metadata": {},
   "outputs": [
    {
     "name": "stderr",
     "output_type": "stream",
     "text": [
      "2025-10-16 15:47:52 - [INFO] - Phân phối kết quả trên từng lớp:\n",
      "  true_label  correct  incorrect  total correct_rate incorrect_rate\n",
      "0  extrinsic      336        125    461       72.89%         27.11%\n",
      "1  intrinsic      336        154    490       68.57%         31.43%\n",
      "2         no      360         89    449       80.18%         19.82%\n"
     ]
    },
    {
     "name": "stdout",
     "output_type": "stream",
     "text": [
      "Bảng phân phối kết quả trên từng lớp:\n"
     ]
    },
    {
     "data": {
      "text/html": [
       "<div>\n",
       "<style scoped>\n",
       "    .dataframe tbody tr th:only-of-type {\n",
       "        vertical-align: middle;\n",
       "    }\n",
       "\n",
       "    .dataframe tbody tr th {\n",
       "        vertical-align: top;\n",
       "    }\n",
       "\n",
       "    .dataframe thead th {\n",
       "        text-align: right;\n",
       "    }\n",
       "</style>\n",
       "<table border=\"1\" class=\"dataframe\">\n",
       "  <thead>\n",
       "    <tr style=\"text-align: right;\">\n",
       "      <th></th>\n",
       "      <th>true_label</th>\n",
       "      <th>correct</th>\n",
       "      <th>incorrect</th>\n",
       "      <th>total</th>\n",
       "      <th>correct_rate</th>\n",
       "      <th>incorrect_rate</th>\n",
       "    </tr>\n",
       "  </thead>\n",
       "  <tbody>\n",
       "    <tr>\n",
       "      <th>0</th>\n",
       "      <td>extrinsic</td>\n",
       "      <td>336</td>\n",
       "      <td>125</td>\n",
       "      <td>461</td>\n",
       "      <td>72.89%</td>\n",
       "      <td>27.11%</td>\n",
       "    </tr>\n",
       "    <tr>\n",
       "      <th>1</th>\n",
       "      <td>intrinsic</td>\n",
       "      <td>336</td>\n",
       "      <td>154</td>\n",
       "      <td>490</td>\n",
       "      <td>68.57%</td>\n",
       "      <td>31.43%</td>\n",
       "    </tr>\n",
       "    <tr>\n",
       "      <th>2</th>\n",
       "      <td>no</td>\n",
       "      <td>360</td>\n",
       "      <td>89</td>\n",
       "      <td>449</td>\n",
       "      <td>80.18%</td>\n",
       "      <td>19.82%</td>\n",
       "    </tr>\n",
       "  </tbody>\n",
       "</table>\n",
       "</div>"
      ],
      "text/plain": [
       "  true_label  correct  incorrect  total correct_rate incorrect_rate\n",
       "0  extrinsic      336        125    461       72.89%         27.11%\n",
       "1  intrinsic      336        154    490       68.57%         31.43%\n",
       "2         no      360         89    449       80.18%         19.82%"
      ]
     },
     "metadata": {},
     "output_type": "display_data"
    }
   ],
   "source": [
    "val_label_names = [cfg.ID2LABEL[label_id] for label_id in val_labels]\n",
    "pred_label_names = [cfg.ID2LABEL[pred_id] for pred_id in val_preds]\n",
    "evaluation_df = pd.DataFrame(\n",
    "    {\n",
    "        \"true_label\": val_label_names,\n",
    "        \"predicted_label\": pred_label_names,\n",
    "    }\n",
    ")\n",
    "evaluation_df[\"status\"] = evaluation_df.apply(\n",
    "    lambda row: (\n",
    "        \"correct\" if row[\"true_label\"] == row[\"predicted_label\"] else \"incorrect\"\n",
    "    ),\n",
    "    axis=1,\n",
    ")\n",
    "distribution_table = (\n",
    "    evaluation_df.groupby([\"true_label\", \"status\"])\n",
    "    .size()\n",
    "    .unstack(fill_value=0)\n",
    "    .rename_axis(None, axis=1)\n",
    "    .reset_index()\n",
    "    .sort_values(\"true_label\")\n",
    ")\n",
    "\n",
    "# 1. Thêm cột 'total' bằng cách cộng cột 'correct' và 'incorrect'\n",
    "distribution_table[\"total\"] = (\n",
    "    distribution_table[\"correct\"] + distribution_table[\"incorrect\"]\n",
    ")\n",
    "\n",
    "# 2. Thêm cột tỉ lệ đúng (correct_rate)\n",
    "distribution_table[\"correct_rate\"] = (\n",
    "    distribution_table[\"correct\"] / distribution_table[\"total\"]\n",
    ")\n",
    "\n",
    "# 3. Thêm cột tỉ lệ sai (incorrect_rate)\n",
    "distribution_table[\"incorrect_rate\"] = (\n",
    "    distribution_table[\"incorrect\"] / distribution_table[\"total\"]\n",
    ")\n",
    "\n",
    "# (Tùy chọn) Format các cột tỉ lệ thành dạng phần trăm cho dễ đọc\n",
    "distribution_table[\"correct_rate\"] = distribution_table[\"correct_rate\"].map(\n",
    "    \"{:.2%}\".format\n",
    ")\n",
    "distribution_table[\"incorrect_rate\"] = distribution_table[\"incorrect_rate\"].map(\n",
    "    \"{:.2%}\".format\n",
    ")\n",
    "\n",
    "# In ra bảng kết quả\n",
    "logger.info(f\"Phân phối kết quả trên từng lớp:\\n{distribution_table.to_string()}\")\n",
    "\n",
    "# Trong notebook, dùng display() sẽ cho bảng đẹp hơn\n",
    "print(\"Bảng phân phối kết quả trên từng lớp:\")\n",
    "display(distribution_table)\n"
   ]
  }
 ],
 "metadata": {
  "kernelspec": {
   "display_name": "cs221",
   "language": "python",
   "name": "python3"
  },
  "language_info": {
   "codemirror_mode": {
    "name": "ipython",
    "version": 3
   },
   "file_extension": ".py",
   "mimetype": "text/x-python",
   "name": "python",
   "nbconvert_exporter": "python",
   "pygments_lexer": "ipython3",
   "version": "3.12.11"
  }
 },
 "nbformat": 4,
 "nbformat_minor": 5
}
