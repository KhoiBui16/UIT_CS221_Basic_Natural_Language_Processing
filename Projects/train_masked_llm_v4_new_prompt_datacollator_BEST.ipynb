{
 "cells": [
  {
   "cell_type": "markdown",
   "id": "c761c320",
   "metadata": {},
   "source": [
    "# CONFIGURATION"
   ]
  },
  {
   "cell_type": "code",
   "execution_count": null,
   "id": "a5f24b51",
   "metadata": {},
   "outputs": [],
   "source": [
    "# Cell [1] - ĐÃ CẬP NHẬT\n",
    "import os\n",
    "\n",
    "MODEL_NAMES = [\n",
    "    \"joeddav/xlm-roberta-large-xnli\",\n",
    "    \"microsoft/infoxlm-large\",\n",
    "    \"uitnlp/CafeBERT\",\n",
    "    \"FacebookAI/xlm-roberta-large\",\n",
    "    \"MoritzLaurer/DeBERTa-v3-large-mnli-fever-anli-ling-wanli\",\n",
    "    \"MoritzLaurer/ernie-m-large-mnli-xnli\",\n",
    "    \"microsoft/deberta-xlarge-mnli\",\n",
    "]\n",
    "\n",
    "\n",
    "class Config:\n",
    "    ROOT_DIR = os.getcwd()\n",
    "    DATA_DIR = os.path.join(ROOT_DIR, \"data\")\n",
    "\n",
    "    # --- THAY ĐỔI QUAN TRỌNG ---\n",
    "    # Trỏ đến file đã được xử lý bằng semantic search\n",
    "    TRAIN_FILE = os.path.join(DATA_DIR, \"vihallu-train.csv\")\n",
    "\n",
    "    TEST_FILE = os.path.join(DATA_DIR, \"vihallu-public-test.csv\")\n",
    "    SUBMISSION_DIR = os.path.join(ROOT_DIR, \"submission\")\n",
    "    SUBMISSION_CSV = \"submit.csv\"\n",
    "    SUBMISSION_ZIP = \"submit.zip\"\n",
    "\n",
    "    MODEL_NAME = MODEL_NAMES[3]\n",
    "    MODEL_OUTPUT_DIR = os.path.join(\n",
    "        ROOT_DIR, \"models\", f\"{MODEL_NAME.split('/')[-1]}-tuned\"\n",
    "    )\n",
    "\n",
    "    MAX_LENGTH = 512\n",
    "    RANDOM_STATE = 42\n",
    "    EPOCHS = 10\n",
    "    BATCH_SIZE = 4\n",
    "    GRADIENT_ACCUMULATION_STEPS = 4\n",
    "    SCHEDULER_TYPE = \"constant_with_warmup\"\n",
    "    LEARNING_RATE = 6e-6\n",
    "    WEIGHT_DECAY = 0.01\n",
    "    NUM_CYCLES = 3\n",
    "    CLASSIFIER_DROPOUT = 0.1\n",
    "    LABEL_SMOOTHING = 0.05\n",
    "    TOTAL_STEP_SCALE = 0.1\n",
    "    EPSILON = 1e-8\n",
    "\n",
    "    PATIENCE_LIMIT = 3\n",
    "    VALIDATION_SPLIT_SIZE = 0.2\n",
    "\n",
    "    LABEL_MAP = {\"no\": 0, \"extrinsic\": 1, \"intrinsic\": 2}\n",
    "    ID2LABEL = {v: k for k, v in LABEL_MAP.items()}\n",
    "    CLASS_WEIGHTS = [1.0393466963622866, 1.0114145354717525, 0.9531590413943355]\n",
    "\n",
    "\n",
    "cfg = Config()\n"
   ]
  },
  {
   "cell_type": "markdown",
   "id": "b01017e0",
   "metadata": {},
   "source": [
    "# LOGGER"
   ]
  },
  {
   "cell_type": "code",
   "execution_count": null,
   "id": "3d1e41e5",
   "metadata": {},
   "outputs": [],
   "source": [
    "import logging\n",
    "import os\n",
    "from datetime import datetime\n",
    "\n",
    "# Thư mục gốc để lưu tất cả các file log\n",
    "LOG_BASE_DIR = \"logs\"\n",
    "\n",
    "# Dùng một dictionary để lưu các logger đã tạo, tránh việc tạo lại và gây ra log trùng lặp\n",
    "_loggers = {}\n",
    "\n",
    "\n",
    "def setup_logger(model_name: str, log_level=logging.INFO):\n",
    "    \"\"\"\n",
    "    Thiết lập và trả về một logger để ghi log vào cả console và file.\n",
    "\n",
    "    - Mỗi model sẽ có một thư mục log riêng dựa trên `model_name`.\n",
    "    - Mỗi lần chạy sẽ tạo một file log mới có tên là timestamp (ví dụ: 2023-10-27_15-30-00.log).\n",
    "    - Đảm bảo không có log nào bị ghi đè.\n",
    "\n",
    "    Args:\n",
    "        model_name (str): Tên của model, dùng để tạo thư mục con. Ví dụ: 'xnli-large-tuned'.\n",
    "        log_level (int): Cấp độ log, mặc định là logging.INFO.\n",
    "\n",
    "    Returns:\n",
    "        logging.Logger: Instance của logger đã được cấu hình.\n",
    "    \"\"\"\n",
    "    # Nếu logger cho model này đã tồn tại, trả về nó ngay lập tức\n",
    "    if model_name in _loggers:\n",
    "        return _loggers[model_name]\n",
    "\n",
    "    # Xử lý tên model để an toàn khi tạo tên thư mục (thay thế \"/\")\n",
    "    safe_model_name = model_name.replace(\"/\", \"_\").replace(\"\\\\\", \"_\")\n",
    "    model_log_dir = os.path.join(LOG_BASE_DIR, safe_model_name)\n",
    "    os.makedirs(model_log_dir, exist_ok=True)\n",
    "\n",
    "    # Tạo logger\n",
    "    logger = logging.getLogger(safe_model_name)\n",
    "    logger.setLevel(log_level)\n",
    "\n",
    "    # Ngăn không cho log lan truyền đến root logger để tránh in ra console 2 lần\n",
    "    logger.propagate = False\n",
    "\n",
    "    # Định dạng cho log message\n",
    "    formatter = logging.Formatter(\n",
    "        \"%(asctime)s - [%(levelname)s] - %(message)s\", datefmt=\"%Y-%m-%d %H:%M:%S\"\n",
    "    )\n",
    "\n",
    "    # Tạo File Handler để ghi log ra file\n",
    "    timestamp = datetime.now().strftime(\"%Y-%m-%d_%H-%M-%S\")\n",
    "    log_file_path = os.path.join(model_log_dir, f\"{timestamp}.log\")\n",
    "\n",
    "    file_handler = logging.FileHandler(log_file_path, encoding=\"utf-8\")\n",
    "    file_handler.setLevel(log_level)\n",
    "    file_handler.setFormatter(formatter)\n",
    "\n",
    "    # Tạo Console (Stream) Handler để in log ra màn hình\n",
    "    console_handler = logging.StreamHandler()\n",
    "    console_handler.setLevel(log_level)\n",
    "    console_handler.setFormatter(formatter)\n",
    "\n",
    "    # Thêm các handler vào logger\n",
    "    logger.addHandler(file_handler)\n",
    "    logger.addHandler(console_handler)\n",
    "\n",
    "    # Lưu logger vào cache\n",
    "    _loggers[model_name] = logger\n",
    "\n",
    "    logger.info(\n",
    "        f\"Logger cho '{safe_model_name}' đã được khởi tạo. File log: {log_file_path}\"\n",
    "    )\n",
    "\n",
    "    return logger\n"
   ]
  },
  {
   "cell_type": "markdown",
   "id": "148d0474",
   "metadata": {},
   "source": [
    "## Setup logger"
   ]
  },
  {
   "cell_type": "code",
   "execution_count": null,
   "id": "16eac9f6",
   "metadata": {},
   "outputs": [
    {
     "name": "stderr",
     "output_type": "stream",
     "text": [
      "2025-10-17 14:07:11 - [INFO] - Logger cho 'FacebookAI_xlm-roberta-large-training' đã được khởi tạo. File log: logs/FacebookAI_xlm-roberta-large-training/2025-10-17_14-07-11.log\n",
      "2025-10-17 14:07:11 - [INFO] - Logger initialized for FacebookAI/xlm-roberta-large\n",
      "2025-10-17 14:07:11 - [INFO] - ============================================================\n",
      "2025-10-17 14:07:11 - [INFO] - 🚀 STARTING TRAINING SESSION\n",
      "2025-10-17 14:07:11 - [INFO] - ============================================================\n",
      "2025-10-17 14:07:11 - [INFO] - ROOT_DIR: /home/guest/Projects/CS221\n",
      "2025-10-17 14:07:11 - [INFO] - DATA_DIR: /home/guest/Projects/CS221/data\n",
      "2025-10-17 14:07:11 - [INFO] - TRAIN_FILE: /home/guest/Projects/CS221/data/vihallu-train.csv\n",
      "2025-10-17 14:07:11 - [INFO] - TEST_FILE: /home/guest/Projects/CS221/data/vihallu-public-test.csv\n",
      "2025-10-17 14:07:11 - [INFO] - SUBMISSION_DIR: /home/guest/Projects/CS221/submission\n",
      "2025-10-17 14:07:11 - [INFO] - SUBMISSION_CSV: submit.csv\n",
      "2025-10-17 14:07:11 - [INFO] - SUBMISSION_ZIP: submit.zip\n",
      "2025-10-17 14:07:11 - [INFO] - MODEL_NAME: FacebookAI/xlm-roberta-large\n",
      "2025-10-17 14:07:11 - [INFO] - MODEL_OUTPUT_DIR: /home/guest/Projects/CS221/models/xlm-roberta-large-tuned\n",
      "2025-10-17 14:07:11 - [INFO] - MAX_LENGTH: 512\n",
      "2025-10-17 14:07:11 - [INFO] - RANDOM_STATE: 42\n",
      "2025-10-17 14:07:11 - [INFO] - EPOCHS: 10\n",
      "2025-10-17 14:07:11 - [INFO] - BATCH_SIZE: 4\n",
      "2025-10-17 14:07:11 - [INFO] - GRADIENT_ACCUMULATION_STEPS: 4\n",
      "2025-10-17 14:07:11 - [INFO] - SCHEDULER_TYPE: constant_with_warmup\n",
      "2025-10-17 14:07:11 - [INFO] - LEARNING_RATE: 8e-06\n",
      "2025-10-17 14:07:11 - [INFO] - WEIGHT_DECAY: 0.01\n",
      "2025-10-17 14:07:11 - [INFO] - NUM_CYCLES: 3\n",
      "2025-10-17 14:07:11 - [INFO] - CLASSIFIER_DROPOUT: 0.1\n",
      "2025-10-17 14:07:11 - [INFO] - LABEL_SMOOTHING: 0.05\n",
      "2025-10-17 14:07:11 - [INFO] - TOTAL_STEP_SCALE: 0.1\n",
      "2025-10-17 14:07:11 - [INFO] - EPSILON: 1e-08\n",
      "2025-10-17 14:07:11 - [INFO] - PATIENCE_LIMIT: 3\n",
      "2025-10-17 14:07:11 - [INFO] - VALIDATION_SPLIT_SIZE: 0.2\n",
      "2025-10-17 14:07:11 - [INFO] - LABEL_MAP: {'no': 0, 'extrinsic': 1, 'intrinsic': 2}\n",
      "2025-10-17 14:07:11 - [INFO] - ID2LABEL: {0: 'no', 1: 'extrinsic', 2: 'intrinsic'}\n",
      "2025-10-17 14:07:11 - [INFO] - CLASS_WEIGHTS: [1.0393466963622866, 1.0114145354717525, 0.9531590413943355]\n",
      "2025-10-17 14:07:11 - [INFO] - ============================================================\n",
      "2025-10-17 14:07:11 - [INFO] - Logger initialized for FacebookAI/xlm-roberta-large\n",
      "2025-10-17 14:07:11 - [INFO] - ============================================================\n",
      "2025-10-17 14:07:11 - [INFO] - 🚀 STARTING TRAINING SESSION\n",
      "2025-10-17 14:07:11 - [INFO] - ============================================================\n",
      "2025-10-17 14:07:11 - [INFO] - ROOT_DIR: /home/guest/Projects/CS221\n",
      "2025-10-17 14:07:11 - [INFO] - DATA_DIR: /home/guest/Projects/CS221/data\n",
      "2025-10-17 14:07:11 - [INFO] - TRAIN_FILE: /home/guest/Projects/CS221/data/vihallu-train.csv\n",
      "2025-10-17 14:07:11 - [INFO] - TEST_FILE: /home/guest/Projects/CS221/data/vihallu-public-test.csv\n",
      "2025-10-17 14:07:11 - [INFO] - SUBMISSION_DIR: /home/guest/Projects/CS221/submission\n",
      "2025-10-17 14:07:11 - [INFO] - SUBMISSION_CSV: submit.csv\n",
      "2025-10-17 14:07:11 - [INFO] - SUBMISSION_ZIP: submit.zip\n",
      "2025-10-17 14:07:11 - [INFO] - MODEL_NAME: FacebookAI/xlm-roberta-large\n",
      "2025-10-17 14:07:11 - [INFO] - MODEL_OUTPUT_DIR: /home/guest/Projects/CS221/models/xlm-roberta-large-tuned\n",
      "2025-10-17 14:07:11 - [INFO] - MAX_LENGTH: 512\n",
      "2025-10-17 14:07:11 - [INFO] - RANDOM_STATE: 42\n",
      "2025-10-17 14:07:11 - [INFO] - EPOCHS: 10\n",
      "2025-10-17 14:07:11 - [INFO] - BATCH_SIZE: 4\n",
      "2025-10-17 14:07:11 - [INFO] - GRADIENT_ACCUMULATION_STEPS: 4\n",
      "2025-10-17 14:07:11 - [INFO] - SCHEDULER_TYPE: constant_with_warmup\n",
      "2025-10-17 14:07:11 - [INFO] - LEARNING_RATE: 8e-06\n",
      "2025-10-17 14:07:11 - [INFO] - WEIGHT_DECAY: 0.01\n",
      "2025-10-17 14:07:11 - [INFO] - NUM_CYCLES: 3\n",
      "2025-10-17 14:07:11 - [INFO] - CLASSIFIER_DROPOUT: 0.1\n",
      "2025-10-17 14:07:11 - [INFO] - LABEL_SMOOTHING: 0.05\n",
      "2025-10-17 14:07:11 - [INFO] - TOTAL_STEP_SCALE: 0.1\n",
      "2025-10-17 14:07:11 - [INFO] - EPSILON: 1e-08\n",
      "2025-10-17 14:07:11 - [INFO] - PATIENCE_LIMIT: 3\n",
      "2025-10-17 14:07:11 - [INFO] - VALIDATION_SPLIT_SIZE: 0.2\n",
      "2025-10-17 14:07:11 - [INFO] - LABEL_MAP: {'no': 0, 'extrinsic': 1, 'intrinsic': 2}\n",
      "2025-10-17 14:07:11 - [INFO] - ID2LABEL: {0: 'no', 1: 'extrinsic', 2: 'intrinsic'}\n",
      "2025-10-17 14:07:11 - [INFO] - CLASS_WEIGHTS: [1.0393466963622866, 1.0114145354717525, 0.9531590413943355]\n",
      "2025-10-17 14:07:11 - [INFO] - ============================================================\n"
     ]
    }
   ],
   "source": [
    "logger = setup_logger(f\"{cfg.MODEL_NAME}-training\")\n",
    "logger.info(f\"Logger initialized for {cfg.MODEL_NAME}\")\n",
    "\n",
    "logger.info(\"=\" * 60)\n",
    "logger.info(\"🚀 STARTING TRAINING SESSION\")\n",
    "logger.info(\"=\" * 60)\n",
    "for key, value in Config.__dict__.items():\n",
    "    if not key.startswith(\"__\") and not callable(value):\n",
    "        logger.info(f\"{key}: {value}\")\n",
    "logger.info(\"=\" * 60)\n"
   ]
  },
  {
   "cell_type": "markdown",
   "id": "29c3b202",
   "metadata": {},
   "source": [
    "# Hallucination Dataset"
   ]
  },
  {
   "cell_type": "code",
   "execution_count": null,
   "id": "ce606de4",
   "metadata": {},
   "outputs": [],
   "source": [
    "# Cell [6] - ĐÃ CẬP NHẬT\n",
    "import torch\n",
    "from torch.utils.data import Dataset\n",
    "\n",
    "\n",
    "class HallucinationDataset(Dataset):\n",
    "    def __init__(self, premises, hypotheses, labels, tokenizer, max_len):\n",
    "        self.premises = premises\n",
    "        self.hypotheses = hypotheses\n",
    "        self.labels = labels\n",
    "        self.tokenizer = tokenizer\n",
    "        self.max_len = max_len\n",
    "\n",
    "    def __len__(self):\n",
    "        return len(self.labels)\n",
    "\n",
    "    def __getitem__(self, idx):\n",
    "        premise = self.premises[idx]\n",
    "        hypothesis = self.hypotheses[idx]\n",
    "        label = self.labels[idx]\n",
    "\n",
    "        # Tokenize bằng cách truyền 2 chuỗi riêng biệt\n",
    "        # Tokenizer sẽ tự động cắt bớt `premise` nếu cần\n",
    "        encoding = self.tokenizer.encode_plus(\n",
    "            premise,\n",
    "            hypothesis,  # <-- text_pair\n",
    "            add_special_tokens=True,\n",
    "            max_length=self.max_len,\n",
    "            return_token_type_ids=False,\n",
    "            truncation=True,\n",
    "            return_attention_mask=True,\n",
    "        )\n",
    "\n",
    "        return {\n",
    "            \"input_ids\": encoding[\"input_ids\"],\n",
    "            \"attention_mask\": encoding[\"attention_mask\"],\n",
    "            \"labels\": label,\n",
    "        }\n"
   ]
  },
  {
   "cell_type": "markdown",
   "id": "fbbc1878",
   "metadata": {},
   "source": [
    "## Prepare data"
   ]
  },
  {
   "cell_type": "code",
   "execution_count": null,
   "id": "efcfa808",
   "metadata": {},
   "outputs": [],
   "source": [
    "from sklearn.model_selection import train_test_split\n",
    "import pandas as pd\n",
    "\n",
    "\n",
    "def prepare_data(config, logger=None):\n",
    "    df = pd.read_csv(config.TRAIN_FILE)\n",
    "    print(f\"✅ Đọc thành công {len(df)} mẫu từ file đã xử lý: {config.TRAIN_FILE}\")\n",
    "\n",
    "    # Tạo 2 cột premise và hypothesis từ ngữ cảnh (context)\n",
    "    df[\"premise\"] = (\n",
    "        \"Câu hỏi: \"\n",
    "        + df[\"prompt\"].astype(str)\n",
    "        + \" Ngữ cảnh: \"\n",
    "        + df[\"context\"].astype(str)\n",
    "    )\n",
    "    df[\"hypothesis\"] = df[\"response\"].astype(str)\n",
    "\n",
    "    df[\"label_id\"] = df[\"label\"].map(config.LABEL_MAP)\n",
    "    df.dropna(subset=[\"label_id\"], inplace=True)\n",
    "    df[\"label_id\"] = df[\"label_id\"].astype(int)\n",
    "\n",
    "    train_df, val_df = train_test_split(\n",
    "        df,\n",
    "        test_size=config.VALIDATION_SPLIT_SIZE,\n",
    "        random_state=config.RANDOM_STATE,\n",
    "        stratify=df[\"label_id\"],\n",
    "    )\n",
    "\n",
    "    if logger:\n",
    "        logger.info(\n",
    "            f\"Chia dữ liệu: {len(train_df)} mẫu train, {len(val_df)} mẫu validation.\"\n",
    "        )\n",
    "\n",
    "    # --- PHẦN NÂNG CẤP: LƯU FILE RA THƯ MỤC DATA ---\n",
    "    # Tạo thư mục 'processed' trong 'data' nếu chưa có\n",
    "    processed_data_dir = os.path.join(config.DATA_DIR, \"processed\")\n",
    "    os.makedirs(processed_data_dir, exist_ok=True)\n",
    "\n",
    "    # Định nghĩa đường dẫn file\n",
    "    train_output_path = os.path.join(processed_data_dir, \"train_split.csv\")\n",
    "    val_output_path = os.path.join(processed_data_dir, \"validation_split.csv\")\n",
    "\n",
    "    # Lưu các DataFrame\n",
    "    train_df.to_csv(train_output_path, index=False, encoding=\"utf-8-sig\")\n",
    "    val_df.to_csv(val_output_path, index=False, encoding=\"utf-8-sig\")\n",
    "\n",
    "    print(f\"✅ Đã lưu tập train vào: {train_output_path}\")\n",
    "    print(f\"✅ Đã lưu tập validation vào: {val_output_path}\")\n",
    "    # --- KẾT THÚC PHẦN NÂNG CẤP ---\n",
    "\n",
    "    return train_df, val_df\n"
   ]
  },
  {
   "cell_type": "markdown",
   "id": "f432b434",
   "metadata": {},
   "source": [
    "# Model"
   ]
  },
  {
   "cell_type": "code",
   "execution_count": null,
   "id": "f39c273c",
   "metadata": {},
   "outputs": [],
   "source": [
    "from transformers import AutoConfig, AutoTokenizer, AutoModelForSequenceClassification\n",
    "import torch.nn as nn\n",
    "\n",
    "\n",
    "def get_model_and_tokenizer(config):\n",
    "    \"\"\"Tải pre-trained model và tokenizer.\"\"\"\n",
    "    print(f\"Đang tải model: {config.MODEL_NAME}\")\n",
    "    tokenizer = AutoTokenizer.from_pretrained(config.MODEL_NAME)\n",
    "\n",
    "    # Tải config/model/tokenizer với trust_remote_code=True để cho phép model custom\n",
    "    cfg = AutoConfig.from_pretrained(config.MODEL_NAME, trust_remote_code=True)\n",
    "    print(f\"Model config: {cfg}\")\n",
    "\n",
    "    model = AutoModelForSequenceClassification.from_pretrained(\n",
    "        config.MODEL_NAME, num_labels=len(config.LABEL_MAP)\n",
    "    )\n",
    "\n",
    "    # apply classifier dropout if provided in config\n",
    "    if hasattr(config, \"CLASSIFIER_DROPOUT\"):\n",
    "        if hasattr(model.config, \"classifier_dropout\"):\n",
    "            model.config.classifier_dropout = config.CLASSIFIER_DROPOUT\n",
    "        if hasattr(model.config, \"hidden_dropout_prob\"):\n",
    "            model.config.hidden_dropout_prob = config.CLASSIFIER_DROPOUT\n",
    "\n",
    "        if hasattr(model.config, \"attention_probs_dropout_prob\"):\n",
    "            model.config.attention_probs_dropout_prob = min(\n",
    "                0.15, max(0.1, config.CLASSIFIER_DROPOUT)\n",
    "            )\n",
    "        for m in model.modules():\n",
    "            if isinstance(m, nn.Dropout):\n",
    "                m.p = config.CLASSIFIER_DROPOUT\n",
    "    return model, tokenizer\n"
   ]
  },
  {
   "cell_type": "markdown",
   "id": "21114019",
   "metadata": {},
   "source": [
    "# Training"
   ]
  },
  {
   "cell_type": "code",
   "execution_count": null,
   "id": "32b10adb",
   "metadata": {},
   "outputs": [],
   "source": [
    "import os\n",
    "import math\n",
    "import torch\n",
    "import numpy as np\n",
    "import pandas as pd\n",
    "from dotenv import load_dotenv\n",
    "from tqdm.auto import tqdm\n",
    "from torch.optim import AdamW\n",
    "from huggingface_hub import login\n",
    "from transformers import get_scheduler\n",
    "from torch.utils.data import DataLoader\n",
    "from tqdm.contrib.logging import logging_redirect_tqdm\n",
    "from sklearn.utils.class_weight import compute_class_weight\n",
    "from sklearn.metrics import f1_score, accuracy_score, classification_report\n",
    "from functools import partial\n"
   ]
  },
  {
   "cell_type": "markdown",
   "id": "d09e6336",
   "metadata": {},
   "source": [
    "## train one epoch function"
   ]
  },
  {
   "cell_type": "code",
   "execution_count": null,
   "id": "b1154314",
   "metadata": {},
   "outputs": [],
   "source": [
    "def train_one_epoch(\n",
    "    model,\n",
    "    data_loader,\n",
    "    loss_fn,\n",
    "    optimizer,\n",
    "    scheduler,\n",
    "    device,\n",
    "    epoch=None,\n",
    "    total_epochs=None,\n",
    "    gradient_accumulation_steps=1,\n",
    "):\n",
    "    \"\"\"Huấn luyện mô hình trong một epoch bằng gradient accumulation.\"\"\"\n",
    "    model.train()\n",
    "    total_loss = 0\n",
    "    desc = f\"Train\" if epoch is None else f\"Epoch {epoch}/{total_epochs}\"\n",
    "    progress_bar = tqdm(\n",
    "        data_loader, desc=desc, leave=False, dynamic_ncols=True, mininterval=0.5\n",
    "    )\n",
    "\n",
    "    optimizer.zero_grad()\n",
    "    steps_in_epoch = len(data_loader)\n",
    "    with logging_redirect_tqdm():  # make logger calls safe\n",
    "        for step, batch in enumerate(progress_bar):\n",
    "            input_ids = batch[\"input_ids\"].to(device)\n",
    "            attention_mask = batch[\"attention_mask\"].to(device)\n",
    "            labels = batch[\"labels\"].to(device)\n",
    "\n",
    "            outputs = model(input_ids, attention_mask=attention_mask)\n",
    "            logits = outputs.logits  # shape (batch_size, num_labels)\n",
    "\n",
    "            loss = loss_fn(logits, labels)\n",
    "            total_loss += loss.item()\n",
    "            scaled_loss = loss / gradient_accumulation_steps\n",
    "            scaled_loss.backward()\n",
    "\n",
    "            if (step + 1) % gradient_accumulation_steps == 0 or (\n",
    "                step + 1\n",
    "            ) == steps_in_epoch:\n",
    "                torch.nn.utils.clip_grad_norm_(model.parameters(), max_norm=1.0)\n",
    "                optimizer.step()\n",
    "                scheduler.step()\n",
    "                optimizer.zero_grad()\n",
    "\n",
    "            progress_bar.set_postfix({\"loss\": f\"{loss.item():.4f}\"})\n",
    "\n",
    "    return total_loss / len(data_loader)\n"
   ]
  },
  {
   "cell_type": "markdown",
   "id": "4b3398cf",
   "metadata": {},
   "source": [
    "## Evaluate"
   ]
  },
  {
   "cell_type": "code",
   "execution_count": null,
   "id": "194e5a82",
   "metadata": {},
   "outputs": [],
   "source": [
    "def evaluate(model, data_loader, loss_fn, device):\n",
    "    \"\"\"Đánh giá mô hình trên tập dữ liệu.\"\"\"\n",
    "    model.eval()\n",
    "    all_preds = []\n",
    "    all_labels = []\n",
    "    total_val_loss = 0\n",
    "\n",
    "    progress_bar = tqdm(data_loader, desc=\"Evaluating\", leave=False, dynamic_ncols=True)\n",
    "\n",
    "    with torch.no_grad(), logging_redirect_tqdm():\n",
    "        for batch in progress_bar:\n",
    "            input_ids = batch[\"input_ids\"].to(device)\n",
    "            attention_mask = batch[\"attention_mask\"].to(device)\n",
    "            labels = batch[\"labels\"].to(device)\n",
    "\n",
    "            outputs = model(input_ids, attention_mask=attention_mask)\n",
    "            logits = outputs.logits\n",
    "\n",
    "            # <<< TÍNH LOSS TRÊN TẬP VALIDATION\n",
    "            loss = loss_fn(logits, labels)\n",
    "            total_val_loss += loss.item()\n",
    "\n",
    "            preds = torch.argmax(outputs.logits, dim=-1)\n",
    "\n",
    "            all_preds.extend(preds.cpu().numpy())\n",
    "            all_labels.extend(labels.cpu().numpy())\n",
    "\n",
    "    avg_val_loss = total_val_loss / len(data_loader)  # <<< TÍNH LOSS TRUNG BÌNH\n",
    "    return all_labels, all_preds, avg_val_loss  # <<< TRẢ VỀ THÊM LOSS\n"
   ]
  },
  {
   "cell_type": "markdown",
   "id": "d08cfc13",
   "metadata": {},
   "source": [
    "# Main"
   ]
  },
  {
   "cell_type": "code",
   "execution_count": null,
   "id": "7a07ea24",
   "metadata": {},
   "outputs": [
    {
     "name": "stdout",
     "output_type": "stream",
     "text": [
      "dotenv_path: /home/guest/Projects/CS221/envs/.env\n"
     ]
    }
   ],
   "source": [
    "# Tải biến môi trường từ file envs/.env.\n",
    "dotenv_path = os.path.join(os.getcwd(), \"envs\", \".env\")\n",
    "load_dotenv(dotenv_path)\n",
    "print(f\"dotenv_path: {dotenv_path}\")\n"
   ]
  },
  {
   "cell_type": "code",
   "execution_count": 11,
   "id": "c48a9b39",
   "metadata": {},
   "outputs": [
    {
     "name": "stdout",
     "output_type": "stream",
     "text": [
      "INFO: Tìm thấy HUGGING_FACE_TOKEN. Đang đăng nhập...\n",
      "INFO: Đăng nhập Hugging Face thành công.\n"
     ]
    }
   ],
   "source": [
    "# lấy HF token để login\n",
    "hf_token = os.getenv(\"HUGGING_FACE_TOKEN\")\n",
    "\n",
    "if hf_token:\n",
    "    print(\"INFO: Tìm thấy HUGGING_FACE_TOKEN. Đang đăng nhập...\")\n",
    "    login(token=hf_token)\n",
    "    print(\"INFO: Đăng nhập Hugging Face thành công.\")\n",
    "else:\n",
    "    print(\n",
    "        \"WARNING: Không tìm thấy HUGGING_FACE_TOKEN trong file .env. Một số model có thể yêu cầu đăng nhập.\"\n",
    "    )\n"
   ]
  },
  {
   "cell_type": "markdown",
   "id": "950b94e0",
   "metadata": {},
   "source": [
    "## 1. Chuẩn bị dữ liệu"
   ]
  },
  {
   "cell_type": "code",
   "execution_count": 12,
   "id": "20c739cd",
   "metadata": {},
   "outputs": [
    {
     "name": "stderr",
     "output_type": "stream",
     "text": [
      "2025-10-17 14:07:14 - [INFO] - Bắt đầu pipeline huấn luyện.\n",
      "2025-10-17 14:07:14 - [INFO] - Bước 1: Chuẩn bị dữ liệu...\n",
      "2025-10-17 14:07:14 - [INFO] - Chia dữ liệu: 5600 mẫu train, 1400 mẫu validation.\n"
     ]
    },
    {
     "name": "stdout",
     "output_type": "stream",
     "text": [
      "✅ Đọc thành công 7000 mẫu từ file đã xử lý: /home/guest/Projects/CS221/data/vihallu-train.csv\n",
      "✅ Đã lưu tập train vào: /home/guest/Projects/CS221/data/processed/train_split.csv\n",
      "✅ Đã lưu tập validation vào: /home/guest/Projects/CS221/data/processed/validation_split.csv\n"
     ]
    }
   ],
   "source": [
    "logger.info(\"Bắt đầu pipeline huấn luyện.\")\n",
    "\n",
    "# 1. Chuẩn bị dữ liệu\n",
    "logger.info(\"Bước 1: Chuẩn bị dữ liệu...\")\n",
    "train_df, val_df = prepare_data(cfg, logger=logger)\n",
    "if train_df is None:\n",
    "    logger.error(\"Dữ liệu không thể được chuẩn bị. Dừng chương trình.\")\n"
   ]
  },
  {
   "cell_type": "markdown",
   "id": "a4b8a1b7",
   "metadata": {},
   "source": [
    "## 2. Tải model và tokenizer"
   ]
  },
  {
   "cell_type": "code",
   "execution_count": 13,
   "id": "68f4f00b",
   "metadata": {},
   "outputs": [
    {
     "name": "stderr",
     "output_type": "stream",
     "text": [
      "2025-10-17 14:07:14 - [INFO] - Bước 2: Tải model 'FacebookAI/xlm-roberta-large' và tokenizer...\n"
     ]
    },
    {
     "name": "stdout",
     "output_type": "stream",
     "text": [
      "Đang tải model: FacebookAI/xlm-roberta-large\n",
      "Model config: XLMRobertaConfig {\n",
      "  \"architectures\": [\n",
      "    \"XLMRobertaForMaskedLM\"\n",
      "  ],\n",
      "  \"attention_probs_dropout_prob\": 0.1,\n",
      "  \"bos_token_id\": 0,\n",
      "  \"classifier_dropout\": null,\n",
      "  \"eos_token_id\": 2,\n",
      "  \"hidden_act\": \"gelu\",\n",
      "  \"hidden_dropout_prob\": 0.1,\n",
      "  \"hidden_size\": 1024,\n",
      "  \"initializer_range\": 0.02,\n",
      "  \"intermediate_size\": 4096,\n",
      "  \"layer_norm_eps\": 1e-05,\n",
      "  \"max_position_embeddings\": 514,\n",
      "  \"model_type\": \"xlm-roberta\",\n",
      "  \"num_attention_heads\": 16,\n",
      "  \"num_hidden_layers\": 24,\n",
      "  \"output_past\": true,\n",
      "  \"pad_token_id\": 1,\n",
      "  \"position_embedding_type\": \"absolute\",\n",
      "  \"transformers_version\": \"4.57.1\",\n",
      "  \"type_vocab_size\": 1,\n",
      "  \"use_cache\": true,\n",
      "  \"vocab_size\": 250002\n",
      "}\n",
      "\n"
     ]
    },
    {
     "name": "stderr",
     "output_type": "stream",
     "text": [
      "Some weights of XLMRobertaForSequenceClassification were not initialized from the model checkpoint at FacebookAI/xlm-roberta-large and are newly initialized: ['classifier.dense.bias', 'classifier.dense.weight', 'classifier.out_proj.bias', 'classifier.out_proj.weight']\n",
      "You should probably TRAIN this model on a down-stream task to be able to use it for predictions and inference.\n"
     ]
    }
   ],
   "source": [
    "logger.info(f\"Bước 2: Tải model '{cfg.MODEL_NAME}' và tokenizer...\")\n",
    "model, tokenizer = get_model_and_tokenizer(cfg)\n"
   ]
  },
  {
   "cell_type": "code",
   "execution_count": 14,
   "id": "0416e4ed",
   "metadata": {},
   "outputs": [],
   "source": [
    "# %pip install torchinfo\n"
   ]
  },
  {
   "cell_type": "code",
   "execution_count": 15,
   "id": "aa9d1648",
   "metadata": {},
   "outputs": [
    {
     "name": "stderr",
     "output_type": "stream",
     "text": [
      "2025-10-17 14:07:17 - [INFO] - Phân tích kiến trúc mô hình bằng torchinfo...\n",
      "2025-10-17 14:07:20 - [INFO] - Kiến trúc chi tiết của mô hình:\n",
      "=====================================================================================================================================================================\n",
      "Layer (type:depth-idx)                                            Input Shape               Output Shape              Param #                   Mult-Adds\n",
      "=====================================================================================================================================================================\n",
      "XLMRobertaForSequenceClassification                               --                        [4, 3]                    --                        --\n",
      "├─XLMRobertaModel: 1-1                                            [4, 512]                  [4, 512, 1024]            --                        --\n",
      "│    └─XLMRobertaEmbeddings: 2-1                                  --                        [4, 512, 1024]            --                        --\n",
      "│    │    └─Embedding: 3-1                                        [4, 512]                  [4, 512, 1024]            256,002,048               1,024,008,192\n",
      "│    │    └─Embedding: 3-2                                        [4, 512]                  [4, 512, 1024]            1,024                     4,096\n",
      "│    │    └─Embedding: 3-3                                        [4, 512]                  [4, 512, 1024]            526,336                   2,105,344\n",
      "│    │    └─LayerNorm: 3-4                                        [4, 512, 1024]            [4, 512, 1024]            2,048                     8,192\n",
      "│    │    └─Dropout: 3-5                                          [4, 512, 1024]            [4, 512, 1024]            --                        --\n",
      "│    └─XLMRobertaEncoder: 2-2                                     [4, 512, 1024]            [4, 512, 1024]            --                        --\n",
      "│    │    └─ModuleList: 3-6                                       --                        --                        302,309,376               --\n",
      "├─XLMRobertaClassificationHead: 1-2                               [4, 512, 1024]            [4, 3]                    --                        --\n",
      "│    └─Dropout: 2-3                                               [4, 1024]                 [4, 1024]                 --                        --\n",
      "│    └─Linear: 2-4                                                [4, 1024]                 [4, 1024]                 1,049,600                 4,198,400\n",
      "│    └─Dropout: 2-5                                               [4, 1024]                 [4, 1024]                 --                        --\n",
      "│    └─Linear: 2-6                                                [4, 1024]                 [4, 3]                    3,075                     12,300\n",
      "=====================================================================================================================================================================\n",
      "Total params: 559,893,507\n",
      "Trainable params: 559,893,507\n",
      "Non-trainable params: 0\n",
      "Total mult-adds (Units.GIGABYTES): 2.24\n",
      "=====================================================================================================================================================================\n",
      "Input size (MB): 0.02\n",
      "Forward/backward pass size (MB): 4496.33\n",
      "Params size (MB): 2239.57\n",
      "Estimated Total Size (MB): 6735.92\n",
      "=====================================================================================================================================================================\n"
     ]
    }
   ],
   "source": [
    "from torchinfo import summary\n",
    "import torch  # Đảm bảo đã import torch\n",
    "\n",
    "logger.info(\"Phân tích kiến trúc mô hình bằng torchinfo...\")\n",
    "\n",
    "# --- Dùng torchinfo để hiển thị ---\n",
    "# Tạo một input giả với batch_size và max_length như trong config\n",
    "input_ids_example = torch.randint(\n",
    "    0, tokenizer.vocab_size, (cfg.BATCH_SIZE, cfg.MAX_LENGTH)\n",
    ")\n",
    "\n",
    "# 1. Gọi summary với verbose=0 để không in ra console và lưu kết quả vào biến\n",
    "#    Thêm các cột bạn muốn xem, ví dụ: 'output_size', 'num_params'\n",
    "model_summary = summary(\n",
    "    model,\n",
    "    input_data={\"input_ids\": input_ids_example},\n",
    "    verbose=0,  # <-- Quan trọng: Ngăn không cho tự động in\n",
    "    col_names=[\"input_size\", \"output_size\", \"num_params\", \"mult_adds\"],\n",
    ")\n",
    "\n",
    "# 2. Chuyển đối tượng summary thành string và đưa vào logger\n",
    "logger.info(f\"Kiến trúc chi tiết của mô hình:\\n{str(model_summary)}\")\n",
    "\n",
    "\n",
    "# # (Tùy chọn) Bạn vẫn có thể in ra màn hình nếu muốn xem ngay trong notebook\n",
    "# print(\"In summary ra màn hình notebook:\")\n",
    "# print(model_summary)\n"
   ]
  },
  {
   "cell_type": "markdown",
   "id": "53ffd869",
   "metadata": {},
   "source": [
    "## 3. Tạo Dataset và DataLoader"
   ]
  },
  {
   "cell_type": "code",
   "execution_count": 16,
   "id": "9803da5c",
   "metadata": {},
   "outputs": [
    {
     "name": "stderr",
     "output_type": "stream",
     "text": [
      "2025-10-17 14:07:20 - [INFO] - Bước 3: Tạo Dataset và DataLoader...\n",
      "2025-10-17 14:07:20 - [INFO] - ✅ Tạo DataLoader thành công với DataCollatorWithPadding chuẩn!\n",
      "2025-10-17 14:07:20 - [INFO] - ✅ Tạo DataLoader thành công với DataCollatorWithPadding chuẩn!\n"
     ]
    }
   ],
   "source": [
    "from torch.utils.data import DataLoader\n",
    "from transformers import DataCollatorWithPadding  # <-- 1. Import DataCollator\n",
    "\n",
    "# --- TẠO DATASET VÀ DATALOADER ---\n",
    "logger.info(\"Bước 3: Tạo Dataset và DataLoader...\")\n",
    "\n",
    "# Tạo Dataset (với class HallucinationDataset đã được chỉnh sửa ở trên)\n",
    "train_dataset = HallucinationDataset(\n",
    "    premises=train_df[\"premise\"].to_list(),\n",
    "    hypotheses=train_df[\"hypothesis\"].to_list(),\n",
    "    labels=train_df[\"label_id\"].to_list(),\n",
    "    tokenizer=tokenizer,\n",
    "    max_len=cfg.MAX_LENGTH,\n",
    ")\n",
    "val_dataset = HallucinationDataset(\n",
    "    premises=val_df[\"premise\"].to_list(),\n",
    "    hypotheses=val_df[\"hypothesis\"].to_list(),\n",
    "    labels=val_df[\"label_id\"].to_list(),\n",
    "    tokenizer=tokenizer,\n",
    "    max_len=cfg.MAX_LENGTH,\n",
    ")\n",
    "\n",
    "# 3. Tạo một instance của DataCollatorWithPadding\n",
    "data_collator = DataCollatorWithPadding(tokenizer=tokenizer)\n",
    "\n",
    "# 4. Tạo DataLoader và truyền data_collator vào\n",
    "train_loader = DataLoader(\n",
    "    train_dataset,\n",
    "    batch_size=cfg.BATCH_SIZE,\n",
    "    shuffle=True,\n",
    "    collate_fn=data_collator,  # <-- Dùng data_collator ở đây\n",
    ")\n",
    "val_loader = DataLoader(\n",
    "    val_dataset,\n",
    "    batch_size=cfg.BATCH_SIZE,\n",
    "    collate_fn=data_collator,  # <-- Dùng data_collator ở đây\n",
    ")\n",
    "\n",
    "logger.info(\"✅ Tạo DataLoader thành công với DataCollatorWithPadding chuẩn!\")\n"
   ]
  },
  {
   "cell_type": "code",
   "execution_count": 17,
   "id": "00ac99c4",
   "metadata": {},
   "outputs": [
    {
     "name": "stderr",
     "output_type": "stream",
     "text": [
      "2025-10-17 14:07:20 - [INFO] - Gradient accumulation steps: 4 | Effective batch size: 16\n"
     ]
    }
   ],
   "source": [
    "gradient_accumulation_steps = max(1, cfg.GRADIENT_ACCUMULATION_STEPS)\n",
    "effective_batch_size = cfg.BATCH_SIZE * gradient_accumulation_steps\n",
    "logger.info(\n",
    "    \"Gradient accumulation steps: %s | Effective batch size: %s\",\n",
    "    gradient_accumulation_steps,\n",
    "    effective_batch_size,\n",
    ")\n"
   ]
  },
  {
   "cell_type": "markdown",
   "id": "eae8a4a1",
   "metadata": {},
   "source": [
    "### Check dataset"
   ]
  },
  {
   "cell_type": "code",
   "execution_count": 18,
   "id": "0c8564a3",
   "metadata": {},
   "outputs": [
    {
     "name": "stdout",
     "output_type": "stream",
     "text": [
      "\n",
      "--- Kiểm tra 1 batch dữ liệu đầu vào ---\n",
      "Kích thước input_ids: torch.Size([4, 342])\n",
      "Kích thước attention_mask: torch.Size([4, 342])\n",
      "Nhãn trong batch: tensor([1, 1, 2, 0])\n",
      "\n",
      "Một mẫu đã được token hóa và giải mã lại:\n",
      "<s> Câu hỏi: Sự đốii đâu căng thẳng xra giữax các thế lực nao trong Mexicp? Ngữ cảnh: Bên trong México, căng thẳng vẫn tiếp diễn giữa phe liên bang chủ nghĩa và phe trung ương tập quyền chủ nghĩa. Vào đầu năm 1835, những người Texas thận trọng đã thành lập nên Ủy ban Tương ứng và An toàn. Tình trạng náo động bùng phát thành xung đột vũ trang vào cuối năm 1835 tại trận Gonzales. Sự kiện này khởi đầu Cách mạng Texas, và trong vòng hai tháng sau đó, người Texas đánh bại tất cả các đội quân México tại khu vực. Người Texas bầu ra các đại diện của Consultation, thể chế này lập nên một chính phủ lâm thời. Chính phủ lâm thời sụp đổ nhanh chóng do đấu tranh nội bộ, và Texas lâm vào tình trạng không có sự quản lý toàn bộ trong hai tháng đầu năm 1836.</s></s> Trong México, căng thẳng diễn ra giữa phe liên bang chủ nghĩa và phe trung ương tập quyền chủ nghĩa. Phe trung ương tập quyền chủ yếu được hỗ trợ bởi lãnh đạo quân đội Antonio López de Santa Anna, người sau này trở thành một trong những nhân vật quan trọng trong lịch sử México.</s><pad><pad><pad><pad><pad><pad><pad><pad><pad><pad><pad><pad><pad><pad><pad><pad><pad><pad><pad><pad><pad><pad><pad><pad><pad><pad><pad><pad><pad><pad><pad><pad><pad><pad><pad><pad><pad><pad><pad><pad><pad><pad><pad><pad><pad><pad><pad><pad><pad><pad><pad><pad><pad><pad><pad><pad><pad><pad><pad><pad><pad><pad><pad><pad><pad><pad><pad><pad><pad><pad><pad><pad><pad><pad><pad><pad><pad><pad><pad><pad><pad><pad><pad>\n",
      "------------------------------------------\n",
      "\n"
     ]
    }
   ],
   "source": [
    "print(\"\\n--- Kiểm tra 1 batch dữ liệu đầu vào ---\")\n",
    "sample_batch = next(iter(train_loader))\n",
    "\n",
    "print(\"Kích thước input_ids:\", sample_batch[\"input_ids\"].shape)\n",
    "print(\"Kích thước attention_mask:\", sample_batch[\"attention_mask\"].shape)\n",
    "print(\"Nhãn trong batch:\", sample_batch[\"labels\"])\n",
    "\n",
    "# Giải mã một mẫu để xem nó trông như thế nào\n",
    "decoded_text = tokenizer.decode(sample_batch[\"input_ids\"][0], skip_special_tokens=False)\n",
    "print(\"\\nMột mẫu đã được token hóa và giải mã lại:\")\n",
    "print(decoded_text)\n",
    "print(\"------------------------------------------\\n\")\n",
    "# --- KẾT THÚC BƯỚC KIỂM TRA ---\n"
   ]
  },
  {
   "cell_type": "code",
   "execution_count": 19,
   "id": "7fa66f2c",
   "metadata": {},
   "outputs": [
    {
     "name": "stdout",
     "output_type": "stream",
     "text": [
      "\n",
      "--- Kiểm tra chi tiết 5 mẫu đầu tiên để so sánh trước và sau khi xử lý ---\n",
      "\n",
      "=============== MẪU 0 ===============\n",
      "Số token gốc (ước tính): 280\n",
      "Số token sau khi xử lý (giới hạn bởi max_len=512): 280\n",
      "✅  OK: Độ dài mẫu nằm trong giới hạn, không bị cắt.\n",
      "\n",
      "--- Văn bản GỐC  ---\n",
      "Câu hỏi: Chiến sự năm 1950 đã dánh bại quân Hoa Kỳ o chiên trạn nào? Ngữ cảnh: Từ ngày 25 tháng 10 đến ngày 5 tháng 11 (1950) là chiến dịch đầu tiên của Trung Quốc. Quân Trung Quốc dùng 2 sư đoàn của quân đoàn 42 tổ chức phòng ngự ở khu vực Hoàng Thảo Lĩnh, Phó Chiến Lĩnh thuộc mặt trận miền đông, lại dùng 3 quân đoàn và một sư đoàn của quân đoàn 42 (sau tăng thêm 2 quân đoàn) phản kích ở mặt trận miền Tây. Chiến dịch này đã đánh lui quân Mỹ đến phía nam sông Thanh Xuyên. Ngày 7 tháng 11, các quân đoàn 20, 26, 27 thuộc Binh đoàn 9 quân Chí nguyện dưới quyền chỉ huy của Tư lệnh kiêm Chính uỷ Tống Thời Luân tiến vào Triều Tiên. Tới lúc này, binh lực tác chiến của Trung Quốc lên tới 9 quân đoàn gồm 30 sư đoàn, tổng cộng hơn 380.000 quân, chiếm ưu thế hơn so với quân Liên Hợp Quốc gồm 5 quân đoàn, 13 sư đoàn, 3 lữ đoàn, tổng cộng 220.000 quân. [SEP] Quân Trung Quốc đã đánh bại quân Hoa Kỳ tại phía bắc sông Thanh Xuyên, nơi mà họ chỉ sử dụng một sư đoàn duy nhất để phản công, mặc dù lực lượng tổng cộng chỉ có 180.000 quân.\n",
      "\n",
      "--- Văn bản SAU KHI DECODE từ input_ids ---\n",
      "<s> Câu hỏi: Chiến sự năm 1950 đã dánh bại quân Hoa Kỳ o chiên trạn nào? Ngữ cảnh: Từ ngày 25 tháng 10 đến ngày 5 tháng 11 (1950) là chiến dịch đầu tiên của Trung Quốc. Quân Trung Quốc dùng 2 sư đoàn của quân đoàn 42 tổ chức phòng ngự ở khu vực Hoàng Thảo Lĩnh, Phó Chiến Lĩnh thuộc mặt trận miền đông, lại dùng 3 quân đoàn và một sư đoàn của quân đoàn 42 (sau tăng thêm 2 quân đoàn) phản kích ở mặt trận miền Tây. Chiến dịch này đã đánh lui quân Mỹ đến phía nam sông Thanh Xuyên. Ngày 7 tháng 11, các quân đoàn 20, 26, 27 thuộc Binh đoàn 9 quân Chí nguyện dưới quyền chỉ huy của Tư lệnh kiêm Chính uỷ Tống Thời Luân tiến vào Triều Tiên. Tới lúc này, binh lực tác chiến của Trung Quốc lên tới 9 quân đoàn gồm 30 sư đoàn, tổng cộng hơn 380.000 quân, chiếm ưu thế hơn so với quân Liên Hợp Quốc gồm 5 quân đoàn, 13 sư đoàn, 3 lữ đoàn, tổng cộng 220.000 quân.</s></s> Quân Trung Quốc đã đánh bại quân Hoa Kỳ tại phía bắc sông Thanh Xuyên, nơi mà họ chỉ sử dụng một sư đoàn duy nhất để phản công, mặc dù lực lượng tổng cộng chỉ có 180.000 quân.</s>\n",
      "\n",
      "=============== MẪU 1 ===============\n",
      "Số token gốc (ước tính): 264\n",
      "Số token sau khi xử lý (giới hạn bởi max_len=512): 264\n",
      "✅  OK: Độ dài mẫu nằm trong giới hạn, không bị cắt.\n",
      "\n",
      "--- Văn bản GỐC  ---\n",
      "Câu hỏi: Tính cách của Edward có phải là hiền lành và nhân hậu, đặc biệt là khi ông thường được mô tả như một người dễ gần và khoan dung với những người xung quanh không? Ngữ cảnh: Edward nổi tiếng là một người khắc nghiệt, và rất đáng sợ; một câu chuyện kể về sự kiện Trưởng Tu viện St Paul's, muốn đối đầu với Edward khi ông tăng thuế lên cao năm 1295, bị đẩy ngã từ trên cao và chết khi nhà vua có mặt ở đó. Khi Edward xứ Caernarfon đòi ông phong cho sủng nam của hắn Gaveston một lãnh địa bá tước, nhà vua nổi cơn thịnh nộ và rứt từng nắm tóc của con trai ông. Một số người đương thời coi Edward là người đáng sợ, đặc biệt là trong những ngày đầu của ông. Bài hát Lewes năm 1264 mô tả ông giống như một loài báo, loài động vật đáng sợ, mạnh mẽ và không thể lường trước được. [SEP] Edward được biết đến là một người hiền lành và nhân hậu, thường xuyên được mô tả như một người dễ gần và khoan dung. Ông luôn đối xử nhẹ nhàng với những người bất đồng quan điểm, phản ánh sự bao dung của mình.\n",
      "\n",
      "--- Văn bản SAU KHI DECODE từ input_ids ---\n",
      "<s> Câu hỏi: Tính cách của Edward có phải là hiền lành và nhân hậu, đặc biệt là khi ông thường được mô tả như một người dễ gần và khoan dung với những người xung quanh không? Ngữ cảnh: Edward nổi tiếng là một người khắc nghiệt, và rất đáng sợ; một câu chuyện kể về sự kiện Trưởng Tu viện St Paul's, muốn đối đầu với Edward khi ông tăng thuế lên cao năm 1295, bị đẩy ngã từ trên cao và chết khi nhà vua có mặt ở đó. Khi Edward xứ Caernarfon đòi ông phong cho sủng nam của hắn Gaveston một lãnh địa bá tước, nhà vua nổi cơn thịnh nộ và rứt từng nắm tóc của con trai ông. Một số người đương thời coi Edward là người đáng sợ, đặc biệt là trong những ngày đầu của ông. Bài hát Lewes năm 1264 mô tả ông giống như một loài báo, loài động vật đáng sợ, mạnh mẽ và không thể lường trước được.</s></s> Edward được biết đến là một người hiền lành và nhân hậu, thường xuyên được mô tả như một người dễ gần và khoan dung. Ông luôn đối xử nhẹ nhàng với những người bất đồng quan điểm, phản ánh sự bao dung của mình.</s>\n",
      "\n",
      "=============== MẪU 2 ===============\n",
      "Số token gốc (ước tính): 310\n",
      "Số token sau khi xử lý (giới hạn bởi max_len=512): 310\n",
      "✅  OK: Độ dài mẫu nằm trong giới hạn, không bị cắt.\n",
      "\n",
      "--- Văn bản GỐC  ---\n",
      "Câu hỏi: Nhung ham mo co duoc thiet ke va cham khac nhu the nao z? Ngữ cảnh: Roma có một lượng lớn hầm mộ cổ hoặc những nơi chôn cất ngầm trong thành phố hay gần thành phố, với số lượng ít nhất 40, một số vừa được phát hiện chỉ trong vài thập kỷ gần đây. Mặc dù nổi tiếng nhất là những nơi chôn cất Kitô hữu nhưng vẫn có mộ ngoại giáo và người Do Thái, hoặc được chôn cất trong hầm mộ riêng biệt hoặc nằm xen kẽ chung với nhau trong một khu đất. Những hầm mộ quy mô lớn đầu tiên được khai quật từ thế kỷ thứ hai trở đi. Ban đầu chúng được chạm khắc từ một loại mềm từ tro núi lửa là đá túp và đặt tại những vị trí ngoài ranh giới của thành phố vì luật La Mã cấm chôn cất trong thành phố. Hiện nay Giáo hoàng nắm quyền và trách nhiệm bảo trì các hầm mộ. Giáo hoàng đã trao quyền cho Dòng Salêdiêng Don Bosco trong việc giám sát hầm mộ của Thánh Callixtus ở ngoại ô Roma. [SEP] Những hầm mộ cổ thường được thiết kế với các bích họa và tranh khảm tinh xảo, mô tả các cảnh tôn giáo và biểu tượng văn hóa. Các nghệ nhân thời đó sử dụng kỹ thuật chạm khắc tỉ mỉ để tạo ra những hành lang uốn lượn và phòng chôn cất phức\n",
      "\n",
      "--- Văn bản SAU KHI DECODE từ input_ids ---\n",
      "<s> Câu hỏi: Nhung ham mo co duoc thiet ke va cham khac nhu the nao z? Ngữ cảnh: Roma có một lượng lớn hầm mộ cổ hoặc những nơi chôn cất ngầm trong thành phố hay gần thành phố, với số lượng ít nhất 40, một số vừa được phát hiện chỉ trong vài thập kỷ gần đây. Mặc dù nổi tiếng nhất là những nơi chôn cất Kitô hữu nhưng vẫn có mộ ngoại giáo và người Do Thái, hoặc được chôn cất trong hầm mộ riêng biệt hoặc nằm xen kẽ chung với nhau trong một khu đất. Những hầm mộ quy mô lớn đầu tiên được khai quật từ thế kỷ thứ hai trở đi. Ban đầu chúng được chạm khắc từ một loại mềm từ tro núi lửa là đá túp và đặt tại những vị trí ngoài ranh giới của thành phố vì luật La Mã cấm chôn cất trong thành phố. Hiện nay Giáo hoàng nắm quyền và trách nhiệm bảo trì các hầm mộ. Giáo hoàng đã trao quyền cho Dòng Salêdiêng Don Bosco trong việc giám sát hầm mộ của Thánh Callixtus ở ngoại ô Roma.</s></s> Những hầm mộ cổ thường được thiết kế với các bích họa và tranh khảm tinh xảo, mô tả các cảnh tôn giáo và biểu tượng văn hóa. Các nghệ nhân thời đó sử dụng kỹ thuật chạm khắc tỉ mỉ để tạo ra những hành lang uốn lượn và phòng chôn cất phức</s>\n",
      "\n",
      "=============== MẪU 3 ===============\n",
      "Số token gốc (ước tính): 303\n",
      "Số token sau khi xử lý (giới hạn bởi max_len=512): 303\n",
      "✅  OK: Độ dài mẫu nằm trong giới hạn, không bị cắt.\n",
      "\n",
      "--- Văn bản GỐC  ---\n",
      "Câu hỏi: Thời gian người dân Hàn Quốc phải lao động trong khoảng thời gian 1960-1970 là bao lâu? Ngữ cảnh: Kế hoạch phát triển kinh tế của Hàn Quốc trong thập niên 1960-1970 dựa vào xuất khẩu nhờ giá thành thấp. Chi phí sản xuất được cố tình hạ thấp đến mức tối thiểu bằng cách toàn dân phải cam chịu gian khổ, tiêu dùng hết sức tiết kiệm, chính sách toàn quốc thắt lưng buộc bụng được áp dụng. Các sản phẩm xa xỉ như mỹ phẩm, oto cao cấp, quần áo thời trang, tivi màu... bị hạn chế nhập khẩu ở mức tối đa. Người dân làm việc nặng nhọc và triền miên, nhưng sống kham khổ. Hàng tuần mỗi người dân đều phải nhịn ăn một bữa, không hút thuốc ngoại nhập, không uống cà phê. Thời gian lao động kéo dài đến 12-14 tiếng mỗi ngày. Điều kiện lao động kém, lương rất thấp. Các nguồn tài chính có được nhờ chính sách tiết kiệm đến mức kham khổ lại được tái đầu tư vào sản xuất. Phong trào Saemaeul (còn gọi là Phong trào cộng đồng cư dân mới) của Chính phủ tập trung vào phát triển nông thôn Hàn Quốc bằng việc động viên người dân lao động công ích, cải tạo cơ sở hạ tầng mà không cần được trả lương. [SEP] Người dân Hàn Quốc trong khoảng thời gian 1960-1970 phải lao động kéo dài từ 12-14 tiếng mỗi ngày.\n",
      "\n",
      "--- Văn bản SAU KHI DECODE từ input_ids ---\n",
      "<s> Câu hỏi: Thời gian người dân Hàn Quốc phải lao động trong khoảng thời gian 1960-1970 là bao lâu? Ngữ cảnh: Kế hoạch phát triển kinh tế của Hàn Quốc trong thập niên 1960-1970 dựa vào xuất khẩu nhờ giá thành thấp. Chi phí sản xuất được cố tình hạ thấp đến mức tối thiểu bằng cách toàn dân phải cam chịu gian khổ, tiêu dùng hết sức tiết kiệm, chính sách toàn quốc thắt lưng buộc bụng được áp dụng. Các sản phẩm xa xỉ như mỹ phẩm, oto cao cấp, quần áo thời trang, tivi màu... bị hạn chế nhập khẩu ở mức tối đa. Người dân làm việc nặng nhọc và triền miên, nhưng sống kham khổ. Hàng tuần mỗi người dân đều phải nhịn ăn một bữa, không hút thuốc ngoại nhập, không uống cà phê. Thời gian lao động kéo dài đến 12-14 tiếng mỗi ngày. Điều kiện lao động kém, lương rất thấp. Các nguồn tài chính có được nhờ chính sách tiết kiệm đến mức kham khổ lại được tái đầu tư vào sản xuất. Phong trào Saemaeul (còn gọi là Phong trào cộng đồng cư dân mới) của Chính phủ tập trung vào phát triển nông thôn Hàn Quốc bằng việc động viên người dân lao động công ích, cải tạo cơ sở hạ tầng mà không cần được trả lương.</s></s> Người dân Hàn Quốc trong khoảng thời gian 1960-1970 phải lao động kéo dài từ 12-14 tiếng mỗi ngày.</s>\n",
      "\n",
      "=============== MẪU 4 ===============\n",
      "Số token gốc (ước tính): 345\n",
      "Số token sau khi xử lý (giới hạn bởi max_len=512): 345\n",
      "✅  OK: Độ dài mẫu nằm trong giới hạn, không bị cắt.\n",
      "\n",
      "--- Văn bản GỐC  ---\n",
      "Câu hỏi: Sau khi Nga từ chối bán vũ khí và trong bối cảnh Trung Quốc từ lâu đã có lịch sử hợp tác quân sự chặt chẽ với các nước NATO, Trung Quốc đã chuyển hướng sang mua vũ khí từ nước nào? Ngữ cảnh: Khoa học và kỹ thuật trong Công nghiệp quốc phòng của Cộng hòa nhân dân Trung Hoa hầu hết được đặt nền móng khi Liên Xô đầu tư mạnh mẽ vào Trung Quốc vào những năm 1950. Và phần lớn các vũ khí quan trọng của Liên Xô đã được cấp giấy phép để sản xuất tại Trung Quốc. Cũng như Liên Xô đã giúp đỡ phát triển công nghệ hạt nhân và vũ khí nguyên tử tại Trung Quốc. CHND Trung Hoa cũng đã có được một số công nghệ của Hoa Kỳ khi mối quan hệ giữa hai nước trở nên nồng ấm vào những năm 1970. Cũng như Trung Quốc bắt đầu sao chép những vũ khí mà mình mua được từ phương Tây nhưng không nhiều do các nước phương Tây thận trọng hơn trong việc mua bán vũ khí với Trung Quốc cũng như bị cấm vận vũ khí vào năm 1989. Đến những năm 1990 thì Trung Quốc bắt đầu sao chép quy mô lớn các vũ khí hiện đại mua được từ Nga. Còn khi Nga từ chối bán các loại vũ khí của mình thì Trung Quốc chuyển sang mua của Ukraina vốn cũng sở hữu nhiều loại vũ khí hiện đại từ thời Liên Xô. Hiện tại thì Trung Quốc đang tích cực sao chép các loại vũ khí của phương Tây mua được từ Israel. [SEP] Trung Quốc đã chuyển sang hợp tác mua vũ khí từ Brazil, quốc gia không có lịch sử hợp tác quân sự chặt chẽ với Trung Quốc và không nằm trong liên minh NATO.\n",
      "\n",
      "--- Văn bản SAU KHI DECODE từ input_ids ---\n",
      "<s> Câu hỏi: Sau khi Nga từ chối bán vũ khí và trong bối cảnh Trung Quốc từ lâu đã có lịch sử hợp tác quân sự chặt chẽ với các nước NATO, Trung Quốc đã chuyển hướng sang mua vũ khí từ nước nào? Ngữ cảnh: Khoa học và kỹ thuật trong Công nghiệp quốc phòng của Cộng hòa nhân dân Trung Hoa hầu hết được đặt nền móng khi Liên Xô đầu tư mạnh mẽ vào Trung Quốc vào những năm 1950. Và phần lớn các vũ khí quan trọng của Liên Xô đã được cấp giấy phép để sản xuất tại Trung Quốc. Cũng như Liên Xô đã giúp đỡ phát triển công nghệ hạt nhân và vũ khí nguyên tử tại Trung Quốc. CHND Trung Hoa cũng đã có được một số công nghệ của Hoa Kỳ khi mối quan hệ giữa hai nước trở nên nồng ấm vào những năm 1970. Cũng như Trung Quốc bắt đầu sao chép những vũ khí mà mình mua được từ phương Tây nhưng không nhiều do các nước phương Tây thận trọng hơn trong việc mua bán vũ khí với Trung Quốc cũng như bị cấm vận vũ khí vào năm 1989. Đến những năm 1990 thì Trung Quốc bắt đầu sao chép quy mô lớn các vũ khí hiện đại mua được từ Nga. Còn khi Nga từ chối bán các loại vũ khí của mình thì Trung Quốc chuyển sang mua của Ukraina vốn cũng sở hữu nhiều loại vũ khí hiện đại từ thời Liên Xô. Hiện tại thì Trung Quốc đang tích cực sao chép các loại vũ khí của phương Tây mua được từ Israel.</s></s> Trung Quốc đã chuyển sang hợp tác mua vũ khí từ Brazil, quốc gia không có lịch sử hợp tác quân sự chặt chẽ với Trung Quốc và không nằm trong liên minh NATO.</s>\n",
      "\n",
      "===========================================\n",
      "Kiểm tra hoàn tất. Hãy so sánh văn bản trên để xem có sự khác biệt ở cuối chuỗi không.\n"
     ]
    }
   ],
   "source": [
    "print(\"\\n--- Kiểm tra chi tiết 5 mẫu đầu tiên để so sánh trước và sau khi xử lý ---\")\n",
    "\n",
    "# Lấy 5 mẫu đầu tiên từ DataFrame gốc để so sánh\n",
    "num_samples_to_check = 5\n",
    "for i in range(num_samples_to_check):\n",
    "    print(f\"\\n=============== MẪU {i} ===============\")\n",
    "\n",
    "    # 1. Lấy dữ liệu gốc từ DataFrame\n",
    "    original_premise = train_df[\"premise\"].iloc[i]\n",
    "    original_hypothesis = train_df[\"hypothesis\"].iloc[i]\n",
    "    # Nối 2 chuỗi lại giống cách tokenizer sẽ thấy chúng\n",
    "    original_combined_text = original_premise + \" [SEP] \" + original_hypothesis\n",
    "\n",
    "    # 2. Lấy dữ liệu đã được xử lý từ Dataset\n",
    "    processed_sample = train_dataset[i]\n",
    "    processed_input_ids = processed_sample[\"input_ids\"]\n",
    "\n",
    "    # 3. Giải mã (decode) các input_ids đã xử lý trở lại thành văn bản\n",
    "    decoded_text = tokenizer.decode(processed_input_ids, skip_special_tokens=False)\n",
    "\n",
    "    # 4. So sánh và in kết quả\n",
    "    original_token_count = len(tokenizer.encode(original_premise, original_hypothesis))\n",
    "    processed_token_count = len(processed_input_ids)\n",
    "\n",
    "    print(f\"Số token gốc (ước tính): {original_token_count}\")\n",
    "    print(\n",
    "        f\"Số token sau khi xử lý (giới hạn bởi max_len={cfg.MAX_LENGTH}): {processed_token_count}\"\n",
    "    )\n",
    "\n",
    "    if original_token_count > cfg.MAX_LENGTH:\n",
    "        print(\"⚠️  CẢNH BÁO: Mẫu này đã bị cắt bớt (truncated)!\")\n",
    "    else:\n",
    "        print(\"✅  OK: Độ dài mẫu nằm trong giới hạn, không bị cắt.\")\n",
    "\n",
    "    print(\"\\n--- Văn bản GỐC  ---\")\n",
    "    print(original_combined_text)\n",
    "\n",
    "    print(\"\\n--- Văn bản SAU KHI DECODE từ input_ids ---\")\n",
    "    print(decoded_text)\n",
    "\n",
    "print(\"\\n===========================================\")\n",
    "print(\n",
    "    \"Kiểm tra hoàn tất. Hãy so sánh văn bản trên để xem có sự khác biệt ở cuối chuỗi không.\"\n",
    ")\n"
   ]
  },
  {
   "cell_type": "markdown",
   "id": "2739f76b",
   "metadata": {},
   "source": [
    "## 4. Thiết lập Huấn luyện"
   ]
  },
  {
   "cell_type": "code",
   "execution_count": 20,
   "id": "62005cda",
   "metadata": {},
   "outputs": [
    {
     "name": "stderr",
     "output_type": "stream",
     "text": [
      "2025-10-17 14:07:20 - [INFO] - Bước 4: Thiết lập môi trường huấn luyện và kiến trúc model...\n",
      "2025-10-17 14:07:20 - [INFO] - Sử dụng thiết bị: cuda\n",
      "2025-10-17 14:07:20 - [INFO] - ✅ Tìm thấy 1 GPU(s).\n",
      "2025-10-17 14:07:20 - [INFO] - ✅ Đang sử dụng GPU: NVIDIA GeForce RTX 5070 Ti\n",
      "2025-10-17 14:07:20 - [INFO] - Kiến trúc của mô hình:\n",
      "XLMRobertaForSequenceClassification(\n",
      "  (roberta): XLMRobertaModel(\n",
      "    (embeddings): XLMRobertaEmbeddings(\n",
      "      (word_embeddings): Embedding(250002, 1024, padding_idx=1)\n",
      "      (position_embeddings): Embedding(514, 1024, padding_idx=1)\n",
      "      (token_type_embeddings): Embedding(1, 1024)\n",
      "      (LayerNorm): LayerNorm((1024,), eps=1e-05, elementwise_affine=True)\n",
      "      (dropout): Dropout(p=0.1, inplace=False)\n",
      "    )\n",
      "    (encoder): XLMRobertaEncoder(\n",
      "      (layer): ModuleList(\n",
      "        (0-23): 24 x XLMRobertaLayer(\n",
      "          (attention): XLMRobertaAttention(\n",
      "            (self): XLMRobertaSdpaSelfAttention(\n",
      "              (query): Linear(in_features=1024, out_features=1024, bias=True)\n",
      "              (key): Linear(in_features=1024, out_features=1024, bias=True)\n",
      "              (value): Linear(in_features=1024, out_features=1024, bias=True)\n",
      "              (dropout): Dropout(p=0.1, inplace=False)\n",
      "            )\n",
      "            (output): XLMRobertaSelfOutput(\n",
      "              (dense): Linear(in_features=1024, out_features=1024, bias=True)\n",
      "              (LayerNorm): LayerNorm((1024,), eps=1e-05, elementwise_affine=True)\n",
      "              (dropout): Dropout(p=0.1, inplace=False)\n",
      "            )\n",
      "          )\n",
      "          (intermediate): XLMRobertaIntermediate(\n",
      "            (dense): Linear(in_features=1024, out_features=4096, bias=True)\n",
      "            (intermediate_act_fn): GELUActivation()\n",
      "          )\n",
      "          (output): XLMRobertaOutput(\n",
      "            (dense): Linear(in_features=4096, out_features=1024, bias=True)\n",
      "            (LayerNorm): LayerNorm((1024,), eps=1e-05, elementwise_affine=True)\n",
      "            (dropout): Dropout(p=0.1, inplace=False)\n",
      "          )\n",
      "        )\n",
      "      )\n",
      "    )\n",
      "  )\n",
      "  (classifier): XLMRobertaClassificationHead(\n",
      "    (dense): Linear(in_features=1024, out_features=1024, bias=True)\n",
      "    (dropout): Dropout(p=0.1, inplace=False)\n",
      "    (out_proj): Linear(in_features=1024, out_features=3, bias=True)\n",
      "  )\n",
      ")\n"
     ]
    },
    {
     "data": {
      "text/plain": [
       "XLMRobertaForSequenceClassification(\n",
       "  (roberta): XLMRobertaModel(\n",
       "    (embeddings): XLMRobertaEmbeddings(\n",
       "      (word_embeddings): Embedding(250002, 1024, padding_idx=1)\n",
       "      (position_embeddings): Embedding(514, 1024, padding_idx=1)\n",
       "      (token_type_embeddings): Embedding(1, 1024)\n",
       "      (LayerNorm): LayerNorm((1024,), eps=1e-05, elementwise_affine=True)\n",
       "      (dropout): Dropout(p=0.1, inplace=False)\n",
       "    )\n",
       "    (encoder): XLMRobertaEncoder(\n",
       "      (layer): ModuleList(\n",
       "        (0-23): 24 x XLMRobertaLayer(\n",
       "          (attention): XLMRobertaAttention(\n",
       "            (self): XLMRobertaSdpaSelfAttention(\n",
       "              (query): Linear(in_features=1024, out_features=1024, bias=True)\n",
       "              (key): Linear(in_features=1024, out_features=1024, bias=True)\n",
       "              (value): Linear(in_features=1024, out_features=1024, bias=True)\n",
       "              (dropout): Dropout(p=0.1, inplace=False)\n",
       "            )\n",
       "            (output): XLMRobertaSelfOutput(\n",
       "              (dense): Linear(in_features=1024, out_features=1024, bias=True)\n",
       "              (LayerNorm): LayerNorm((1024,), eps=1e-05, elementwise_affine=True)\n",
       "              (dropout): Dropout(p=0.1, inplace=False)\n",
       "            )\n",
       "          )\n",
       "          (intermediate): XLMRobertaIntermediate(\n",
       "            (dense): Linear(in_features=1024, out_features=4096, bias=True)\n",
       "            (intermediate_act_fn): GELUActivation()\n",
       "          )\n",
       "          (output): XLMRobertaOutput(\n",
       "            (dense): Linear(in_features=4096, out_features=1024, bias=True)\n",
       "            (LayerNorm): LayerNorm((1024,), eps=1e-05, elementwise_affine=True)\n",
       "            (dropout): Dropout(p=0.1, inplace=False)\n",
       "          )\n",
       "        )\n",
       "      )\n",
       "    )\n",
       "  )\n",
       "  (classifier): XLMRobertaClassificationHead(\n",
       "    (dense): Linear(in_features=1024, out_features=1024, bias=True)\n",
       "    (dropout): Dropout(p=0.1, inplace=False)\n",
       "    (out_proj): Linear(in_features=1024, out_features=3, bias=True)\n",
       "  )\n",
       ")"
      ]
     },
     "execution_count": 20,
     "metadata": {},
     "output_type": "execute_result"
    }
   ],
   "source": [
    "import torch  # Đảm bảo đã import torch\n",
    "\n",
    "logger.info(\"Bước 4: Thiết lập môi trường huấn luyện và kiến trúc model...\")\n",
    "device = torch.device(\"cuda\" if torch.cuda.is_available() else \"cpu\")\n",
    "\n",
    "# --- Log thông tin thiết bị (GPU/CPU) ---\n",
    "logger.info(f\"Sử dụng thiết bị: {device}\")\n",
    "if device.type == \"cuda\":\n",
    "    gpu_count = torch.cuda.device_count()\n",
    "    gpu_name = torch.cuda.get_device_name(0)\n",
    "    logger.info(f\"✅ Tìm thấy {gpu_count} GPU(s).\")\n",
    "    logger.info(f\"✅ Đang sử dụng GPU: {gpu_name}\")\n",
    "else:\n",
    "    logger.warning(\"⚠️ Không tìm thấy GPU, sử dụng CPU. Quá trình training sẽ rất chậm.\")\n",
    "\n",
    "# --- BẮT ĐẦU PHẦN THÊM MỚI ---\n",
    "# Chuyển toàn bộ kiến trúc model thành dạng string để đưa vào logger\n",
    "model_architecture_string = str(model)\n",
    "\n",
    "# Ghi log kiến trúc model\n",
    "logger.info(f\"Kiến trúc của mô hình:\\n{model_architecture_string}\")\n",
    "# --- KẾT THÚC PHẦN THÊM MỚI ---\n",
    "\n",
    "# Di chuyển model đến device đã chọn\n",
    "model.to(device)\n"
   ]
  },
  {
   "cell_type": "code",
   "execution_count": 21,
   "id": "8449d146",
   "metadata": {},
   "outputs": [],
   "source": [
    "optimizer = AdamW(\n",
    "    model.parameters(),\n",
    "    lr=cfg.LEARNING_RATE,\n",
    "    weight_decay=cfg.WEIGHT_DECAY,\n",
    "    eps=cfg.EPSILON,\n",
    ")\n"
   ]
  },
  {
   "cell_type": "code",
   "execution_count": 22,
   "id": "9a39f57a",
   "metadata": {},
   "outputs": [
    {
     "name": "stderr",
     "output_type": "stream",
     "text": [
      "2025-10-17 14:07:21 - [INFO] - Scheduler will run for 3500 total steps (350 per epoch)\n",
      "2025-10-17 14:07:21 - [INFO] - Sử dụng scheduler chung: constant_with_warmup\n",
      "2025-10-17 14:07:21 - [INFO] - Warmup steps: 350\n",
      "2025-10-17 14:07:21 - [INFO] - Sử dụng scheduler chung: constant_with_warmup\n",
      "2025-10-17 14:07:21 - [INFO] - Warmup steps: 350\n"
     ]
    }
   ],
   "source": [
    "from transformers import (\n",
    "    get_scheduler,\n",
    "    get_cosine_with_hard_restarts_schedule_with_warmup,\n",
    ")\n",
    "\n",
    "num_update_steps_per_epoch = math.ceil(len(train_loader) / gradient_accumulation_steps)\n",
    "num_training_steps = num_update_steps_per_epoch * cfg.EPOCHS\n",
    "logger.info(\n",
    "    \"Scheduler will run for %s total steps (%s per epoch)\",\n",
    "    num_training_steps,\n",
    "    num_update_steps_per_epoch,\n",
    ")\n",
    "\n",
    "if cfg.TOTAL_STEP_SCALE <= 0:\n",
    "    warmup_steps = 0\n",
    "elif cfg.TOTAL_STEP_SCALE <= 1:\n",
    "    warmup_steps = max(1, int(cfg.TOTAL_STEP_SCALE * num_training_steps))\n",
    "else:\n",
    "    warmup_steps = min(int(cfg.TOTAL_STEP_SCALE), num_training_steps)\n",
    "\n",
    "# <<< THÊM KHỐI LỆNH IF ĐỂ XỬ LÝ TRƯỜNG HỢP ĐẶC BIỆT\n",
    "if cfg.SCHEDULER_TYPE == \"cosine_with_restarts\":\n",
    "    logger.info(\n",
    "        f\"Sử dụng scheduler chuyên dụng: cosine_with_hard_restarts_schedule_with_warmup với {cfg.NUM_CYCLES} chu kỳ.\"\n",
    "    )\n",
    "    scheduler = get_cosine_with_hard_restarts_schedule_with_warmup(\n",
    "        optimizer=optimizer,\n",
    "        num_warmup_steps=warmup_steps,\n",
    "        num_training_steps=num_training_steps,\n",
    "        num_cycles=cfg.NUM_CYCLES,  # <-- Tham số chuyên biệt hoạt động ở đây!\n",
    "    )\n",
    "else:\n",
    "    # Giữ lại hàm get_scheduler chung cho tất cả các loại scheduler khác\n",
    "    logger.info(f\"Sử dụng scheduler chung: {cfg.SCHEDULER_TYPE}\")\n",
    "    scheduler = get_scheduler(\n",
    "        cfg.SCHEDULER_TYPE,\n",
    "        optimizer=optimizer,\n",
    "        num_warmup_steps=warmup_steps,\n",
    "        num_training_steps=num_training_steps,\n",
    "    )\n",
    "\n",
    "logger.info(\"Warmup steps: %s\", warmup_steps)\n"
   ]
  },
  {
   "cell_type": "code",
   "execution_count": 23,
   "id": "f73d99dc",
   "metadata": {},
   "outputs": [
    {
     "name": "stderr",
     "output_type": "stream",
     "text": [
      "2025-10-17 14:07:21 - [INFO] - Sử dụng Class Weights & Label smoothing cho hàm loss.\n"
     ]
    }
   ],
   "source": [
    "# Chuyển class weights từ config thành tensor và đưa lên device\n",
    "if cfg.CLASS_WEIGHTS:\n",
    "    logger.info(\"Sử dụng Class Weights & Label smoothing cho hàm loss.\")\n",
    "    class_weights_tensor = torch.tensor(cfg.CLASS_WEIGHTS, dtype=torch.float).to(device)\n",
    "    loss_fn = torch.nn.CrossEntropyLoss(\n",
    "        weight=class_weights_tensor,\n",
    "        label_smoothing=cfg.LABEL_SMOOTHING,\n",
    "    ).to(device)\n",
    "else:\n",
    "    logger.info(\"Sử dụng CrossEntropyLoss thông thường (không có trọng số).\")\n",
    "    loss_fn = torch.nn.CrossEntropyLoss().to(device)\n"
   ]
  },
  {
   "cell_type": "markdown",
   "id": "67e5a7d7",
   "metadata": {},
   "source": [
    "## 5. Vòng lặp Huấn luyện"
   ]
  },
  {
   "cell_type": "code",
   "execution_count": null,
   "id": "275d4c7a",
   "metadata": {},
   "outputs": [
    {
     "name": "stderr",
     "output_type": "stream",
     "text": [
      "2025-10-17 14:07:21 - [INFO] - --- Epoch 1/10 ---\n"
     ]
    },
    {
     "data": {
      "application/vnd.jupyter.widget-view+json": {
       "model_id": "8e8cd278f63444e0bf29a755522ce342",
       "version_major": 2,
       "version_minor": 0
      },
      "text/plain": [
       "Epoch 1/10:   0%|          | 0/1400 [00:00<?, ?it/s]"
      ]
     },
     "metadata": {},
     "output_type": "display_data"
    },
    {
     "name": "stderr",
     "output_type": "stream",
     "text": [
      "2025-10-17 14:11:45 - [INFO] - Loss trung bình trên tập train: 1.1033\n",
      "2025-10-17 14:11:45 - [INFO] - Current Learning Rate: 8.00e-06\n",
      "2025-10-17 14:11:45 - [INFO] - Bắt đầu đánh giá trên tập validation...\n"
     ]
    },
    {
     "data": {
      "application/vnd.jupyter.widget-view+json": {
       "model_id": "e667fedfde8d42da820d27221e01c977",
       "version_major": 2,
       "version_minor": 0
      },
      "text/plain": [
       "Evaluating:   0%|          | 0/350 [00:00<?, ?it/s]"
      ]
     },
     "metadata": {},
     "output_type": "display_data"
    },
    {
     "name": "stderr",
     "output_type": "stream",
     "text": [
      "2025-10-17 14:12:06 - [INFO] - Validation Loss: 1.0034\n",
      "2025-10-17 14:12:06 - [INFO] - Validation Accuracy: 0.3943\n",
      "2025-10-17 14:12:06 - [INFO] - Validation Macro-F1: 0.2649\n",
      "/home/guest/.conda/envs/cs221/lib/python3.12/site-packages/sklearn/metrics/_classification.py:1731: UndefinedMetricWarning: Precision is ill-defined and being set to 0.0 in labels with no predicted samples. Use `zero_division` parameter to control this behavior.\n",
      "  _warn_prf(average, modifier, f\"{metric.capitalize()} is\", result.shape[0])\n",
      "/home/guest/.conda/envs/cs221/lib/python3.12/site-packages/sklearn/metrics/_classification.py:1731: UndefinedMetricWarning: Precision is ill-defined and being set to 0.0 in labels with no predicted samples. Use `zero_division` parameter to control this behavior.\n",
      "  _warn_prf(average, modifier, f\"{metric.capitalize()} is\", result.shape[0])\n",
      "/home/guest/.conda/envs/cs221/lib/python3.12/site-packages/sklearn/metrics/_classification.py:1731: UndefinedMetricWarning: Precision is ill-defined and being set to 0.0 in labels with no predicted samples. Use `zero_division` parameter to control this behavior.\n",
      "  _warn_prf(average, modifier, f\"{metric.capitalize()} is\", result.shape[0])\n",
      "2025-10-17 14:12:06 - [INFO] - Classification Report trên tập validation:\n",
      "              precision    recall  f1-score   support\n",
      "\n",
      "          no     0.8625    0.1537    0.2609       449\n",
      "   extrinsic     0.0000    0.0000    0.0000       461\n",
      "   intrinsic     0.3659    0.9857    0.5337       490\n",
      "\n",
      "    accuracy                         0.3943      1400\n",
      "   macro avg     0.4095    0.3798    0.2649      1400\n",
      "weighted avg     0.4047    0.3943    0.2705      1400\n",
      "\n",
      "2025-10-17 14:12:06 - [INFO] - 🎉 Macro-F1 cải thiện. Đang lưu model tốt nhất vào '/home/guest/Projects/CS221/models/xlm-roberta-large-tuned'...\n",
      "2025-10-17 14:12:08 - [INFO] - Lưu model thành công.\n",
      "2025-10-17 14:12:08 - [INFO] - --- Epoch 2/10 ---\n"
     ]
    },
    {
     "data": {
      "application/vnd.jupyter.widget-view+json": {
       "model_id": "5774c4d874da4d3db1076d94f281002a",
       "version_major": 2,
       "version_minor": 0
      },
      "text/plain": [
       "Epoch 2/10:   0%|          | 0/1400 [00:00<?, ?it/s]"
      ]
     },
     "metadata": {},
     "output_type": "display_data"
    },
    {
     "name": "stderr",
     "output_type": "stream",
     "text": [
      "2025-10-17 14:16:22 - [INFO] - Loss trung bình trên tập train: 0.8490\n",
      "2025-10-17 14:16:22 - [INFO] - Current Learning Rate: 8.00e-06\n",
      "2025-10-17 14:16:22 - [INFO] - Bắt đầu đánh giá trên tập validation...\n"
     ]
    },
    {
     "data": {
      "application/vnd.jupyter.widget-view+json": {
       "model_id": "4c4c88908d0441c5ac34aba02992d1a4",
       "version_major": 2,
       "version_minor": 0
      },
      "text/plain": [
       "Evaluating:   0%|          | 0/350 [00:00<?, ?it/s]"
      ]
     },
     "metadata": {},
     "output_type": "display_data"
    },
    {
     "name": "stderr",
     "output_type": "stream",
     "text": [
      "2025-10-17 14:16:43 - [INFO] - Validation Loss: 0.8177\n",
      "2025-10-17 14:16:43 - [INFO] - Validation Accuracy: 0.7186\n",
      "2025-10-17 14:16:43 - [INFO] - Validation Macro-F1: 0.7214\n",
      "2025-10-17 14:16:43 - [INFO] - Classification Report trên tập validation:\n",
      "              precision    recall  f1-score   support\n",
      "\n",
      "          no     0.8184    0.6526    0.7261       449\n",
      "   extrinsic     0.7701    0.7484    0.7591       461\n",
      "   intrinsic     0.6195    0.7510    0.6790       490\n",
      "\n",
      "    accuracy                         0.7186      1400\n",
      "   macro avg     0.7360    0.7173    0.7214      1400\n",
      "weighted avg     0.7329    0.7186    0.7205      1400\n",
      "\n",
      "2025-10-17 14:16:43 - [INFO] - 🎉 Macro-F1 cải thiện. Đang lưu model tốt nhất vào '/home/guest/Projects/CS221/models/xlm-roberta-large-tuned'...\n",
      "2025-10-17 14:16:45 - [INFO] - Lưu model thành công.\n",
      "2025-10-17 14:16:45 - [INFO] - --- Epoch 3/10 ---\n"
     ]
    },
    {
     "data": {
      "application/vnd.jupyter.widget-view+json": {
       "model_id": "62038eb9e3544a5092f8182c7fc9d25f",
       "version_major": 2,
       "version_minor": 0
      },
      "text/plain": [
       "Epoch 3/10:   0%|          | 0/1400 [00:00<?, ?it/s]"
      ]
     },
     "metadata": {},
     "output_type": "display_data"
    }
   ],
   "source": [
    "best_macro_f1 = 0.0\n",
    "patience_counter = 0  # bien dem => early stopped khi f1 ko tang them => overfitting\n",
    "\n",
    "for epoch in range(cfg.EPOCHS):\n",
    "    logger.info(f\"--- Epoch {epoch + 1}/{cfg.EPOCHS} ---\")\n",
    "\n",
    "    avg_train_loss = train_one_epoch(\n",
    "        model,\n",
    "        train_loader,\n",
    "        loss_fn,\n",
    "        optimizer,\n",
    "        scheduler,\n",
    "        device,\n",
    "        epoch + 1,\n",
    "        cfg.EPOCHS,\n",
    "        gradient_accumulation_steps=gradient_accumulation_steps,\n",
    "    )\n",
    "    logger.info(f\"Loss trung bình trên tập train: {avg_train_loss:.4f}\")\n",
    "\n",
    "    current_lr = optimizer.param_groups[0][\"lr\"]\n",
    "    logger.info(\n",
    "        f\"Current Learning Rate: {current_lr:.2e}\"\n",
    "    )  # Dùng định dạng khoa học e.g., 8.00e-06\n",
    "\n",
    "    # Đánh giá trên tập validation\n",
    "    logger.info(\"Bắt đầu đánh giá trên tập validation...\")\n",
    "    val_labels, val_preds, avg_val_loss = evaluate(model, val_loader, loss_fn, device)\n",
    "\n",
    "    accuracy = accuracy_score(val_labels, val_preds)\n",
    "    macro_f1 = f1_score(val_labels, val_preds, average=\"macro\")\n",
    "\n",
    "    logger.info(f\"Validation Loss: {avg_val_loss:.4f}\")\n",
    "    logger.info(f\"Validation Accuracy: {accuracy:.4f}\")\n",
    "    logger.info(f\"Validation Macro-F1: {macro_f1:.4f}\")\n",
    "\n",
    "    # # In classification report chi tiết\n",
    "    target_names = [cfg.ID2LABEL[i] for i in range(len(cfg.LABEL_MAP))]\n",
    "\n",
    "    # In classification report chi tiết (có thể giữ lại print hoặc log từng dòng)\n",
    "    report = classification_report(\n",
    "        val_labels,\n",
    "        val_preds,\n",
    "        target_names=[cfg.ID2LABEL[i] for i in range(len(cfg.LABEL_MAP))],\n",
    "        digits=4,\n",
    "    )\n",
    "    logger.info(f\"Classification Report trên tập validation:\\n{report}\")\n",
    "\n",
    "    # Lưu lại model tốt nhất dựa trên Macro-F1\n",
    "    if macro_f1 > best_macro_f1:\n",
    "        best_macro_f1 = macro_f1\n",
    "        patience_counter = 0  # << RESET BỘ ĐẾM\n",
    "\n",
    "        logger.info(\n",
    "            f\"🎉 Macro-F1 cải thiện. Đang lưu model tốt nhất vào '{cfg.MODEL_OUTPUT_DIR}'...\"\n",
    "        )\n",
    "        if not os.path.exists(cfg.MODEL_OUTPUT_DIR):\n",
    "            os.makedirs(cfg.MODEL_OUTPUT_DIR)\n",
    "\n",
    "        model.save_pretrained(cfg.MODEL_OUTPUT_DIR)\n",
    "        tokenizer.save_pretrained(cfg.MODEL_OUTPUT_DIR)\n",
    "        logger.info(\"Lưu model thành công.\")\n",
    "    else:\n",
    "        patience_counter += 1\n",
    "        logger.warning(\n",
    "            f\"Macro-F1 không cải thiện. Patience: {patience_counter}/{cfg.PATIENCE_LIMIT}\"\n",
    "        )\n",
    "        if patience_counter >= cfg.PATIENCE_LIMIT:\n",
    "            logger.info(\"Early stopping! Dừng huấn luyện.\")\n",
    "            break\n"
   ]
  },
  {
   "cell_type": "code",
   "execution_count": null,
   "id": "1843cf36",
   "metadata": {},
   "outputs": [
    {
     "name": "stderr",
     "output_type": "stream",
     "text": [
      "2025-10-17 14:06:49 - [INFO] - 🏁 Quá trình huấn luyện hoàn tất.\n",
      "2025-10-17 14:06:49 - [INFO] - Model tốt nhất với Macro-F1 = 0.7799 đã được lưu tại '/home/guest/Projects/CS221/models/xlm-roberta-large-tuned'\n",
      "2025-10-17 14:06:49 - [INFO] - Model tốt nhất với Macro-F1 = 0.7799 đã được lưu tại '/home/guest/Projects/CS221/models/xlm-roberta-large-tuned'\n"
     ]
    }
   ],
   "source": [
    "logger.info(\"🏁 Quá trình huấn luyện hoàn tất.\")\n",
    "logger.info(\n",
    "    f\"Model tốt nhất với Macro-F1 = {best_macro_f1:.4f} đã được lưu tại '{cfg.MODEL_OUTPUT_DIR}'\"\n",
    ")\n"
   ]
  },
  {
   "cell_type": "markdown",
   "id": "451f5a5e",
   "metadata": {},
   "source": [
    "# Phân phối kết quả đúng/sai theo từng lớp"
   ]
  },
  {
   "cell_type": "code",
   "execution_count": null,
   "id": "72fc9859",
   "metadata": {},
   "outputs": [
    {
     "name": "stderr",
     "output_type": "stream",
     "text": [
      "2025-10-17 14:06:52 - [INFO] - Phân phối kết quả trên từng lớp:\n",
      "  true_label  correct  incorrect  total correct_rate incorrect_rate\n",
      "0  extrinsic      341        120    461       73.97%         26.03%\n",
      "1  intrinsic      368        122    490       75.10%         24.90%\n",
      "2         no      380         69    449       84.63%         15.37%\n"
     ]
    },
    {
     "name": "stdout",
     "output_type": "stream",
     "text": [
      "Bảng phân phối kết quả trên từng lớp:\n"
     ]
    },
    {
     "data": {
      "text/html": [
       "<div>\n",
       "<style scoped>\n",
       "    .dataframe tbody tr th:only-of-type {\n",
       "        vertical-align: middle;\n",
       "    }\n",
       "\n",
       "    .dataframe tbody tr th {\n",
       "        vertical-align: top;\n",
       "    }\n",
       "\n",
       "    .dataframe thead th {\n",
       "        text-align: right;\n",
       "    }\n",
       "</style>\n",
       "<table border=\"1\" class=\"dataframe\">\n",
       "  <thead>\n",
       "    <tr style=\"text-align: right;\">\n",
       "      <th></th>\n",
       "      <th>true_label</th>\n",
       "      <th>correct</th>\n",
       "      <th>incorrect</th>\n",
       "      <th>total</th>\n",
       "      <th>correct_rate</th>\n",
       "      <th>incorrect_rate</th>\n",
       "    </tr>\n",
       "  </thead>\n",
       "  <tbody>\n",
       "    <tr>\n",
       "      <th>0</th>\n",
       "      <td>extrinsic</td>\n",
       "      <td>341</td>\n",
       "      <td>120</td>\n",
       "      <td>461</td>\n",
       "      <td>73.97%</td>\n",
       "      <td>26.03%</td>\n",
       "    </tr>\n",
       "    <tr>\n",
       "      <th>1</th>\n",
       "      <td>intrinsic</td>\n",
       "      <td>368</td>\n",
       "      <td>122</td>\n",
       "      <td>490</td>\n",
       "      <td>75.10%</td>\n",
       "      <td>24.90%</td>\n",
       "    </tr>\n",
       "    <tr>\n",
       "      <th>2</th>\n",
       "      <td>no</td>\n",
       "      <td>380</td>\n",
       "      <td>69</td>\n",
       "      <td>449</td>\n",
       "      <td>84.63%</td>\n",
       "      <td>15.37%</td>\n",
       "    </tr>\n",
       "  </tbody>\n",
       "</table>\n",
       "</div>"
      ],
      "text/plain": [
       "  true_label  correct  incorrect  total correct_rate incorrect_rate\n",
       "0  extrinsic      341        120    461       73.97%         26.03%\n",
       "1  intrinsic      368        122    490       75.10%         24.90%\n",
       "2         no      380         69    449       84.63%         15.37%"
      ]
     },
     "metadata": {},
     "output_type": "display_data"
    }
   ],
   "source": [
    "val_label_names = [cfg.ID2LABEL[label_id] for label_id in val_labels]\n",
    "pred_label_names = [cfg.ID2LABEL[pred_id] for pred_id in val_preds]\n",
    "evaluation_df = pd.DataFrame(\n",
    "    {\n",
    "        \"true_label\": val_label_names,\n",
    "        \"predicted_label\": pred_label_names,\n",
    "    }\n",
    ")\n",
    "evaluation_df[\"status\"] = evaluation_df.apply(\n",
    "    lambda row: (\n",
    "        \"correct\" if row[\"true_label\"] == row[\"predicted_label\"] else \"incorrect\"\n",
    "    ),\n",
    "    axis=1,\n",
    ")\n",
    "distribution_table = (\n",
    "    evaluation_df.groupby([\"true_label\", \"status\"])\n",
    "    .size()\n",
    "    .unstack(fill_value=0)\n",
    "    .rename_axis(None, axis=1)\n",
    "    .reset_index()\n",
    "    .sort_values(\"true_label\")\n",
    ")\n",
    "\n",
    "# 1. Thêm cột 'total' bằng cách cộng cột 'correct' và 'incorrect'\n",
    "distribution_table[\"total\"] = (\n",
    "    distribution_table[\"correct\"] + distribution_table[\"incorrect\"]\n",
    ")\n",
    "\n",
    "# 2. Thêm cột tỉ lệ đúng (correct_rate)\n",
    "distribution_table[\"correct_rate\"] = (\n",
    "    distribution_table[\"correct\"] / distribution_table[\"total\"]\n",
    ")\n",
    "\n",
    "# 3. Thêm cột tỉ lệ sai (incorrect_rate)\n",
    "distribution_table[\"incorrect_rate\"] = (\n",
    "    distribution_table[\"incorrect\"] / distribution_table[\"total\"]\n",
    ")\n",
    "\n",
    "# (Tùy chọn) Format các cột tỉ lệ thành dạng phần trăm cho dễ đọc\n",
    "distribution_table[\"correct_rate\"] = distribution_table[\"correct_rate\"].map(\n",
    "    \"{:.2%}\".format\n",
    ")\n",
    "distribution_table[\"incorrect_rate\"] = distribution_table[\"incorrect_rate\"].map(\n",
    "    \"{:.2%}\".format\n",
    ")\n",
    "\n",
    "# In ra bảng kết quả\n",
    "logger.info(f\"Phân phối kết quả trên từng lớp:\\n{distribution_table.to_string()}\")\n",
    "\n",
    "# Trong notebook, dùng display() sẽ cho bảng đẹp hơn\n",
    "print(\"Bảng phân phối kết quả trên từng lớp:\")\n",
    "display(distribution_table)\n"
   ]
  }
 ],
 "metadata": {
  "kernelspec": {
   "display_name": "cs221",
   "language": "python",
   "name": "python3"
  },
  "language_info": {
   "codemirror_mode": {
    "name": "ipython",
    "version": 3
   },
   "file_extension": ".py",
   "mimetype": "text/x-python",
   "name": "python",
   "nbconvert_exporter": "python",
   "pygments_lexer": "ipython3",
   "version": "3.12.11"
  }
 },
 "nbformat": 4,
 "nbformat_minor": 5
}
