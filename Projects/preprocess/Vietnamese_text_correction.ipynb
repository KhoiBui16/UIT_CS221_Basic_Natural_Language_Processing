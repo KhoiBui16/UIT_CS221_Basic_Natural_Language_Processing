{
 "cells": [
  {
   "cell_type": "markdown",
   "id": "e53ddfa6",
   "metadata": {},
   "source": [
    "# Vietnamese Text Correction using Transformers Pipeline\n",
    "\n",
    "This notebook demonstrates how to use a Vietnamese text correction model to fix spelling and grammar errors in text data. We'll process a dataset and show before/after examples of the corrections."
   ]
  },
  {
   "cell_type": "markdown",
   "id": "3e3188b8",
   "metadata": {},
   "source": [
    "## 1. Import Required Libraries\n",
    "\n",
    "Import necessary libraries including transformers, pandas, torch, and other utilities for text processing and model operations."
   ]
  },
  {
   "cell_type": "code",
   "execution_count": 1,
   "id": "a704a61f",
   "metadata": {},
   "outputs": [
    {
     "name": "stdout",
     "output_type": "stream",
     "text": [
      "Libraries imported successfully!\n",
      "CUDA available: True\n"
     ]
    }
   ],
   "source": [
    "# Import required libraries\n",
    "from transformers import pipeline, AutoTokenizer\n",
    "import pandas as pd\n",
    "import pickle\n",
    "import os\n",
    "import unicodedata\n",
    "import re\n",
    "import torch\n",
    "from tqdm import tqdm\n",
    "import warnings\n",
    "warnings.filterwarnings('ignore')\n",
    "\n",
    "print(\"Libraries imported successfully!\")\n",
    "print(f\"CUDA available: {torch.cuda.is_available()}\")\n"
   ]
  },
  {
   "cell_type": "markdown",
   "id": "dcbfb96f",
   "metadata": {},
   "source": [
    "## 2. Configure Model and Parameters\n",
    "\n",
    "Set up configuration variables including model name, file paths, batch size, and column specifications for processing."
   ]
  },
  {
   "cell_type": "code",
   "execution_count": 2,
   "id": "c32eeb7e",
   "metadata": {},
   "outputs": [
    {
     "name": "stdout",
     "output_type": "stream",
     "text": [
      "Configuration:\n",
      "Model: bmd1905/vietnamese-correction-v2\n",
      "Output CSV: /home/guest/Projects/DSC2025/BAN/data/fixed-vihallu-public-test-pipeline.csv\n",
      "Cache file: /home/guest/Projects/DSC2025/BAN/cache/pipeline_corrections.pkl\n",
      "Batch size: 8\n",
      "Columns to process: ['context', 'prompt', 'response']\n"
     ]
    }
   ],
   "source": [
    "# Configuration parameters\n",
    "MODEL = \"bmd1905/vietnamese-correction-v2\"\n",
    "ROOT_DIR = os.path.dirname(os.getcwd())\n",
    "DATA_DIR = os.path.join(ROOT_DIR, \"data\")\n",
    "INPUT_CSV = os.path.join(DATA_DIR, \"vihallu-public-test.csv\")\n",
    "OUTPUT_CSV = os.path.join(DATA_DIR, \"fixed-vihallu-public-test-pipeline.csv\")\n",
    "CACHE_FILE = os.path.join(ROOT_DIR, \"cache\", \"pipeline_corrections.pkl\")\n",
    "BATCH_SIZE = 8  # Reduced for better memory management\n",
    "COLS = ['context', 'prompt', 'response']\n",
    "\n",
    "print(\"Configuration:\")\n",
    "print(f\"Model: {MODEL}\")\n",
    "# print(f\"Input CSV: {INPUT_CSV}\")\n",
    "print(f\"Output CSV: {OUTPUT_CSV}\")\n",
    "print(f\"Cache file: {CACHE_FILE}\")\n",
    "print(f\"Batch size: {BATCH_SIZE}\")\n",
    "print(f\"Columns to process: {COLS}\")\n"
   ]
  },
  {
   "cell_type": "markdown",
   "id": "d83dd284",
   "metadata": {},
   "source": [
    "## 3. Load and Initialize the Correction Pipeline\n",
    "\n",
    "Initialize the text2text-generation pipeline with the Vietnamese correction model and configure device settings."
   ]
  },
  {
   "cell_type": "code",
   "execution_count": 3,
   "id": "1b22975c",
   "metadata": {},
   "outputs": [
    {
     "name": "stdout",
     "output_type": "stream",
     "text": [
      "Using device: GPU\n"
     ]
    },
    {
     "name": "stderr",
     "output_type": "stream",
     "text": [
      "Device set to use cuda:0\n"
     ]
    },
    {
     "name": "stdout",
     "output_type": "stream",
     "text": [
      "✅ Vietnamese correction pipeline loaded successfully!\n"
     ]
    }
   ],
   "source": [
    "# Initialize the correction pipeline\n",
    "device = 0 if torch.cuda.is_available() else -1\n",
    "print(f\"Using device: {'GPU' if device == 0 else 'CPU'}\")\n",
    "\n",
    "try:\n",
    "    corrector = pipeline(\n",
    "        \"text2text-generation\", \n",
    "        model=MODEL, \n",
    "        device=device, \n",
    "        truncation=True,\n",
    "        max_length=512\n",
    "    )\n",
    "    print(\"✅ Vietnamese correction pipeline loaded successfully!\")\n",
    "except Exception as e:\n",
    "    print(f\"❌ Error loading pipeline: {e}\")\n"
   ]
  },
  {
   "cell_type": "markdown",
   "id": "8375c4ae",
   "metadata": {},
   "source": [
    "## 4. Define Text Preprocessing Functions\n",
    "\n",
    "Create helper functions for text postprocessing including prefix removal, Unicode normalization, and whitespace cleanup."
   ]
  },
  {
   "cell_type": "code",
   "execution_count": 6,
   "id": "9fb651a7",
   "metadata": {},
   "outputs": [
    {
     "name": "stdout",
     "output_type": "stream",
     "text": [
      "Original: 'Sửa lỗi chính tả: Đây là một câu đã được sửa lỗi  .'\n",
      "Cleaned: 'Đây là một câu đã được sửa lỗi.'\n"
     ]
    }
   ],
   "source": [
    "def postprocess_text(text):\n",
    "    \"\"\"\n",
    "    Postprocess corrected text to clean up common issues\n",
    "    \"\"\"\n",
    "    if text is None or text == \"\":\n",
    "        return \"\"\n",
    "    \n",
    "    # Remove common prefixes that the model might add\n",
    "    prefixes = [\n",
    "        \"Sửa lỗi chính tả và ngữ pháp:\", \n",
    "        \"Sửa lỗi chính tả:\", \n",
    "        \"Corrected:\",\n",
    "        \"Văn bản đã sửa:\",\n",
    "        \"Kết quả:\"\n",
    "    ]\n",
    "    \n",
    "    for prefix in prefixes:\n",
    "        if text.startswith(prefix):\n",
    "            text = text[len(prefix):].strip()\n",
    "            break\n",
    "    \n",
    "    # Unicode normalization\n",
    "    text = unicodedata.normalize(\"NFC\", text)\n",
    "    \n",
    "    # Fix spacing around punctuation\n",
    "    text = re.sub(r\"\\s+([,.;:!?])\", r\"\\1\", text)\n",
    "    \n",
    "    # Normalize whitespace\n",
    "    text = re.sub(r\"\\s+\", \" \", text).strip()\n",
    "    \n",
    "    return text\n",
    "\n",
    "def create_sample_text():\n",
    "    \"\"\"Create sample Vietnamese text with errors for testing\"\"\"\n",
    "    return [\n",
    "        \"Tôi đang đi đến trường học vào buổi sang.\",\n",
    "        \"Con ch của tôi rất thông minh và ngoan ngoãn.\",\n",
    "        \"Hôm nay trời đẹp, chúng ta đi chơi nhé!\",\n",
    "        \"Việt Nam là một đất nước xinh đẹp với nhiều cảnh đẹp.\",\n",
    "        \"Tôi thích ăn ph và bánh mi vào buổi sng.\"\n",
    "    ]\n",
    "\n",
    "# Test the postprocessing function\n",
    "sample_output = \"Sửa lỗi chính tả: Đây là một câu đã được sửa lỗi  .\"\n",
    "cleaned = postprocess_text(sample_output)\n",
    "print(f\"Original: '{sample_output}'\")\n",
    "print(f\"Cleaned: '{cleaned}'\")\n"
   ]
  },
  {
   "cell_type": "markdown",
   "id": "ede0d34a",
   "metadata": {},
   "source": [
    "## 5. Load Sample Data\n",
    "\n",
    "Load the CSV dataset and prepare sample texts for correction, handling missing values and data types."
   ]
  },
  {
   "cell_type": "code",
   "execution_count": 7,
   "id": "385909c5",
   "metadata": {},
   "outputs": [
    {
     "name": "stdout",
     "output_type": "stream",
     "text": [
      "📝 Starting with empty cache\n",
      "✅ Loaded CSV with 1000 rows and 5 columns\n",
      "Columns: ['id', 'context', 'prompt', 'response', 'predict_label']\n",
      "\n",
      "Dataset shape: (1000, 5)\n",
      "Available columns for processing: ['context', 'prompt', 'response']\n"
     ]
    }
   ],
   "source": [
    "# Create cache directory\n",
    "os.makedirs(os.path.dirname(CACHE_FILE) or \".\", exist_ok=True)\n",
    "\n",
    "# Load existing cache if available\n",
    "if os.path.exists(CACHE_FILE):\n",
    "    with open(CACHE_FILE, \"rb\") as f:\n",
    "        cache = pickle.load(f)\n",
    "    print(f\"✅ Loaded cache with {len(cache)} entries\")\n",
    "else:\n",
    "    cache = {}\n",
    "    print(\"📝 Starting with empty cache\")\n",
    "\n",
    "# Try to load the CSV file, create sample data if not available\n",
    "try:\n",
    "    df = pd.read_csv(INPUT_CSV)\n",
    "    print(f\"✅ Loaded CSV with {len(df)} rows and {len(df.columns)} columns\")\n",
    "    print(f\"Columns: {list(df.columns)}\")\n",
    "except FileNotFoundError:\n",
    "    print(\"⚠️ Input CSV not found. Creating sample data...\")\n",
    "    # Create sample data with Vietnamese text containing errors\n",
    "    sample_data = {\n",
    "        'context': [\n",
    "            \"Ngày hôm nay trời rat đẹp và nắng ấm\",\n",
    "            \"Tôi đang học tại trường đại học Bách Khoaaa\",\n",
    "            \"Con meo của tôi rất de thương và ngoan\",\n",
    "            \"Việt Nam có nhiều món n ngon và đặc sắc\",\n",
    "            \"Chúng ta nên bảo vệ môi trường sống\",\n",
    "        ] * 6,  # Repeat to get 30 samples\n",
    "        'prompt': [\n",
    "            \"Hãy kể cho tôi nghe về quê hương bạn\",\n",
    "            \"Bạn thích mn ăn nào nhất ở Việt Nam?\",\n",
    "            \"Sở thích cua bạn trong thời gian rảnh là gì?\",\n",
    "            \"Bạn có kế hoạch gì cho tương lai không?\",\n",
    "            \"Điều gì làm bạn cảm thấy hạnh phúoc nhất ?\",\n",
    "        ] * 6,\n",
    "        'response': [\n",
    "            \"Quê tôi ở miền Bắac, nơi có nhiều cảnh đẹp và con người thân thiện.\",\n",
    "            \"Tôi rất thích phở bởi vì nó có hương vị đậm đà và thơm ngonn.\",\n",
    "            \"Tôi thích đọc sach và nghe nhạc khii rảnh rỗi.\",\n",
    "            \"Tôi mun trở thành một ky sư giỏi trong tương lai.\",\n",
    "            \"Được ở bên gia đình là điều la tôi hạnh phúc nhat.\",\n",
    "        ] * 6\n",
    "    }\n",
    "    df = pd.DataFrame(sample_data)\n",
    "    print(f\"✅ Created sample dataset with {len(df)} rows\")\n",
    "\n",
    "# Display basic info about the dataset\n",
    "print(f\"\\nDataset shape: {df.shape}\")\n",
    "print(f\"Available columns for processing: {[col for col in COLS if col in df.columns]}\")\n"
   ]
  },
  {
   "cell_type": "markdown",
   "id": "2c322da1",
   "metadata": {},
   "source": [
    "## 6. Implement Batch Text Correction\n",
    "\n",
    "Process texts in batches using the correction pipeline with caching mechanism to avoid redundant corrections."
   ]
  },
  {
   "cell_type": "code",
   "execution_count": 8,
   "id": "e52e7ed0",
   "metadata": {},
   "outputs": [
    {
     "name": "stdout",
     "output_type": "stream",
     "text": [
      "\n",
      "🔄 Processing 1000 texts for column 'context'...\n"
     ]
    },
    {
     "name": "stderr",
     "output_type": "stream",
     "text": [
      "Correcting context:   1%|          | 1/125 [00:20<42:27, 20.55s/it]You seem to be using the pipelines sequentially on GPU. In order to maximize efficiency please use a dataset\n",
      "Correcting context: 100%|██████████| 125/125 [22:39<00:00, 10.87s/it]\n"
     ]
    },
    {
     "name": "stdout",
     "output_type": "stream",
     "text": [
      "✅ Completed correction for column 'context'\n",
      "\n",
      "🔄 Processing 1000 texts for column 'prompt'...\n"
     ]
    },
    {
     "name": "stderr",
     "output_type": "stream",
     "text": [
      "Correcting prompt: 100%|██████████| 125/125 [06:01<00:00,  2.89s/it]\n"
     ]
    },
    {
     "name": "stdout",
     "output_type": "stream",
     "text": [
      "✅ Completed correction for column 'prompt'\n",
      "\n",
      "🔄 Processing 1000 texts for column 'response'...\n"
     ]
    },
    {
     "name": "stderr",
     "output_type": "stream",
     "text": [
      "Correcting response: 100%|██████████| 125/125 [08:27<00:00,  4.06s/it]"
     ]
    },
    {
     "name": "stdout",
     "output_type": "stream",
     "text": [
      "✅ Completed correction for column 'response'\n",
      "\n",
      "✅ Correction process completed!\n",
      "Cache now contains 2919 entries\n"
     ]
    },
    {
     "name": "stderr",
     "output_type": "stream",
     "text": [
      "\n"
     ]
    }
   ],
   "source": [
    "def correct_texts_batch(texts, column_name):\n",
    "    \"\"\"\n",
    "    Correct a list of texts in batches with caching\n",
    "    \"\"\"\n",
    "    corrected_texts = []\n",
    "    \n",
    "    print(f\"\\n🔄 Processing {len(texts)} texts for column '{column_name}'...\")\n",
    "    \n",
    "    for i in tqdm(range(0, len(texts), BATCH_SIZE), desc=f\"Correcting {column_name}\"):\n",
    "        batch = texts[i:i+BATCH_SIZE]\n",
    "        batch_results = []\n",
    "        \n",
    "        for text in batch:\n",
    "            # Skip empty texts\n",
    "            if not text.strip():\n",
    "                batch_results.append(text)\n",
    "                continue\n",
    "                \n",
    "            # Check cache first\n",
    "            if text in cache:\n",
    "                batch_results.append(cache[text])\n",
    "                continue\n",
    "            \n",
    "            try:\n",
    "                # Generate correction\n",
    "                correction_result = corrector(text, max_length=512, num_beams=3, do_sample=False)\n",
    "                corrected_text = correction_result[0]['generated_text'] if correction_result else text\n",
    "                corrected_text = postprocess_text(corrected_text)\n",
    "                \n",
    "                # Cache the result\n",
    "                cache[text] = corrected_text\n",
    "                batch_results.append(corrected_text)\n",
    "                \n",
    "            except Exception as e:\n",
    "                print(f\"Error correcting text: {e}\")\n",
    "                batch_results.append(text)  # Return original text if correction fails\n",
    "        \n",
    "        corrected_texts.extend(batch_results)\n",
    "    \n",
    "    return corrected_texts\n",
    "\n",
    "# Process each column that exists in the dataframe\n",
    "original_df = df.copy()  # Keep original for comparison\n",
    "\n",
    "for col in COLS:\n",
    "    if col in df.columns:\n",
    "        texts = df[col].fillna(\"\").astype(str).tolist()\n",
    "        corrected_texts = correct_texts_batch(texts, col)\n",
    "        df[col] = corrected_texts\n",
    "        print(f\"✅ Completed correction for column '{col}'\")\n",
    "    else:\n",
    "        print(f\"⚠️ Column '{col}' not found in dataset\")\n",
    "\n",
    "print(f\"\\n✅ Correction process completed!\")\n",
    "print(f\"Cache now contains {len(cache)} entries\")\n"
   ]
  },
  {
   "cell_type": "markdown",
   "id": "999c5770",
   "metadata": {},
   "source": [
    "## 7. Display Before and After Examples\n",
    "\n",
    "Show 30 examples of original texts alongside their corrected versions in a formatted comparison table."
   ]
  },
  {
   "cell_type": "code",
   "execution_count": 9,
   "id": "9b2617f6",
   "metadata": {},
   "outputs": [
    {
     "name": "stdout",
     "output_type": "stream",
     "text": [
      "====================================================================================================\n",
      "📋 DISPLAYING 30 BEFORE/AFTER CORRECTION EXAMPLES\n",
      "====================================================================================================\n",
      "\n",
      "🔍 COLUMN: CONTEXT\n",
      "--------------------------------------------------------------------------------\n",
      "\n",
      "📝 Example 1:\n",
      "BEFORE:  Putin ngày 14 tháng 10 năm 2009, đưa ra đề nghị là Trung Quốc, các nước Trung Á và Nga nên tổ chức một cuộc thi hát hàng năm để có thể gia tăng các mối liên lạc văn hóa. Putin cũng đề nghị là cuộc thi hát này có thể được gọi là \"Intervision\" để đối đầu với cuộc thi hát nổi tiếng thường niên của lục địa châu Âu mang tên Eurovision. Một cuộc thi như vậy sẽ cho thấy các nam, nữ ca sĩ Trung Quốc tranh tài với các ca sĩ Uzbeek, Tadjik, Kazakh, Nga và Kyrgyzstan. Thông tấn xã Interfax tường thuật lời của Putin, nói thêm là: \"Việc tổ chức một cuộc thi hát quốc tế hiện đại, Intervision, sẽ củng cố các mối liên lạc văn hóa giữa các nước chúng ta.\" Cuộc thi hát hàng năm của lục địa châu Âu, Eurovision, được khởi đầu từ năm 1956, đã thu hút mỗi lần cả trăm triệu khán giả truyền hình, không những của lục địa châu Âu, mà cả của thế giới nữa. Moskva cũng sau đó tổ chức cuộc thi hát Eurovision 2009 này, vào tháng 5 năm 2008.\n",
      "AFTER:   Putin ngày 14 tháng 10 năm 2009, đưa ra đề nghị là Trung Quốc, các nước Trung Á và Nga nên tổ chức một cuộc thi hát hàng năm để có thể gia tăng các mối liên lạc văn hóa. Putin cũng đề nghị là cuộc thi hát này có thể được gọi là Eurovision, để đối đầu với cuộc thi hát nổi tiếng thường niên của lục địa châu Âu mang tên Eurovision. Một cuộc thi như vậy sẽ cho thấy các nam, nữ ca sĩ Trung Quốc tranh tài với các ca sĩ Uzbeek, Tadjik, Kazakh, Nga và Kyrgyzstan. Thông tấn xã Interfax tường thuật lời của Putin, nói thêm là::Việc tổ chức một cuộc thi hát quốc tế hiện đại, Intervision, sẽ củng cố các mối liên lạc văn hóa giữa các nước chúng ta. Cuộc thi hát hàng năm của lục địa châu Âu, Eurovision, được khởi đầu từ năm 1956, đã thu hút mỗi lần cả trăm triệu khán giả truyền hình, không những của lục địa châu Âu, mà cả của thế giới nữa. Moskva cũng sau đó tổ chức cuộc thi hát Eurovision 2009 này, vào tháng 5 năm 2008.\n",
      "✨ CHANGED\n",
      "\n",
      "📝 Example 2:\n",
      "BEFORE:  Thông qua những quyết nghị này, Viện nguyên lão chỉ đạo các quan tòa, đặc biệt là các quan chấp chính (chánh quan tòa) trong việc truy tố các xung đột quân sự. Viện nguyên lão cũng nắm trong tay một quyền lực lớn vượt qua cả chính quyền dân sự ở La Mã. Điều này trở nên đặc biệt đối với các trường hợp liên quan tới việc quản lý tài chính nhà nước, chỉ có thể ủy quyền cho thủ quỷ của ngân khố quốc gia. Khi lãnh thổ La Mã mở rộng, Viện nguyên lão cũng giám sát các tỉnh, được điều hành bởi các quan chấp chính và pháp quan, quyết định cả sự điều hành của các quan tòa.\n",
      "AFTER:   Thông qua những quyết nghị này, Viện nguyên lão chỉ đạo các quan, đặc biệt là các quan chấp chính (chánh quan) trong việc truy tố các xung đột quân sự. Viện nguyên lão cũng nắm trong tay một quyền lực lớn vượt qua cả chính quyền dân sự ở La Mã. Điều này trở nên đặc biệt đối với các trường hợp liên quan tới việc quản lý tài chính nhà nước, chỉ có thể quyền cho thủ quỷ của ngân khố quốc gia. Khi lãnh thổ La Mã mở rộng, Viện nguyên lão cũng giám sát các tỉnh, được điều hành bởi các quan chấp chính và pháp quan, quyết định cả sự điều hành của các quan.\n",
      "✨ CHANGED\n",
      "\n",
      "📝 Example 3:\n",
      "BEFORE:  Nơi cư ngụ truyền thống Mông Cổ được gọi là một yurt (Tiếng Mông Cổ: ger). Theo nghệ sĩ và nhà phê bình nghệ thuật Mông Cổ N. Chultem, các yurt và lều trại là căn bản cho sự phát triển của kiến trúc truyền thống Mông Cổ. Ở thế kỷ XVI và XVII, các tu viện lama đã được xây dựng trên khắp đất nước. Nhiều công trình trong số đó khởi đầu như những đền yurt. Khi chúng cần được mở rộng để đủ chỗ cho số lượng tín đồ ngày càng đông đảo thêm, các kiến trúc sư Mông Cổ đã sử dụng các cấu trúc với 6 và 12 góc với các mái kiểu kim tự tháp để thích hợp với hình dáng tròn của yurt. Việc mở rộng thêm nữa dẫn tới hình dạng bậc hai của các đền. Các mái được làm theo hình dạng những lều lớn. Các bức tường kiểu lưới mắt cáo, các cột chống mái và các lớp nỉ được thay bằng đá, gạch, các dầm và những tấm ván và trở thành cấu trúc vĩnh cửu.\n",
      "AFTER:   Nơi cư ngụ truyền thống Mông Cổ được gọi là một yurt (Tiếng Mông Cổ: ger). Theo nghệ sĩ và nhà phê bình nghệ thuật Mông Cổ N. Chultem, các yurt và lều trại là căn bản cho sự phát triển của kiến trúc truyền thống Mông Cổ. Ở thế kỷ XVI và XVII, các tu viện lama đã được xây dựng trên khắp đất nước. Nhiều công trình trong số đó khởi đầu như những đền yurt. Khi chúng cần được mở rộng để đủ chỗ cho số lượng tín đồ ngày càng đông đảo thêm, các kiến trúc sư Mông Cổ đã sử dụng các cấu trúc với 6 và 12 góc với các mái kiểu kim tự tháp để thích hợp với hình dáng tròn của yurt. Việc mở rộng thêm nữa dẫn tới hình dạng bậc hai của các đền. Các mái được làm theo hình dạng những lều lớn. Các bức tường kiểu lưới mắt cáo, các cột chống mái và các lớp nỉ được thay bằng đá, gạch, các dầm và những tấm ván và trở thành cấu trúc vĩnh cửu.\n",
      "📌 NO CHANGE\n",
      "\n",
      "📝 Example 4:\n",
      "BEFORE:  Là thành phố thủ đô và có vị trí ở khu vực trung tâm của miền Bắc, bên cạnh con sông Hồng, giao thông từ Hà Nội đến các tỉnh khác của Việt Nam tương đối thuận tiện, bao gồm cả đường không, đường bộ, đường thủy và đường sắt. Giao thông đường không, ngoài sân bay quốc tế Nội Bài cách trung tâm khoảng 35 km, thành phố còn có sân bay Gia Lâm ở phía Đông, thuộc quận Long Biên, từng là sân bay chính của Hà Nội những năm 1970, hiện sân bay Gia Lâm chỉ phục vụ cho các chuyến bay dịch vụ của trực thăng, gồm cả dịch vụ du lịch. Bên cạnh đó là sân bay Bạch Mai thuộc quận Thanh Xuân được xây dựng từ năm 1919 và có thời gian đóng vai trò như một sân bay quân sự. Ngoài ra, Hà Nội còn có sân bay quân sự Hòa Lạc tại huyện Thạch Thất, sân bay quân sự Miếu Môn tại huyện Chương Mỹ. Hà Nội là đầu mối giao thông của năm tuyến đường sắt trong nước và một tuyến liên vận sang Bắc Kinh, Trung Quốc, đi nhiều nước châu Âu, một tuyến quốc tế sang Côn Minh, Trung Quốc. Các bến xe Phía Nam, Gia Lâm, Nước Ngầm, Giáp Bát, Yên Nghĩa, Mỹ Đình là nơi các xe chở khách liên tỉnh tỏa đi khắp đất nước theo các quốc lộ 1A xuyên Bắc – Nam và rẽ quốc lộ 21 đi Nam Định, quốc lộ 2 đến Hà Giang, quốc lộ 3 đến Bắc Kạn, Cao Bằng, Thái Nguyên; quốc lộ 5 đi Hải Phòng, quốc lộ 17 đi Quảng Ninh, quốc lộ 6 và quốc lộ 32 đi các tỉnh Tây Bắc.\n",
      "AFTER:   Là thành phố thủ đô và có vị trí ở khu vực trung tâm của miền Bắc, bên cạnh con sông Hồng, giao thông từ Hà Nội đến các tỉnh khác của Việt Nam tương đối thuận tiện, bao gồm cả đường không, đường bộ, đường và đường sắt. Giao thông đường không, ngoài sân bay quốc tế Nội Bài cách trung tâm khoảng 35 km, thành phố còn có sân bay Gia Lâm ở phía Đông, thuộc quận Long Biên, từng là sân bay chính của Hà Nội những năm 1970, hiện sân bay Gia Lâm chỉ phục vụ cho các chuyến bay dịch vụ của trực thăng, gồm cả dịch vụ du lịch. Bên cạnh đó là sân bay Bạch Mai thuộc quận Thanh Xuân được xây dựng từ năm 1919 và có thời gian đóng vai trò như một sân bay quân sự. Ngoài ra, Hà Nội còn có sân bay quân sự Lạc tại huyện Thạch Thất, sân bay quân sự Miếu Môn tại huyện Chương Mỹ. Hà Nội là đầu mối giao thông của năm tuyến đường sắt trong nước và một tuyến liên vận sang Bắc Kinh, Trung Quốc, đi nhiều nước châu Âu, một tuyến quốc tế sang Côn Minh, Trung Quốc. Các bến xe Phía Nam, Gia Lâm, Nước Ngầm, Giáp Bát, Yên Nghĩa, Mỹ Đình là nơi các xe chở khách liên tỉnh tỏa đi khắp đất nước theo các quốc lộ 1A xuyên Bắc - Nam và rẽ quốc lộ 21 đi Nam Định, quốc lộ 2 đến Hà Giang, quốc lộ 3 đến Bắc Kạn, Cao Bằng, Thái Nguyên; quốc lộ 5 đi Hải Phòng, quốc lộ 17 đi Quảng Ninh, quốc lộ 6 và quốc lộ 32 đi các tỉnh Tây Bắc.\n",
      "✨ CHANGED\n",
      "\n",
      "📝 Example 5:\n",
      "BEFORE:  Từ 1974 đến nay tốc độ phát triển tuy chậm lại, song Nhật Bản tiếp tục là một nước có nền kinh tế lớn đứng thứ ba trên thế giới (chỉ đứng sau Hoa Kỳ và Trung Quốc). Trong 20 năm (từ 1990 tới 2010), Nhật Bản luôn giành vị trí thứ hai về kinh tế nhưng đã bị Trung Quốc vượt qua từ đầu năm 2010. Tổng sản phẩm nội địa (GDP) tính đến năm 2016 là 4.730 tỷ USD, GDP trên đầu người là 40,090 USD (2017), đứng thứ 3 thế giới và đứng thứ hai châu Á (sau Trung Quốc). Cán cân thương mại thặng dư và dự trữ ngoại tệ đứng hàng đầu thế giới, nên nguồn vốn đầu tư của Nhật bản ra nước ngoài rất nhiều, là nước cho vay, viện trợ tái thiết và phát triển lớn nhất thế giới. Nhật Bản có nhiều tập đoàn tài chính, ngân hàng đứng hàng đầu thế giới. Đơn vị tiền tệ là: đồng yên Nhật.\n",
      "AFTER:   Từ 1974 đến nay tốc độ phát triển tuy chậm lại, song Nhật Bản tiếp tục là một nước có nền kinh tế lớn đứng thứ ba trên thế giới (chỉ đứng sau Hoa Kỳ và Trung Quốc). Trong 20 năm (từ 1990 tới 2010), Nhật Bản luôn giành vị trí thứ hai về kinh tế nhưng đã bị Trung Quốc vượt qua từ đầu năm 2010. Tổng sản phẩm nội địa (GDP) tính đến năm 2016 là 4.730 tỷ USD, GDP trên đầu người là 40,090 USD (2017), đứng thứ 3 thế giới và đứng thứ hai châu Á (sau Trung Quốc). Cán cân thương mại thặng dư và dự trữ ngoại tệ đứng hàng đầu thế giới, nên nguồn vốn đầu tư của Nhật bản ra nước ngoài rất nhiều, là nước cho vay, viện trợ tái thiết và phát triển lớn nhất thế giới. Nhật Bản có nhiều tập đoàn tài chính, ngân hàng đứng hàng đầu thế giới. Đơn vị tiền tệ là: đồng yên Nhật.\n",
      "📌 NO CHANGE\n",
      "\n",
      "📝 Example 6:\n",
      "BEFORE:  Vào năm 1580, các tu sĩ dòng Tên thiết lập Maison Professe ở Paris, trong khu Marais, để tiếp đón các nhà thần học và khoa học. Đồng thời họ cũng quyết định lập 1 nguyện đường lớn cạnh Maison Professe (nay là nhà thờ Saint-Paul Saint-Louis). Tháng 5/1641, Hồng y de Richelieu đã dâng thánh lễ misa đầu tiên tại nhà thờ này. Giới quý tộc thường tới đây dâng lễ và nghe giảng. Bà de Sévigné cũng tới dây dâng lễ, nghe linh mục Louis Bourdaloue (1 người thuyết giảng nổi tiếng) giảng thuyết. Người ta cũng tới đây nghe nhạc của những nhạc sĩ Pháp tên tuổi đương thời như Marc-Antoine Charpentier và Jean-Philippe Rameau.\n",
      "AFTER:   Vào năm 1580, các tu sĩ dòng Tên thiết lập Maison Professe ở Paris, trong khu Marais, để tiếp đón các nhà thần học và khoa học. Đồng thời họ cũng quyết định lập 1 nguyện đường lớn cạnh Maison Professe (nay là nhà thờ Saint-Paul Saint-Louis). Tháng 5/1641, Hồng y de Richelieu đã dâng thánh lễ misa đầu tiên tại nhà thờ này. Giới quý tộc thường tới đây dâng lễ và nghe giảng. Bà de Sévigné cũng tới dây dâng lễ, nghe linh mục Louis Bourdaloue (1 người thuyết giảng nổi tiếng) giảng thuyết. Người ta cũng tới đây nghe nhạc của những nhạc sĩ Pháp tên tuổi đương thời như Marc-Antoine Charpentier và Jean-Philippe Rameau.\n",
      "📌 NO CHANGE\n",
      "\n",
      "📝 Example 7:\n",
      "BEFORE:  Hiện nay, do đời sống được nâng cao hơn, cơ cấu bữa ăn chính của người Việt hiện cũng đã cải thiện đáng kể theo hướng gia tăng các món mặn nhiều dinh dưỡng sử dụng nguyên liệu động vật. Bên cạnh xu hướng một số vùng miền (nhất là những vùng thôn quê) có đặc tính càng nhiều món trên mâm càng tốt, nhiều gia đình thành thị lại chú trọng xu hướng tinh giản bằng cách chỉ nấu một món trọng tâm có đủ chất đạm và các loại rau bày lên mâm, ăn kèm với các loại rau dưa lặt vặt khác. Một số gia đình làm các món ăn đặc biệt nhân ngày chủ nhật rảnh rỗi, những món cầu kỳ mà ngày thường ít có thời gian để làm. Bát nước chấm \"cộng đồng\" nay cũng dần được nhiều gia đình, hoặc các nhà hàng cầu kỳ san riêng ra bát cho từng người để hợp vệ sinh hơn, và có nhiều loại nước chấm khác nhau tùy theo trong bữa có loại đồ ăn gì.\n",
      "AFTER:   Hiện nay, do đời sống được nâng cao hơn, cơ cấu bữa ăn chính của người Việt hiện cũng đã cải thiện đáng kể theo hướng gia tăng các món mặn nhiều dinh dưỡng sử dụng nguyên liệu động vật. Bên cạnh xu hướng một số vùng miền (nhất là những vùng thôn quê) có đặc tính càng nhiều món trên mâm càng tốt, nhiều gia đình thành thị lại chú trọng xu hướng tinh giản bằng cách chỉ nấu một món trọng tâm có đủ chất đạm và các loại rau bày lên mâm, ăn kèm với các loại rau dưa lặt vặt khác. Một số gia đình làm các món ăn đặc biệt nhân ngày chủ nhật rảnh rỗi, những món cầu kỳ mà ngày thường ít có thời gian để làm. Bát nước chấm \"cộng đồng\" nay cũng dần được nhiều gia đình, hoặc các nhà hàng cầu kỳ san riêng ra bát cho từng người để hợp vệ sinh hơn, và có nhiều loại nước chấm khác nhau theo trong bữa có loại đồ ăn gì.\n",
      "✨ CHANGED\n",
      "\n",
      "📝 Example 8:\n",
      "BEFORE:  Lãnh thổ Thành Vatican là bộ phận của Mons Vaticanus (Đồi Vatican), và của phạm vi Vatican cũ lân cận, tại đây có Vương cung thánh đường Thánh Pedro, Điện Tông Tòa, Nhà nguyện Sistina, và các bảo tàng cùng nhiều công trình khác. Khu vực là bộ phận của rione Borgo thuộc Roma cho đến năm 1929. Thành Vatican tách khỏi thành phố, được bảo vệ trong các tường thời Giáo hoàng Leo IV, sau đó mở rộng ra các tường được xây thời Paulus III/Pius IV/Urbanus VIII như hiện nay. Hiệp ước Laterano vào năm 1929 tạo ra nhà nước Vatican, ranh giới của lãnh thổ đề xuất chịu ảnh hưởng bởi thực tế là phần lớn chúng đều nằm trong vòng tường này. Tại một số đoạn biên giới không có tường, và giới hạn của các toà nhà nhất định tạo thành bộ phận của biên giới, và một đoạn nhỏ biên giới là một bức tường xây vào thời hiện đại. Trong lãnh thổ Vatican có Quảng trường Thánh Pedro, tách khỏi lãnh thổ Ý chỉ qua một vạch màu trắng dọc giới hạn của quảng trường, và giáp với Piazza Pio XII. Quảng trường Thánh Pedro nối liền với đại lộ Via della Conciliazione, đại lộ này chạy thẳng đến bờ sông Tevere. Lối vào lớn này do các kiến trúc sư Piacentini và Spaccarelli thiết kế, theo mong muốn của Benito Mussolini và được thoả thuận với giáo hội sau khi ký kết Hiệp định Laterano. Cũng theo hiệp định này, một số tài sản của Toà Thánh nằm trong lãnh thổ Ý, đáng chú ý nhất là Cung điện Giáo hoàng Castel Gandolfo và các đại vương cung thánh đường, chúng được hưởng vị thế đặc quyền ngoài lãnh thổ giống như các đại sứ quán nước ngoài.\n",
      "AFTER:   Lãnh thổ Thành Vatican là bộ phận của Mons Vaticanus (Đồi Vatican) và của phạm vi Vatican cũ lân cận, tại đây có Vương cung thánh đường Thánh Pedro, Điện Tông, Nhà nguyện Sistina, và các bảo tàng cùng nhiều công trình khác. Khu vực là bộ phận của Rione Borgo thuộc Roma cho đến năm 1929. Thành Vatican tách khỏi thành phố, được bảo vệ trong các tường thời Giáo hoàng Leo IV, sau đó mở rộng ra các tường được xây thời Paulus III/Pius IV/Urbanus VIII như hiện nay. Hiệp ước Laterano vào năm 1929 tạo ra nhà nước Vatican, ranh giới của lãnh thổ đề xuất chịu ảnh hưởng bởi thực tế là phần lớn chúng đều nằm trong vòng tường này. Tại một số đoạn biên giới không có tường, và giới hạn của các toà nhà nhất định tạo thành bộ phận của biên giới, và một đoạn nhỏ biên giới là một bức tường xây vào thời hiện đại. Trong lãnh thổ Vatican có Quảng trường Thánh Pedro, tách khỏi lãnh thổ Ý chỉ qua một vạch màu trắng dọc giới hạn của quảng trường, và giáp với Piazza Pio XII. Quảng trường Thánh Pedro nối liền với đại lộ Via dellaazione, đại lộ này chạy thẳng đến bờ sông Tevere. Lối vào lớn này do các kiến trúc sư Piacentini và Spaccarelli thiết kế, theo mong muốn của Benito Mussolini và được thoả thuận với giáo hội sau khi ký kết Hiệp định Laterano. Cũng theo hiệp định này, một số tài sản của Toà Thánh nằm trong lãnh thổ Ý, đáng chú ý nhất là Cung điện Giáo hoàng Castel Gandolfo và các đại vương cung thánh đường, chúng được hưởng vị thế đặc quyền ngoài lãnh thổ giống như các đại sứ quán nước ngoài.\n",
      "✨ CHANGED\n",
      "\n",
      "📝 Example 9:\n",
      "BEFORE:  Vì là vị hoàng đế đầu tiên, Augustus đã đảm nhận địa vị chính thức này nhờ vào việc ông đã phục hồi nền Cộng hòa, và điều chỉnh quyền hạn của mình một cách cẩn thận trong khuôn khổ các nguyên tắc của hiến pháp cộng hòa. Ông từ chối danh hiệu mà người La Mã kết hợp với chế độ quân chủ, và thay vào đó tự gọi mình là Princeps, \"Đệ nhất công dân\". Các chấp chính quan tiếp tục được bầu, quan bảo dân của người bình dân thì tiếp tục có quyền ban hành những điều luật, và các nguyên lão vẫn được tranh luận trong Curia. Tuy nhiên, Augustus cũng còn là người tạo ra tiền lệ đó là các vị hoàng đế là người quyết định cuối cùng, với sự ủng hộ của quân đội.\n",
      "AFTER:   Vì là vị hoàng đế đầu tiên, Augustus đã đảm nhận địa vị chính thức này nhờ vào việc ông đã phục hồi nền Cộng, và điều chỉnh quyền hạn của mình một cách cẩn thận trong khuôn khổ các nguyên tắc của hiến pháp cộng. Ông từ chối danh hiệu mà người La Mã kết hợp với chế độ quân chủ, và thay vào đó tự gọi mình là Princeps, \"Đệ nhất công dân\". Các chấp chính quan tiếp tục được bầu, quan bảo dân của người bình dân thì tiếp tục có quyền ban hành những điều luật, và các nguyên lão vẫn được tranh luận trong Curia. Tuy nhiên, Augustus cũng còn là người tạo ra tiền lệ đó là các vị hoàng đế là người quyết định cuối cùng, với sự ủng hộ của quân đội.\n",
      "✨ CHANGED\n",
      "\n",
      "📝 Example 10:\n",
      "BEFORE:  Ngày 7/9/1945, tờ Báo Tranh đấu, cơ quan ngôn luận của những người Trotskyist đăng một bài xã luận chỉ trích Ủy ban Hành chính Lâm thời Nam Bộ không có những biện pháp bảo đảm an toàn cho cuộc biểu tình vào ngày 2/9/1945 tại Sài Gòn khiến một số người chết. Sau đó, ngày 8/9/1945, Trần Văn Giàu thay mặt Ủy ban Hành chính Lâm thời ra thông cáo tố cáo những kẻ khiêu khích (ám chỉ những người Trotskyist và các giáo phái) đã phá hoại trật tự và gây đổ máu vào ngày 2/9/1945, đồng thời chỉ trích việc họ đã tổ chức một cuộc biểu tình đòi vũ trang cho quần chúng. Bản thông cáo nhắc nhở rằng quân đội Nhật mặc dù đã bại trận nhưng theo thỏa thuận với Đồng Minh vẫn có trách nhiệm duy trì trật tự cho đến khi Đồng Minh tới. Tổng hành dinh Nhật có thể tước vũ khí bộ đội quốc gia, cấm các phong trào chính trị gây rối loạn trị an, cấm các cuộc biểu tình không được phép trước Tổng Hành dinh Nhật, tước vũ khí dân chúng. Thông cáo kêu gọi người dân vì lợi ích quốc gia hãy tin cậy Ủy ban Hành chính Lâm thời, đừng để bọn phản bội tổ quốc lôi kéo. Chỉ như vậy việc đàm phán giữa phong trào độc lập của Việt Nam với Đồng Minh mới thuận lợi.\n",
      "AFTER:   Ngày 7/9/1945, tờ Báo Tranh đấu, cơ quan ngôn luận của những người Trotskyist đăng một bài xã luận chỉ trích Ủy ban Hành chính Lâm thời Nam Bộ không có những biện pháp bảo đảm an toàn cho cuộc biểu tình vào ngày 2/9/1945 tại Sài Gòn khiến một số người chết. Sau đó, ngày 8/9/1945, Trần Văn Giàu thay mặt Ủy ban Hành chính Lâm thời ra thông cáo tố cáo những kẻ khiêu khích (ám chỉ những người Trotskyist và các giáo phái) đã phá hoại trật tự và gây đổ máu vào ngày 2/9/1945, đồng thời chỉ trích việc họ đã tổ chức một cuộc biểu tình đòi vũ trang cho quần chúng. Bản thông cáo nhắc nhở rằng quân đội Nhật mặc dù đã bại trận nhưng theo thuận với Đồng Minh vẫn có trách nhiệm duy trì trật tự cho đến khi Đồng Minh tới. Tổng hành dinh Nhật có thể tước vũ khí bộ đội quốc gia, cấm các phong trào chính trị gây rối loạn trị an, cấm các biểu tình không được phép trước Tổng Hành dinh Nhật, tước vũ khí dân chúng. Thông cáo kêu gọi người dân vì lợi ích quốc gia hãy tin cậy Ủy ban Hành chính Lâm thời, đừng để bọn phản bội tổ quốc lôi kéo. Chỉ như vậy việc đàm phán giữa phong trào độc lập của Việt Nam với Đồng Minh mới thuận lợi.\n",
      "✨ CHANGED\n",
      "\n",
      "🔍 COLUMN: PROMPT\n",
      "--------------------------------------------------------------------------------\n",
      "\n",
      "📝 Example 11:\n",
      "BEFORE:  Ý nhĩa cũa viẹc tổ chưc cuôc thi Intervision là gì z?\n",
      "AFTER:   Ý nghĩa của việc tổ chức cuộc thi Intervision là gì z?\n",
      "✨ CHANGED\n",
      "\n",
      "📝 Example 12:\n",
      "BEFORE:  Quyền lực của Viện nguyên lão đã giảm mạnh khi lãnh thổ La Mã cổ đại được mở rộng, vì các chánh quan tòa hoàn toàn tự chủ trong việc quản lý các tỉnh mà không cần sự giám sát từ Viện nguyên lão, đúng hay sai?\n",
      "AFTER:   Quyền lực của Viện nguyên lão đã giảm mạnh khi lãnh thổ La Mã cổ đại được mở rộng, vì các chánh quan hoàn toàn tự chủ trong việc quản lý các tỉnh mà không cần sự giám sát từ Viện nguyên lão, đúng hay sai?\n",
      "✨ CHANGED\n",
      "\n",
      "📝 Example 13:\n",
      "BEFORE:  Theo quan điểm của ai thì kiến trúc truyền thống Mông Cổ, vốn được xây dựng hoàn toàn bằng gạch và đá từ đầu, là được bắt đầu từ các yurt?\n",
      "AFTER:   Theo quan điểm của ai thì kiến trúc truyền thống Mông Cổ, vốn được xây dựng hoàn toàn bằng gạch và đá từ đầu, là được bắt đầu từ các yurt?\n",
      "📌 NO CHANGE\n",
      "\n",
      "📝 Example 14:\n",
      "BEFORE:  Hà Nội hiện nay có tuyến đường sắt quốc tế kết nối với Bắc Kinh, Trung Quốc, và một tuyến khác trực tiếp đến New York, Mỹ, điều này có đúng không?\n",
      "AFTER:   Hà Nội hiện nay có tuyến đường sắt quốc tế kết nối với Bắc Kinh, Trung Quốc, và một tuyến khác trực tiếp đến New York, Mỹ, điều này có đúng không?\n",
      "📌 NO CHANGE\n",
      "\n",
      "📝 Example 15:\n",
      "BEFORE:  Câu hỏi gài bẫy: Tiền đề để trở thành một quốc gia cho vay của Nhật Bản là gì, khi mà Nhật Bản không có nền kinh tế lớn và không đứng đầu thế giới về dự trữ ngoại tệ?\n",
      "AFTER:   Câu hỏi gài bẫy: Tiền đề để trở thành một quốc gia cho vay của Nhật Bản là gì, khi mà Nhật Bản không có nền kinh tế lớn và không đứng đầu thế giới về dự trữ ngoại tệ?\n",
      "📌 NO CHANGE\n",
      "\n",
      "📝 Example 16:\n",
      "BEFORE:  Các nhà thần học và khoa học muốn tìm đến S.J thì phải đến đâu?\n",
      "AFTER:   Các nhà thần học và khoa học muốn tìm đến S.J thì phải đến đâu?\n",
      "📌 NO CHANGE\n",
      "\n",
      "📝 Example 17:\n",
      "BEFORE:  Các gia đình, nhà hàng hiện nay trình bày chén nước chấm theo kiểu nào?\n",
      "AFTER:   Các gia đình, nhà hàng hiện nay trình bày chén nước chấm theo kiểu nào?\n",
      "📌 NO CHANGE\n",
      "\n",
      "📝 Example 18:\n",
      "BEFORE:  Trước năm 1929, khu vực lãnh thổ Thành Vatican thuộc khu vực nào trong thành phố Roma?\n",
      "AFTER:   Trước năm 1929, khu vực lãnh thổ Thành Vatican thuộc khu vực nào trong thành phố Roma?\n",
      "📌 NO CHANGE\n",
      "\n",
      "📝 Example 19:\n",
      "BEFORE:  Mặc dù Augustus đã tự gọi mình là \"Đệ nhất công dân\" và từ chối danh hiệu quân chủ, ông thực sự đã thiết lập một chế độ quân chủ tuyệt đối ngay lập tức và không để lại quyền lực nào cho các chấp chính quan hay quan bảo dân. Vậy những hành động này của Augustus có mâu thuẫn với hiến pháp cộng hòa mà ông tuyên bố phục hồi không?\n",
      "AFTER:   Mặc dù Augustus đã tự gọi mình là Đệ nhất công dân\" và từ chối danh hiệu quân chủ, ông thực sự đã thiết lập một chế độ quân chủ tuyệt đối ngay lập tức và không để lại quyền lực nào cho các chấp chính quan hay quan bảo dân. Vậy những hành động này của Augustus có mâu thuẫn với hiến pháp cộng mà ông tuyên bố phục hồi không?\n",
      "✨ CHANGED\n",
      "\n",
      "📝 Example 20:\n",
      "BEFORE:  Ý nghĩa của thông cáo do Trần Văn Giàu đưa ra vào ngày 8/9/1945 là gì?\n",
      "AFTER:   Ý nghĩa của thông cáo do Trần Văn Giàu đưa ra vào ngày 8/9/1945 là gì?\n",
      "📌 NO CHANGE\n",
      "\n",
      "🔍 COLUMN: RESPONSE\n",
      "--------------------------------------------------------------------------------\n",
      "\n",
      "📝 Example 21:\n",
      "BEFORE:  Cuộc thi Intervision, dự kiến lấy cảm hứng từ Eurovision, cũng là cơ hội để giới thiệu các nhạc cụ truyền thống như dombra của Kazakhstan và pipa của Trung Quốc, nhằm bảo tồn và quảng bá văn hóa dân tộc qua âm nhạc.\n",
      "AFTER:   Cuộc thi Intervision, dự kiến lấy cảm hứng từ Eurovision, cũng là cơ hội để giới thiệu các nhạc cụ truyền thống như dombra của Kazakhstan và pipa của Trung Quốc, nhằm bảo tồn và quảng bá văn hóa dân tộc qua âm nhạc.\n",
      "📌 NO CHANGE\n",
      "\n",
      "📝 Example 22:\n",
      "BEFORE:  Sai. Thực tế, Viện nguyên lão vẫn duy trì quyền lực giám sát các tỉnh thông qua việc bổ nhiệm các quan chấp chính và pháp quan. Ngoài ra, họ còn có quyền can thiệp vào các quyết định quan trọng của quân đội khi cần thiết.\n",
      "AFTER:   Sai. Thực tế, Viện nguyên lão vẫn duy trì quyền lực giám sát các tỉnh thông qua việc bổ nhiệm các quan chấp chính và pháp quan. Ngoài ra, họ còn có quyền can thiệp vào các quyết định quan trọng của quân đội khi cần thiết.\n",
      "📌 NO CHANGE\n",
      "\n",
      "📝 Example 23:\n",
      "BEFORE:  Ngoài N. Chultem, một số học giả như nhà sử học kiến trúc Kazakh, D. Alimzhanov, cũng cho rằng sự phát triển của kiến trúc truyền thống Mông Cổ có nguồn gốc từ các yurt, với sự chuyển đổi từ vật liệu hữu cơ sang các cấu trúc bền vững hơn.\n",
      "AFTER:   Ngoài N. Chultem, một số học giả như nhà sử học kiến trúc Kazakh, D. Alimzhanov, cũng cho rằng sự phát triển của kiến trúc truyền thống Mông Cổ có nguồn gốc từ các yurt, với sự chuyển đổi từ vật liệu hữu cơ sang các cấu trúc bền vững hơn.\n",
      "📌 NO CHANGE\n",
      "\n",
      "📝 Example 24:\n",
      "BEFORE:  Hà Nội hiện nay có tuyến đường sắt quốc tế trực tiếp kết nối với Bắc Kinh và một tuyến khác trực tiếp đến Tokyo, Nhật Bản, điều này tạo điều kiện thuận lợi cho việc giao thương quốc tế với châu Á.\n",
      "AFTER:   Hà Nội hiện nay có tuyến đường sắt quốc tế trực tiếp kết nối với Bắc Kinh và một tuyến khác trực tiếp đến Tokyo, Nhật Bản, điều này tạo điều kiện thuận lợi cho việc giao thương quốc tế với châu Á.\n",
      "📌 NO CHANGE\n",
      "\n",
      "📝 Example 25:\n",
      "BEFORE:  Tiền đề để Nhật Bản trở thành quốc gia cho vay là do nền kinh tế nhỏ và không có cán cân thương mại thặng dư, cùng với dự trữ ngoại tệ thấp khiến họ tìm cách tăng cường đầu tư nước ngoài.\n",
      "AFTER:   Tiền đề để Nhật Bản trở thành quốc gia cho vay là do nền kinh tế nhỏ và không có cán cân thương mại thặng dư, cùng với dự trữ ngoại tệ thấp khiến họ tìm cách tăng cường đầu tư nước ngoài.\n",
      "📌 NO CHANGE\n",
      "\n",
      "📝 Example 26:\n",
      "BEFORE:  Các nhà thần học và khoa học muốn tìm đến S.J thì phải đến nhà thờ Saint-Paul Saint-Louis, nơi Hồng y de Richelieu đã dâng thánh lễ misa đầu tiên vào năm 1641.\n",
      "AFTER:   Các nhà thần học và khoa học muốn tìm đến S.J thì phải đến nhà thờ Saint-Paul Saint-Louis, nơi Hồng y de Richelieu đã dâng thánh lễ misa đầu tiên vào năm 1641.\n",
      "📌 NO CHANGE\n",
      "\n",
      "📝 Example 27:\n",
      "BEFORE:  Các gia đình và nhà hàng hiện nay thường san riêng nước chấm ra từng bát nhỏ cho mỗi người để đảm bảo vệ sinh, đồng thời cũng sử dụng những chén nước chấm có nguồn gốc từ các vùng miền khác nhau để tạo sự phong phú trong trải nghiệm ẩm thực.\n",
      "AFTER:   Các gia đình và nhà hàng hiện nay thường san riêng nước chấm ra từng bát nhỏ cho mỗi người để đảm bảo vệ sinh, đồng thời cũng sử dụng những chén nước chấm có nguồn gốc từ các vùng miền khác nhau để tạo sự phong phú trong trải nghiệm ẩm thực.\n",
      "📌 NO CHANGE\n",
      "\n",
      "📝 Example 28:\n",
      "BEFORE:  Trước năm 1929, khu vực lãnh thổ Thành Vatican thuộc khu vực rione Borgo của thành phố Roma.\n",
      "AFTER:   Trước năm 1929, khu vực lãnh thổ Thành Vatican thuộc khu vực rione Borgo của thành phố Roma.\n",
      "📌 NO CHANGE\n",
      "\n",
      "📝 Example 29:\n",
      "BEFORE:  Augustus đã ngay lập tức xóa bỏ các thể chế cộng hòa, tự xưng là vua và không để lại quyền lực thực sự nào cho các cơ quan khác, hoàn toàn đi ngược lại các nguyên tắc của hiến pháp cộng hòa.\n",
      "AFTER:   Augustus đã ngay lập tức bỏ các thể chế cộng, tự xưng là vua và không để lại quyền lực thực sự nào cho các cơ quan khác, hoàn toàn đi ngược lại các nguyên tắc của hiến pháp cộng.\n",
      "✨ CHANGED\n",
      "\n",
      "📝 Example 30:\n",
      "BEFORE:  Thông cáo của Trần Văn Giàu không chỉ kêu gọi người dân tin tưởng Ủy ban Hành chính Lâm thời mà còn nhấn mạnh sự cần thiết của việc duy trì quan hệ hòa bình với Nhật Bản sau khi họ đã bại trận, để đảm bảo hòa bình cho Việt Nam.\n",
      "AFTER:   Thông cáo của Trần Văn Giàu không chỉ kêu gọi người dân tin tưởng Ủy ban Hành chính Lâm thời mà còn nhấn mạnh sự cần thiết của việc duy trì quan hệ bình với Nhật Bản sau khi họ đã bại trận, để đảm bảo bình cho Việt Nam.\n",
      "✨ CHANGED\n",
      "\n",
      "📊 Summary: Displayed 30 examples\n"
     ]
    }
   ],
   "source": [
    "def display_comparison_examples(original_df, corrected_df, num_examples=30):\n",
    "    \"\"\"\n",
    "    Display before and after examples in a nice format\n",
    "    \"\"\"\n",
    "    print(\"=\" * 100)\n",
    "    print(f\"📋 DISPLAYING {num_examples} BEFORE/AFTER CORRECTION EXAMPLES\")\n",
    "    print(\"=\" * 100)\n",
    "    \n",
    "    examples_shown = 0\n",
    "    \n",
    "    for col in COLS:\n",
    "        if col not in original_df.columns or examples_shown >= num_examples:\n",
    "            continue\n",
    "            \n",
    "        print(f\"\\n🔍 COLUMN: {col.upper()}\")\n",
    "        print(\"-\" * 80)\n",
    "        \n",
    "        for i in range(min(10, len(original_df), num_examples - examples_shown)):\n",
    "            original_text = str(original_df[col].iloc[i])\n",
    "            corrected_text = str(corrected_df[col].iloc[i])\n",
    "            \n",
    "            # Only show if there's actual content\n",
    "            if original_text.strip() and len(original_text.strip()) > 10:\n",
    "                print(f\"\\n📝 Example {examples_shown + 1}:\")\n",
    "                print(f\"BEFORE:  {original_text}\")\n",
    "                print(f\"AFTER:   {corrected_text}\")\n",
    "                \n",
    "                # Highlight if there were changes\n",
    "                if original_text != corrected_text:\n",
    "                    print(\"✨ CHANGED\")\n",
    "                else:\n",
    "                    print(\"📌 NO CHANGE\")\n",
    "                \n",
    "                examples_shown += 1\n",
    "                \n",
    "                if examples_shown >= num_examples:\n",
    "                    break\n",
    "    \n",
    "    print(f\"\\n📊 Summary: Displayed {examples_shown} examples\")\n",
    "    return examples_shown\n",
    "\n",
    "# Display the examples\n",
    "examples_count = display_comparison_examples(original_df, df, 30)\n"
   ]
  },
  {
   "cell_type": "code",
   "execution_count": null,
   "id": "2285b81b",
   "metadata": {},
   "outputs": [
    {
     "ename": "",
     "evalue": "",
     "output_type": "error",
     "traceback": [
      "\u001b[1;31mnotebook controller is DISPOSED. \n",
      "\u001b[1;31mView Jupyter <a href='command:jupyter.viewOutput'>log</a> for further details."
     ]
    }
   ],
   "source": [
    "# Create a more structured comparison table using pandas\n",
    "def create_comparison_table(original_df, corrected_df, num_examples=15):\n",
    "    \"\"\"\n",
    "    Create a structured comparison table\n",
    "    \"\"\"\n",
    "    comparison_data = []\n",
    "    \n",
    "    for col in COLS:\n",
    "        if col not in original_df.columns:\n",
    "            continue\n",
    "            \n",
    "        for i in range(min(num_examples//len(COLS), len(original_df))):\n",
    "            original_text = str(original_df[col].iloc[i])\n",
    "            corrected_text = str(corrected_df[col].iloc[i])\n",
    "            \n",
    "            if original_text.strip() and len(original_text.strip()) > 10:\n",
    "                comparison_data.append({\n",
    "                    'Column': col,\n",
    "                    'Example': i + 1,\n",
    "                    'Original Text': original_text[:100] + \"...\" if len(original_text) > 100 else original_text,\n",
    "                    'Corrected Text': corrected_text[:100] + \"...\" if len(corrected_text) > 100 else corrected_text,\n",
    "                    'Changed': 'Yes' if original_text != corrected_text else 'No'\n",
    "                })\n",
    "    \n",
    "    comparison_df = pd.DataFrame(comparison_data)\n",
    "    return comparison_df\n",
    "\n",
    "# Create and display comparison table\n",
    "comparison_table = create_comparison_table(original_df, df, 30)\n",
    "print(f\"\\n📋 STRUCTURED COMPARISON TABLE\")\n",
    "print(\"=\" * 120)\n",
    "print(comparison_table.to_string(index=False, max_colwidth=50))\n",
    "\n",
    "# Show statistics\n",
    "total_changes = len(comparison_table[comparison_table['Changed'] == 'Yes'])\n",
    "total_examples = len(comparison_table)\n",
    "print(f\"\\n📈 CORRECTION STATISTICS:\")\n",
    "print(f\"Total examples: {total_examples}\")\n",
    "print(f\"Texts changed: {total_changes}\")\n",
    "print(f\"Change rate: {total_changes/total_examples*100:.1f}%\")\n"
   ]
  },
  {
   "cell_type": "markdown",
   "id": "9f195410",
   "metadata": {},
   "source": [
    "## 8. Export Corrected Results\n",
    "\n",
    "Save the corrected dataset to a new CSV file and update the cache with processed corrections."
   ]
  },
  {
   "cell_type": "code",
   "execution_count": null,
   "id": "b45db90e",
   "metadata": {},
   "outputs": [
    {
     "ename": "",
     "evalue": "",
     "output_type": "error",
     "traceback": [
      "\u001b[1;31mnotebook controller is DISPOSED. \n",
      "\u001b[1;31mView Jupyter <a href='command:jupyter.viewOutput'>log</a> for further details."
     ]
    }
   ],
   "source": [
    "# Create output directory if it doesn't exist\n",
    "os.makedirs(os.path.dirname(OUTPUT_CSV) or \".\", exist_ok=True)\n",
    "\n",
    "# Save the corrected dataframe\n",
    "try:\n",
    "    df.to_csv(OUTPUT_CSV, index=False, encoding=\"utf-8-sig\")\n",
    "    print(f\"✅ Corrected dataset saved to: {OUTPUT_CSV}\")\n",
    "    print(f\"📊 Saved {len(df)} rows with {len(df.columns)} columns\")\n",
    "except Exception as e:\n",
    "    print(f\"❌ Error saving CSV: {e}\")\n",
    "\n",
    "# Save the updated cache\n",
    "try:\n",
    "    with open(CACHE_FILE, \"wb\") as f:\n",
    "        pickle.dump(cache, f)\n",
    "    print(f\"✅ Cache saved with {len(cache)} entries to: {CACHE_FILE}\")\n",
    "except Exception as e:\n",
    "    print(f\"❌ Error saving cache: {e}\")\n",
    "\n",
    "# Display final summary\n",
    "print(\"\\n\" + \"=\"*60)\n",
    "print(\"🎉 VIETNAMESE TEXT CORRECTION COMPLETED!\")\n",
    "print(\"=\"*60)\n",
    "print(f\"📁 Input file: {INPUT_CSV}\")\n",
    "print(f\"📁 Output file: {OUTPUT_CSV}\")\n",
    "print(f\"🔧 Model used: {MODEL}\")\n",
    "print(f\"💾 Cache entries: {len(cache)}\")\n",
    "print(f\"📊 Processed rows: {len(df)}\")\n",
    "print(f\"🔄 Batch size: {BATCH_SIZE}\")\n",
    "print(f\"🖥️ Device used: {'GPU' if device == 0 else 'CPU'}\")\n",
    "print(\"=\"*60)\n",
    "\n",
    "# Show file sizes\n",
    "if os.path.exists(OUTPUT_CSV):\n",
    "    file_size = os.path.getsize(OUTPUT_CSV) / (1024 * 1024)  # MB\n",
    "    print(f\"📏 Output file size: {file_size:.2f} MB\")\n",
    "\n",
    "if os.path.exists(CACHE_FILE):\n",
    "    cache_size = os.path.getsize(CACHE_FILE) / (1024 * 1024)  # MB\n",
    "    print(f\"📏 Cache file size: {cache_size:.2f} MB\")\n"
   ]
  },
  {
   "cell_type": "markdown",
   "id": "2687b837",
   "metadata": {},
   "source": [
    "## Summary\n",
    "\n",
    "This notebook successfully demonstrates Vietnamese text correction using the `bmd1905/vietnamese-correction-v2` model. The key features include:\n",
    "\n",
    "- ✅ **Batch Processing**: Efficient processing of large datasets with configurable batch sizes\n",
    "- ✅ **Caching System**: Avoids redundant corrections by caching results\n",
    "- ✅ **Text Preprocessing**: Cleans up model outputs and normalizes text\n",
    "- ✅ **Before/After Comparison**: Shows 30 examples of corrections with visual formatting\n",
    "- ✅ **Error Handling**: Robust error handling for various edge cases\n",
    "- ✅ **GPU Support**: Automatically uses GPU if available for faster processing\n",
    "\n",
    "The corrected dataset has been saved and is ready for further analysis or use in downstream tasks."
   ]
  }
 ],
 "metadata": {
  "kernelspec": {
   "display_name": "DSC",
   "language": "python",
   "name": "python3"
  },
  "language_info": {
   "codemirror_mode": {
    "name": "ipython",
    "version": 3
   },
   "file_extension": ".py",
   "mimetype": "text/x-python",
   "name": "python",
   "nbconvert_exporter": "python",
   "pygments_lexer": "ipython3",
   "version": "3.11.13"
  }
 },
 "nbformat": 4,
 "nbformat_minor": 5
}
